{
 "cells": [
  {
   "cell_type": "markdown",
   "id": "6d9e5e15",
   "metadata": {
    "heading_collapsed": true
   },
   "source": [
    "# ElectroMKM class import and object instantiation"
   ]
  },
  {
   "cell_type": "code",
   "execution_count": null,
   "id": "0ef99e3b",
   "metadata": {
    "ExecuteTime": {
     "end_time": "2021-09-02T13:57:57.639188Z",
     "start_time": "2021-09-02T13:57:57.635708Z"
    },
    "hidden": true
   },
   "outputs": [],
   "source": [
    "import sys\n",
    "sys.path.insert(0, \"../../electromkm/\") \n",
    "from electromkm import electroMKM"
   ]
  },
  {
   "cell_type": "markdown",
   "id": "ccdf732e",
   "metadata": {
    "hidden": true
   },
   "source": [
    "The demo system deal with the Hydrogen Evolution Reaction (HER) with random values."
   ]
  },
  {
   "cell_type": "code",
   "execution_count": null,
   "id": "1bebbe9e",
   "metadata": {
    "ExecuteTime": {
     "end_time": "2021-09-02T13:58:13.534858Z",
     "start_time": "2021-09-02T13:58:13.529302Z"
    },
    "hidden": true
   },
   "outputs": [],
   "source": [
    "model = electroMKM('HER',\n",
    "                   'rm.mkm', \n",
    "                   'g.mkm', \n",
    "                    t_ref=298)"
   ]
  },
  {
   "cell_type": "markdown",
   "id": "a9660f7a",
   "metadata": {
    "heading_collapsed": true
   },
   "source": [
    "# Model exploration\n"
   ]
  },
  {
   "cell_type": "markdown",
   "id": "faa421cb",
   "metadata": {
    "hidden": true
   },
   "source": [
    "To investigate the characteristics of the system under study, several attributes can be easily inspected to check general information like number of elementary reactions, energetics, reaction network, etc."
   ]
  },
  {
   "cell_type": "code",
   "execution_count": null,
   "id": "dce77be0",
   "metadata": {
    "hidden": true
   },
   "outputs": [],
   "source": [
    "print(model)"
   ]
  },
  {
   "cell_type": "markdown",
   "id": "db3c32c0",
   "metadata": {
    "hidden": true
   },
   "source": [
    "### Defined species in the system\n",
    "\n",
    "N.B. H(e) is used to define H+ + e-."
   ]
  },
  {
   "cell_type": "code",
   "execution_count": null,
   "id": "c47d0164",
   "metadata": {
    "hidden": true
   },
   "outputs": [],
   "source": [
    "model.v_f.shape == model.v_matrix.shape"
   ]
  },
  {
   "cell_type": "code",
   "execution_count": null,
   "id": "dec65f68",
   "metadata": {},
   "outputs": [],
   "source": [
    "model.NC_sur"
   ]
  },
  {
   "cell_type": "code",
   "execution_count": null,
   "id": "7c7e82a0",
   "metadata": {},
   "outputs": [],
   "source": [
    "model.NC_gas"
   ]
  },
  {
   "cell_type": "code",
   "execution_count": null,
   "id": "ae03bd9d",
   "metadata": {},
   "outputs": [],
   "source": [
    "model.species_tot"
   ]
  },
  {
   "cell_type": "markdown",
   "id": "dd81d52f",
   "metadata": {
    "hidden": true
   },
   "source": [
    "### Visualize Gibbs energetics of the system\n",
    "\n",
    "Reaction types: 'ads'=adsorption\n",
    "                'des'=desorption\n",
    "                'sur'=surface reaction. \n",
    "The suffix \"+e\" means that that elementary reaction is a charge-transfer step."
   ]
  },
  {
   "cell_type": "code",
   "execution_count": null,
   "id": "01faf793",
   "metadata": {
    "hidden": true
   },
   "outputs": [],
   "source": [
    "model.df_gibbs"
   ]
  },
  {
   "cell_type": "markdown",
   "id": "57e8b365",
   "metadata": {
    "hidden": true
   },
   "source": [
    "### Stoichiometric matrix of the reaction network"
   ]
  },
  {
   "cell_type": "code",
   "execution_count": null,
   "id": "c9b93343",
   "metadata": {
    "hidden": true
   },
   "outputs": [],
   "source": [
    "model.df_system"
   ]
  },
  {
   "cell_type": "markdown",
   "id": "21d3b7a2",
   "metadata": {
    "hidden": true
   },
   "source": [
    "### Stoichiometric vector of the global reactions"
   ]
  },
  {
   "cell_type": "code",
   "execution_count": null,
   "id": "a748e5db",
   "metadata": {
    "hidden": true
   },
   "outputs": [],
   "source": [
    "model.species_tot"
   ]
  },
  {
   "cell_type": "code",
   "execution_count": null,
   "id": "d483d5c4",
   "metadata": {},
   "outputs": [],
   "source": [
    "model.v_global"
   ]
  },
  {
   "cell_type": "code",
   "execution_count": null,
   "id": "89b46030",
   "metadata": {
    "hidden": true
   },
   "outputs": [],
   "source": [
    "model.stoich_numbers"
   ]
  },
  {
   "cell_type": "markdown",
   "id": "326b2dfa",
   "metadata": {
    "hidden": true
   },
   "source": [
    "model.stoich_numbers tells us that the first elementary reaction must be multiplied by two and summed up to the second one in order to get the global reaction. This is useful for checking the thermodynamic consistency of the developed models."
   ]
  },
  {
   "cell_type": "markdown",
   "id": "2c72138d",
   "metadata": {},
   "source": [
    "# Microkinetic runs and Tafel plot"
   ]
  },
  {
   "cell_type": "markdown",
   "id": "ad245719",
   "metadata": {},
   "source": [
    "Up to now, it is possible to run steady state runs via the electroMKM.kinetic_run() function.\n",
    "The main inputs that must be provided are the applied overpotential and the pH of the electrolyte solution.\n",
    "The output of the function is a Python dictionary containing information related to the performed simulation."
   ]
  },
  {
   "cell_type": "code",
   "execution_count": null,
   "id": "b3be3a41",
   "metadata": {},
   "outputs": [],
   "source": [
    "model.set_ODE_params(t_final=10000)"
   ]
  },
  {
   "cell_type": "code",
   "execution_count": null,
   "id": "d8666271",
   "metadata": {},
   "outputs": [],
   "source": [
    "model.dh_barrier"
   ]
  },
  {
   "cell_type": "markdown",
   "id": "ff2d523f",
   "metadata": {},
   "source": [
    "### Steady state simulation"
   ]
  },
  {
   "cell_type": "code",
   "execution_count": null,
   "id": "fd4837d9",
   "metadata": {},
   "outputs": [],
   "source": [
    "import numpy as np\n",
    "exp = model.kinetic_run(-0.2, 7, initial_sur_coverage=[1,0.0])\n",
    "#exp = model.kinetic_run(-0.2, 7,jac=True)"
   ]
  },
  {
   "cell_type": "markdown",
   "id": "1901499f",
   "metadata": {},
   "source": [
    "The first check should be about the reaching of the steady state. This means that all the derivatives in the ODE must equal to zero. These values can be easily visualized with the key 'ddt':"
   ]
  },
  {
   "cell_type": "code",
   "execution_count": null,
   "id": "4a3bf328",
   "metadata": {},
   "outputs": [],
   "source": [
    "import matplotlib.pyplot as plt\n",
    "time = exp['solver'].t\n",
    "y = exp['solver'].y[0,:]\n",
    "plt.plot(time, y)"
   ]
  },
  {
   "cell_type": "markdown",
   "id": "1004e257",
   "metadata": {},
   "source": [
    "Once steady state conditions have been checked, the solution can be easily analyzed. the main output consists of steady state surface coverage and reaction rate in term of current density."
   ]
  },
  {
   "cell_type": "code",
   "execution_count": null,
   "id": "459d3739",
   "metadata": {},
   "outputs": [],
   "source": [
    "exp['theta']"
   ]
  },
  {
   "cell_type": "code",
   "execution_count": null,
   "id": "d8f49ca4",
   "metadata": {},
   "outputs": [],
   "source": [
    "exp['MASI']"
   ]
  },
  {
   "cell_type": "markdown",
   "id": "ff98caf0",
   "metadata": {},
   "source": [
    "Negative current density means reduction is occurring, while positive values means that reaction is evolving in the opposite direction. Values of current density are stored in mA cm-2."
   ]
  },
  {
   "cell_type": "code",
   "execution_count": null,
   "id": "5c2e68d7",
   "metadata": {},
   "outputs": [],
   "source": [
    "exp['j_HER']"
   ]
  },
  {
   "cell_type": "markdown",
   "id": "ff54e178",
   "metadata": {},
   "source": [
    "### Tafel plot"
   ]
  },
  {
   "cell_type": "code",
   "execution_count": null,
   "id": "a82f1cb7",
   "metadata": {},
   "outputs": [],
   "source": [
    "import numpy as np\n",
    "n = np.array([-0.3,-0.2,-0.1,0,0.1,0.2,0.3])\n",
    "print(n)"
   ]
  },
  {
   "cell_type": "code",
   "execution_count": null,
   "id": "1b5695ce",
   "metadata": {},
   "outputs": [],
   "source": [
    "model.tafel_plot(\"HER\", n ,7, jac=True)"
   ]
  },
  {
   "cell_type": "markdown",
   "id": "109883a3",
   "metadata": {
    "heading_collapsed": true
   },
   "source": [
    "### Check for the analytical Jacobian matrix"
   ]
  },
  {
   "cell_type": "markdown",
   "id": "f7d14e13",
   "metadata": {
    "hidden": true
   },
   "source": [
    "In order to check if the implemented analytical Jacobian is correct or not, we run the same simulation with and without the analytical Jacobian: If the solutions are the same, the Jacobian is correct. If not, it means that the wrong Jacobian drives the system away from the correct solution. "
   ]
  },
  {
   "cell_type": "markdown",
   "id": "f0cce220",
   "metadata": {
    "heading_collapsed": true,
    "hidden": true
   },
   "source": [
    "#### Simulation without analytical Jacobian"
   ]
  },
  {
   "cell_type": "code",
   "execution_count": null,
   "id": "c5720d63",
   "metadata": {
    "hidden": true
   },
   "outputs": [],
   "source": [
    "exp1 = model.kinetic_run(-0.1, 7, jac=False)"
   ]
  },
  {
   "cell_type": "markdown",
   "id": "05178f73",
   "metadata": {
    "heading_collapsed": true,
    "hidden": true
   },
   "source": [
    "#### Simulation with analytical Jacobian"
   ]
  },
  {
   "cell_type": "code",
   "execution_count": null,
   "id": "c616706f",
   "metadata": {
    "hidden": true
   },
   "outputs": [],
   "source": [
    "exp2 = model.kinetic_run(-0.1, 7, jac=True)"
   ]
  },
  {
   "cell_type": "markdown",
   "id": "7a0a6a41",
   "metadata": {
    "hidden": true
   },
   "source": [
    "Observe the difference in the CPU time required to integrate the system without and with the Jacobian!"
   ]
  },
  {
   "cell_type": "code",
   "execution_count": null,
   "id": "567fb1b9",
   "metadata": {},
   "outputs": [],
   "source": [
    "import numpy as np\n",
    "model.degree_of_rate_control(\"HER\", \"R1\", -0.2, 7, gas_composition=np.array([1]))"
   ]
  }
 ],
 "metadata": {
  "kernelspec": {
   "display_name": "Python 3 (ipykernel)",
   "language": "python",
   "name": "python3"
  },
  "language_info": {
   "codemirror_mode": {
    "name": "ipython",
    "version": 3
   },
   "file_extension": ".py",
   "mimetype": "text/x-python",
   "name": "python",
   "nbconvert_exporter": "python",
   "pygments_lexer": "ipython3",
   "version": "3.10.12"
  },
  "toc": {
   "base_numbering": 1,
   "nav_menu": {},
   "number_sections": true,
   "sideBar": true,
   "skip_h1_title": false,
   "title_cell": "Table of Contents",
   "title_sidebar": "Contents",
   "toc_cell": false,
   "toc_position": {},
   "toc_section_display": true,
   "toc_window_display": false
  },
  "varInspector": {
   "cols": {
    "lenName": 16,
    "lenType": 16,
    "lenVar": 40
   },
   "kernels_config": {
    "python": {
     "delete_cmd_postfix": "",
     "delete_cmd_prefix": "del ",
     "library": "var_list.py",
     "varRefreshCmd": "print(var_dic_list())"
    },
    "r": {
     "delete_cmd_postfix": ") ",
     "delete_cmd_prefix": "rm(",
     "library": "var_list.r",
     "varRefreshCmd": "cat(var_dic_list()) "
    }
   },
   "types_to_exclude": [
    "module",
    "function",
    "builtin_function_or_method",
    "instance",
    "_Feature"
   ],
   "window_display": false
  }
 },
 "nbformat": 4,
 "nbformat_minor": 5
}
