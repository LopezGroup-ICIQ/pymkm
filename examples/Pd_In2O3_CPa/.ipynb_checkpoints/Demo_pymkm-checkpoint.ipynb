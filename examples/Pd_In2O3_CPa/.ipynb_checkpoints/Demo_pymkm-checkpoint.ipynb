{
 "cells": [
  {
   "cell_type": "markdown",
   "id": "f97f9643",
   "metadata": {},
   "source": [
    "# Pymkm demo: CO2 hydrogenation to MeOH over Pd-In2O3 catalyst"
   ]
  },
  {
   "cell_type": "markdown",
   "id": "6d9e5e15",
   "metadata": {},
   "source": [
    "## MKM class import, object instance and attributes overview"
   ]
  },
  {
   "cell_type": "code",
   "execution_count": 11,
   "id": "0ef99e3b",
   "metadata": {
    "ExecuteTime": {
     "end_time": "2021-09-02T13:57:57.639188Z",
     "start_time": "2021-09-02T13:57:57.635708Z"
    }
   },
   "outputs": [],
   "source": [
    "import os, sys\n",
    "sys.path.insert(0, \"../\") \n",
    "from mkm import MKM"
   ]
  },
  {
   "cell_type": "markdown",
   "id": "e0e45019",
   "metadata": {},
   "source": [
    "To create an instance of the MKM class, three parameters must be provided: <br>\n",
    "1) a name for the catalytic system under study. <br>\n",
    "2) the path to the rm.mkm file containing the reaction mechanism. <br>\n",
    "3) the path to the g.mkm file containing the reaction energy profile. <br>\n",
    "4) a list of inert species in case these are present in the system (optional). <br>\n",
    "5) the temperature at which the entropic contributions have been computed (optional). <br>"
   ]
  },
  {
   "cell_type": "code",
   "execution_count": 12,
   "id": "1bebbe9e",
   "metadata": {
    "ExecuteTime": {
     "end_time": "2021-09-02T13:58:13.534858Z",
     "start_time": "2021-09-02T13:58:13.529302Z"
    }
   },
   "outputs": [],
   "source": [
    "model = MKM('Pd-In2O3',\n",
    "            'rm.mkm', \n",
    "            'g.mkm', \n",
    "            inerts=[], \n",
    "            t_ref=553, \n",
    "            reactor='differential')"
   ]
  },
  {
   "cell_type": "markdown",
   "id": "a9660f7a",
   "metadata": {},
   "source": [
    "# Model exploration\n",
    "To investigate the characteristics of the system we are studying, several attributes can be easily inspected to check general information like number of elementary reactions, energetics, reaction network, etc."
   ]
  },
  {
   "cell_type": "code",
   "execution_count": 13,
   "id": "dce77be0",
   "metadata": {},
   "outputs": [
    {
     "name": "stdout",
     "output_type": "stream",
     "text": [
      "System name: Pd-In2O3\n",
      "\n",
      "CO2 + 3H2 -> CH3OH + H2O\n",
      "CO2 + H2 -> CO + H2O\n",
      "\n",
      "Number of global reactions: 2\n",
      "Number of elementary reactions: 20\n",
      "Number of surface species: 17\n",
      "Number of gas species: 5\n",
      "\n"
     ]
    }
   ],
   "source": [
    "print(model)"
   ]
  },
  {
   "cell_type": "code",
   "execution_count": 14,
   "id": "01faf793",
   "metadata": {},
   "outputs": [
    {
     "data": {
      "text/html": [
       "<div>\n",
       "<style scoped>\n",
       "    .dataframe tbody tr th:only-of-type {\n",
       "        vertical-align: middle;\n",
       "    }\n",
       "\n",
       "    .dataframe tbody tr th {\n",
       "        vertical-align: top;\n",
       "    }\n",
       "\n",
       "    .dataframe thead th {\n",
       "        text-align: right;\n",
       "    }\n",
       "</style>\n",
       "<table border=\"1\" class=\"dataframe\">\n",
       "  <thead>\n",
       "    <tr style=\"text-align: right;\">\n",
       "      <th></th>\n",
       "      <th></th>\n",
       "      <th>$\\Delta$G_reaction / eV</th>\n",
       "      <th>$\\Delta$G_barrier / eV</th>\n",
       "      <th>$\\Delta$G_barrier,reverse / eV</th>\n",
       "    </tr>\n",
       "  </thead>\n",
       "  <tbody>\n",
       "    <tr>\n",
       "      <th>R1</th>\n",
       "      <th>ads</th>\n",
       "      <td>9.000000e-02</td>\n",
       "      <td>0.09</td>\n",
       "      <td>0.000000e+00</td>\n",
       "    </tr>\n",
       "    <tr>\n",
       "      <th>R2</th>\n",
       "      <th>ads</th>\n",
       "      <td>3.600000e-01</td>\n",
       "      <td>0.36</td>\n",
       "      <td>0.000000e+00</td>\n",
       "    </tr>\n",
       "    <tr>\n",
       "      <th>R3</th>\n",
       "      <th>ads</th>\n",
       "      <td>2.700000e-01</td>\n",
       "      <td>0.27</td>\n",
       "      <td>0.000000e+00</td>\n",
       "    </tr>\n",
       "    <tr>\n",
       "      <th>R4</th>\n",
       "      <th>ads</th>\n",
       "      <td>-3.685940e-14</td>\n",
       "      <td>0.00</td>\n",
       "      <td>3.685940e-14</td>\n",
       "    </tr>\n",
       "    <tr>\n",
       "      <th>R5</th>\n",
       "      <th>sur</th>\n",
       "      <td>-3.500000e-01</td>\n",
       "      <td>0.92</td>\n",
       "      <td>1.270000e+00</td>\n",
       "    </tr>\n",
       "    <tr>\n",
       "      <th>R6</th>\n",
       "      <th>ads</th>\n",
       "      <td>-4.100000e-01</td>\n",
       "      <td>0.00</td>\n",
       "      <td>4.100000e-01</td>\n",
       "    </tr>\n",
       "    <tr>\n",
       "      <th>R7</th>\n",
       "      <th>sur</th>\n",
       "      <td>7.800000e-01</td>\n",
       "      <td>1.55</td>\n",
       "      <td>7.700000e-01</td>\n",
       "    </tr>\n",
       "    <tr>\n",
       "      <th>R8</th>\n",
       "      <th>sur</th>\n",
       "      <td>1.000000e-01</td>\n",
       "      <td>0.10</td>\n",
       "      <td>0.000000e+00</td>\n",
       "    </tr>\n",
       "    <tr>\n",
       "      <th>R9</th>\n",
       "      <th>sur</th>\n",
       "      <td>1.800000e+00</td>\n",
       "      <td>1.80</td>\n",
       "      <td>0.000000e+00</td>\n",
       "    </tr>\n",
       "    <tr>\n",
       "      <th>R10</th>\n",
       "      <th>sur</th>\n",
       "      <td>-9.200000e-01</td>\n",
       "      <td>0.00</td>\n",
       "      <td>9.200000e-01</td>\n",
       "    </tr>\n",
       "    <tr>\n",
       "      <th>R11</th>\n",
       "      <th>ads</th>\n",
       "      <td>-1.500000e-01</td>\n",
       "      <td>0.00</td>\n",
       "      <td>1.500000e-01</td>\n",
       "    </tr>\n",
       "    <tr>\n",
       "      <th>R12</th>\n",
       "      <th>sur</th>\n",
       "      <td>1.430000e+00</td>\n",
       "      <td>1.43</td>\n",
       "      <td>0.000000e+00</td>\n",
       "    </tr>\n",
       "    <tr>\n",
       "      <th>R13</th>\n",
       "      <th>des</th>\n",
       "      <td>-1.750000e+00</td>\n",
       "      <td>0.00</td>\n",
       "      <td>1.750000e+00</td>\n",
       "    </tr>\n",
       "    <tr>\n",
       "      <th>R14</th>\n",
       "      <th>sur</th>\n",
       "      <td>-1.300000e-01</td>\n",
       "      <td>0.66</td>\n",
       "      <td>7.900000e-01</td>\n",
       "    </tr>\n",
       "    <tr>\n",
       "      <th>R15</th>\n",
       "      <th>sur</th>\n",
       "      <td>1.200000e+00</td>\n",
       "      <td>1.20</td>\n",
       "      <td>0.000000e+00</td>\n",
       "    </tr>\n",
       "    <tr>\n",
       "      <th>R16</th>\n",
       "      <th>des</th>\n",
       "      <td>-7.100000e-01</td>\n",
       "      <td>0.00</td>\n",
       "      <td>7.100000e-01</td>\n",
       "    </tr>\n",
       "    <tr>\n",
       "      <th>R17</th>\n",
       "      <th>sur</th>\n",
       "      <td>-1.400000e-01</td>\n",
       "      <td>1.03</td>\n",
       "      <td>1.170000e+00</td>\n",
       "    </tr>\n",
       "    <tr>\n",
       "      <th>R18</th>\n",
       "      <th>sur</th>\n",
       "      <td>-8.000000e-02</td>\n",
       "      <td>0.97</td>\n",
       "      <td>1.050000e+00</td>\n",
       "    </tr>\n",
       "    <tr>\n",
       "      <th>R19</th>\n",
       "      <th>des</th>\n",
       "      <td>8.300000e-01</td>\n",
       "      <td>0.83</td>\n",
       "      <td>0.000000e+00</td>\n",
       "    </tr>\n",
       "    <tr>\n",
       "      <th>R20</th>\n",
       "      <th>des</th>\n",
       "      <td>-3.700000e-01</td>\n",
       "      <td>0.00</td>\n",
       "      <td>3.700000e-01</td>\n",
       "    </tr>\n",
       "  </tbody>\n",
       "</table>\n",
       "</div>"
      ],
      "text/plain": [
       "         $\\Delta$G_reaction / eV  $\\Delta$G_barrier / eV  \\\n",
       "R1  ads             9.000000e-02                    0.09   \n",
       "R2  ads             3.600000e-01                    0.36   \n",
       "R3  ads             2.700000e-01                    0.27   \n",
       "R4  ads            -3.685940e-14                    0.00   \n",
       "R5  sur            -3.500000e-01                    0.92   \n",
       "R6  ads            -4.100000e-01                    0.00   \n",
       "R7  sur             7.800000e-01                    1.55   \n",
       "R8  sur             1.000000e-01                    0.10   \n",
       "R9  sur             1.800000e+00                    1.80   \n",
       "R10 sur            -9.200000e-01                    0.00   \n",
       "R11 ads            -1.500000e-01                    0.00   \n",
       "R12 sur             1.430000e+00                    1.43   \n",
       "R13 des            -1.750000e+00                    0.00   \n",
       "R14 sur            -1.300000e-01                    0.66   \n",
       "R15 sur             1.200000e+00                    1.20   \n",
       "R16 des            -7.100000e-01                    0.00   \n",
       "R17 sur            -1.400000e-01                    1.03   \n",
       "R18 sur            -8.000000e-02                    0.97   \n",
       "R19 des             8.300000e-01                    0.83   \n",
       "R20 des            -3.700000e-01                    0.00   \n",
       "\n",
       "         $\\Delta$G_barrier,reverse / eV  \n",
       "R1  ads                    0.000000e+00  \n",
       "R2  ads                    0.000000e+00  \n",
       "R3  ads                    0.000000e+00  \n",
       "R4  ads                    3.685940e-14  \n",
       "R5  sur                    1.270000e+00  \n",
       "R6  ads                    4.100000e-01  \n",
       "R7  sur                    7.700000e-01  \n",
       "R8  sur                    0.000000e+00  \n",
       "R9  sur                    0.000000e+00  \n",
       "R10 sur                    9.200000e-01  \n",
       "R11 ads                    1.500000e-01  \n",
       "R12 sur                    0.000000e+00  \n",
       "R13 des                    1.750000e+00  \n",
       "R14 sur                    7.900000e-01  \n",
       "R15 sur                    0.000000e+00  \n",
       "R16 des                    7.100000e-01  \n",
       "R17 sur                    1.170000e+00  \n",
       "R18 sur                    1.050000e+00  \n",
       "R19 des                    0.000000e+00  \n",
       "R20 des                    3.700000e-01  "
      ]
     },
     "execution_count": 14,
     "metadata": {},
     "output_type": "execute_result"
    }
   ],
   "source": [
    "model.df_gibbs"
   ]
  },
  {
   "cell_type": "code",
   "execution_count": 15,
   "id": "e505a5aa",
   "metadata": {},
   "outputs": [
    {
     "data": {
      "text/plain": [
       "array([[0., 0.],\n",
       "       [0., 0.],\n",
       "       [0., 0.],\n",
       "       [0., 0.],\n",
       "       [1., 0.],\n",
       "       [1., 0.],\n",
       "       [0., 0.],\n",
       "       [0., 0.],\n",
       "       [0., 0.],\n",
       "       [0., 0.],\n",
       "       [1., 0.],\n",
       "       [1., 0.],\n",
       "       [1., 0.],\n",
       "       [1., 0.],\n",
       "       [1., 0.],\n",
       "       [1., 0.],\n",
       "       [0., 1.],\n",
       "       [0., 1.],\n",
       "       [0., 1.],\n",
       "       [0., 1.]])"
      ]
     },
     "execution_count": 15,
     "metadata": {},
     "output_type": "execute_result"
    }
   ],
   "source": [
    "model.stoich_numbers"
   ]
  },
  {
   "cell_type": "markdown",
   "id": "ad797a8d",
   "metadata": {},
   "source": [
    "To have an idea of the reaction network we are considering, the rxn_network() method can be used to have a simple draw of the graph representing the reaction mechanism of the system under study."
   ]
  },
  {
   "cell_type": "code",
   "execution_count": 16,
   "id": "03625d0d",
   "metadata": {},
   "outputs": [],
   "source": [
    "model.rxn_network()"
   ]
  },
  {
   "cell_type": "markdown",
   "id": "99d5d288",
   "metadata": {},
   "source": [
    "## Thermodynamic consistency analysis"
   ]
  },
  {
   "cell_type": "markdown",
   "id": "e1e1350e",
   "metadata": {},
   "source": [
    "A often overlooked aspect in microkinetic models is its thermodynamic consistency: although we are dealing with catalysis, a kinetic phenomenon, it is strictly bound to thermodynamic constraints. Currently, pymkm allows a quantitative estimation of thermodynamic consistency of microkinetic models: this is done comparing directly the equilibrium constants of the global reaction we are studying with the global constants built from the elementary reactions proposed in the reaction network. This can be easily done using the .thermodynamic_consistency_analysis() method, that needs as input only the temperature at which we want to perform the analysis."
   ]
  },
  {
   "cell_type": "code",
   "execution_count": 17,
   "id": "1a31fcd0",
   "metadata": {},
   "outputs": [
    {
     "name": "stdout",
     "output_type": "stream",
     "text": [
      "Pd-In2O3: Thermochemistry\n",
      "Temperature: 553K\n",
      "\n",
      "---------------------------------------------------------------------\n",
      "CO2 + 3H2 -> CH3OH + H2O\n",
      "Model:    DHR=-4.63e+01 kJ/mol    DSR=6.80e-02 kJ/mol/K     DGR=-3.68e+03 kJ/mol\n",
      "Database: DHR=-6.39e+01 kJ/mol    DSR=-2.04e-01 kJ/mol/K     DGR=4.87e+01 kJ/mol\n",
      "---------------------------------------------------------------------\n",
      "\n",
      "CO2 + H2 -> CO + H2O\n",
      "Model:    DHR=2.01e+02 kJ/mol    DSR=3.21e-01 kJ/mol/K     DGR=-1.69e+04 kJ/mol\n",
      "Database: DHR=3.93e+01 kJ/mol    DSR=3.74e-02 kJ/mol/K     DGR=1.87e+01 kJ/mol\n",
      "---------------------------------------------------------------------\n",
      "\n"
     ]
    },
    {
     "data": {
      "text/plain": [
       "''"
      ]
     },
     "execution_count": 17,
     "metadata": {},
     "output_type": "execute_result"
    }
   ],
   "source": [
    "model.thermochemistry(553)"
   ]
  },
  {
   "cell_type": "code",
   "execution_count": 18,
   "id": "9c80e8f7",
   "metadata": {},
   "outputs": [
    {
     "name": "stdout",
     "output_type": "stream",
     "text": [
      " Pd-In2O3: Thermodynamic consistency analysis\n",
      " Temperature = 553K\n",
      "\n",
      "----------------------------------------------------------------------------------\n",
      "CO2 + 3H2 -> CH3OH + H2O\n",
      "Model:    keqH=2.37e+04    keqS=3.58e+03    Keq=8.49e+07\n",
      "Database: keqH=1.09e+06    keqS=2.33e-11    Keq=2.53e-05\n",
      "----------------------------------------------------------------------------------\n",
      "\n",
      "CO2 + H2 -> CO + H2O\n",
      "Model:    keqH=1.11e-19    keqS=5.87e+16    Keq=6.50e-03\n",
      "Database: keqH=1.93e-04    keqS=8.99e+01    Keq=1.73e-02\n",
      "----------------------------------------------------------------------------------\n",
      "\n"
     ]
    },
    {
     "data": {
      "text/plain": [
       "7205204793769053.0"
      ]
     },
     "execution_count": 18,
     "metadata": {},
     "output_type": "execute_result"
    }
   ],
   "source": [
    "model.thermodynamic_consistency_analysis(553)"
   ]
  },
  {
   "cell_type": "markdown",
   "id": "b7845251",
   "metadata": {},
   "source": [
    "It is easy to observe from the generated report that the model is not thermodynamically consistent, both at enthalpic and entropic level, as the equilibrium constants of the global reactions calculated with DFT are order of magnitude different from the values extracted from the thermochemistry database. However, considering the MeOH reaction, observing the equilibrium constant one could think the gap is not so huge: this is due to the fact that enthalpy and entropy constants compensate each pther in the opposite direction, \"canceling\" the discrepancy between database and DFT-derived equilibrium constants."
   ]
  },
  {
   "cell_type": "markdown",
   "id": "20b6cd5d",
   "metadata": {},
   "source": [
    "## Step 2: microkinetic model single run"
   ]
  },
  {
   "cell_type": "code",
   "execution_count": 19,
   "id": "03bb7175",
   "metadata": {},
   "outputs": [
    {
     "name": "stdout",
     "output_type": "stream",
     "text": [
      "Pd-In2O3: Microkinetic run\n",
      "Reactor model: Differential PFR\n",
      "Temperature = 550K    Pressure = 50.0bar\n",
      "Gas composition: H2=80.0%  CO2=20.0%  H2O=0.0%  CH3OH=0.0%  CO=0.0%  \n",
      "\n",
      "MeOH Reaction Rate: 5.37e-02 1/s\n",
      "MeOH Selectivity: 91.18%\n",
      "Most Abundant Surface Intermediate: i21 Coverage: 87.77% \n",
      "CPU time: 7.91 s\n"
     ]
    }
   ],
   "source": [
    "exp = model.single_run(550, 5e6, [0.8,0.2,0,0,0])"
   ]
  },
  {
   "cell_type": "code",
   "execution_count": 20,
   "id": "b8794618",
   "metadata": {},
   "outputs": [
    {
     "data": {
      "text/plain": [
       "dict_keys(['T', 'P', 'y_in', 'theta', 'ddt', 'r', 'r_MeOH', 'r_RWGS', 'S_MeOH', 'MASI'])"
      ]
     },
     "execution_count": 20,
     "metadata": {},
     "output_type": "execute_result"
    }
   ],
   "source": [
    "exp.keys()"
   ]
  },
  {
   "cell_type": "code",
   "execution_count": 22,
   "id": "da8191a2",
   "metadata": {},
   "outputs": [
    {
     "data": {
      "text/plain": [
       "0.911767257735116"
      ]
     },
     "execution_count": 22,
     "metadata": {},
     "output_type": "execute_result"
    }
   ],
   "source": [
    "exp['S_MeOH']"
   ]
  },
  {
   "cell_type": "code",
   "execution_count": 23,
   "id": "d36f6f96",
   "metadata": {},
   "outputs": [
    {
     "data": {
      "text/plain": [
       "{'i21': 87.77341532744556}"
      ]
     },
     "execution_count": 23,
     "metadata": {},
     "output_type": "execute_result"
    }
   ],
   "source": [
    "exp['MASI']"
   ]
  },
  {
   "cell_type": "markdown",
   "id": "d652f8c1",
   "metadata": {},
   "source": [
    "## Step 3: Apparent activation energy"
   ]
  },
  {
   "cell_type": "code",
   "execution_count": 24,
   "id": "fd5c51c9",
   "metadata": {
    "ExecuteTime": {
     "end_time": "2021-09-02T06:53:04.968336Z",
     "start_time": "2021-09-02T06:52:41.429818Z"
    }
   },
   "outputs": [
    {
     "name": "stdout",
     "output_type": "stream",
     "text": [
      "Pd-In2O3: Apparent activation energy for MeOH reaction\n",
      "\n",
      "Temperature range: 533-603K    Pressure = 50.0bar\n",
      "Gas composition: H2=80.0%  CO2=20.0%  H2O=0.0%  CH3OH=0.0%  CO=0.0%  \n",
      "\n",
      "Temperature = 533K    CPU Time: 7.30s\n",
      "Temperature = 553K    CPU Time: 7.88s\n",
      "Temperature = 573K    CPU Time: 7.96s\n",
      "Temperature = 593K    CPU Time: 9.50s\n",
      "Temperature = 613K    CPU Time: 13.22s\n"
     ]
    },
    {
     "data": {
      "image/png": "[encoded data removed]",
      "text/plain": [
       "<Figure size 3000x2000 with 1 Axes>"
      ]
     },
     "metadata": {
      "needs_background": "light"
     },
     "output_type": "display_data"
    }
   ],
   "source": [
    "Eapp = model.calc_apparent_activation_energy([533,623,20], 5e6, [0.8,0.2,0,0,0], 'MeOH')"
   ]
  },
  {
   "cell_type": "code",
   "execution_count": 25,
   "id": "9bea2b14",
   "metadata": {},
   "outputs": [
    {
     "name": "stdout",
     "output_type": "stream",
     "text": [
      "{'Tmin': 533, 'Tmax': 613, 'N': 5, 'P': 50.0, 'y_gas': {'H2(g)': 0.8, 'CO2(g)': 0.2, 'H2O(g)': 0, 'CH3OH(g)': 0, 'CO(g)': 0}, 'Eapp_MeOH': 150.29059266781312, 'R2': 0.9999796830922202}\n"
     ]
    }
   ],
   "source": [
    "print(Eapp)"
   ]
  },
  {
   "cell_type": "markdown",
   "id": "8055273d",
   "metadata": {},
   "source": [
    "## Step 4: Apparent reaction orders"
   ]
  },
  {
   "cell_type": "code",
   "execution_count": null,
   "id": "d4864c95",
   "metadata": {
    "ExecuteTime": {
     "end_time": "2021-09-02T06:57:26.071397Z",
     "start_time": "2021-09-02T06:57:26.068916Z"
    }
   },
   "outputs": [],
   "source": [
    "composition_matrix = np.array([[0.78,0.22,0,0,0],[0.8,0.2,0,0,0],[0.82,0.18,0,0,0]])"
   ]
  },
  {
   "cell_type": "code",
   "execution_count": null,
   "id": "aae6fc4b",
   "metadata": {
    "ExecuteTime": {
     "end_time": "2021-09-02T07:01:19.179307Z",
     "start_time": "2021-09-02T07:00:55.662946Z"
    }
   },
   "outputs": [],
   "source": [
    "napp_H2 = model.calc_apparent_reaction_order(573, 5e6, composition_matrix, 'CO2', 'MeOH')"
   ]
  },
  {
   "cell_type": "code",
   "execution_count": null,
   "id": "4d639642",
   "metadata": {},
   "outputs": [],
   "source": [
    "napp_H2"
   ]
  },
  {
   "cell_type": "markdown",
   "id": "b7a1f82b",
   "metadata": {},
   "source": [
    "## Descriptor search: Reversibility analysis"
   ]
  },
  {
   "cell_type": "code",
   "execution_count": 26,
   "id": "37f04c64",
   "metadata": {},
   "outputs": [
    {
     "name": "stdout",
     "output_type": "stream",
     "text": [
      "Pd-In2O3: Reversibility analysis\n",
      "Temperature = 573K    Pressure = 50.0bar\n",
      "Gas composition: H2=80.0%  CO2=20.0%  H2O=0.0%  CH3OH=0.0%  CO=0.0%  \n"
     ]
    }
   ],
   "source": [
    "rev = model.calc_reversibility(573, 5e6, [0.8,0.2,0,0,0])"
   ]
  },
  {
   "cell_type": "code",
   "execution_count": null,
   "id": "cf1ab0f7",
   "metadata": {},
   "outputs": [],
   "source": [
    "type(rev)"
   ]
  },
  {
   "cell_type": "code",
   "execution_count": null,
   "id": "0a16c0ea",
   "metadata": {},
   "outputs": [],
   "source": [
    "rev"
   ]
  },
  {
   "cell_type": "markdown",
   "id": "02ce8243",
   "metadata": {},
   "source": [
    "## Rate-determining step search: Degree of rate and selectivity control"
   ]
  },
  {
   "cell_type": "code",
   "execution_count": null,
   "id": "d9461fd2",
   "metadata": {
    "ExecuteTime": {
     "start_time": "2021-09-02T07:09:53.179Z"
    }
   },
   "outputs": [],
   "source": [
    "drc_RWGS_R17 = model.calc_degree_of_rate_control(550, 5e6, [0.8,0.2,0,0,0], \"RWGS\", \"R17\")[0]"
   ]
  },
  {
   "cell_type": "code",
   "execution_count": null,
   "id": "4d6314e5",
   "metadata": {},
   "outputs": [],
   "source": [
    "drc_RWGS_R17"
   ]
  },
  {
   "cell_type": "code",
   "execution_count": null,
   "id": "bc70eb87",
   "metadata": {},
   "outputs": [],
   "source": [
    "model.calc_drc_t(np.linspace(450,650,2),\n",
    "                 5e6,\n",
    "                 [0.8,0.2,0,0,0],\n",
    "                 \"RWGS\",\n",
    "                 [\"R17\", \"R18\"],\n",
    "                 verbose=0)"
   ]
  },
  {
   "cell_type": "code",
   "execution_count": null,
   "id": "d1b8f161",
   "metadata": {},
   "outputs": [],
   "source": [
    "np.linspace(450,750,2)"
   ]
  },
  {
   "cell_type": "code",
   "execution_count": null,
   "id": "84a26c69",
   "metadata": {},
   "outputs": [],
   "source": [
    "model.calc_drc_full(553, 5e6, [0.8,0.2,0,0,0], \"MeOH\")"
   ]
  },
  {
   "cell_type": "markdown",
   "id": "7abd2da5",
   "metadata": {},
   "source": [
    "# Dynamic CSTR"
   ]
  },
  {
   "cell_type": "markdown",
   "id": "4b1c2134",
   "metadata": {},
   "source": [
    "If someone is interested in extracting also values related to conversion and yield, the differential PFR is not suitable for the purpose. In order to obtain this information, a macroscopic reactor model is needed."
   ]
  },
  {
   "cell_type": "code",
   "execution_count": 27,
   "id": "12b2aa8d",
   "metadata": {},
   "outputs": [
    {
     "data": {
      "text/plain": [
       "'Reactor model: dynamic'"
      ]
     },
     "execution_count": 27,
     "metadata": {},
     "output_type": "execute_result"
    }
   ],
   "source": [
    "model.reactor('dynamic')"
   ]
  },
  {
   "cell_type": "code",
   "execution_count": 28,
   "id": "ad6a91e1",
   "metadata": {},
   "outputs": [
    {
     "name": "stdout",
     "output_type": "stream",
     "text": [
      "Reactor volume: 3.35e-07 [m3]\n",
      "Inlet volumetric flowrate : 6.60e-07 [m3/s]\n",
      "Residence time: 5.07e-01 [s]\n",
      "Catalyst mass: 1.00e-04 [kg]\n",
      "Catalyst surface: 1.74e+05 [m2/kg_cat]\n",
      "Active site surface: 1.00e-19 [m2]\n"
     ]
    },
    {
     "data": {
      "text/plain": [
       "'CSTR setting defined'"
      ]
     },
     "execution_count": 28,
     "metadata": {},
     "output_type": "execute_result"
    }
   ],
   "source": [
    "model.CSTR_params(radius=0.0022,\n",
    "                  length=0.0022*10,\n",
    "                  Q=0.66E-6,\n",
    "                  S_BET=1.74E5,\n",
    "                  m_cat=1.0E-4)"
   ]
  },
  {
   "cell_type": "code",
   "execution_count": 29,
   "id": "446660bd",
   "metadata": {},
   "outputs": [
    {
     "name": "stdout",
     "output_type": "stream",
     "text": [
      "Pd-In2O3: Microkinetic run\n",
      "Reactor model: Dynamic CSTR\n",
      "Temperature = 553K    Pressure = 50.0bar\n",
      "Gas composition: H2=80.0%  CO2=20.0%  H2O=0.0%  CH3OH=0.0%  CO=0.0%  \n",
      "\n",
      "MeOH Reaction Rate: 4.11e-02 1/s\n",
      "MeOH Selectivity: 100.00%\n",
      "Most Abundant Surface Intermediate: i21 Coverage: 74.85% \n",
      "CPU time: 12.27 s\n"
     ]
    }
   ],
   "source": [
    "model.reactor('dynamic')\n",
    "x = model.single_run(553, 5e6, [0.8,0.2,0,0,0])"
   ]
  },
  {
   "cell_type": "code",
   "execution_count": 30,
   "id": "a3586ac1",
   "metadata": {},
   "outputs": [
    {
     "data": {
      "text/plain": [
       "dict_keys(['T', 'P', 'y_in', 'theta', 'ddt', 'r', 'r_MeOH', 'r_RWGS', 'S_MeOH', 'MASI', 'y_out', 'conversion'])"
      ]
     },
     "execution_count": 30,
     "metadata": {},
     "output_type": "execute_result"
    }
   ],
   "source": [
    "x.keys()"
   ]
  },
  {
   "cell_type": "code",
   "execution_count": 31,
   "id": "005838cd",
   "metadata": {},
   "outputs": [
    {
     "data": {
      "text/plain": [
       "{'i21': 74.84628189452202}"
      ]
     },
     "execution_count": 31,
     "metadata": {},
     "output_type": "execute_result"
    }
   ],
   "source": [
    "x['MASI']"
   ]
  },
  {
   "cell_type": "code",
   "execution_count": 32,
   "id": "ecce4784",
   "metadata": {},
   "outputs": [
    {
     "data": {
      "text/plain": [
       "1.0597246784573414e-12"
      ]
     },
     "execution_count": 32,
     "metadata": {},
     "output_type": "execute_result"
    }
   ],
   "source": [
    "x['r_RWGS']"
   ]
  },
  {
   "cell_type": "code",
   "execution_count": 9,
   "id": "58b49be1",
   "metadata": {},
   "outputs": [
    {
     "data": {
      "text/plain": [
       "1.1887920021263637e-05"
      ]
     },
     "execution_count": 9,
     "metadata": {},
     "output_type": "execute_result"
    }
   ],
   "source": [
    "x['r_MeOH']"
   ]
  },
  {
   "cell_type": "code",
   "execution_count": 10,
   "id": "d443a975",
   "metadata": {},
   "outputs": [
    {
     "data": {
      "text/plain": [
       "{'H2(g)': 0.062112461220759085, 'CO2(g)': 0.08281661988269207}"
      ]
     },
     "execution_count": 10,
     "metadata": {},
     "output_type": "execute_result"
    }
   ],
   "source": [
    "x['conversion']"
   ]
  },
  {
   "cell_type": "code",
   "execution_count": null,
   "id": "ad604d11",
   "metadata": {},
   "outputs": [],
   "source": []
  }
 ],
 "metadata": {
  "kernelspec": {
   "display_name": "Python 3 (ipykernel)",
   "language": "python",
   "name": "python3"
  },
  "language_info": {
   "codemirror_mode": {
    "name": "ipython",
    "version": 3
   },
   "file_extension": ".py",
   "mimetype": "text/x-python",
   "name": "python",
   "nbconvert_exporter": "python",
   "pygments_lexer": "ipython3",
   "version": "3.8.11"
  },
  "toc": {
   "base_numbering": 1,
   "nav_menu": {},
   "number_sections": true,
   "sideBar": true,
   "skip_h1_title": false,
   "title_cell": "Table of Contents",
   "title_sidebar": "Contents",
   "toc_cell": false,
   "toc_position": {},
   "toc_section_display": true,
   "toc_window_display": false
  },
  "varInspector": {
   "cols": {
    "lenName": 16,
    "lenType": 16,
    "lenVar": 40
   },
   "kernels_config": {
    "python": {
     "delete_cmd_postfix": "",
     "delete_cmd_prefix": "del ",
     "library": "var_list.py",
     "varRefreshCmd": "print(var_dic_list())"
    },
    "r": {
     "delete_cmd_postfix": ") ",
     "delete_cmd_prefix": "rm(",
     "library": "var_list.r",
     "varRefreshCmd": "cat(var_dic_list()) "
    }
   },
   "types_to_exclude": [
    "module",
    "function",
    "builtin_function_or_method",
    "instance",
    "_Feature"
   ],
   "window_display": false
  }
 },
 "nbformat": 4,
 "nbformat_minor": 5
}
