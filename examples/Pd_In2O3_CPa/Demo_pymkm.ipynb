{
 "cells": [
  {
   "cell_type": "markdown",
   "id": "f97f9643",
   "metadata": {},
   "source": [
    "# Pymkm demo: CO2 hydrogenation to MeOH over Pd-In2O3 catalyst"
   ]
  },
  {
   "cell_type": "markdown",
   "id": "6d9e5e15",
   "metadata": {},
   "source": [
    "## MKM class import, object instance and attributes overview"
   ]
  },
  {
   "cell_type": "code",
   "execution_count": 2,
   "id": "0ef99e3b",
   "metadata": {
    "ExecuteTime": {
     "end_time": "2021-09-02T13:57:57.639188Z",
     "start_time": "2021-09-02T13:57:57.635708Z"
    }
   },
   "outputs": [
    {
     "ename": "ModuleNotFoundError",
     "evalue": "No module named 'pymkm'",
     "output_type": "error",
     "traceback": [
      "\u001b[0;31m---------------------------------------------------------------------------\u001b[0m",
      "\u001b[0;31mModuleNotFoundError\u001b[0m                       Traceback (most recent call last)",
      "Cell \u001b[0;32mIn [2], line 4\u001b[0m\n\u001b[1;32m      1\u001b[0m \u001b[38;5;28;01mimport\u001b[39;00m \u001b[38;5;21;01mos\u001b[39;00m\n\u001b[1;32m      2\u001b[0m \u001b[38;5;28;01mimport\u001b[39;00m \u001b[38;5;21;01msys\u001b[39;00m\n\u001b[0;32m----> 4\u001b[0m \u001b[38;5;28;01mfrom\u001b[39;00m \u001b[38;5;21;01mpymkm\u001b[39;00m\u001b[38;5;21;01m.\u001b[39;00m\u001b[38;5;21;01mmkm\u001b[39;00m \u001b[38;5;28;01mimport\u001b[39;00m MicrokineticModel\n",
      "\u001b[0;31mModuleNotFoundError\u001b[0m: No module named 'pymkm'"
     ]
    }
   ],
   "source": [
    "from pymkm.mkm import MicrokineticModel"
   ]
  },
  {
   "cell_type": "code",
   "execution_count": null,
   "id": "1bebbe9e",
   "metadata": {
    "ExecuteTime": {
     "end_time": "2021-09-02T13:58:13.534858Z",
     "start_time": "2021-09-02T13:58:13.529302Z"
    }
   },
   "outputs": [],
   "source": [
    "model = MKM('Pd-In2O3', 'rm.mkm', 'g.mkm', t_ref=553)"
   ]
  },
  {
   "cell_type": "markdown",
   "id": "a9660f7a",
   "metadata": {},
   "source": [
    "# Model exploration\n",
    "To investigate the characteristics of the system under study, several attributes can be easily inspected to check general information like number of elementary reactions, energetics, reaction network, etc."
   ]
  },
  {
   "cell_type": "code",
   "execution_count": null,
   "id": "dce77be0",
   "metadata": {},
   "outputs": [],
   "source": [
    "print(model)"
   ]
  },
  {
   "cell_type": "code",
   "execution_count": null,
   "id": "6585f84b",
   "metadata": {},
   "outputs": [],
   "source": [
    "model.dh_barrier"
   ]
  },
  {
   "cell_type": "code",
   "execution_count": null,
   "id": "01faf793",
   "metadata": {},
   "outputs": [],
   "source": [
    "model.df_gibbs"
   ]
  },
  {
   "cell_type": "code",
   "execution_count": null,
   "id": "c9b93343",
   "metadata": {},
   "outputs": [],
   "source": [
    "model.df_system"
   ]
  },
  {
   "cell_type": "code",
   "execution_count": null,
   "id": "8cf10cd6",
   "metadata": {},
   "outputs": [],
   "source": [
    "model.stoich_numbers"
   ]
  },
  {
   "cell_type": "markdown",
   "id": "99d5d288",
   "metadata": {},
   "source": [
    "## Thermodynamic consistency analysis"
   ]
  },
  {
   "cell_type": "markdown",
   "id": "e1e1350e",
   "metadata": {},
   "source": [
    "A often overlooked aspect in microkinetic models is its thermodynamic consistency: although we are dealing with catalysis, a kinetic phenomenon, it is strictly bound to thermodynamic constraints. Currently, pymkm allows a quantitative estimation of thermodynamic consistency of microkinetic models: this is done comparing directly the equilibrium constants of the global reaction we are studying with the global constants built from the elementary reactions proposed in the reaction network. This can be easily done using the MKM.thermodynamic_consistency() method, that needs as input only the temperature at which we want to perform the analysis."
   ]
  },
  {
   "cell_type": "code",
   "execution_count": null,
   "id": "9c80e8f7",
   "metadata": {},
   "outputs": [],
   "source": [
    "model.thermodynamic_consistency(553)"
   ]
  },
  {
   "cell_type": "markdown",
   "id": "b7845251",
   "metadata": {},
   "source": [
    "It is easy to observe from the generated report that the model is not thermodynamically consistent, both at enthalpic and entropic level, as the equilibrium constants of the global reactions calculated with DFT are order of magnitude different from the values extracted from the thermochemistry database. However, considering the MeOH reaction, observing the equilibrium constant one could think the gap is not so huge: this is due to the fact that enthalpy and entropy constants compensate each pther in the opposite direction, \"canceling\" the discrepancy between database and DFT-derived equilibrium constants."
   ]
  },
  {
   "cell_type": "markdown",
   "id": "20b6cd5d",
   "metadata": {},
   "source": [
    "## Step 2: microkinetic model single run"
   ]
  },
  {
   "cell_type": "code",
   "execution_count": null,
   "id": "3f04734c",
   "metadata": {},
   "outputs": [],
   "source": [
    "model.grl"
   ]
  },
  {
   "cell_type": "code",
   "execution_count": null,
   "id": "385aad72",
   "metadata": {},
   "outputs": [],
   "source": [
    "exp2 = model.kinetic_run(573, 5e6, [0.8,0.2,0,0,0])"
   ]
  },
  {
   "cell_type": "code",
   "execution_count": null,
   "id": "03bb7175",
   "metadata": {},
   "outputs": [],
   "source": [
    "exp = model.kinetic_run(573, 5e6, [0.8,0.2,0,0,0])"
   ]
  },
  {
   "cell_type": "code",
   "execution_count": null,
   "id": "b8794618",
   "metadata": {},
   "outputs": [],
   "source": [
    "exp.keys()"
   ]
  },
  {
   "cell_type": "code",
   "execution_count": null,
   "id": "ecd1339b",
   "metadata": {},
   "outputs": [],
   "source": [
    "exp[\"S_MeOH\"]"
   ]
  },
  {
   "cell_type": "code",
   "execution_count": null,
   "id": "5f0b7a84",
   "metadata": {},
   "outputs": [],
   "source": [
    "exp[\"ddt\"]"
   ]
  },
  {
   "cell_type": "code",
   "execution_count": null,
   "id": "357e69d3",
   "metadata": {},
   "outputs": [],
   "source": [
    "exp['r_RWGS']"
   ]
  },
  {
   "cell_type": "markdown",
   "id": "d652f8c1",
   "metadata": {},
   "source": [
    "## Step 3: Apparent activation energy"
   ]
  },
  {
   "cell_type": "code",
   "execution_count": null,
   "id": "a91955b7",
   "metadata": {},
   "outputs": [],
   "source": [
    "model.reactor_model"
   ]
  },
  {
   "cell_type": "code",
   "execution_count": null,
   "id": "fd5c51c9",
   "metadata": {
    "ExecuteTime": {
     "end_time": "2021-09-02T06:53:04.968336Z",
     "start_time": "2021-09-02T06:52:41.429818Z"
    }
   },
   "outputs": [],
   "source": [
    "Eapp = model.apparent_activation_energy([523,573,20], 5e6, [0.8,0.2,0,0,0], 'MeOH')"
   ]
  },
  {
   "cell_type": "code",
   "execution_count": null,
   "id": "9bea2b14",
   "metadata": {},
   "outputs": [],
   "source": [
    "print(Eapp)"
   ]
  },
  {
   "cell_type": "markdown",
   "id": "8055273d",
   "metadata": {},
   "source": [
    "## Step 4: Apparent reaction orders"
   ]
  },
  {
   "cell_type": "code",
   "execution_count": null,
   "id": "d4864c95",
   "metadata": {
    "ExecuteTime": {
     "end_time": "2021-09-02T06:57:26.071397Z",
     "start_time": "2021-09-02T06:57:26.068916Z"
    }
   },
   "outputs": [],
   "source": [
    "import numpy as np\n",
    "composition_matrix = np.array([[0.78,0.22,0,0,0],[0.8,0.2,0,0,0],[0.82,0.18,0,0,0]])"
   ]
  },
  {
   "cell_type": "code",
   "execution_count": null,
   "id": "aae6fc4b",
   "metadata": {
    "ExecuteTime": {
     "end_time": "2021-09-02T07:01:19.179307Z",
     "start_time": "2021-09-02T07:00:55.662946Z"
    }
   },
   "outputs": [],
   "source": [
    "napp_H2 = model.apparent_reaction_order(573, 5e6, composition_matrix, 'CO2', 'MeOH')"
   ]
  },
  {
   "cell_type": "code",
   "execution_count": null,
   "id": "4d639642",
   "metadata": {},
   "outputs": [],
   "source": [
    "napp_H2"
   ]
  },
  {
   "cell_type": "markdown",
   "id": "b7a1f82b",
   "metadata": {},
   "source": [
    "## Descriptor search: Reversibility analysis"
   ]
  },
  {
   "cell_type": "code",
   "execution_count": null,
   "id": "37f04c64",
   "metadata": {},
   "outputs": [],
   "source": [
    "rev = model.reversibility(573, 5e6, [0.8,0.2,0,0,0])"
   ]
  },
  {
   "cell_type": "code",
   "execution_count": null,
   "id": "0a16c0ea",
   "metadata": {},
   "outputs": [],
   "source": [
    "rev"
   ]
  },
  {
   "cell_type": "markdown",
   "id": "02ce8243",
   "metadata": {},
   "source": [
    "## Rate-determining step search: Degree of rate and selectivity control"
   ]
  },
  {
   "cell_type": "code",
   "execution_count": null,
   "id": "84a26c69",
   "metadata": {},
   "outputs": [],
   "source": [
    "output = model.drc_full(573, 5e6, [0.8,0.2,0,0,0], \"MeOH\")"
   ]
  },
  {
   "cell_type": "code",
   "execution_count": null,
   "id": "06ff9209",
   "metadata": {},
   "outputs": [],
   "source": [
    "output[0]"
   ]
  },
  {
   "cell_type": "markdown",
   "id": "7abd2da5",
   "metadata": {},
   "source": [
    "# Dynamic CSTR"
   ]
  },
  {
   "cell_type": "markdown",
   "id": "4b1c2134",
   "metadata": {},
   "source": [
    "If someone is interested in extracting also values related to conversion and yield, the differential model is not suitable for the purpose. In order to obtain this information, a macroscopic reactor model (i.e., able to provide information about the conversion) is needed. MKM provides the dynamic CSTR model as macroscopic model. In order to use it, the reactor switch must be turned on and information about the reactor set-up must be defined."
   ]
  },
  {
   "cell_type": "code",
   "execution_count": null,
   "id": "12b2aa8d",
   "metadata": {},
   "outputs": [],
   "source": [
    "model.set_reactor('dynamic')\n",
    "model.set_CSTR_params(radius=0.0022,\n",
    "                      length=0.0022*10,\n",
    "                      Q=0.66E-6,\n",
    "                      S_BET=1.74E5,\n",
    "                      m_cat=1.0E-4)"
   ]
  },
  {
   "cell_type": "code",
   "execution_count": null,
   "id": "446660bd",
   "metadata": {},
   "outputs": [],
   "source": [
    "x = model.kinetic_run(553, 5e6, [0.8,0.2,0,0,0])"
   ]
  },
  {
   "cell_type": "code",
   "execution_count": null,
   "id": "a3586ac1",
   "metadata": {},
   "outputs": [],
   "source": [
    "x.keys()"
   ]
  },
  {
   "cell_type": "code",
   "execution_count": null,
   "id": "005838cd",
   "metadata": {},
   "outputs": [],
   "source": [
    "x['MASI']"
   ]
  },
  {
   "cell_type": "code",
   "execution_count": null,
   "id": "ecce4784",
   "metadata": {},
   "outputs": [],
   "source": [
    "x['r_RWGS']"
   ]
  },
  {
   "cell_type": "code",
   "execution_count": null,
   "id": "58b49be1",
   "metadata": {},
   "outputs": [],
   "source": [
    "x['r_MeOH']"
   ]
  },
  {
   "cell_type": "code",
   "execution_count": null,
   "id": "d443a975",
   "metadata": {},
   "outputs": [],
   "source": [
    "x['conversion']"
   ]
  },
  {
   "cell_type": "code",
   "execution_count": null,
   "id": "ad604d11",
   "metadata": {},
   "outputs": [],
   "source": [
    "x['y_out']"
   ]
  }
 ],
 "metadata": {
  "kernelspec": {
   "display_name": "Python 3 (ipykernel)",
   "language": "python",
   "name": "python3"
  },
  "language_info": {
   "codemirror_mode": {
    "name": "ipython",
    "version": 3
   },
   "file_extension": ".py",
   "mimetype": "text/x-python",
   "name": "python",
   "nbconvert_exporter": "python",
   "pygments_lexer": "ipython3",
   "version": "3.10.12"
  },
  "toc": {
   "base_numbering": 1,
   "nav_menu": {},
   "number_sections": true,
   "sideBar": true,
   "skip_h1_title": false,
   "title_cell": "Table of Contents",
   "title_sidebar": "Contents",
   "toc_cell": false,
   "toc_position": {},
   "toc_section_display": true,
   "toc_window_display": false
  },
  "varInspector": {
   "cols": {
    "lenName": 16,
    "lenType": 16,
    "lenVar": 40
   },
   "kernels_config": {
    "python": {
     "delete_cmd_postfix": "",
     "delete_cmd_prefix": "del ",
     "library": "var_list.py",
     "varRefreshCmd": "print(var_dic_list())"
    },
    "r": {
     "delete_cmd_postfix": ") ",
     "delete_cmd_prefix": "rm(",
     "library": "var_list.r",
     "varRefreshCmd": "cat(var_dic_list()) "
    }
   },
   "types_to_exclude": [
    "module",
    "function",
    "builtin_function_or_method",
    "instance",
    "_Feature"
   ],
   "window_display": false
  }
 },
 "nbformat": 4,
 "nbformat_minor": 5
}
