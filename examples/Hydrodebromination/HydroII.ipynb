{
 "cells": [
  {
   "cell_type": "code",
   "execution_count": 2,
   "id": "e74e1d6a",
   "metadata": {},
   "outputs": [],
   "source": [
    "import os, sys\n",
    "sys.path.insert(0, \"../\")\n",
    "from mkm import MKM"
   ]
  },
  {
   "cell_type": "code",
   "execution_count": 3,
   "id": "775111b3",
   "metadata": {},
   "outputs": [],
   "source": [
    "model = MKM('Ir',\n",
    "            'rm.mkm',\n",
    "            'Ir/g.mkm',\n",
    "            inerts=['Ar','He'],t_ref=523)"
   ]
  },
  {
   "cell_type": "code",
   "execution_count": 4,
   "id": "a9c4d3ad",
   "metadata": {},
   "outputs": [
    {
     "name": "stdout",
     "output_type": "stream",
     "text": [
      "System name: Ir\n",
      "\n",
      "CH2Br2 + H2 -> CH3Br + HBr\n",
      "CH3Br + HBr -> CH4 + Br2\n",
      "CH3Br + H2 -> HBr + CH4\n",
      "\n",
      "Number of global reactions: 3\n",
      "Number of elementary reactions: 16\n",
      "Number of surface species: 13\n",
      "Number of gas species: 8\n",
      "\n"
     ]
    }
   ],
   "source": [
    "print(model)"
   ]
  },
  {
   "cell_type": "code",
   "execution_count": 5,
   "id": "bb6e6916",
   "metadata": {},
   "outputs": [
    {
     "name": "stdout",
     "output_type": "stream",
     "text": [
      "Ir: Thermochemistry\n",
      "Temperature: 523K\n",
      "\n",
      "---------------------------------------------------------------------\n",
      "CH2Br2 + H2 -> CH3Br + HBr\n",
      "Model:    DHR=-1.30e+02 kJ/mol    DSR=0.00e+00 kJ/mol/K     DGR=-1.30e+02 kJ/mol\n",
      "Database: DHR=-8.08e+01 kJ/mol    DSR=1.31e-02 kJ/mol/K     DGR=-8.77e+01 kJ/mol\n",
      "---------------------------------------------------------------------\n",
      "\n",
      "CH3Br + HBr -> CH4 + Br2\n",
      "Model:    DHR=5.43e+01 kJ/mol    DSR=0.00e+00 kJ/mol/K     DGR=5.43e+01 kJ/mol\n",
      "Database: DHR=3.02e+01 kJ/mol    DSR=-1.35e-02 kJ/mol/K     DGR=3.72e+01 kJ/mol\n",
      "---------------------------------------------------------------------\n",
      "\n",
      "CH3Br + H2 -> HBr + CH4\n",
      "Model:    DHR=-4.12e+01 kJ/mol    DSR=0.00e+00 kJ/mol/K     DGR=-4.12e+01 kJ/mol\n",
      "Database: DHR=-7.53e+01 kJ/mol    DSR=3.66e-03 kJ/mol/K     DGR=-7.72e+01 kJ/mol\n",
      "---------------------------------------------------------------------\n",
      "\n"
     ]
    },
    {
     "data": {
      "text/plain": [
       "''"
      ]
     },
     "execution_count": 5,
     "metadata": {},
     "output_type": "execute_result"
    }
   ],
   "source": [
    "model.thermochemistry(523)"
   ]
  },
  {
   "cell_type": "code",
   "execution_count": 6,
   "id": "2ab6ea50",
   "metadata": {},
   "outputs": [
    {
     "name": "stdout",
     "output_type": "stream",
     "text": [
      "Reactor volume: 6.79e-07 [m3]\n",
      "Inlet volumetric flowrate : 6.67e-07 [m3/s]\n",
      "Residence time: 1.02e+00 [s]\n",
      "Catalyst mass: 1.00e-03 [kg]\n",
      "Catalyst surface: 2.50e+05 [m2/kg_cat]\n",
      "Active site surface: 1.00e-19 [m2]\n"
     ]
    },
    {
     "data": {
      "text/plain": [
       "'CSTR setting defined'"
      ]
     },
     "execution_count": 6,
     "metadata": {},
     "output_type": "execute_result"
    }
   ],
   "source": [
    "model.CSTR_params(radius=0.006, length=0.006, Q=0.66666E-6,m_cat=0.001, S_BET=2.5E5)"
   ]
  },
  {
   "cell_type": "code",
   "execution_count": 8,
   "id": "0d0e7491",
   "metadata": {},
   "outputs": [
    {
     "name": "stdout",
     "output_type": "stream",
     "text": [
      "Ir: Microkinetic run\n",
      "Reactor model: Differential PFR\n",
      "Temperature = 523K    Pressure = 1.0bar\n",
      "Gas composition: CH2Br2=6.0%  H2=24.0%  CH3Br=0.0%  CH4=0.0%  HBr=0.0%  Br2=0.0%  Ar=4.5%  He=65.5%  \n",
      "\n",
      "MetBr Reaction Rate: 1.19e-16 1/s\n",
      "MetBr Selectivity: 37.93%\n",
      "Most Abundant Surface Intermediate: CH2Br2 Coverage: 76.65% \n",
      "CPU time: 7.27 s\n"
     ]
    }
   ],
   "source": [
    "model.reactor('differential')\n",
    "#model.ODE_params[2] = 1000\n",
    "#model.ODE_params[3] = 1000\n",
    "exp = model.single_run(523, 1e5, [0.06, 0.24,0,0,0,0,0.045,0.655])"
   ]
  },
  {
   "cell_type": "code",
   "execution_count": 9,
   "id": "d48c3bb8",
   "metadata": {},
   "outputs": [
    {
     "data": {
      "text/plain": [
       "dict_keys(['T', 'P', 'y_in', 'theta', 'ddt', 'r', 'r_MetBr', 'r_Methane', 'r_MethaneII', 'S_MetBr', 'MASI'])"
      ]
     },
     "execution_count": 9,
     "metadata": {},
     "output_type": "execute_result"
    }
   ],
   "source": [
    "exp.keys()"
   ]
  },
  {
   "cell_type": "code",
   "execution_count": 10,
   "id": "f4fd1701",
   "metadata": {},
   "outputs": [
    {
     "data": {
      "text/plain": [
       "0.3793354162048709"
      ]
     },
     "execution_count": 10,
     "metadata": {},
     "output_type": "execute_result"
    }
   ],
   "source": [
    "exp['S_MetBr']"
   ]
  },
  {
   "cell_type": "code",
   "execution_count": 11,
   "id": "de6310cc",
   "metadata": {},
   "outputs": [
    {
     "data": {
      "text/plain": [
       "{'CH2Br2': 76.65460521008967}"
      ]
     },
     "execution_count": 11,
     "metadata": {},
     "output_type": "execute_result"
    }
   ],
   "source": [
    "exp['MASI']"
   ]
  },
  {
   "cell_type": "code",
   "execution_count": null,
   "id": "3af75e76",
   "metadata": {},
   "outputs": [],
   "source": []
  }
 ],
 "metadata": {
  "kernelspec": {
   "display_name": "Python 3 (ipykernel)",
   "language": "python",
   "name": "python3"
  },
  "language_info": {
   "codemirror_mode": {
    "name": "ipython",
    "version": 3
   },
   "file_extension": ".py",
   "mimetype": "text/x-python",
   "name": "python",
   "nbconvert_exporter": "python",
   "pygments_lexer": "ipython3",
   "version": "3.8.11"
  },
  "toc": {
   "base_numbering": 1,
   "nav_menu": {},
   "number_sections": true,
   "sideBar": true,
   "skip_h1_title": false,
   "title_cell": "Table of Contents",
   "title_sidebar": "Contents",
   "toc_cell": false,
   "toc_position": {},
   "toc_section_display": true,
   "toc_window_display": false
  },
  "varInspector": {
   "cols": {
    "lenName": 16,
    "lenType": 16,
    "lenVar": 40
   },
   "kernels_config": {
    "python": {
     "delete_cmd_postfix": "",
     "delete_cmd_prefix": "del ",
     "library": "var_list.py",
     "varRefreshCmd": "print(var_dic_list())"
    },
    "r": {
     "delete_cmd_postfix": ") ",
     "delete_cmd_prefix": "rm(",
     "library": "var_list.r",
     "varRefreshCmd": "cat(var_dic_list()) "
    }
   },
   "types_to_exclude": [
    "module",
    "function",
    "builtin_function_or_method",
    "instance",
    "_Feature"
   ],
   "window_display": false
  }
 },
 "nbformat": 4,
 "nbformat_minor": 5
}
