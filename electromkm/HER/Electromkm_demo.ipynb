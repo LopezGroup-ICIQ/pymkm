{
 "cells": [
  {
   "cell_type": "markdown",
   "id": "6d9e5e15",
   "metadata": {
    "heading_collapsed": true
   },
   "source": [
    "# ElectroMKM class import and object instantiation"
   ]
  },
  {
   "cell_type": "code",
   "execution_count": 1,
   "id": "0ef99e3b",
   "metadata": {
    "ExecuteTime": {
     "end_time": "2021-09-02T13:57:57.639188Z",
     "start_time": "2021-09-02T13:57:57.635708Z"
    },
    "hidden": true
   },
   "outputs": [],
   "source": [
    "import sys\n",
    "sys.path.insert(0, \"../\") \n",
    "from electromkm import electroMKM"
   ]
  },
  {
   "cell_type": "markdown",
   "id": "ccdf732e",
   "metadata": {
    "hidden": true
   },
   "source": [
    "The demo system deal with the Hydrogen Evolution Reaction (HER) with random values."
   ]
  },
  {
   "cell_type": "code",
   "execution_count": 2,
   "id": "1bebbe9e",
   "metadata": {
    "ExecuteTime": {
     "end_time": "2021-09-02T13:58:13.534858Z",
     "start_time": "2021-09-02T13:58:13.529302Z"
    },
    "hidden": true
   },
   "outputs": [],
   "source": [
    "model = electroMKM('HER',\n",
    "                   'rm.mkm', \n",
    "                   'g.mkm', \n",
    "                    t_ref=298)"
   ]
  },
  {
   "cell_type": "markdown",
   "id": "a9660f7a",
   "metadata": {
    "heading_collapsed": true
   },
   "source": [
    "# Model exploration\n"
   ]
  },
  {
   "cell_type": "markdown",
   "id": "faa421cb",
   "metadata": {
    "hidden": true
   },
   "source": [
    "To investigate the characteristics of the system under study, several attributes can be easily inspected to check general information like number of elementary reactions, energetics, reaction network, etc."
   ]
  },
  {
   "cell_type": "code",
   "execution_count": 3,
   "id": "dce77be0",
   "metadata": {
    "hidden": true
   },
   "outputs": [
    {
     "name": "stdout",
     "output_type": "stream",
     "text": [
      "System: HER\n",
      "\n",
      "2H(e) -> H2\n",
      "\n",
      "Number of global reactions: 1\n",
      "Number of elementary reactions: 2\n",
      "Number of surface species: 3\n",
      "Number of gas species: 1\n",
      "\n"
     ]
    }
   ],
   "source": [
    "print(model)"
   ]
  },
  {
   "cell_type": "markdown",
   "id": "db3c32c0",
   "metadata": {
    "hidden": true
   },
   "source": [
    "### Defined species in the system\n",
    "\n",
    "N.B. H(e) is used to define H+ + e-."
   ]
  },
  {
   "cell_type": "code",
   "execution_count": 4,
   "id": "c47d0164",
   "metadata": {
    "hidden": true
   },
   "outputs": [
    {
     "data": {
      "text/plain": [
       "['*', 'H(e)', 'H*', 'H2(g)']"
      ]
     },
     "execution_count": 4,
     "metadata": {},
     "output_type": "execute_result"
    }
   ],
   "source": [
    "model.species_tot"
   ]
  },
  {
   "cell_type": "markdown",
   "id": "dd81d52f",
   "metadata": {
    "hidden": true
   },
   "source": [
    "### Visualize Gibbs energetics of the system\n",
    "\n",
    "Reaction types: 'ads'=adsorption\n",
    "                'des'=desorption\n",
    "                'sur'=surface reaction. \n",
    "The suffix \"+e\" means that that elementary reaction is a charge-transfer step."
   ]
  },
  {
   "cell_type": "code",
   "execution_count": 5,
   "id": "01faf793",
   "metadata": {
    "hidden": true
   },
   "outputs": [
    {
     "data": {
      "text/html": [
       "<div>\n",
       "<style scoped>\n",
       "    .dataframe tbody tr th:only-of-type {\n",
       "        vertical-align: middle;\n",
       "    }\n",
       "\n",
       "    .dataframe tbody tr th {\n",
       "        vertical-align: top;\n",
       "    }\n",
       "\n",
       "    .dataframe thead th {\n",
       "        text-align: right;\n",
       "    }\n",
       "</style>\n",
       "<table border=\"1\" class=\"dataframe\">\n",
       "  <thead>\n",
       "    <tr style=\"text-align: right;\">\n",
       "      <th></th>\n",
       "      <th></th>\n",
       "      <th>DGR / eV</th>\n",
       "      <th>DG barrier / eV</th>\n",
       "      <th>DG reverse barrier / eV</th>\n",
       "    </tr>\n",
       "  </thead>\n",
       "  <tbody>\n",
       "    <tr>\n",
       "      <th>R1</th>\n",
       "      <th>sur+e</th>\n",
       "      <td>-0.03</td>\n",
       "      <td>0.57</td>\n",
       "      <td>0.6</td>\n",
       "    </tr>\n",
       "    <tr>\n",
       "      <th>R2</th>\n",
       "      <th>des</th>\n",
       "      <td>0.05</td>\n",
       "      <td>0.05</td>\n",
       "      <td>0.0</td>\n",
       "    </tr>\n",
       "  </tbody>\n",
       "</table>\n",
       "</div>"
      ],
      "text/plain": [
       "          DGR / eV  DG barrier / eV  DG reverse barrier / eV\n",
       "R1 sur+e     -0.03             0.57                      0.6\n",
       "R2 des        0.05             0.05                      0.0"
      ]
     },
     "execution_count": 5,
     "metadata": {},
     "output_type": "execute_result"
    }
   ],
   "source": [
    "model.df_gibbs"
   ]
  },
  {
   "cell_type": "markdown",
   "id": "57e8b365",
   "metadata": {
    "hidden": true
   },
   "source": [
    "### Stoichiometric matrix of the reaction network"
   ]
  },
  {
   "cell_type": "code",
   "execution_count": 6,
   "id": "c9b93343",
   "metadata": {
    "hidden": true
   },
   "outputs": [
    {
     "data": {
      "text/html": [
       "<div>\n",
       "<style scoped>\n",
       "    .dataframe tbody tr th:only-of-type {\n",
       "        vertical-align: middle;\n",
       "    }\n",
       "\n",
       "    .dataframe tbody tr th {\n",
       "        vertical-align: top;\n",
       "    }\n",
       "\n",
       "    .dataframe thead tr th {\n",
       "        text-align: left;\n",
       "    }\n",
       "\n",
       "    .dataframe thead tr:last-of-type th {\n",
       "        text-align: right;\n",
       "    }\n",
       "</style>\n",
       "<table border=\"1\" class=\"dataframe\">\n",
       "  <thead>\n",
       "    <tr>\n",
       "      <th></th>\n",
       "      <th>R1</th>\n",
       "      <th>R2</th>\n",
       "    </tr>\n",
       "    <tr>\n",
       "      <th></th>\n",
       "      <th>sur+e</th>\n",
       "      <th>des</th>\n",
       "    </tr>\n",
       "    <tr>\n",
       "      <th>species</th>\n",
       "      <th></th>\n",
       "      <th></th>\n",
       "    </tr>\n",
       "  </thead>\n",
       "  <tbody>\n",
       "    <tr>\n",
       "      <th>*</th>\n",
       "      <td>-1</td>\n",
       "      <td>2</td>\n",
       "    </tr>\n",
       "    <tr>\n",
       "      <th>H(e)</th>\n",
       "      <td>-1</td>\n",
       "      <td>0</td>\n",
       "    </tr>\n",
       "    <tr>\n",
       "      <th>H*</th>\n",
       "      <td>1</td>\n",
       "      <td>-2</td>\n",
       "    </tr>\n",
       "    <tr>\n",
       "      <th>H2(g)</th>\n",
       "      <td>0</td>\n",
       "      <td>1</td>\n",
       "    </tr>\n",
       "  </tbody>\n",
       "</table>\n",
       "</div>"
      ],
      "text/plain": [
       "           R1  R2\n",
       "        sur+e des\n",
       "species          \n",
       "*          -1   2\n",
       "H(e)       -1   0\n",
       "H*          1  -2\n",
       "H2(g)       0   1"
      ]
     },
     "execution_count": 6,
     "metadata": {},
     "output_type": "execute_result"
    }
   ],
   "source": [
    "model.df_system"
   ]
  },
  {
   "cell_type": "markdown",
   "id": "21d3b7a2",
   "metadata": {
    "hidden": true
   },
   "source": [
    "### Stoichiometric vector of the global reactions"
   ]
  },
  {
   "cell_type": "code",
   "execution_count": 7,
   "id": "a748e5db",
   "metadata": {
    "hidden": true
   },
   "outputs": [
    {
     "data": {
      "text/plain": [
       "['2H(e) -> H2']"
      ]
     },
     "execution_count": 7,
     "metadata": {},
     "output_type": "execute_result"
    }
   ],
   "source": [
    "model.gr_string"
   ]
  },
  {
   "cell_type": "code",
   "execution_count": 8,
   "id": "89b46030",
   "metadata": {
    "hidden": true
   },
   "outputs": [
    {
     "data": {
      "text/plain": [
       "array([[2.],\n",
       "       [1.]])"
      ]
     },
     "execution_count": 8,
     "metadata": {},
     "output_type": "execute_result"
    }
   ],
   "source": [
    "model.stoich_numbers"
   ]
  },
  {
   "cell_type": "markdown",
   "id": "326b2dfa",
   "metadata": {
    "hidden": true
   },
   "source": [
    "model.stoich_numbers tells us that the first elementary reaction must be multiplied by two and summed up to the second one in order to get the global reaction. This is useful for checking the thermodynamic consistency of the developed models."
   ]
  },
  {
   "cell_type": "markdown",
   "id": "2c72138d",
   "metadata": {},
   "source": [
    "# Microkinetic runs and Tafel plot"
   ]
  },
  {
   "cell_type": "markdown",
   "id": "ad245719",
   "metadata": {},
   "source": [
    "Up to now, it is possible to run steady state runs via the electroMKM.kinetic_run() function.\n",
    "The main inputs that must be provided are the applied overpotential and the pH of the electrolyte solution.\n",
    "The output of the function is a Python dictionary containing information related to the performed simulation."
   ]
  },
  {
   "cell_type": "code",
   "execution_count": 3,
   "id": "b3be3a41",
   "metadata": {},
   "outputs": [
    {
     "name": "stdout",
     "output_type": "stream",
     "text": [
      "Final integration time = 1000s\n",
      "Relative tolerance = 1e-12\n",
      "Absolute tolerance = 1e-64\n"
     ]
    },
    {
     "data": {
      "text/plain": [
       "'Changed ODE solver parameters.'"
      ]
     },
     "execution_count": 3,
     "metadata": {},
     "output_type": "execute_result"
    }
   ],
   "source": [
    "model.set_ODE_params(t_final=1000)"
   ]
  },
  {
   "cell_type": "markdown",
   "id": "ff2d523f",
   "metadata": {},
   "source": [
    "### Steady state simulation"
   ]
  },
  {
   "cell_type": "code",
   "execution_count": 3,
   "id": "fd4837d9",
   "metadata": {},
   "outputs": [
    {
     "name": "stdout",
     "output_type": "stream",
     "text": [
      "HER: Microkinetic run\n",
      "Overpotential = -0.2V vs SHE    pH = 7\n",
      "Temperature = 298.0K    Pressure = 1.0bar\n",
      "\n",
      "HER Current density: -2.36e-04 mA cm-2\n",
      "HER Selectivity: 100.00%\n",
      "Most Abundant Surface Intermediate: * Coverage: 100.00% \n",
      "CPU time: 0.09 s\n"
     ]
    }
   ],
   "source": [
    "exp = model.kinetic_run(-0.2, 7, jac=False)"
   ]
  },
  {
   "cell_type": "code",
   "execution_count": 4,
   "id": "ab71f19b",
   "metadata": {},
   "outputs": [
    {
     "data": {
      "text/plain": [
       "{'T': 298.0,\n",
       " 'P': 1.0,\n",
       " 'theta': {'*': 0.9999999711807314,\n",
       "  'H(e)': 1e-07,\n",
       "  'H*': 2.8819269077789505e-08},\n",
       " 'ddt': {'*': 0.0, 'H(e)': 0.0, 'H*': 0.0, 'H2(g)': 0.0},\n",
       " 'r': {'R1': 0.0014717236940115525, 'R2': 0.0007358618470057763},\n",
       " 'r_HER': 0.0014717236940115525,\n",
       " 'j_HER': -0.002357961313679812,\n",
       " 'S_HER': 1.0,\n",
       " 'MASI': {'*': 0.9999999711807314},\n",
       " 'solver':   message: 'The solver successfully reached the end of the integration interval.'\n",
       "      nfev: 1438\n",
       "      njev: 2\n",
       "       nlu: 149\n",
       "       sol: None\n",
       "    status: 0\n",
       "   success: True\n",
       "         t: array([0.00000000e+00, 9.60887559e-50, 1.92177512e-49, 1.15306507e-48,\n",
       "        2.11395263e-48, 1.17228282e-47, 2.13317038e-47, 1.17420460e-46,\n",
       "        2.13509216e-46, 1.17439678e-45, 2.13528433e-45, 1.17441599e-44,\n",
       "        2.13530355e-44, 1.17441791e-43, 2.13530547e-43, 1.17441811e-42,\n",
       "        2.13530567e-42, 1.17441813e-41, 2.13530569e-41, 1.17441813e-40,\n",
       "        2.13530569e-40, 3.09619325e-40, 1.27050688e-39, 2.23139444e-39,\n",
       "        1.18402700e-38, 2.14491456e-38, 1.17537902e-37, 2.13626658e-37,\n",
       "        1.17451422e-36, 2.13540178e-36, 1.17442774e-35, 2.13531530e-35,\n",
       "        1.17441909e-34, 2.13530665e-34, 1.17441822e-33, 2.13530578e-33,\n",
       "        1.17441814e-32, 2.13530570e-32, 1.17441813e-31, 2.13530569e-31,\n",
       "        3.09619325e-31, 1.27050688e-30, 2.23139444e-30, 1.18402700e-29,\n",
       "        2.14491456e-29, 3.10580212e-29, 1.27146777e-28, 2.23235533e-28,\n",
       "        3.19324289e-28, 1.28021185e-27, 2.24109941e-27, 1.18499750e-26,\n",
       "        2.14588506e-26, 1.17547607e-25, 2.13636362e-25, 1.17452392e-24,\n",
       "        2.13541148e-24, 1.17442871e-23, 2.13531627e-23, 1.17441919e-22,\n",
       "        2.13530675e-22, 1.17441823e-21, 2.13530579e-21, 1.17441814e-20,\n",
       "        2.13530570e-20, 1.17441813e-19, 2.13530569e-19, 1.17441813e-18,\n",
       "        2.13530569e-18, 1.17441813e-17, 2.13530569e-17, 1.17441813e-16,\n",
       "        2.13530569e-16, 1.17441813e-15, 2.13530569e-15, 1.17441813e-14,\n",
       "        2.13530569e-14, 1.17441813e-13, 2.13530569e-13, 1.04605824e-12,\n",
       "        1.87858591e-12, 2.71111358e-12, 1.10363903e-11, 1.93616670e-11,\n",
       "        2.76869437e-11, 6.82015179e-11, 1.08716092e-10, 1.49230666e-10,\n",
       "        1.89745240e-10, 5.94890982e-10, 1.00003672e-09, 1.40518247e-09,\n",
       "        1.81032821e-09, 3.63058989e-09, 5.45085158e-09, 7.27111326e-09,\n",
       "        9.09137495e-09, 1.87566212e-08, 2.84218674e-08, 3.80871136e-08,\n",
       "        4.77523599e-08, 6.89680965e-08, 9.01838332e-08, 1.11399570e-07,\n",
       "        1.32615306e-07, 1.53831043e-07, 1.89051266e-07, 2.24271489e-07,\n",
       "        2.59491711e-07, 2.94711934e-07, 3.29932157e-07, 3.65152379e-07,\n",
       "        4.35313827e-07, 5.05475275e-07, 5.75636723e-07, 6.45798171e-07,\n",
       "        7.15959619e-07, 7.86121066e-07, 8.87605175e-07, 9.89089284e-07,\n",
       "        1.09057339e-06, 1.19205750e-06, 1.29354161e-06, 1.39502572e-06,\n",
       "        1.49396218e-06, 1.59289865e-06, 1.69183512e-06, 1.79077158e-06,\n",
       "        1.88970805e-06, 1.98864451e-06, 2.08595562e-06, 2.18326672e-06,\n",
       "        2.28057783e-06, 2.37788894e-06, 2.47520004e-06, 2.57251115e-06,\n",
       "        2.66961974e-06, 2.76672833e-06, 2.86383692e-06, 2.96094551e-06,\n",
       "        3.05805410e-06, 3.15516268e-06, 3.25252147e-06, 3.34988025e-06,\n",
       "        3.44723903e-06, 3.54459781e-06, 3.64195660e-06, 3.73931538e-06,\n",
       "        3.83714929e-06, 3.93498319e-06, 4.03281710e-06, 4.13065100e-06,\n",
       "        4.22848491e-06, 4.32631881e-06, 4.42483789e-06, 4.52335696e-06,\n",
       "        4.62187603e-06, 4.72039511e-06, 4.81891418e-06, 4.91743325e-06,\n",
       "        5.01683895e-06, 5.11624464e-06, 5.21565034e-06, 5.31505603e-06,\n",
       "        5.41446173e-06, 5.51386742e-06, 5.61436073e-06, 5.71485403e-06,\n",
       "        5.81534733e-06, 5.91584063e-06, 6.01633394e-06, 6.11682724e-06,\n",
       "        6.21861730e-06, 6.32040736e-06, 6.42219742e-06, 6.52398747e-06,\n",
       "        6.62577753e-06, 6.72756759e-06, 6.83088158e-06, 6.93419557e-06,\n",
       "        7.03750956e-06, 7.14082355e-06, 7.24413755e-06, 7.34745154e-06,\n",
       "        7.45254224e-06, 7.55763294e-06, 7.66272364e-06, 7.76781434e-06,\n",
       "        7.87290505e-06, 7.97799575e-06, 8.08515318e-06, 8.19231061e-06,\n",
       "        8.29946804e-06, 8.40662547e-06, 8.51378290e-06, 8.62094033e-06,\n",
       "        8.74585072e-06, 8.87076111e-06, 8.96535007e-06, 9.05993903e-06,\n",
       "        9.15452800e-06, 9.24911696e-06, 9.34370592e-06, 9.44680593e-06,\n",
       "        9.54990593e-06, 9.65300594e-06, 9.75610595e-06, 9.85920595e-06,\n",
       "        9.96230596e-06, 1.00726832e-05, 1.01830605e-05, 1.02934378e-05,\n",
       "        1.04038150e-05, 1.05141923e-05, 1.06245696e-05, 1.07443626e-05,\n",
       "        1.08641556e-05, 1.09839485e-05, 1.11037415e-05, 1.12235345e-05,\n",
       "        1.13433275e-05, 1.14681760e-05, 1.15930245e-05, 1.17178730e-05,\n",
       "        1.18427215e-05, 1.19675700e-05, 1.20924185e-05, 1.22231765e-05,\n",
       "        1.23539345e-05, 1.24846925e-05, 1.26154505e-05, 1.27462085e-05,\n",
       "        1.28769665e-05, 1.30161979e-05, 1.31554292e-05, 1.32946606e-05,\n",
       "        1.34338920e-05, 1.35731234e-05, 1.37123548e-05, 1.38646517e-05,\n",
       "        1.40169487e-05, 1.41692456e-05, 1.43215425e-05, 1.44738395e-05,\n",
       "        1.46261364e-05, 1.48060310e-05, 1.49859256e-05, 1.51658202e-05,\n",
       "        1.53457148e-05, 1.55256094e-05, 1.57055040e-05, 1.59065994e-05,\n",
       "        1.61076949e-05, 1.63087903e-05, 1.65098857e-05, 1.67109812e-05,\n",
       "        1.69120766e-05, 1.70764455e-05, 1.72408144e-05, 1.74051833e-05,\n",
       "        1.75695522e-05, 1.77339211e-05, 1.78982900e-05, 1.80510713e-05,\n",
       "        1.82038526e-05, 1.83566338e-05, 1.85094151e-05, 1.86621964e-05,\n",
       "        1.88149776e-05, 1.89651405e-05, 1.91153034e-05, 1.92654663e-05,\n",
       "        1.94156292e-05, 1.95657921e-05, 1.97159550e-05, 1.98648440e-05,\n",
       "        2.00137331e-05, 2.01626221e-05, 2.03115111e-05, 2.04604001e-05,\n",
       "        2.06092892e-05, 2.07578860e-05, 2.09064829e-05, 2.10550798e-05,\n",
       "        2.12036767e-05, 2.13522736e-05, 2.15008704e-05, 2.16500757e-05,\n",
       "        2.17992810e-05, 2.19484863e-05, 2.20976916e-05, 2.22468969e-05,\n",
       "        2.23961022e-05, 2.25466033e-05, 2.26971043e-05, 2.28476053e-05,\n",
       "        2.29981064e-05, 2.31486074e-05, 2.32991084e-05, 2.34514812e-05,\n",
       "        2.36038541e-05, 2.37562269e-05, 2.39085997e-05, 2.40609725e-05,\n",
       "        2.42133453e-05, 2.43681244e-05, 2.45229035e-05, 2.46776826e-05,\n",
       "        2.48324617e-05, 2.49872408e-05, 2.51420199e-05, 2.52997304e-05,\n",
       "        2.54574409e-05, 2.56151515e-05, 2.57728620e-05, 2.59305726e-05,\n",
       "        2.60882831e-05, 2.62494647e-05, 2.64106464e-05, 2.65718280e-05,\n",
       "        2.67330097e-05, 2.68941913e-05, 2.70553729e-05, 2.72206041e-05,\n",
       "        2.73858352e-05, 2.75510663e-05, 2.77162974e-05, 2.78815285e-05,\n",
       "        2.80467596e-05, 2.82166848e-05, 2.83866100e-05, 2.85565351e-05,\n",
       "        2.87264603e-05, 2.88963855e-05, 2.90663106e-05, 2.92416745e-05,\n",
       "        2.94170384e-05, 2.95924022e-05, 2.97677661e-05, 2.99431300e-05,\n",
       "        3.01184938e-05, 3.03001903e-05, 3.04818869e-05, 3.06635834e-05,\n",
       "        3.08452799e-05, 3.10269764e-05, 3.12086729e-05, 3.15097682e-05,\n",
       "        3.16941218e-05, 3.18784754e-05, 3.20628291e-05, 3.22471827e-05,\n",
       "        3.24315363e-05, 3.26187660e-05, 3.28059957e-05, 3.29932254e-05,\n",
       "        3.31804551e-05, 3.33676848e-05, 3.35549145e-05, 3.37512962e-05,\n",
       "        3.39476778e-05, 3.41440595e-05, 3.43404412e-05, 3.45368229e-05,\n",
       "        3.47332045e-05, 3.49559617e-05, 3.51787188e-05, 3.54014759e-05,\n",
       "        3.56242330e-05, 3.58469902e-05, 3.60697473e-05, 3.63133637e-05,\n",
       "        3.65569801e-05, 3.68005966e-05, 3.70442130e-05, 3.72878294e-05,\n",
       "        3.75314459e-05, 3.78077565e-05, 3.80840671e-05, 3.83603777e-05,\n",
       "        3.86366883e-05, 3.89129990e-05, 3.91893096e-05, 3.96245160e-05,\n",
       "        4.00597224e-05, 4.03735828e-05, 4.06874432e-05, 4.10013036e-05,\n",
       "        4.13151640e-05, 4.16290244e-05, 4.19428848e-05, 4.22247068e-05,\n",
       "        4.25065288e-05, 4.27883508e-05, 4.30701729e-05, 4.33519949e-05,\n",
       "        4.36338169e-05, 4.39025206e-05, 4.41712244e-05, 4.44399281e-05,\n",
       "        4.47086318e-05, 4.49773355e-05, 4.52460393e-05, 4.55107584e-05,\n",
       "        4.57754776e-05, 4.60401968e-05, 4.63049159e-05, 4.65696351e-05,\n",
       "        4.68343543e-05, 4.70983999e-05, 4.73624456e-05, 4.76264912e-05,\n",
       "        4.78905368e-05, 4.81545825e-05, 4.84186281e-05, 4.86838681e-05,\n",
       "        4.89491081e-05, 4.92143482e-05, 4.94795882e-05, 4.97448282e-05,\n",
       "        5.00100682e-05, 5.02778664e-05, 5.05456646e-05, 5.08134628e-05,\n",
       "        5.10812611e-05, 5.13490593e-05, 5.16168575e-05, 5.18882577e-05,\n",
       "        5.21596578e-05, 5.24310580e-05, 5.27024581e-05, 5.29738583e-05,\n",
       "        5.32452585e-05, 5.35211176e-05, 5.37969767e-05, 5.40728358e-05,\n",
       "        5.43486949e-05, 5.46245540e-05, 5.49004131e-05, 5.51814855e-05,\n",
       "        5.54625580e-05, 5.57436304e-05, 5.60247028e-05, 5.63057752e-05,\n",
       "        5.65868476e-05, 5.68738298e-05, 5.71608119e-05, 5.74477941e-05,\n",
       "        5.77347763e-05, 5.80217584e-05, 5.83087406e-05, 5.86023000e-05,\n",
       "        5.88958595e-05, 5.91894189e-05, 5.94829783e-05, 5.97765377e-05,\n",
       "        6.00700971e-05, 6.03708918e-05, 6.06716864e-05, 6.09724811e-05,\n",
       "        6.12732757e-05, 6.15740704e-05, 6.18748650e-05, 6.21835588e-05,\n",
       "        6.24922527e-05, 6.28009465e-05, 6.31096403e-05, 6.34183341e-05,\n",
       "        6.37270279e-05, 6.40443037e-05, 6.43615794e-05, 6.46788552e-05,\n",
       "        6.49961310e-05, 6.53134067e-05, 6.56306825e-05, 6.59572530e-05,\n",
       "        6.62838236e-05, 6.66103942e-05, 6.69369647e-05, 6.72635353e-05,\n",
       "        6.75901058e-05, 6.79267238e-05, 6.82633417e-05, 6.85999597e-05,\n",
       "        6.89365776e-05, 6.92731956e-05, 6.96098135e-05, 6.99572818e-05,\n",
       "        7.03047501e-05, 7.06522184e-05, 7.09996867e-05, 7.13471550e-05,\n",
       "        7.16946233e-05, 7.20538097e-05, 7.24129961e-05, 7.27721825e-05,\n",
       "        7.31313689e-05, 7.34905553e-05, 7.38497417e-05, 7.42215857e-05,\n",
       "        7.45934298e-05, 7.49652738e-05, 7.53371178e-05, 7.57089618e-05,\n",
       "        7.60808059e-05, 7.64663375e-05, 7.68518691e-05, 7.72374007e-05,\n",
       "        7.76229324e-05, 7.80084640e-05, 7.83939956e-05, 7.87943477e-05,\n",
       "        7.91946999e-05, 7.95950520e-05, 7.99954042e-05, 8.03957563e-05,\n",
       "        8.07961084e-05, 8.12125371e-05, 8.16289658e-05, 8.20453945e-05,\n",
       "        8.24618231e-05, 8.28782518e-05, 8.32946805e-05, 8.37285863e-05,\n",
       "        8.41624921e-05, 8.45963979e-05, 8.50303037e-05, 8.54642095e-05,\n",
       "        8.58981153e-05, 8.63510702e-05, 8.68040251e-05, 8.72569800e-05,\n",
       "        8.77099349e-05, 8.81628899e-05, 8.86158448e-05, 8.90896243e-05,\n",
       "        8.95634039e-05, 9.00371834e-05, 9.05109629e-05, 9.09847425e-05,\n",
       "        9.14585220e-05, 9.19551430e-05, 9.24517639e-05, 9.29483848e-05,\n",
       "        9.34450058e-05, 9.39416267e-05, 9.44382476e-05, 9.49600173e-05,\n",
       "        9.54817869e-05, 9.60035566e-05, 9.65253262e-05, 9.70470959e-05,\n",
       "        9.75688656e-05, 9.81184445e-05, 9.86680235e-05, 9.92176024e-05,\n",
       "        9.97671814e-05, 1.00316760e-04, 1.00866339e-04, 1.01446811e-04,\n",
       "        1.02027282e-04, 1.02607754e-04, 1.03188226e-04, 1.03768697e-04,\n",
       "        1.04349169e-04, 1.04964148e-04, 1.05579126e-04, 1.06194105e-04,\n",
       "        1.06809084e-04, 1.07424063e-04, 1.08039042e-04, 1.08692788e-04,\n",
       "        1.09346535e-04, 1.10000282e-04, 1.10654029e-04, 1.11307776e-04,\n",
       "        1.11961523e-04, 1.12659121e-04, 1.13356719e-04, 1.14054318e-04,\n",
       "        1.14751916e-04, 1.15449514e-04, 1.16147113e-04, 1.16894684e-04,\n",
       "        1.17642255e-04, 1.18389826e-04, 1.19137397e-04, 1.19884968e-04,\n",
       "        1.20632539e-04, 1.21437548e-04, 1.22242557e-04, 1.23047566e-04,\n",
       "        1.23852575e-04, 1.24657584e-04, 1.25462593e-04, 1.26334268e-04,\n",
       "        1.27205943e-04, 1.28077619e-04, 1.28949294e-04, 1.29820970e-04,\n",
       "        1.30692645e-04, 1.31643453e-04, 1.32594261e-04, 1.33545069e-04,\n",
       "        1.34495878e-04, 1.35446686e-04, 1.36397494e-04, 1.37440194e-04,\n",
       "        1.38482893e-04, 1.39525593e-04, 1.40568293e-04, 1.41610993e-04,\n",
       "        1.42653692e-04, 1.43810357e-04, 1.44967021e-04, 1.46123685e-04,\n",
       "        1.47280350e-04, 1.48437014e-04, 1.49593678e-04, 1.50770577e-04,\n",
       "        1.51947475e-04, 1.53124373e-04, 1.54301272e-04, 1.55478170e-04,\n",
       "        1.56655068e-04, 1.58104376e-04, 1.59553684e-04, 1.61002992e-04,\n",
       "        1.62452300e-04, 1.63901608e-04, 1.65350916e-04, 1.66877931e-04,\n",
       "        1.68404946e-04, 1.69931961e-04, 1.71458976e-04, 1.72985991e-04,\n",
       "        1.74513007e-04, 1.76447778e-04, 1.78382550e-04, 1.80317321e-04,\n",
       "        1.82252093e-04, 1.84186865e-04, 1.86121636e-04, 1.88252943e-04,\n",
       "        1.90384250e-04, 1.92515556e-04, 1.94646863e-04, 1.96778170e-04,\n",
       "        1.98909476e-04, 2.01501523e-04, 2.04093570e-04, 2.06685617e-04,\n",
       "        2.09277664e-04, 2.11869711e-04, 2.14461758e-04, 2.17794474e-04,\n",
       "        2.21127190e-04, 2.24459905e-04, 2.27792621e-04, 2.31125337e-04,\n",
       "        2.34458053e-04, 2.38989243e-04, 2.43520434e-04, 2.48051625e-04,\n",
       "        2.52582815e-04, 2.57114006e-04, 2.61645196e-04, 2.68565615e-04,\n",
       "        2.75486035e-04, 2.82406454e-04, 2.89326873e-04, 2.96247293e-04,\n",
       "        3.16100393e-04, 3.35953494e-04, 3.55806594e-04, 3.75659695e-04,\n",
       "        4.61075622e-04, 5.46491548e-04, 6.31907475e-04, 7.17323402e-04,\n",
       "        9.98481139e-04, 1.27963888e-03, 1.56079661e-03, 4.37237399e-03,\n",
       "        7.18395136e-03, 3.52997251e-02, 6.34154988e-02, 3.44573236e-01,\n",
       "        6.25730973e-01, 3.43730835e+00, 6.24888572e+00, 3.43646594e+01,\n",
       "        6.24804332e+01, 3.43638170e+02, 6.24795908e+02, 1.00000000e+03])\n",
       "  t_events: None\n",
       "         y: array([[1.00000000e+00, 1.00000000e+00, 1.00000000e+00, ...,\n",
       "         9.99999971e-01, 9.99999971e-01, 9.99999971e-01],\n",
       "        [1.00000000e-07, 1.00000000e-07, 1.00000000e-07, ...,\n",
       "         1.00000000e-07, 1.00000000e-07, 1.00000000e-07],\n",
       "        [0.00000000e+00, 1.41421356e-52, 2.82842712e-52, ...,\n",
       "         2.88192691e-08, 2.88192691e-08, 2.88192691e-08],\n",
       "        [0.00000000e+00, 0.00000000e+00, 0.00000000e+00, ...,\n",
       "         0.00000000e+00, 0.00000000e+00, 0.00000000e+00]])\n",
       "  y_events: None}"
      ]
     },
     "execution_count": 4,
     "metadata": {},
     "output_type": "execute_result"
    }
   ],
   "source": [
    "exp"
   ]
  },
  {
   "cell_type": "markdown",
   "id": "1901499f",
   "metadata": {},
   "source": [
    "The first check should be about the reaching of the steady state. This means that all the derivatives in the ODE must equal to zero. These values can be easily visualized with the key 'ddt':"
   ]
  },
  {
   "cell_type": "code",
   "execution_count": 13,
   "id": "4a3bf328",
   "metadata": {},
   "outputs": [
    {
     "data": {
      "text/plain": [
       "{'*': 0.0, 'H(e)': 0.0, 'H*': 0.0, 'H2(g)': 0.0}"
      ]
     },
     "execution_count": 13,
     "metadata": {},
     "output_type": "execute_result"
    }
   ],
   "source": [
    "exp['ddt']"
   ]
  },
  {
   "cell_type": "markdown",
   "id": "1004e257",
   "metadata": {},
   "source": [
    "Once steady state conditions have been checked, the solution can be easily analyzed. the main output consists of steady state surface coverage and reaction rate in term of current density."
   ]
  },
  {
   "cell_type": "code",
   "execution_count": 14,
   "id": "459d3739",
   "metadata": {},
   "outputs": [
    {
     "data": {
      "text/plain": [
       "{'*': 0.9999999711807314, 'H(e)': 1e-07, 'H*': 2.8819269077789505e-08}"
      ]
     },
     "execution_count": 14,
     "metadata": {},
     "output_type": "execute_result"
    }
   ],
   "source": [
    "exp['theta']"
   ]
  },
  {
   "cell_type": "code",
   "execution_count": 15,
   "id": "d8f49ca4",
   "metadata": {},
   "outputs": [
    {
     "data": {
      "text/plain": [
       "{'*': 0.9999999711807314}"
      ]
     },
     "execution_count": 15,
     "metadata": {},
     "output_type": "execute_result"
    }
   ],
   "source": [
    "exp['MASI']"
   ]
  },
  {
   "cell_type": "markdown",
   "id": "ff98caf0",
   "metadata": {},
   "source": [
    "Negative current density means reduction is occurring, while positive values means that reaction is evolving in the opposite direction. Values of current density are stored in mA cm-2."
   ]
  },
  {
   "cell_type": "code",
   "execution_count": 16,
   "id": "5c2e68d7",
   "metadata": {},
   "outputs": [
    {
     "data": {
      "text/plain": [
       "-0.002357961313679812"
      ]
     },
     "execution_count": 16,
     "metadata": {},
     "output_type": "execute_result"
    }
   ],
   "source": [
    "exp['j_HER']"
   ]
  },
  {
   "cell_type": "markdown",
   "id": "ff54e178",
   "metadata": {},
   "source": [
    "### Tafel plot"
   ]
  },
  {
   "cell_type": "code",
   "execution_count": 3,
   "id": "a82f1cb7",
   "metadata": {},
   "outputs": [
    {
     "name": "stdout",
     "output_type": "stream",
     "text": [
      "[-0.3 -0.2 -0.1  0.   0.1  0.2  0.3]\n"
     ]
    }
   ],
   "source": [
    "import numpy as np\n",
    "n = np.array([-0.3,-0.2,-0.1,0,0.1,0.2,0.3])\n",
    "print(n)"
   ]
  },
  {
   "cell_type": "code",
   "execution_count": 4,
   "id": "1b5695ce",
   "metadata": {},
   "outputs": [
    {
     "name": "stdout",
     "output_type": "stream",
     "text": [
      "HER: Tafel slope experiment for HER\n",
      "Temperature: 298.0 K    Pressure: 1 bar    pH: 7\n",
      "\n",
      "Overpotential = -0.3 V    HER Current Density = -7.58e-04 mA cm-2\n",
      "Overpotential = -0.2 V    HER Current Density = -2.36e-04 mA cm-2\n",
      "Overpotential = -0.1 V    HER Current Density = -7.32e-05 mA cm-2\n",
      "Overpotential = +0.0 V    HER Current Density = -2.22e-05 mA cm-2\n",
      "Overpotential = +0.1 V    HER Current Density = -3.36e-06 mA cm-2\n",
      "Overpotential = +0.2 V    HER Current Density = -5.02e-09 mA cm-2\n",
      "Overpotential = +0.3 V    HER Current Density = -2.09e-12 mA cm-2\n",
      "------------------------------------------------------------------\n",
      "Tafel slope = -0.20 V    alfa = 0.99\n",
      "CPU time: 10.70 s\n"
     ]
    },
    {
     "data": {
      "image/png": "[encoded data removed]",
      "text/plain": [
       "<Figure size 2800x2000 with 2 Axes>"
      ]
     },
     "metadata": {
      "needs_background": "light"
     },
     "output_type": "display_data"
    },
    {
     "data": {
      "text/plain": [
       "-0.1970925873026331"
      ]
     },
     "execution_count": 4,
     "metadata": {},
     "output_type": "execute_result"
    },
    {
     "data": {
      "text/plain": [
       "<Figure size 432x288 with 0 Axes>"
      ]
     },
     "metadata": {},
     "output_type": "display_data"
    }
   ],
   "source": [
    "model.tafel_plot(\"HER\", n ,7, jac=False)"
   ]
  },
  {
   "cell_type": "markdown",
   "id": "109883a3",
   "metadata": {
    "heading_collapsed": true
   },
   "source": [
    "### Check for the analytical Jacobian matrix"
   ]
  },
  {
   "cell_type": "markdown",
   "id": "f7d14e13",
   "metadata": {
    "hidden": true
   },
   "source": [
    "In order to check if the implemented analytical Jacobian is correct or not, we run the same simulation with and without the analytical Jacobian: If the solutions are the same, the Jacobian is correct. If not, it means that the wrong Jacobian drives the system away from the correct solution. "
   ]
  },
  {
   "cell_type": "markdown",
   "id": "f0cce220",
   "metadata": {
    "heading_collapsed": true,
    "hidden": true
   },
   "source": [
    "#### Simulation without analytical Jacobian"
   ]
  },
  {
   "cell_type": "code",
   "execution_count": 7,
   "id": "c5720d63",
   "metadata": {
    "hidden": true
   },
   "outputs": [
    {
     "name": "stdout",
     "output_type": "stream",
     "text": [
      "HER: Microkinetic run\n",
      "Overpotential = -0.1V vs SHE    pH = 7\n",
      "Temperature = 298.0K    Pressure = 1.0bar\n",
      "\n",
      "HER Current density: -7.32e-05 mA cm-2\n",
      "HER Selectivity: 100.00%\n",
      "Most Abundant Surface Intermediate: * Coverage: 1.00% \n",
      "CPU time: 9.20 s\n"
     ]
    }
   ],
   "source": [
    "exp1 = model.kinetic_run(-0.1, 7, jac=False)"
   ]
  },
  {
   "cell_type": "markdown",
   "id": "05178f73",
   "metadata": {
    "heading_collapsed": true,
    "hidden": true
   },
   "source": [
    "#### Simulation with analytical Jacobian"
   ]
  },
  {
   "cell_type": "code",
   "execution_count": 8,
   "id": "c616706f",
   "metadata": {
    "hidden": true
   },
   "outputs": [
    {
     "name": "stdout",
     "output_type": "stream",
     "text": [
      "HER: Microkinetic run\n",
      "Overpotential = -0.1V vs SHE    pH = 7\n",
      "Temperature = 298.0K    Pressure = 1.0bar\n",
      "\n",
      "HER Current density: -7.32e-05 mA cm-2\n",
      "HER Selectivity: 100.00%\n",
      "Most Abundant Surface Intermediate: * Coverage: 1.00% \n",
      "CPU time: 0.11 s\n"
     ]
    }
   ],
   "source": [
    "exp2 = model.kinetic_run(-0.1, 7, jac=True)"
   ]
  },
  {
   "cell_type": "markdown",
   "id": "7a0a6a41",
   "metadata": {
    "hidden": true
   },
   "source": [
    "Observe the difference in the CPU time required to integrate the system without and with the Jacobian!"
   ]
  }
 ],
 "metadata": {
  "kernelspec": {
   "display_name": "Python 3 (ipykernel)",
   "language": "python",
   "name": "python3"
  },
  "language_info": {
   "codemirror_mode": {
    "name": "ipython",
    "version": 3
   },
   "file_extension": ".py",
   "mimetype": "text/x-python",
   "name": "python",
   "nbconvert_exporter": "python",
   "pygments_lexer": "ipython3",
   "version": "3.8.12"
  },
  "toc": {
   "base_numbering": 1,
   "nav_menu": {},
   "number_sections": true,
   "sideBar": true,
   "skip_h1_title": false,
   "title_cell": "Table of Contents",
   "title_sidebar": "Contents",
   "toc_cell": false,
   "toc_position": {},
   "toc_section_display": true,
   "toc_window_display": false
  },
  "varInspector": {
   "cols": {
    "lenName": 16,
    "lenType": 16,
    "lenVar": 40
   },
   "kernels_config": {
    "python": {
     "delete_cmd_postfix": "",
     "delete_cmd_prefix": "del ",
     "library": "var_list.py",
     "varRefreshCmd": "print(var_dic_list())"
    },
    "r": {
     "delete_cmd_postfix": ") ",
     "delete_cmd_prefix": "rm(",
     "library": "var_list.r",
     "varRefreshCmd": "cat(var_dic_list()) "
    }
   },
   "types_to_exclude": [
    "module",
    "function",
    "builtin_function_or_method",
    "instance",
    "_Feature"
   ],
   "window_display": false
  }
 },
 "nbformat": 4,
 "nbformat_minor": 5
}
