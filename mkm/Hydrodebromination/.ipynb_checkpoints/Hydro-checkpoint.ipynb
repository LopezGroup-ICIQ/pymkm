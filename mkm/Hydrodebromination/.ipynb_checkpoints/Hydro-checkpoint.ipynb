{
 "cells": [
  {
   "cell_type": "code",
   "execution_count": 1,
   "id": "63caff36",
   "metadata": {},
   "outputs": [],
   "source": [
    "from mkm import *"
   ]
  },
  {
   "cell_type": "code",
   "execution_count": 2,
   "id": "5c127c41",
   "metadata": {},
   "outputs": [],
   "source": [
    "metals = ['Ag', 'Co', 'Cu', 'Ir', 'Ni', 'Pt', 'Rh', 'Ru']"
   ]
  },
  {
   "cell_type": "code",
   "execution_count": 4,
   "id": "ab1c9cdc",
   "metadata": {},
   "outputs": [],
   "source": [
    "mkm_list = []\n",
    "for metal in metals:\n",
    "    model = MKM('{}'.format(metal), \n",
    "                'g_raws/rm_AS.mkm', \n",
    "                'g_raws/{}/g_raw.mkm'.format(metal), \n",
    "                t_ref=523, inerts=['Ar', 'He'])\n",
    "    mkm_list.append(model)\n",
    "    #print(model.df_gibbs)"
   ]
  },
  {
   "cell_type": "code",
   "execution_count": 6,
   "id": "76ee6c23",
   "metadata": {},
   "outputs": [
    {
     "name": "stdout",
     "output_type": "stream",
     "text": [
      " Ag: Thermodynamic consistency analysis\n",
      " Temperature = 523K\n",
      "\n",
      "---------------------------------------------------------------------\n",
      "CH2Br2 + H2 -> CH3Br + HBr\n",
      "Model:    keqH=2.25e-15    keqS=1.00e+00    Keq=2.25e-15\n",
      "Database: keqH=1.19e+08    keqS=4.86e+00    Keq=5.77e+08\n",
      "---------------------------------------------------------------------\n",
      "\n",
      "CH2Br2 + H2 -> CH4 + Br2\n",
      "Model:    keqH=7.46e+29    keqS=1.00e+00    Keq=7.46e+29\n",
      "Database: keqH=1.15e+05    keqS=9.55e-01    Keq=1.10e+05\n",
      "---------------------------------------------------------------------\n",
      "\n",
      "CH2Br2 -> C + 2HBr\n",
      "Model:    keqH=4.98e-64    keqS=1.00e+00    Keq=4.98e-64\n",
      "Database: keqH=5.20e-65    keqS=1.72e+06    Keq=8.94e-59\n",
      "---------------------------------------------------------------------\n",
      "\n"
     ]
    },
    {
     "data": {
      "text/plain": [
       "5.558848677073782e+59"
      ]
     },
     "execution_count": 6,
     "metadata": {},
     "output_type": "execute_result"
    }
   ],
   "source": [
    "mkm_list[0].thermodynamic_consistency_analysis(523)"
   ]
  },
  {
   "cell_type": "code",
   "execution_count": 4,
   "id": "96f22c1f",
   "metadata": {},
   "outputs": [
    {
     "name": "stdout",
     "output_type": "stream",
     "text": [
      "Ag: Reversibility analysis\n",
      "Temperature = 523K    Pressure = 1.0bar\n",
      "Gas composition: CH2Br2=6.0%  H2=24.0%  CH3Br=0.0%  CH4=0.0%  Br2=0.0%  HBr=0.0%  Ar=65.5%  He=4.5%  \n",
      "Co: Reversibility analysis\n",
      "Temperature = 523K    Pressure = 1.0bar\n",
      "Gas composition: CH2Br2=6.0%  H2=24.0%  CH3Br=0.0%  CH4=0.0%  Br2=0.0%  HBr=0.0%  Ar=65.5%  He=4.5%  \n",
      "Cu: Reversibility analysis\n",
      "Temperature = 523K    Pressure = 1.0bar\n",
      "Gas composition: CH2Br2=6.0%  H2=24.0%  CH3Br=0.0%  CH4=0.0%  Br2=0.0%  HBr=0.0%  Ar=65.5%  He=4.5%  \n",
      "Ir: Reversibility analysis\n",
      "Temperature = 523K    Pressure = 1.0bar\n",
      "Gas composition: CH2Br2=6.0%  H2=24.0%  CH3Br=0.0%  CH4=0.0%  Br2=0.0%  HBr=0.0%  Ar=65.5%  He=4.5%  \n",
      "Ni: Reversibility analysis\n",
      "Temperature = 523K    Pressure = 1.0bar\n",
      "Gas composition: CH2Br2=6.0%  H2=24.0%  CH3Br=0.0%  CH4=0.0%  Br2=0.0%  HBr=0.0%  Ar=65.5%  He=4.5%  \n",
      "Pt: Reversibility analysis\n",
      "Temperature = 523K    Pressure = 1.0bar\n",
      "Gas composition: CH2Br2=6.0%  H2=24.0%  CH3Br=0.0%  CH4=0.0%  Br2=0.0%  HBr=0.0%  Ar=65.5%  He=4.5%  \n",
      "Rh: Reversibility analysis\n",
      "Temperature = 523K    Pressure = 1.0bar\n",
      "Gas composition: CH2Br2=6.0%  H2=24.0%  CH3Br=0.0%  CH4=0.0%  Br2=0.0%  HBr=0.0%  Ar=65.5%  He=4.5%  \n",
      "Ru: Reversibility analysis\n",
      "Temperature = 523K    Pressure = 1.0bar\n",
      "Gas composition: CH2Br2=6.0%  H2=24.0%  CH3Br=0.0%  CH4=0.0%  Br2=0.0%  HBr=0.0%  Ar=65.5%  He=4.5%  \n"
     ]
    }
   ],
   "source": [
    "rev_list = []\n",
    "\n",
    "for i in mkm_list:\n",
    "    i.calc_reversibility(523,1e5,[0.06,0.24,0,0,0,0,0.655, 0.045])"
   ]
  },
  {
   "cell_type": "code",
   "execution_count": 5,
   "id": "646c8f0d",
   "metadata": {},
   "outputs": [
    {
     "name": "stdout",
     "output_type": "stream",
     "text": [
      "Ag: Microkinetic run\n",
      "Reactor model: Differential PFR\n",
      "Temperature = 523K    Pressure = 1.0bar\n",
      "Gas composition: CH2Br2=6.0%  H2=24.0%  CH3Br=0.0%  CH4=0.0%  Br2=0.0%  HBr=0.0%  Ar=65.5%  He=4.5%  \n",
      "\n",
      "MetBr Reaction Rate: 6.41e-21 1/s\n",
      "MetBr Selectivity: 100.00%\n",
      "Most Abundant Surface Intermediate: i1 Coverage: 100.00% \n",
      "CPU time: 6.65 s\n"
     ]
    },
    {
     "data": {
      "text/plain": [
       "{'T': 523,\n",
       " 'P': 1.0,\n",
       " 'y_gas': {'CH2Br2(g)': 0.06,\n",
       "  'H2(g)': 0.24,\n",
       "  'CH3Br(g)': 0,\n",
       "  'CH4(g)': 0,\n",
       "  'Br2(g)': 0,\n",
       "  'HBr(g)': 0,\n",
       "  'Ar(g)': 0.655,\n",
       "  'He(g)': 0.045},\n",
       " 'theta': {'i0': 1.3747888176122335e-07,\n",
       "  'i1': 0.9999985326620219,\n",
       "  'i2': 1.3298590922702524e-06,\n",
       "  'i3': 7.624137430259206e-22,\n",
       "  'i4': 3.1468678435815202e-15,\n",
       "  'i5': 4.1421184048505406e-24,\n",
       "  'i6': 1.3341337464655193e-21,\n",
       "  'i7': 4.422721754556819e-28,\n",
       "  'i8': 2.2761247150048512e-36,\n",
       "  'i9': 6.269187603400132e-54,\n",
       "  'i10': 1.3148185705258463e-23,\n",
       "  'i11': 1.9089441207471754e-23,\n",
       "  'i12': 1.2152905327435365e-67},\n",
       " 'ddt': {'i0': -6.4118102745751246e-21,\n",
       "  'i1': -2.5060757480938133e-20,\n",
       "  'i2': 2.360302791470594e-24,\n",
       "  'i3': 0.0,\n",
       "  'i4': 3.147020726181745e-20,\n",
       "  'i5': 7.52316384526264e-37,\n",
       "  'i6': 0.0,\n",
       "  'i7': 1.2930437859045163e-37,\n",
       "  'i8': -1.3684555315672042e-48,\n",
       "  'i9': 0.0,\n",
       "  'i10': -7.52316384526264e-37,\n",
       "  'i11': 1.9090433906348481e-28,\n",
       "  'i12': 0.0,\n",
       "  'CH2Br2(g)': 0.0,\n",
       "  'H2(g)': 0.0,\n",
       "  'CH3Br(g)': 0.0,\n",
       "  'CH4(g)': 0.0,\n",
       "  'Br2(g)': 0.0,\n",
       "  'HBr(g)': 0.0,\n",
       "  'Ar(g)': 0.0,\n",
       "  'He(g)': 0.0},\n",
       " 'r': {'R1': 0.0,\n",
       "  'R2': 1.5736283973208798e-20,\n",
       "  'R3': 2.5060757480938133e-20,\n",
       "  'R4': 6.4044041478638144e-21,\n",
       "  'R5': 1.865635333307432e-20,\n",
       "  'R6': 6.404404147863814e-21,\n",
       "  'R7': -5.045823919839745e-24,\n",
       "  'R8': -1.3684555315672042e-48,\n",
       "  'R9': 0.0,\n",
       "  'R10': 6.409449971783653e-21,\n",
       "  'R11': 1.9090433906348486e-28,\n",
       "  'R12': 1.865130750915448e-20,\n",
       "  'R13': 6.409449971783654e-21,\n",
       "  'R14': 7.406625810897259e-39,\n",
       "  'R15': 7.406625810897259e-39,\n",
       "  'R16': 3.4551165896341636e-44},\n",
       " 'r_MetBr': 6.409449971783654e-21,\n",
       " 'r_Methane': 7.406625810897259e-39,\n",
       " 'r_Coke': 0.0,\n",
       " 'S_MetBr': 1.0,\n",
       " 'MASI': {'i1': 99.9998532662022}}"
      ]
     },
     "execution_count": 5,
     "metadata": {},
     "output_type": "execute_result"
    }
   ],
   "source": [
    "mkm_list[0].single_run(523,1e5,[0.06,0.24,0,0,0,0,0.655, 0.045])"
   ]
  },
  {
   "cell_type": "code",
   "execution_count": 23,
   "id": "95dde648",
   "metadata": {},
   "outputs": [
    {
     "ename": "ValueError",
     "evalue": "No engine for filetype: 'csv'",
     "output_type": "error",
     "traceback": [
      "\u001b[0;31m---------------------------------------------------------------------------\u001b[0m",
      "\u001b[0;31mOptionError\u001b[0m                               Traceback (most recent call last)",
      "\u001b[0;32m~/anaconda3/lib/python3.8/site-packages/pandas/io/excel/_base.py\u001b[0m in \u001b[0;36m__new__\u001b[0;34m(cls, path, engine, date_format, datetime_format, mode, storage_options, if_sheet_exists, engine_kwargs, **kwargs)\u001b[0m\n\u001b[1;32m    826\u001b[0m                 \u001b[0;32mtry\u001b[0m\u001b[0;34m:\u001b[0m\u001b[0;34m\u001b[0m\u001b[0;34m\u001b[0m\u001b[0m\n\u001b[0;32m--> 827\u001b[0;31m                     \u001b[0mengine\u001b[0m \u001b[0;34m=\u001b[0m \u001b[0mconfig\u001b[0m\u001b[0;34m.\u001b[0m\u001b[0mget_option\u001b[0m\u001b[0;34m(\u001b[0m\u001b[0;34mf\"io.excel.{ext}.writer\"\u001b[0m\u001b[0;34m,\u001b[0m \u001b[0msilent\u001b[0m\u001b[0;34m=\u001b[0m\u001b[0;32mTrue\u001b[0m\u001b[0;34m)\u001b[0m\u001b[0;34m\u001b[0m\u001b[0;34m\u001b[0m\u001b[0m\n\u001b[0m\u001b[1;32m    828\u001b[0m                     \u001b[0;32mif\u001b[0m \u001b[0mengine\u001b[0m \u001b[0;34m==\u001b[0m \u001b[0;34m\"auto\"\u001b[0m\u001b[0;34m:\u001b[0m\u001b[0;34m\u001b[0m\u001b[0;34m\u001b[0m\u001b[0m\n",
      "\u001b[0;32m~/anaconda3/lib/python3.8/site-packages/pandas/_config/config.py\u001b[0m in \u001b[0;36m__call__\u001b[0;34m(self, *args, **kwds)\u001b[0m\n\u001b[1;32m    242\u001b[0m     \u001b[0;32mdef\u001b[0m \u001b[0m__call__\u001b[0m\u001b[0;34m(\u001b[0m\u001b[0mself\u001b[0m\u001b[0;34m,\u001b[0m \u001b[0;34m*\u001b[0m\u001b[0margs\u001b[0m\u001b[0;34m,\u001b[0m \u001b[0;34m**\u001b[0m\u001b[0mkwds\u001b[0m\u001b[0;34m)\u001b[0m\u001b[0;34m:\u001b[0m\u001b[0;34m\u001b[0m\u001b[0;34m\u001b[0m\u001b[0m\n\u001b[0;32m--> 243\u001b[0;31m         \u001b[0;32mreturn\u001b[0m \u001b[0mself\u001b[0m\u001b[0;34m.\u001b[0m\u001b[0m__func__\u001b[0m\u001b[0;34m(\u001b[0m\u001b[0;34m*\u001b[0m\u001b[0margs\u001b[0m\u001b[0;34m,\u001b[0m \u001b[0;34m**\u001b[0m\u001b[0mkwds\u001b[0m\u001b[0;34m)\u001b[0m\u001b[0;34m\u001b[0m\u001b[0;34m\u001b[0m\u001b[0m\n\u001b[0m\u001b[1;32m    244\u001b[0m \u001b[0;34m\u001b[0m\u001b[0m\n",
      "\u001b[0;32m~/anaconda3/lib/python3.8/site-packages/pandas/_config/config.py\u001b[0m in \u001b[0;36m_get_option\u001b[0;34m(pat, silent)\u001b[0m\n\u001b[1;32m    114\u001b[0m \u001b[0;32mdef\u001b[0m \u001b[0m_get_option\u001b[0m\u001b[0;34m(\u001b[0m\u001b[0mpat\u001b[0m\u001b[0;34m:\u001b[0m \u001b[0mstr\u001b[0m\u001b[0;34m,\u001b[0m \u001b[0msilent\u001b[0m\u001b[0;34m:\u001b[0m \u001b[0mbool\u001b[0m \u001b[0;34m=\u001b[0m \u001b[0;32mFalse\u001b[0m\u001b[0;34m)\u001b[0m\u001b[0;34m:\u001b[0m\u001b[0;34m\u001b[0m\u001b[0;34m\u001b[0m\u001b[0m\n\u001b[0;32m--> 115\u001b[0;31m     \u001b[0mkey\u001b[0m \u001b[0;34m=\u001b[0m \u001b[0m_get_single_key\u001b[0m\u001b[0;34m(\u001b[0m\u001b[0mpat\u001b[0m\u001b[0;34m,\u001b[0m \u001b[0msilent\u001b[0m\u001b[0;34m)\u001b[0m\u001b[0;34m\u001b[0m\u001b[0;34m\u001b[0m\u001b[0m\n\u001b[0m\u001b[1;32m    116\u001b[0m \u001b[0;34m\u001b[0m\u001b[0m\n",
      "\u001b[0;32m~/anaconda3/lib/python3.8/site-packages/pandas/_config/config.py\u001b[0m in \u001b[0;36m_get_single_key\u001b[0;34m(pat, silent)\u001b[0m\n\u001b[1;32m    100\u001b[0m             \u001b[0m_warn_if_deprecated\u001b[0m\u001b[0;34m(\u001b[0m\u001b[0mpat\u001b[0m\u001b[0;34m)\u001b[0m\u001b[0;34m\u001b[0m\u001b[0;34m\u001b[0m\u001b[0m\n\u001b[0;32m--> 101\u001b[0;31m         \u001b[0;32mraise\u001b[0m \u001b[0mOptionError\u001b[0m\u001b[0;34m(\u001b[0m\u001b[0;34mf\"No such keys(s): {repr(pat)}\"\u001b[0m\u001b[0;34m)\u001b[0m\u001b[0;34m\u001b[0m\u001b[0;34m\u001b[0m\u001b[0m\n\u001b[0m\u001b[1;32m    102\u001b[0m     \u001b[0;32mif\u001b[0m \u001b[0mlen\u001b[0m\u001b[0;34m(\u001b[0m\u001b[0mkeys\u001b[0m\u001b[0;34m)\u001b[0m \u001b[0;34m>\u001b[0m \u001b[0;36m1\u001b[0m\u001b[0;34m:\u001b[0m\u001b[0;34m\u001b[0m\u001b[0;34m\u001b[0m\u001b[0m\n",
      "\u001b[0;31mOptionError\u001b[0m: \"No such keys(s): 'io.excel.csv.writer'\"",
      "\nThe above exception was the direct cause of the following exception:\n",
      "\u001b[0;31mValueError\u001b[0m                                Traceback (most recent call last)",
      "\u001b[0;32m/tmp/ipykernel_9777/2813445139.py\u001b[0m in \u001b[0;36m<module>\u001b[0;34m\u001b[0m\n\u001b[1;32m      2\u001b[0m \u001b[0;32mfor\u001b[0m \u001b[0mdf\u001b[0m \u001b[0;32min\u001b[0m \u001b[0mrev_list\u001b[0m\u001b[0;34m:\u001b[0m\u001b[0;34m\u001b[0m\u001b[0;34m\u001b[0m\u001b[0m\n\u001b[1;32m      3\u001b[0m     \u001b[0mi\u001b[0m \u001b[0;34m+=\u001b[0m \u001b[0;36m1\u001b[0m\u001b[0;34m\u001b[0m\u001b[0;34m\u001b[0m\u001b[0m\n\u001b[0;32m----> 4\u001b[0;31m     \u001b[0mdf\u001b[0m\u001b[0;34m.\u001b[0m\u001b[0mto_excel\u001b[0m\u001b[0;34m(\u001b[0m\u001b[0;34m'{}.csv'\u001b[0m\u001b[0;34m.\u001b[0m\u001b[0mformat\u001b[0m\u001b[0;34m(\u001b[0m\u001b[0mi\u001b[0m\u001b[0;34m)\u001b[0m\u001b[0;34m)\u001b[0m\u001b[0;34m\u001b[0m\u001b[0;34m\u001b[0m\u001b[0m\n\u001b[0m",
      "\u001b[0;32m~/anaconda3/lib/python3.8/site-packages/pandas/io/formats/style.py\u001b[0m in \u001b[0;36mto_excel\u001b[0;34m(self, excel_writer, sheet_name, na_rep, float_format, columns, header, index, index_label, startrow, startcol, engine, merge_cells, encoding, inf_rep, verbose, freeze_panes)\u001b[0m\n\u001b[1;32m    405\u001b[0m             \u001b[0minf_rep\u001b[0m\u001b[0;34m=\u001b[0m\u001b[0minf_rep\u001b[0m\u001b[0;34m,\u001b[0m\u001b[0;34m\u001b[0m\u001b[0;34m\u001b[0m\u001b[0m\n\u001b[1;32m    406\u001b[0m         )\n\u001b[0;32m--> 407\u001b[0;31m         formatter.write(\n\u001b[0m\u001b[1;32m    408\u001b[0m             \u001b[0mexcel_writer\u001b[0m\u001b[0;34m,\u001b[0m\u001b[0;34m\u001b[0m\u001b[0;34m\u001b[0m\u001b[0m\n\u001b[1;32m    409\u001b[0m             \u001b[0msheet_name\u001b[0m\u001b[0;34m=\u001b[0m\u001b[0msheet_name\u001b[0m\u001b[0;34m,\u001b[0m\u001b[0;34m\u001b[0m\u001b[0;34m\u001b[0m\u001b[0m\n",
      "\u001b[0;32m~/anaconda3/lib/python3.8/site-packages/pandas/io/formats/excel.py\u001b[0m in \u001b[0;36mwrite\u001b[0;34m(self, writer, sheet_name, startrow, startcol, freeze_panes, engine, storage_options)\u001b[0m\n\u001b[1;32m    832\u001b[0m             \u001b[0;31m# error: Cannot instantiate abstract class 'ExcelWriter' with abstract\u001b[0m\u001b[0;34m\u001b[0m\u001b[0;34m\u001b[0m\u001b[0;34m\u001b[0m\u001b[0m\n\u001b[1;32m    833\u001b[0m             \u001b[0;31m# attributes 'engine', 'save', 'supported_extensions' and 'write_cells'\u001b[0m\u001b[0;34m\u001b[0m\u001b[0;34m\u001b[0m\u001b[0;34m\u001b[0m\u001b[0m\n\u001b[0;32m--> 834\u001b[0;31m             writer = ExcelWriter(  # type: ignore[abstract]\n\u001b[0m\u001b[1;32m    835\u001b[0m                 \u001b[0mwriter\u001b[0m\u001b[0;34m,\u001b[0m \u001b[0mengine\u001b[0m\u001b[0;34m=\u001b[0m\u001b[0mengine\u001b[0m\u001b[0;34m,\u001b[0m \u001b[0mstorage_options\u001b[0m\u001b[0;34m=\u001b[0m\u001b[0mstorage_options\u001b[0m\u001b[0;34m\u001b[0m\u001b[0;34m\u001b[0m\u001b[0m\n\u001b[1;32m    836\u001b[0m             )\n",
      "\u001b[0;32m~/anaconda3/lib/python3.8/site-packages/pandas/io/excel/_base.py\u001b[0m in \u001b[0;36m__new__\u001b[0;34m(cls, path, engine, date_format, datetime_format, mode, storage_options, if_sheet_exists, engine_kwargs, **kwargs)\u001b[0m\n\u001b[1;32m    829\u001b[0m                         \u001b[0mengine\u001b[0m \u001b[0;34m=\u001b[0m \u001b[0mget_default_engine\u001b[0m\u001b[0;34m(\u001b[0m\u001b[0mext\u001b[0m\u001b[0;34m,\u001b[0m \u001b[0mmode\u001b[0m\u001b[0;34m=\u001b[0m\u001b[0;34m\"writer\"\u001b[0m\u001b[0;34m)\u001b[0m\u001b[0;34m\u001b[0m\u001b[0;34m\u001b[0m\u001b[0m\n\u001b[1;32m    830\u001b[0m                 \u001b[0;32mexcept\u001b[0m \u001b[0mKeyError\u001b[0m \u001b[0;32mas\u001b[0m \u001b[0merr\u001b[0m\u001b[0;34m:\u001b[0m\u001b[0;34m\u001b[0m\u001b[0;34m\u001b[0m\u001b[0m\n\u001b[0;32m--> 831\u001b[0;31m                     \u001b[0;32mraise\u001b[0m \u001b[0mValueError\u001b[0m\u001b[0;34m(\u001b[0m\u001b[0;34mf\"No engine for filetype: '{ext}'\"\u001b[0m\u001b[0;34m)\u001b[0m \u001b[0;32mfrom\u001b[0m \u001b[0merr\u001b[0m\u001b[0;34m\u001b[0m\u001b[0;34m\u001b[0m\u001b[0m\n\u001b[0m\u001b[1;32m    832\u001b[0m \u001b[0;34m\u001b[0m\u001b[0m\n\u001b[1;32m    833\u001b[0m             \u001b[0;32mif\u001b[0m \u001b[0mengine\u001b[0m \u001b[0;34m==\u001b[0m \u001b[0;34m\"xlwt\"\u001b[0m\u001b[0;34m:\u001b[0m\u001b[0;34m\u001b[0m\u001b[0;34m\u001b[0m\u001b[0m\n",
      "\u001b[0;31mValueError\u001b[0m: No engine for filetype: 'csv'"
     ]
    }
   ],
   "source": [
    "i = 0\n",
    "for df in rev_list:\n",
    "    i += 1\n",
    "    df.to_excel('{}.csv'.format(i))"
   ]
  },
  {
   "cell_type": "code",
   "execution_count": null,
   "id": "7cf39ab9",
   "metadata": {},
   "outputs": [],
   "source": []
  }
 ],
 "metadata": {
  "kernelspec": {
   "display_name": "Python 3 (ipykernel)",
   "language": "python",
   "name": "python3"
  },
  "language_info": {
   "codemirror_mode": {
    "name": "ipython",
    "version": 3
   },
   "file_extension": ".py",
   "mimetype": "text/x-python",
   "name": "python",
   "nbconvert_exporter": "python",
   "pygments_lexer": "ipython3",
   "version": "3.8.11"
  },
  "toc": {
   "base_numbering": 1,
   "nav_menu": {},
   "number_sections": true,
   "sideBar": true,
   "skip_h1_title": false,
   "title_cell": "Table of Contents",
   "title_sidebar": "Contents",
   "toc_cell": false,
   "toc_position": {},
   "toc_section_display": true,
   "toc_window_display": false
  },
  "varInspector": {
   "cols": {
    "lenName": 16,
    "lenType": 16,
    "lenVar": 40
   },
   "kernels_config": {
    "python": {
     "delete_cmd_postfix": "",
     "delete_cmd_prefix": "del ",
     "library": "var_list.py",
     "varRefreshCmd": "print(var_dic_list())"
    },
    "r": {
     "delete_cmd_postfix": ") ",
     "delete_cmd_prefix": "rm(",
     "library": "var_list.r",
     "varRefreshCmd": "cat(var_dic_list()) "
    }
   },
   "types_to_exclude": [
    "module",
    "function",
    "builtin_function_or_method",
    "instance",
    "_Feature"
   ],
   "window_display": false
  }
 },
 "nbformat": 4,
 "nbformat_minor": 5
}
