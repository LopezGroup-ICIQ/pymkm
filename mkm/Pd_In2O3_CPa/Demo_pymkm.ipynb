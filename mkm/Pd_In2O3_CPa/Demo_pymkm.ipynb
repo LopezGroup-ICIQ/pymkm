{
 "cells": [
  {
   "cell_type": "markdown",
   "id": "f97f9643",
   "metadata": {},
   "source": [
    "# Pymkm demo: CO2 hydrogenation to MeOH over Pd-In2O3 catalyst"
   ]
  },
  {
   "cell_type": "markdown",
   "id": "6d9e5e15",
   "metadata": {},
   "source": [
    "## MKM class import, object instance and attributes overview"
   ]
  },
  {
   "cell_type": "code",
   "execution_count": 1,
   "id": "0ef99e3b",
   "metadata": {
    "ExecuteTime": {
     "end_time": "2021-09-02T13:57:57.639188Z",
     "start_time": "2021-09-02T13:57:57.635708Z"
    }
   },
   "outputs": [],
   "source": [
    "import os, sys\n",
    "sys.path.insert(0, \"../\") \n",
    "from mkm import MKM"
   ]
  },
  {
   "cell_type": "code",
   "execution_count": 2,
   "id": "1bebbe9e",
   "metadata": {
    "ExecuteTime": {
     "end_time": "2021-09-02T13:58:13.534858Z",
     "start_time": "2021-09-02T13:58:13.529302Z"
    }
   },
   "outputs": [],
   "source": [
    "model = MKM('Pd-In2O3', 'rm.mkm', 'g.mkm', t_ref=553)"
   ]
  },
  {
   "cell_type": "markdown",
   "id": "a9660f7a",
   "metadata": {},
   "source": [
    "# Model exploration\n",
    "To investigate the characteristics of the system under study, several attributes can be easily inspected to check general information like number of elementary reactions, energetics, reaction network, etc."
   ]
  },
  {
   "cell_type": "code",
   "execution_count": 3,
   "id": "dce77be0",
   "metadata": {},
   "outputs": [
    {
     "name": "stdout",
     "output_type": "stream",
     "text": [
      "System: Pd-In2O3\n",
      "\n",
      "CO2 + 3H2 -> CH3OH + H2O\n",
      "CO2 + H2 -> CO + H2O\n",
      "\n",
      "Number of global reactions: 2\n",
      "Number of elementary reactions: 20\n",
      "Number of surface species: 17\n",
      "Number of gas species: 5\n",
      "\n"
     ]
    }
   ],
   "source": [
    "print(model)"
   ]
  },
  {
   "cell_type": "code",
   "execution_count": 4,
   "id": "6585f84b",
   "metadata": {},
   "outputs": [
    {
     "data": {
      "text/plain": [
       "array([0.  , 0.  , 0.  , 0.  , 1.  , 0.  , 1.56, 0.  , 1.82, 0.  , 0.  ,\n",
       "       1.77, 0.  , 0.68, 1.17, 0.35, 1.14, 1.15, 1.86, 0.49])"
      ]
     },
     "execution_count": 4,
     "metadata": {},
     "output_type": "execute_result"
    }
   ],
   "source": [
    "model.dh_barrier"
   ]
  },
  {
   "cell_type": "code",
   "execution_count": 5,
   "id": "01faf793",
   "metadata": {},
   "outputs": [
    {
     "data": {
      "text/html": [
       "<div>\n",
       "<style scoped>\n",
       "    .dataframe tbody tr th:only-of-type {\n",
       "        vertical-align: middle;\n",
       "    }\n",
       "\n",
       "    .dataframe tbody tr th {\n",
       "        vertical-align: top;\n",
       "    }\n",
       "\n",
       "    .dataframe thead th {\n",
       "        text-align: right;\n",
       "    }\n",
       "</style>\n",
       "<table border=\"1\" class=\"dataframe\">\n",
       "  <thead>\n",
       "    <tr style=\"text-align: right;\">\n",
       "      <th></th>\n",
       "      <th></th>\n",
       "      <th>DGR / eV</th>\n",
       "      <th>G_act / eV</th>\n",
       "      <th>G_act,rev / eV</th>\n",
       "    </tr>\n",
       "  </thead>\n",
       "  <tbody>\n",
       "    <tr>\n",
       "      <th>R1</th>\n",
       "      <th>ads</th>\n",
       "      <td>0.09</td>\n",
       "      <td>0.09</td>\n",
       "      <td>0.00</td>\n",
       "    </tr>\n",
       "    <tr>\n",
       "      <th>R2</th>\n",
       "      <th>ads</th>\n",
       "      <td>0.36</td>\n",
       "      <td>0.36</td>\n",
       "      <td>0.00</td>\n",
       "    </tr>\n",
       "    <tr>\n",
       "      <th>R3</th>\n",
       "      <th>ads</th>\n",
       "      <td>0.27</td>\n",
       "      <td>0.27</td>\n",
       "      <td>0.00</td>\n",
       "    </tr>\n",
       "    <tr>\n",
       "      <th>R4</th>\n",
       "      <th>ads</th>\n",
       "      <td>-0.00</td>\n",
       "      <td>0.00</td>\n",
       "      <td>0.00</td>\n",
       "    </tr>\n",
       "    <tr>\n",
       "      <th>R5</th>\n",
       "      <th>sur</th>\n",
       "      <td>-0.35</td>\n",
       "      <td>0.92</td>\n",
       "      <td>1.27</td>\n",
       "    </tr>\n",
       "    <tr>\n",
       "      <th>R6</th>\n",
       "      <th>ads</th>\n",
       "      <td>-0.41</td>\n",
       "      <td>0.00</td>\n",
       "      <td>0.41</td>\n",
       "    </tr>\n",
       "    <tr>\n",
       "      <th>R7</th>\n",
       "      <th>sur</th>\n",
       "      <td>0.78</td>\n",
       "      <td>1.55</td>\n",
       "      <td>0.77</td>\n",
       "    </tr>\n",
       "    <tr>\n",
       "      <th>R8</th>\n",
       "      <th>sur</th>\n",
       "      <td>0.10</td>\n",
       "      <td>0.10</td>\n",
       "      <td>0.00</td>\n",
       "    </tr>\n",
       "    <tr>\n",
       "      <th>R9</th>\n",
       "      <th>sur</th>\n",
       "      <td>1.80</td>\n",
       "      <td>1.80</td>\n",
       "      <td>0.00</td>\n",
       "    </tr>\n",
       "    <tr>\n",
       "      <th>R10</th>\n",
       "      <th>sur</th>\n",
       "      <td>-0.92</td>\n",
       "      <td>0.00</td>\n",
       "      <td>0.92</td>\n",
       "    </tr>\n",
       "    <tr>\n",
       "      <th>R11</th>\n",
       "      <th>ads</th>\n",
       "      <td>-0.15</td>\n",
       "      <td>0.00</td>\n",
       "      <td>0.15</td>\n",
       "    </tr>\n",
       "    <tr>\n",
       "      <th>R12</th>\n",
       "      <th>sur</th>\n",
       "      <td>1.43</td>\n",
       "      <td>1.43</td>\n",
       "      <td>0.00</td>\n",
       "    </tr>\n",
       "    <tr>\n",
       "      <th>R13</th>\n",
       "      <th>des</th>\n",
       "      <td>-1.75</td>\n",
       "      <td>0.00</td>\n",
       "      <td>1.75</td>\n",
       "    </tr>\n",
       "    <tr>\n",
       "      <th>R14</th>\n",
       "      <th>sur</th>\n",
       "      <td>-0.13</td>\n",
       "      <td>0.66</td>\n",
       "      <td>0.79</td>\n",
       "    </tr>\n",
       "    <tr>\n",
       "      <th>R15</th>\n",
       "      <th>sur</th>\n",
       "      <td>1.20</td>\n",
       "      <td>1.20</td>\n",
       "      <td>0.00</td>\n",
       "    </tr>\n",
       "    <tr>\n",
       "      <th>R16</th>\n",
       "      <th>des</th>\n",
       "      <td>-0.71</td>\n",
       "      <td>0.00</td>\n",
       "      <td>0.71</td>\n",
       "    </tr>\n",
       "    <tr>\n",
       "      <th>R17</th>\n",
       "      <th>sur</th>\n",
       "      <td>-0.14</td>\n",
       "      <td>1.03</td>\n",
       "      <td>1.17</td>\n",
       "    </tr>\n",
       "    <tr>\n",
       "      <th>R18</th>\n",
       "      <th>sur</th>\n",
       "      <td>-0.08</td>\n",
       "      <td>0.97</td>\n",
       "      <td>1.05</td>\n",
       "    </tr>\n",
       "    <tr>\n",
       "      <th>R19</th>\n",
       "      <th>des</th>\n",
       "      <td>0.83</td>\n",
       "      <td>0.83</td>\n",
       "      <td>0.00</td>\n",
       "    </tr>\n",
       "    <tr>\n",
       "      <th>R20</th>\n",
       "      <th>des</th>\n",
       "      <td>-0.37</td>\n",
       "      <td>0.00</td>\n",
       "      <td>0.37</td>\n",
       "    </tr>\n",
       "  </tbody>\n",
       "</table>\n",
       "</div>"
      ],
      "text/plain": [
       "         DGR / eV  G_act / eV  G_act,rev / eV\n",
       "R1  ads      0.09        0.09            0.00\n",
       "R2  ads      0.36        0.36            0.00\n",
       "R3  ads      0.27        0.27            0.00\n",
       "R4  ads     -0.00        0.00            0.00\n",
       "R5  sur     -0.35        0.92            1.27\n",
       "R6  ads     -0.41        0.00            0.41\n",
       "R7  sur      0.78        1.55            0.77\n",
       "R8  sur      0.10        0.10            0.00\n",
       "R9  sur      1.80        1.80            0.00\n",
       "R10 sur     -0.92        0.00            0.92\n",
       "R11 ads     -0.15        0.00            0.15\n",
       "R12 sur      1.43        1.43            0.00\n",
       "R13 des     -1.75        0.00            1.75\n",
       "R14 sur     -0.13        0.66            0.79\n",
       "R15 sur      1.20        1.20            0.00\n",
       "R16 des     -0.71        0.00            0.71\n",
       "R17 sur     -0.14        1.03            1.17\n",
       "R18 sur     -0.08        0.97            1.05\n",
       "R19 des      0.83        0.83            0.00\n",
       "R20 des     -0.37        0.00            0.37"
      ]
     },
     "execution_count": 5,
     "metadata": {},
     "output_type": "execute_result"
    }
   ],
   "source": [
    "model.df_gibbs"
   ]
  },
  {
   "cell_type": "code",
   "execution_count": 6,
   "id": "c9b93343",
   "metadata": {},
   "outputs": [
    {
     "data": {
      "text/html": [
       "<div>\n",
       "<style scoped>\n",
       "    .dataframe tbody tr th:only-of-type {\n",
       "        vertical-align: middle;\n",
       "    }\n",
       "\n",
       "    .dataframe tbody tr th {\n",
       "        vertical-align: top;\n",
       "    }\n",
       "\n",
       "    .dataframe thead tr th {\n",
       "        text-align: left;\n",
       "    }\n",
       "\n",
       "    .dataframe thead tr:last-of-type th {\n",
       "        text-align: right;\n",
       "    }\n",
       "</style>\n",
       "<table border=\"1\" class=\"dataframe\">\n",
       "  <thead>\n",
       "    <tr>\n",
       "      <th></th>\n",
       "      <th>R1</th>\n",
       "      <th>R2</th>\n",
       "      <th>R3</th>\n",
       "      <th>R4</th>\n",
       "      <th>R5</th>\n",
       "      <th>R6</th>\n",
       "      <th>R7</th>\n",
       "      <th>R8</th>\n",
       "      <th>R9</th>\n",
       "      <th>R10</th>\n",
       "      <th>R11</th>\n",
       "      <th>R12</th>\n",
       "      <th>R13</th>\n",
       "      <th>R14</th>\n",
       "      <th>R15</th>\n",
       "      <th>R16</th>\n",
       "      <th>R17</th>\n",
       "      <th>R18</th>\n",
       "      <th>R19</th>\n",
       "      <th>R20</th>\n",
       "    </tr>\n",
       "    <tr>\n",
       "      <th></th>\n",
       "      <th>ads</th>\n",
       "      <th>ads</th>\n",
       "      <th>ads</th>\n",
       "      <th>ads</th>\n",
       "      <th>sur</th>\n",
       "      <th>ads</th>\n",
       "      <th>sur</th>\n",
       "      <th>sur</th>\n",
       "      <th>sur</th>\n",
       "      <th>sur</th>\n",
       "      <th>ads</th>\n",
       "      <th>sur</th>\n",
       "      <th>des</th>\n",
       "      <th>sur</th>\n",
       "      <th>sur</th>\n",
       "      <th>des</th>\n",
       "      <th>sur</th>\n",
       "      <th>sur</th>\n",
       "      <th>des</th>\n",
       "      <th>des</th>\n",
       "    </tr>\n",
       "    <tr>\n",
       "      <th>species</th>\n",
       "      <th></th>\n",
       "      <th></th>\n",
       "      <th></th>\n",
       "      <th></th>\n",
       "      <th></th>\n",
       "      <th></th>\n",
       "      <th></th>\n",
       "      <th></th>\n",
       "      <th></th>\n",
       "      <th></th>\n",
       "      <th></th>\n",
       "      <th></th>\n",
       "      <th></th>\n",
       "      <th></th>\n",
       "      <th></th>\n",
       "      <th></th>\n",
       "      <th></th>\n",
       "      <th></th>\n",
       "      <th></th>\n",
       "      <th></th>\n",
       "    </tr>\n",
       "  </thead>\n",
       "  <tbody>\n",
       "    <tr>\n",
       "      <th>i15</th>\n",
       "      <td>-1</td>\n",
       "      <td>-1</td>\n",
       "      <td>0</td>\n",
       "      <td>0</td>\n",
       "      <td>0</td>\n",
       "      <td>0</td>\n",
       "      <td>0</td>\n",
       "      <td>0</td>\n",
       "      <td>0</td>\n",
       "      <td>0</td>\n",
       "      <td>0</td>\n",
       "      <td>0</td>\n",
       "      <td>0</td>\n",
       "      <td>0</td>\n",
       "      <td>0</td>\n",
       "      <td>1</td>\n",
       "      <td>0</td>\n",
       "      <td>0</td>\n",
       "      <td>0</td>\n",
       "      <td>1</td>\n",
       "    </tr>\n",
       "    <tr>\n",
       "      <th>i16</th>\n",
       "      <td>1</td>\n",
       "      <td>0</td>\n",
       "      <td>-1</td>\n",
       "      <td>0</td>\n",
       "      <td>0</td>\n",
       "      <td>0</td>\n",
       "      <td>0</td>\n",
       "      <td>0</td>\n",
       "      <td>0</td>\n",
       "      <td>0</td>\n",
       "      <td>0</td>\n",
       "      <td>0</td>\n",
       "      <td>0</td>\n",
       "      <td>0</td>\n",
       "      <td>0</td>\n",
       "      <td>0</td>\n",
       "      <td>0</td>\n",
       "      <td>0</td>\n",
       "      <td>0</td>\n",
       "      <td>0</td>\n",
       "    </tr>\n",
       "    <tr>\n",
       "      <th>i17</th>\n",
       "      <td>0</td>\n",
       "      <td>1</td>\n",
       "      <td>0</td>\n",
       "      <td>-1</td>\n",
       "      <td>0</td>\n",
       "      <td>0</td>\n",
       "      <td>0</td>\n",
       "      <td>0</td>\n",
       "      <td>0</td>\n",
       "      <td>0</td>\n",
       "      <td>0</td>\n",
       "      <td>0</td>\n",
       "      <td>0</td>\n",
       "      <td>0</td>\n",
       "      <td>0</td>\n",
       "      <td>0</td>\n",
       "      <td>0</td>\n",
       "      <td>0</td>\n",
       "      <td>0</td>\n",
       "      <td>0</td>\n",
       "    </tr>\n",
       "    <tr>\n",
       "      <th>i18</th>\n",
       "      <td>0</td>\n",
       "      <td>0</td>\n",
       "      <td>1</td>\n",
       "      <td>1</td>\n",
       "      <td>-1</td>\n",
       "      <td>0</td>\n",
       "      <td>0</td>\n",
       "      <td>0</td>\n",
       "      <td>0</td>\n",
       "      <td>0</td>\n",
       "      <td>0</td>\n",
       "      <td>0</td>\n",
       "      <td>0</td>\n",
       "      <td>0</td>\n",
       "      <td>0</td>\n",
       "      <td>0</td>\n",
       "      <td>-1</td>\n",
       "      <td>0</td>\n",
       "      <td>0</td>\n",
       "      <td>0</td>\n",
       "    </tr>\n",
       "    <tr>\n",
       "      <th>i20</th>\n",
       "      <td>0</td>\n",
       "      <td>0</td>\n",
       "      <td>0</td>\n",
       "      <td>0</td>\n",
       "      <td>1</td>\n",
       "      <td>-1</td>\n",
       "      <td>0</td>\n",
       "      <td>0</td>\n",
       "      <td>0</td>\n",
       "      <td>0</td>\n",
       "      <td>0</td>\n",
       "      <td>0</td>\n",
       "      <td>0</td>\n",
       "      <td>0</td>\n",
       "      <td>0</td>\n",
       "      <td>0</td>\n",
       "      <td>0</td>\n",
       "      <td>0</td>\n",
       "      <td>0</td>\n",
       "      <td>0</td>\n",
       "    </tr>\n",
       "    <tr>\n",
       "      <th>i21</th>\n",
       "      <td>0</td>\n",
       "      <td>0</td>\n",
       "      <td>0</td>\n",
       "      <td>0</td>\n",
       "      <td>0</td>\n",
       "      <td>1</td>\n",
       "      <td>-1</td>\n",
       "      <td>0</td>\n",
       "      <td>-1</td>\n",
       "      <td>0</td>\n",
       "      <td>0</td>\n",
       "      <td>0</td>\n",
       "      <td>0</td>\n",
       "      <td>0</td>\n",
       "      <td>0</td>\n",
       "      <td>0</td>\n",
       "      <td>0</td>\n",
       "      <td>0</td>\n",
       "      <td>0</td>\n",
       "      <td>0</td>\n",
       "    </tr>\n",
       "    <tr>\n",
       "      <th>i22</th>\n",
       "      <td>0</td>\n",
       "      <td>0</td>\n",
       "      <td>0</td>\n",
       "      <td>0</td>\n",
       "      <td>0</td>\n",
       "      <td>0</td>\n",
       "      <td>1</td>\n",
       "      <td>-1</td>\n",
       "      <td>0</td>\n",
       "      <td>0</td>\n",
       "      <td>0</td>\n",
       "      <td>0</td>\n",
       "      <td>0</td>\n",
       "      <td>0</td>\n",
       "      <td>0</td>\n",
       "      <td>0</td>\n",
       "      <td>0</td>\n",
       "      <td>0</td>\n",
       "      <td>0</td>\n",
       "      <td>0</td>\n",
       "    </tr>\n",
       "    <tr>\n",
       "      <th>i23</th>\n",
       "      <td>0</td>\n",
       "      <td>0</td>\n",
       "      <td>0</td>\n",
       "      <td>0</td>\n",
       "      <td>0</td>\n",
       "      <td>0</td>\n",
       "      <td>0</td>\n",
       "      <td>0</td>\n",
       "      <td>1</td>\n",
       "      <td>-1</td>\n",
       "      <td>0</td>\n",
       "      <td>0</td>\n",
       "      <td>0</td>\n",
       "      <td>0</td>\n",
       "      <td>0</td>\n",
       "      <td>0</td>\n",
       "      <td>0</td>\n",
       "      <td>0</td>\n",
       "      <td>0</td>\n",
       "      <td>0</td>\n",
       "    </tr>\n",
       "    <tr>\n",
       "      <th>i24</th>\n",
       "      <td>0</td>\n",
       "      <td>0</td>\n",
       "      <td>0</td>\n",
       "      <td>0</td>\n",
       "      <td>0</td>\n",
       "      <td>0</td>\n",
       "      <td>0</td>\n",
       "      <td>1</td>\n",
       "      <td>0</td>\n",
       "      <td>1</td>\n",
       "      <td>-1</td>\n",
       "      <td>0</td>\n",
       "      <td>0</td>\n",
       "      <td>0</td>\n",
       "      <td>0</td>\n",
       "      <td>0</td>\n",
       "      <td>0</td>\n",
       "      <td>0</td>\n",
       "      <td>0</td>\n",
       "      <td>0</td>\n",
       "    </tr>\n",
       "    <tr>\n",
       "      <th>i25</th>\n",
       "      <td>0</td>\n",
       "      <td>0</td>\n",
       "      <td>0</td>\n",
       "      <td>0</td>\n",
       "      <td>0</td>\n",
       "      <td>0</td>\n",
       "      <td>0</td>\n",
       "      <td>0</td>\n",
       "      <td>0</td>\n",
       "      <td>0</td>\n",
       "      <td>1</td>\n",
       "      <td>-1</td>\n",
       "      <td>0</td>\n",
       "      <td>0</td>\n",
       "      <td>0</td>\n",
       "      <td>0</td>\n",
       "      <td>0</td>\n",
       "      <td>0</td>\n",
       "      <td>0</td>\n",
       "      <td>0</td>\n",
       "    </tr>\n",
       "    <tr>\n",
       "      <th>i26</th>\n",
       "      <td>0</td>\n",
       "      <td>0</td>\n",
       "      <td>0</td>\n",
       "      <td>0</td>\n",
       "      <td>0</td>\n",
       "      <td>0</td>\n",
       "      <td>0</td>\n",
       "      <td>0</td>\n",
       "      <td>0</td>\n",
       "      <td>0</td>\n",
       "      <td>0</td>\n",
       "      <td>1</td>\n",
       "      <td>-1</td>\n",
       "      <td>0</td>\n",
       "      <td>0</td>\n",
       "      <td>0</td>\n",
       "      <td>0</td>\n",
       "      <td>0</td>\n",
       "      <td>0</td>\n",
       "      <td>0</td>\n",
       "    </tr>\n",
       "    <tr>\n",
       "      <th>i27</th>\n",
       "      <td>0</td>\n",
       "      <td>0</td>\n",
       "      <td>0</td>\n",
       "      <td>0</td>\n",
       "      <td>0</td>\n",
       "      <td>0</td>\n",
       "      <td>0</td>\n",
       "      <td>0</td>\n",
       "      <td>0</td>\n",
       "      <td>0</td>\n",
       "      <td>0</td>\n",
       "      <td>0</td>\n",
       "      <td>1</td>\n",
       "      <td>-1</td>\n",
       "      <td>0</td>\n",
       "      <td>0</td>\n",
       "      <td>0</td>\n",
       "      <td>0</td>\n",
       "      <td>0</td>\n",
       "      <td>0</td>\n",
       "    </tr>\n",
       "    <tr>\n",
       "      <th>i28</th>\n",
       "      <td>0</td>\n",
       "      <td>0</td>\n",
       "      <td>0</td>\n",
       "      <td>0</td>\n",
       "      <td>0</td>\n",
       "      <td>0</td>\n",
       "      <td>0</td>\n",
       "      <td>0</td>\n",
       "      <td>0</td>\n",
       "      <td>0</td>\n",
       "      <td>0</td>\n",
       "      <td>0</td>\n",
       "      <td>0</td>\n",
       "      <td>1</td>\n",
       "      <td>-1</td>\n",
       "      <td>0</td>\n",
       "      <td>0</td>\n",
       "      <td>0</td>\n",
       "      <td>0</td>\n",
       "      <td>0</td>\n",
       "    </tr>\n",
       "    <tr>\n",
       "      <th>i29</th>\n",
       "      <td>0</td>\n",
       "      <td>0</td>\n",
       "      <td>0</td>\n",
       "      <td>0</td>\n",
       "      <td>0</td>\n",
       "      <td>0</td>\n",
       "      <td>0</td>\n",
       "      <td>0</td>\n",
       "      <td>0</td>\n",
       "      <td>0</td>\n",
       "      <td>0</td>\n",
       "      <td>0</td>\n",
       "      <td>0</td>\n",
       "      <td>0</td>\n",
       "      <td>1</td>\n",
       "      <td>-1</td>\n",
       "      <td>0</td>\n",
       "      <td>0</td>\n",
       "      <td>0</td>\n",
       "      <td>0</td>\n",
       "    </tr>\n",
       "    <tr>\n",
       "      <th>i35</th>\n",
       "      <td>0</td>\n",
       "      <td>0</td>\n",
       "      <td>0</td>\n",
       "      <td>0</td>\n",
       "      <td>0</td>\n",
       "      <td>0</td>\n",
       "      <td>0</td>\n",
       "      <td>0</td>\n",
       "      <td>0</td>\n",
       "      <td>0</td>\n",
       "      <td>0</td>\n",
       "      <td>0</td>\n",
       "      <td>0</td>\n",
       "      <td>0</td>\n",
       "      <td>0</td>\n",
       "      <td>0</td>\n",
       "      <td>0</td>\n",
       "      <td>0</td>\n",
       "      <td>1</td>\n",
       "      <td>-1</td>\n",
       "    </tr>\n",
       "    <tr>\n",
       "      <th>i38</th>\n",
       "      <td>0</td>\n",
       "      <td>0</td>\n",
       "      <td>0</td>\n",
       "      <td>0</td>\n",
       "      <td>0</td>\n",
       "      <td>0</td>\n",
       "      <td>0</td>\n",
       "      <td>0</td>\n",
       "      <td>0</td>\n",
       "      <td>0</td>\n",
       "      <td>0</td>\n",
       "      <td>0</td>\n",
       "      <td>0</td>\n",
       "      <td>0</td>\n",
       "      <td>0</td>\n",
       "      <td>0</td>\n",
       "      <td>1</td>\n",
       "      <td>-1</td>\n",
       "      <td>0</td>\n",
       "      <td>0</td>\n",
       "    </tr>\n",
       "    <tr>\n",
       "      <th>i39</th>\n",
       "      <td>0</td>\n",
       "      <td>0</td>\n",
       "      <td>0</td>\n",
       "      <td>0</td>\n",
       "      <td>0</td>\n",
       "      <td>0</td>\n",
       "      <td>0</td>\n",
       "      <td>0</td>\n",
       "      <td>0</td>\n",
       "      <td>0</td>\n",
       "      <td>0</td>\n",
       "      <td>0</td>\n",
       "      <td>0</td>\n",
       "      <td>0</td>\n",
       "      <td>0</td>\n",
       "      <td>0</td>\n",
       "      <td>0</td>\n",
       "      <td>1</td>\n",
       "      <td>-1</td>\n",
       "      <td>0</td>\n",
       "    </tr>\n",
       "    <tr>\n",
       "      <th>H2(g)</th>\n",
       "      <td>-1</td>\n",
       "      <td>0</td>\n",
       "      <td>0</td>\n",
       "      <td>-1</td>\n",
       "      <td>0</td>\n",
       "      <td>-1</td>\n",
       "      <td>0</td>\n",
       "      <td>0</td>\n",
       "      <td>0</td>\n",
       "      <td>0</td>\n",
       "      <td>-1</td>\n",
       "      <td>0</td>\n",
       "      <td>0</td>\n",
       "      <td>0</td>\n",
       "      <td>0</td>\n",
       "      <td>0</td>\n",
       "      <td>0</td>\n",
       "      <td>0</td>\n",
       "      <td>0</td>\n",
       "      <td>0</td>\n",
       "    </tr>\n",
       "    <tr>\n",
       "      <th>CO2(g)</th>\n",
       "      <td>0</td>\n",
       "      <td>-1</td>\n",
       "      <td>-1</td>\n",
       "      <td>0</td>\n",
       "      <td>0</td>\n",
       "      <td>0</td>\n",
       "      <td>0</td>\n",
       "      <td>0</td>\n",
       "      <td>0</td>\n",
       "      <td>0</td>\n",
       "      <td>0</td>\n",
       "      <td>0</td>\n",
       "      <td>0</td>\n",
       "      <td>0</td>\n",
       "      <td>0</td>\n",
       "      <td>0</td>\n",
       "      <td>0</td>\n",
       "      <td>0</td>\n",
       "      <td>0</td>\n",
       "      <td>0</td>\n",
       "    </tr>\n",
       "    <tr>\n",
       "      <th>H2O(g)</th>\n",
       "      <td>0</td>\n",
       "      <td>0</td>\n",
       "      <td>0</td>\n",
       "      <td>0</td>\n",
       "      <td>0</td>\n",
       "      <td>0</td>\n",
       "      <td>0</td>\n",
       "      <td>0</td>\n",
       "      <td>0</td>\n",
       "      <td>0</td>\n",
       "      <td>0</td>\n",
       "      <td>0</td>\n",
       "      <td>1</td>\n",
       "      <td>0</td>\n",
       "      <td>0</td>\n",
       "      <td>0</td>\n",
       "      <td>0</td>\n",
       "      <td>0</td>\n",
       "      <td>0</td>\n",
       "      <td>1</td>\n",
       "    </tr>\n",
       "    <tr>\n",
       "      <th>CH3OH(g)</th>\n",
       "      <td>0</td>\n",
       "      <td>0</td>\n",
       "      <td>0</td>\n",
       "      <td>0</td>\n",
       "      <td>0</td>\n",
       "      <td>0</td>\n",
       "      <td>0</td>\n",
       "      <td>0</td>\n",
       "      <td>0</td>\n",
       "      <td>0</td>\n",
       "      <td>0</td>\n",
       "      <td>0</td>\n",
       "      <td>0</td>\n",
       "      <td>0</td>\n",
       "      <td>0</td>\n",
       "      <td>1</td>\n",
       "      <td>0</td>\n",
       "      <td>0</td>\n",
       "      <td>0</td>\n",
       "      <td>0</td>\n",
       "    </tr>\n",
       "    <tr>\n",
       "      <th>CO(g)</th>\n",
       "      <td>0</td>\n",
       "      <td>0</td>\n",
       "      <td>0</td>\n",
       "      <td>0</td>\n",
       "      <td>0</td>\n",
       "      <td>0</td>\n",
       "      <td>0</td>\n",
       "      <td>0</td>\n",
       "      <td>0</td>\n",
       "      <td>0</td>\n",
       "      <td>0</td>\n",
       "      <td>0</td>\n",
       "      <td>0</td>\n",
       "      <td>0</td>\n",
       "      <td>0</td>\n",
       "      <td>0</td>\n",
       "      <td>0</td>\n",
       "      <td>0</td>\n",
       "      <td>1</td>\n",
       "      <td>0</td>\n",
       "    </tr>\n",
       "  </tbody>\n",
       "</table>\n",
       "</div>"
      ],
      "text/plain": [
       "          R1  R2  R3  R4  R5  R6  R7  R8  R9 R10 R11 R12 R13 R14 R15 R16 R17  \\\n",
       "         ads ads ads ads sur ads sur sur sur sur ads sur des sur sur des sur   \n",
       "species                                                                        \n",
       "i15       -1  -1   0   0   0   0   0   0   0   0   0   0   0   0   0   1   0   \n",
       "i16        1   0  -1   0   0   0   0   0   0   0   0   0   0   0   0   0   0   \n",
       "i17        0   1   0  -1   0   0   0   0   0   0   0   0   0   0   0   0   0   \n",
       "i18        0   0   1   1  -1   0   0   0   0   0   0   0   0   0   0   0  -1   \n",
       "i20        0   0   0   0   1  -1   0   0   0   0   0   0   0   0   0   0   0   \n",
       "i21        0   0   0   0   0   1  -1   0  -1   0   0   0   0   0   0   0   0   \n",
       "i22        0   0   0   0   0   0   1  -1   0   0   0   0   0   0   0   0   0   \n",
       "i23        0   0   0   0   0   0   0   0   1  -1   0   0   0   0   0   0   0   \n",
       "i24        0   0   0   0   0   0   0   1   0   1  -1   0   0   0   0   0   0   \n",
       "i25        0   0   0   0   0   0   0   0   0   0   1  -1   0   0   0   0   0   \n",
       "i26        0   0   0   0   0   0   0   0   0   0   0   1  -1   0   0   0   0   \n",
       "i27        0   0   0   0   0   0   0   0   0   0   0   0   1  -1   0   0   0   \n",
       "i28        0   0   0   0   0   0   0   0   0   0   0   0   0   1  -1   0   0   \n",
       "i29        0   0   0   0   0   0   0   0   0   0   0   0   0   0   1  -1   0   \n",
       "i35        0   0   0   0   0   0   0   0   0   0   0   0   0   0   0   0   0   \n",
       "i38        0   0   0   0   0   0   0   0   0   0   0   0   0   0   0   0   1   \n",
       "i39        0   0   0   0   0   0   0   0   0   0   0   0   0   0   0   0   0   \n",
       "H2(g)     -1   0   0  -1   0  -1   0   0   0   0  -1   0   0   0   0   0   0   \n",
       "CO2(g)     0  -1  -1   0   0   0   0   0   0   0   0   0   0   0   0   0   0   \n",
       "H2O(g)     0   0   0   0   0   0   0   0   0   0   0   0   1   0   0   0   0   \n",
       "CH3OH(g)   0   0   0   0   0   0   0   0   0   0   0   0   0   0   0   1   0   \n",
       "CO(g)      0   0   0   0   0   0   0   0   0   0   0   0   0   0   0   0   0   \n",
       "\n",
       "         R18 R19 R20  \n",
       "         sur des des  \n",
       "species               \n",
       "i15        0   0   1  \n",
       "i16        0   0   0  \n",
       "i17        0   0   0  \n",
       "i18        0   0   0  \n",
       "i20        0   0   0  \n",
       "i21        0   0   0  \n",
       "i22        0   0   0  \n",
       "i23        0   0   0  \n",
       "i24        0   0   0  \n",
       "i25        0   0   0  \n",
       "i26        0   0   0  \n",
       "i27        0   0   0  \n",
       "i28        0   0   0  \n",
       "i29        0   0   0  \n",
       "i35        0   1  -1  \n",
       "i38       -1   0   0  \n",
       "i39        1  -1   0  \n",
       "H2(g)      0   0   0  \n",
       "CO2(g)     0   0   0  \n",
       "H2O(g)     0   0   1  \n",
       "CH3OH(g)   0   0   0  \n",
       "CO(g)      0   1   0  "
      ]
     },
     "execution_count": 6,
     "metadata": {},
     "output_type": "execute_result"
    }
   ],
   "source": [
    "model.df_system"
   ]
  },
  {
   "cell_type": "code",
   "execution_count": 7,
   "id": "8cf10cd6",
   "metadata": {},
   "outputs": [
    {
     "data": {
      "text/plain": [
       "array([[ 0.5,  0.5],\n",
       "       [ 0.5,  0.5],\n",
       "       [ 0.5,  0.5],\n",
       "       [ 0.5,  0.5],\n",
       "       [ 1. , -0. ],\n",
       "       [ 1. ,  0. ],\n",
       "       [ 0.5,  0. ],\n",
       "       [ 0.5, -0. ],\n",
       "       [ 0.5,  0. ],\n",
       "       [ 0.5, -0. ],\n",
       "       [ 1. , -0. ],\n",
       "       [ 1. , -0. ],\n",
       "       [ 1. , -0. ],\n",
       "       [ 1. , -0. ],\n",
       "       [ 1. ,  0. ],\n",
       "       [ 1. , -0. ],\n",
       "       [ 0. ,  1. ],\n",
       "       [ 0. ,  1. ],\n",
       "       [ 0. ,  1. ],\n",
       "       [ 0. ,  1. ]])"
      ]
     },
     "execution_count": 7,
     "metadata": {},
     "output_type": "execute_result"
    }
   ],
   "source": [
    "model.stoich_numbers"
   ]
  },
  {
   "cell_type": "markdown",
   "id": "99d5d288",
   "metadata": {},
   "source": [
    "## Thermodynamic consistency analysis"
   ]
  },
  {
   "cell_type": "markdown",
   "id": "e1e1350e",
   "metadata": {},
   "source": [
    "A often overlooked aspect in microkinetic models is its thermodynamic consistency: although we are dealing with catalysis, a kinetic phenomenon, it is strictly bound to thermodynamic constraints. Currently, pymkm allows a quantitative estimation of thermodynamic consistency of microkinetic models: this is done comparing directly the equilibrium constants of the global reaction we are studying with the global constants built from the elementary reactions proposed in the reaction network. This can be easily done using the MKM.thermodynamic_consistency() method, that needs as input only the temperature at which we want to perform the analysis."
   ]
  },
  {
   "cell_type": "code",
   "execution_count": 8,
   "id": "9c80e8f7",
   "metadata": {},
   "outputs": [
    {
     "name": "stdout",
     "output_type": "stream",
     "text": [
      " Pd-In2O3: Thermodynamic consistency analysis\n",
      " Temperature = 553 K\n",
      "\n",
      "----------------------------------------------------------------------------------\n",
      "\n",
      "CO2 + 3H2 -> CH3OH + H2O\n",
      "Model:    DHR=-1.18e+02 kJ/mol    DSR=-2.77e-01 kJ/mol/K     DGR=1.47e+04 kJ/mol\n",
      "Database: DHR=-6.39e+01 kJ/mol    DSR=-2.04e-01 kJ/mol/K     DGR=4.87e+01 kJ/mol\n",
      "\n",
      "Model:    keqH=1.31e+11    keqS=3.23e-15    Keq=4.25e-04\n",
      "Database: keqH=1.09e+06    keqS=2.33e-11    Keq=2.53e-05\n",
      "----------------------------------------------------------------------------------\n",
      "\n",
      "CO2 + H2 -> CO + H2O\n",
      "Model:    DHR=6.85e+01 kJ/mol    DSR=1.92e-02 kJ/mol/K     DGR=-9.56e+02 kJ/mol\n",
      "Database: DHR=3.93e+01 kJ/mol    DSR=3.74e-02 kJ/mol/K     DGR=1.87e+01 kJ/mol\n",
      "\n",
      "Model:    keqH=3.38e-07    keqS=1.01e+01    Keq=3.40e-06\n",
      "Database: keqH=1.93e-04    keqS=8.99e+01    Keq=1.73e-02\n",
      "----------------------------------------------------------------------------------\n",
      "\n"
     ]
    }
   ],
   "source": [
    "model.thermodynamic_consistency(553)"
   ]
  },
  {
   "cell_type": "markdown",
   "id": "b7845251",
   "metadata": {},
   "source": [
    "It is easy to observe from the generated report that the model is not thermodynamically consistent, both at enthalpic and entropic level, as the equilibrium constants of the global reactions calculated with DFT are order of magnitude different from the values extracted from the thermochemistry database. However, considering the MeOH reaction, observing the equilibrium constant one could think the gap is not so huge: this is due to the fact that enthalpy and entropy constants compensate each pther in the opposite direction, \"canceling\" the discrepancy between database and DFT-derived equilibrium constants."
   ]
  },
  {
   "cell_type": "markdown",
   "id": "20b6cd5d",
   "metadata": {},
   "source": [
    "## Step 2: microkinetic model single run"
   ]
  },
  {
   "cell_type": "code",
   "execution_count": 9,
   "id": "3f04734c",
   "metadata": {},
   "outputs": [
    {
     "data": {
      "text/plain": [
       "{'MeOH': 15, 'RWGS': 18}"
      ]
     },
     "execution_count": 9,
     "metadata": {},
     "output_type": "execute_result"
    }
   ],
   "source": [
    "model.grl"
   ]
  },
  {
   "cell_type": "code",
   "execution_count": 10,
   "id": "385aad72",
   "metadata": {},
   "outputs": [
    {
     "name": "stdout",
     "output_type": "stream",
     "text": [
      "Pd-In2O3: Microkinetic run\n",
      "Reactor model: Differential PFR\n",
      "Temperature = 573K    Pressure = 50.0bar\n",
      "Gas composition: H2=80.0%  CO2=20.0%  H2O=0.0%  CH3OH=0.0%  CO=0.0%  \n",
      "\n",
      "MeOH Reaction Rate: 2.15e-01 1/s\n",
      "MeOH Selectivity: 90.42%\n",
      "Most Abundant Surface Intermediate (MASI): i21 Coverage: 86.23% \n",
      "CPU time: 10.11 s\n"
     ]
    }
   ],
   "source": [
    "exp2 = model.kinetic_run(573, 5e6, [0.8,0.2,0,0,0])"
   ]
  },
  {
   "cell_type": "code",
   "execution_count": 12,
   "id": "03bb7175",
   "metadata": {},
   "outputs": [
    {
     "name": "stdout",
     "output_type": "stream",
     "text": [
      "Pd-In2O3: Microkinetic run\n",
      "Reactor model: Differential PFR\n",
      "Temperature = 573K    Pressure = 50.0bar\n",
      "Gas composition: H2=80.0%  CO2=20.0%  H2O=0.0%  CH3OH=0.0%  CO=0.0%  \n",
      "\n",
      "MeOH Reaction Rate: 2.15e-01 1/s\n",
      "MeOH Selectivity: 90.42%\n",
      "Most Abundant Surface Intermediate (MASI): i21 Coverage: 86.23% \n",
      "CPU time: 9.27 s\n"
     ]
    }
   ],
   "source": [
    "exp = model.kinetic_run(573, 5e6, [0.8,0.2,0,0,0])"
   ]
  },
  {
   "cell_type": "code",
   "execution_count": 11,
   "id": "b8794618",
   "metadata": {},
   "outputs": [
    {
     "ename": "NameError",
     "evalue": "name 'exp' is not defined",
     "output_type": "error",
     "traceback": [
      "\u001b[0;31m---------------------------------------------------------------------------\u001b[0m",
      "\u001b[0;31mNameError\u001b[0m                                 Traceback (most recent call last)",
      "\u001b[0;32m/tmp/ipykernel_6597/3040320865.py\u001b[0m in \u001b[0;36m<module>\u001b[0;34m\u001b[0m\n\u001b[0;32m----> 1\u001b[0;31m \u001b[0mexp\u001b[0m\u001b[0;34m.\u001b[0m\u001b[0mkeys\u001b[0m\u001b[0;34m(\u001b[0m\u001b[0;34m)\u001b[0m\u001b[0;34m\u001b[0m\u001b[0;34m\u001b[0m\u001b[0m\n\u001b[0m",
      "\u001b[0;31mNameError\u001b[0m: name 'exp' is not defined"
     ]
    }
   ],
   "source": [
    "exp.keys()"
   ]
  },
  {
   "cell_type": "code",
   "execution_count": 12,
   "id": "ecd1339b",
   "metadata": {},
   "outputs": [
    {
     "data": {
      "text/plain": [
       "0.9042376667956817"
      ]
     },
     "execution_count": 12,
     "metadata": {},
     "output_type": "execute_result"
    }
   ],
   "source": [
    "exp[\"S_MeOH\"]"
   ]
  },
  {
   "cell_type": "code",
   "execution_count": 13,
   "id": "5f0b7a84",
   "metadata": {},
   "outputs": [
    {
     "data": {
      "text/plain": [
       "{'i15': 2.7755575615628914e-17,\n",
       " 'i16': 0.0,\n",
       " 'i17': -1.1316360175317453e-18,\n",
       " 'i18': 7.216449660063518e-16,\n",
       " 'i20': 1.6653345369377348e-16,\n",
       " 'i21': -4.3212017297733496e-11,\n",
       " 'i22': -6.072892189123991e-12,\n",
       " 'i23': 0.0,\n",
       " 'i24': 6.081257242565585e-12,\n",
       " 'i25': 4.276193288355046e-11,\n",
       " 'i26': -5.551115123125783e-17,\n",
       " 'i27': 1.3358758543802196e-13,\n",
       " 'i28': 3.0705993303570267e-13,\n",
       " 'i29': 0.0,\n",
       " 'i35': 3.469446951953614e-18,\n",
       " 'i38': 2.0816681711721685e-16,\n",
       " 'i39': 1.0408340855860843e-17,\n",
       " 'H2(g)': 0.0,\n",
       " 'CO2(g)': 0.0,\n",
       " 'H2O(g)': 0.0,\n",
       " 'CH3OH(g)': 0.0,\n",
       " 'CO(g)': 0.0}"
      ]
     },
     "execution_count": 13,
     "metadata": {},
     "output_type": "execute_result"
    }
   ],
   "source": [
    "exp[\"ddt\"]"
   ]
  },
  {
   "cell_type": "code",
   "execution_count": 14,
   "id": "357e69d3",
   "metadata": {},
   "outputs": [
    {
     "data": {
      "text/plain": [
       "0.02279930702011321"
      ]
     },
     "execution_count": 14,
     "metadata": {},
     "output_type": "execute_result"
    }
   ],
   "source": [
    "exp['r_RWGS']"
   ]
  },
  {
   "cell_type": "markdown",
   "id": "d652f8c1",
   "metadata": {},
   "source": [
    "## Step 3: Apparent activation energy"
   ]
  },
  {
   "cell_type": "code",
   "execution_count": 17,
   "id": "a91955b7",
   "metadata": {},
   "outputs": [
    {
     "data": {
      "text/plain": [
       "'differential'"
      ]
     },
     "execution_count": 17,
     "metadata": {},
     "output_type": "execute_result"
    }
   ],
   "source": [
    "model.reactor_model"
   ]
  },
  {
   "cell_type": "code",
   "execution_count": 14,
   "id": "fd5c51c9",
   "metadata": {
    "ExecuteTime": {
     "end_time": "2021-09-02T06:53:04.968336Z",
     "start_time": "2021-09-02T06:52:41.429818Z"
    }
   },
   "outputs": [
    {
     "name": "stdout",
     "output_type": "stream",
     "text": [
      "Pd-In2O3: Apparent activation energy for MeOH reaction\n",
      "\n",
      "Temperature range: 523-553K    Pressure = 50.0bar\n",
      "Gas composition: H2=80.0%  CO2=20.0%  H2O=0.0%  CH3OH=0.0%  CO=0.0%  \n",
      "\n",
      "Temperature = 523K    CPU Time: 9.77s\n",
      "Temperature = 543K    CPU Time: 10.08s\n",
      "Temperature = 563K    CPU Time: 10.00s\n"
     ]
    },
    {
     "ename": "ValueError",
     "evalue": "Expected 2D array, got 1D array instead:\narray=[0 0 0].\nReshape your data either using array.reshape(-1, 1) if your data has a single feature or array.reshape(1, -1) if it contains a single sample.",
     "output_type": "error",
     "traceback": [
      "\u001b[0;31m---------------------------------------------------------------------------\u001b[0m",
      "\u001b[0;31mValueError\u001b[0m                                Traceback (most recent call last)",
      "\u001b[0;32m/tmp/ipykernel_14329/3851355888.py\u001b[0m in \u001b[0;36m<module>\u001b[0;34m\u001b[0m\n\u001b[0;32m----> 1\u001b[0;31m \u001b[0mEapp\u001b[0m \u001b[0;34m=\u001b[0m \u001b[0mmodel\u001b[0m\u001b[0;34m.\u001b[0m\u001b[0mapparent_activation_energy\u001b[0m\u001b[0;34m(\u001b[0m\u001b[0;34m[\u001b[0m\u001b[0;36m523\u001b[0m\u001b[0;34m,\u001b[0m\u001b[0;36m573\u001b[0m\u001b[0;34m,\u001b[0m\u001b[0;36m20\u001b[0m\u001b[0;34m]\u001b[0m\u001b[0;34m,\u001b[0m \u001b[0;36m5e6\u001b[0m\u001b[0;34m,\u001b[0m \u001b[0;34m[\u001b[0m\u001b[0;36m0.8\u001b[0m\u001b[0;34m,\u001b[0m\u001b[0;36m0.2\u001b[0m\u001b[0;34m,\u001b[0m\u001b[0;36m0\u001b[0m\u001b[0;34m,\u001b[0m\u001b[0;36m0\u001b[0m\u001b[0;34m,\u001b[0m\u001b[0;36m0\u001b[0m\u001b[0;34m]\u001b[0m\u001b[0;34m,\u001b[0m \u001b[0;34m'MeOH'\u001b[0m\u001b[0;34m)\u001b[0m\u001b[0;34m\u001b[0m\u001b[0;34m\u001b[0m\u001b[0m\n\u001b[0m",
      "\u001b[0;32m~/Desktop/pymkm/pymkm/pymkm/mkm/Pd_In2O3_CPa/../mkm.py\u001b[0m in \u001b[0;36mapparent_activation_energy\u001b[0;34m(self, temp_range, pressure, gas_composition, global_reaction_label, initial_conditions)\u001b[0m\n\u001b[1;32m    575\u001b[0m             print('Temperature = {}K    CPU Time: {:.2f}s'.format(temperature_vector[i],\n\u001b[1;32m    576\u001b[0m                                                                   time.time() - t0))\n\u001b[0;32m--> 577\u001b[0;31m         \u001b[0meapp\u001b[0m\u001b[0;34m,\u001b[0m \u001b[0mr_squared\u001b[0m \u001b[0;34m=\u001b[0m \u001b[0mcalc_eapp\u001b[0m\u001b[0;34m(\u001b[0m\u001b[0mnp\u001b[0m\u001b[0;34m.\u001b[0m\u001b[0masarray\u001b[0m\u001b[0;34m(\u001b[0m\u001b[0mtemperature_vector\u001b[0m\u001b[0;34m)\u001b[0m\u001b[0;34m,\u001b[0m \u001b[0mr_ea\u001b[0m\u001b[0;34m)\u001b[0m\u001b[0;34m\u001b[0m\u001b[0;34m\u001b[0m\u001b[0m\n\u001b[0m\u001b[1;32m    578\u001b[0m         keys = ['Tmin',\n\u001b[1;32m    579\u001b[0m                 \u001b[0;34m'Tmax'\u001b[0m\u001b[0;34m,\u001b[0m\u001b[0;34m\u001b[0m\u001b[0;34m\u001b[0m\u001b[0m\n",
      "\u001b[0;32m~/Desktop/pymkm/pymkm/pymkm/mkm/Pd_In2O3_CPa/../functions.py\u001b[0m in \u001b[0;36mcalc_eapp\u001b[0;34m(temperature_vector, reaction_rate_vector)\u001b[0m\n\u001b[1;32m     87\u001b[0m     \u001b[0mx\u001b[0m \u001b[0;34m=\u001b[0m \u001b[0mnp\u001b[0m\u001b[0;34m.\u001b[0m\u001b[0mreciprocal\u001b[0m\u001b[0;34m(\u001b[0m\u001b[0mtemperature_vector\u001b[0m\u001b[0;34m)\u001b[0m\u001b[0;34m\u001b[0m\u001b[0;34m\u001b[0m\u001b[0m\n\u001b[1;32m     88\u001b[0m     \u001b[0my\u001b[0m \u001b[0;34m=\u001b[0m \u001b[0mnp\u001b[0m\u001b[0;34m.\u001b[0m\u001b[0mlog\u001b[0m\u001b[0;34m(\u001b[0m\u001b[0mreaction_rate_vector\u001b[0m\u001b[0;34m)\u001b[0m\u001b[0;34m\u001b[0m\u001b[0;34m\u001b[0m\u001b[0m\n\u001b[0;32m---> 89\u001b[0;31m     \u001b[0mreg\u001b[0m \u001b[0;34m=\u001b[0m \u001b[0mlm\u001b[0m\u001b[0;34m.\u001b[0m\u001b[0mfit\u001b[0m\u001b[0;34m(\u001b[0m\u001b[0mx\u001b[0m\u001b[0;34m,\u001b[0m \u001b[0my\u001b[0m\u001b[0;34m)\u001b[0m\u001b[0;34m\u001b[0m\u001b[0;34m\u001b[0m\u001b[0m\n\u001b[0m\u001b[1;32m     90\u001b[0m     \u001b[0mEapp\u001b[0m \u001b[0;34m=\u001b[0m \u001b[0;34m-\u001b[0m\u001b[0;34m(\u001b[0m\u001b[0mR\u001b[0m\u001b[0;34m/\u001b[0m\u001b[0;36m1000.0\u001b[0m\u001b[0;34m)\u001b[0m \u001b[0;34m*\u001b[0m \u001b[0mreg\u001b[0m\u001b[0;34m.\u001b[0m\u001b[0mcoef_\u001b[0m\u001b[0;34m[\u001b[0m\u001b[0;36m0\u001b[0m\u001b[0;34m,\u001b[0m \u001b[0;36m0\u001b[0m\u001b[0;34m]\u001b[0m  \u001b[0;31m# kJ/mol (typical unit of measure)\u001b[0m\u001b[0;34m\u001b[0m\u001b[0;34m\u001b[0m\u001b[0m\n\u001b[1;32m     91\u001b[0m     \u001b[0mR2\u001b[0m \u001b[0;34m=\u001b[0m \u001b[0mreg\u001b[0m\u001b[0;34m.\u001b[0m\u001b[0mscore\u001b[0m\u001b[0;34m(\u001b[0m\u001b[0mx\u001b[0m\u001b[0;34m,\u001b[0m \u001b[0my\u001b[0m\u001b[0;34m)\u001b[0m\u001b[0;34m\u001b[0m\u001b[0;34m\u001b[0m\u001b[0m\n",
      "\u001b[0;32m~/anaconda3/lib/python3.8/site-packages/sklearn/linear_model/_base.py\u001b[0m in \u001b[0;36mfit\u001b[0;34m(self, X, y, sample_weight)\u001b[0m\n\u001b[1;32m    660\u001b[0m         \u001b[0maccept_sparse\u001b[0m \u001b[0;34m=\u001b[0m \u001b[0;32mFalse\u001b[0m \u001b[0;32mif\u001b[0m \u001b[0mself\u001b[0m\u001b[0;34m.\u001b[0m\u001b[0mpositive\u001b[0m \u001b[0;32melse\u001b[0m \u001b[0;34m[\u001b[0m\u001b[0;34m\"csr\"\u001b[0m\u001b[0;34m,\u001b[0m \u001b[0;34m\"csc\"\u001b[0m\u001b[0;34m,\u001b[0m \u001b[0;34m\"coo\"\u001b[0m\u001b[0;34m]\u001b[0m\u001b[0;34m\u001b[0m\u001b[0;34m\u001b[0m\u001b[0m\n\u001b[1;32m    661\u001b[0m \u001b[0;34m\u001b[0m\u001b[0m\n\u001b[0;32m--> 662\u001b[0;31m         X, y = self._validate_data(\n\u001b[0m\u001b[1;32m    663\u001b[0m             \u001b[0mX\u001b[0m\u001b[0;34m,\u001b[0m \u001b[0my\u001b[0m\u001b[0;34m,\u001b[0m \u001b[0maccept_sparse\u001b[0m\u001b[0;34m=\u001b[0m\u001b[0maccept_sparse\u001b[0m\u001b[0;34m,\u001b[0m \u001b[0my_numeric\u001b[0m\u001b[0;34m=\u001b[0m\u001b[0;32mTrue\u001b[0m\u001b[0;34m,\u001b[0m \u001b[0mmulti_output\u001b[0m\u001b[0;34m=\u001b[0m\u001b[0;32mTrue\u001b[0m\u001b[0;34m\u001b[0m\u001b[0;34m\u001b[0m\u001b[0m\n\u001b[1;32m    664\u001b[0m         )\n",
      "\u001b[0;32m~/anaconda3/lib/python3.8/site-packages/sklearn/base.py\u001b[0m in \u001b[0;36m_validate_data\u001b[0;34m(self, X, y, reset, validate_separately, **check_params)\u001b[0m\n\u001b[1;32m    579\u001b[0m                 \u001b[0my\u001b[0m \u001b[0;34m=\u001b[0m \u001b[0mcheck_array\u001b[0m\u001b[0;34m(\u001b[0m\u001b[0my\u001b[0m\u001b[0;34m,\u001b[0m \u001b[0;34m**\u001b[0m\u001b[0mcheck_y_params\u001b[0m\u001b[0;34m)\u001b[0m\u001b[0;34m\u001b[0m\u001b[0;34m\u001b[0m\u001b[0m\n\u001b[1;32m    580\u001b[0m             \u001b[0;32melse\u001b[0m\u001b[0;34m:\u001b[0m\u001b[0;34m\u001b[0m\u001b[0;34m\u001b[0m\u001b[0m\n\u001b[0;32m--> 581\u001b[0;31m                 \u001b[0mX\u001b[0m\u001b[0;34m,\u001b[0m \u001b[0my\u001b[0m \u001b[0;34m=\u001b[0m \u001b[0mcheck_X_y\u001b[0m\u001b[0;34m(\u001b[0m\u001b[0mX\u001b[0m\u001b[0;34m,\u001b[0m \u001b[0my\u001b[0m\u001b[0;34m,\u001b[0m \u001b[0;34m**\u001b[0m\u001b[0mcheck_params\u001b[0m\u001b[0;34m)\u001b[0m\u001b[0;34m\u001b[0m\u001b[0;34m\u001b[0m\u001b[0m\n\u001b[0m\u001b[1;32m    582\u001b[0m             \u001b[0mout\u001b[0m \u001b[0;34m=\u001b[0m \u001b[0mX\u001b[0m\u001b[0;34m,\u001b[0m \u001b[0my\u001b[0m\u001b[0;34m\u001b[0m\u001b[0;34m\u001b[0m\u001b[0m\n\u001b[1;32m    583\u001b[0m \u001b[0;34m\u001b[0m\u001b[0m\n",
      "\u001b[0;32m~/anaconda3/lib/python3.8/site-packages/sklearn/utils/validation.py\u001b[0m in \u001b[0;36mcheck_X_y\u001b[0;34m(X, y, accept_sparse, accept_large_sparse, dtype, order, copy, force_all_finite, ensure_2d, allow_nd, multi_output, ensure_min_samples, ensure_min_features, y_numeric, estimator)\u001b[0m\n\u001b[1;32m    962\u001b[0m         \u001b[0;32mraise\u001b[0m \u001b[0mValueError\u001b[0m\u001b[0;34m(\u001b[0m\u001b[0;34m\"y cannot be None\"\u001b[0m\u001b[0;34m)\u001b[0m\u001b[0;34m\u001b[0m\u001b[0;34m\u001b[0m\u001b[0m\n\u001b[1;32m    963\u001b[0m \u001b[0;34m\u001b[0m\u001b[0m\n\u001b[0;32m--> 964\u001b[0;31m     X = check_array(\n\u001b[0m\u001b[1;32m    965\u001b[0m         \u001b[0mX\u001b[0m\u001b[0;34m,\u001b[0m\u001b[0;34m\u001b[0m\u001b[0;34m\u001b[0m\u001b[0m\n\u001b[1;32m    966\u001b[0m         \u001b[0maccept_sparse\u001b[0m\u001b[0;34m=\u001b[0m\u001b[0maccept_sparse\u001b[0m\u001b[0;34m,\u001b[0m\u001b[0;34m\u001b[0m\u001b[0;34m\u001b[0m\u001b[0m\n",
      "\u001b[0;32m~/anaconda3/lib/python3.8/site-packages/sklearn/utils/validation.py\u001b[0m in \u001b[0;36mcheck_array\u001b[0;34m(array, accept_sparse, accept_large_sparse, dtype, order, copy, force_all_finite, ensure_2d, allow_nd, ensure_min_samples, ensure_min_features, estimator)\u001b[0m\n\u001b[1;32m    767\u001b[0m             \u001b[0;31m# If input is 1D raise error\u001b[0m\u001b[0;34m\u001b[0m\u001b[0;34m\u001b[0m\u001b[0;34m\u001b[0m\u001b[0m\n\u001b[1;32m    768\u001b[0m             \u001b[0;32mif\u001b[0m \u001b[0marray\u001b[0m\u001b[0;34m.\u001b[0m\u001b[0mndim\u001b[0m \u001b[0;34m==\u001b[0m \u001b[0;36m1\u001b[0m\u001b[0;34m:\u001b[0m\u001b[0;34m\u001b[0m\u001b[0;34m\u001b[0m\u001b[0m\n\u001b[0;32m--> 769\u001b[0;31m                 raise ValueError(\n\u001b[0m\u001b[1;32m    770\u001b[0m                     \u001b[0;34m\"Expected 2D array, got 1D array instead:\\narray={}.\\n\"\u001b[0m\u001b[0;34m\u001b[0m\u001b[0;34m\u001b[0m\u001b[0m\n\u001b[1;32m    771\u001b[0m                     \u001b[0;34m\"Reshape your data either using array.reshape(-1, 1) if \"\u001b[0m\u001b[0;34m\u001b[0m\u001b[0;34m\u001b[0m\u001b[0m\n",
      "\u001b[0;31mValueError\u001b[0m: Expected 2D array, got 1D array instead:\narray=[0 0 0].\nReshape your data either using array.reshape(-1, 1) if your data has a single feature or array.reshape(1, -1) if it contains a single sample."
     ]
    }
   ],
   "source": [
    "Eapp = model.apparent_activation_energy([523,573,20], 5e6, [0.8,0.2,0,0,0], 'MeOH')"
   ]
  },
  {
   "cell_type": "code",
   "execution_count": null,
   "id": "9bea2b14",
   "metadata": {},
   "outputs": [],
   "source": [
    "print(Eapp)"
   ]
  },
  {
   "cell_type": "markdown",
   "id": "8055273d",
   "metadata": {},
   "source": [
    "## Step 4: Apparent reaction orders"
   ]
  },
  {
   "cell_type": "code",
   "execution_count": 15,
   "id": "d4864c95",
   "metadata": {
    "ExecuteTime": {
     "end_time": "2021-09-02T06:57:26.071397Z",
     "start_time": "2021-09-02T06:57:26.068916Z"
    }
   },
   "outputs": [],
   "source": [
    "import numpy as np\n",
    "composition_matrix = np.array([[0.78,0.22,0,0,0],[0.8,0.2,0,0,0],[0.82,0.18,0,0,0]])"
   ]
  },
  {
   "cell_type": "code",
   "execution_count": 16,
   "id": "aae6fc4b",
   "metadata": {
    "ExecuteTime": {
     "end_time": "2021-09-02T07:01:19.179307Z",
     "start_time": "2021-09-02T07:00:55.662946Z"
    }
   },
   "outputs": [
    {
     "name": "stdout",
     "output_type": "stream",
     "text": [
      "Pd-In2O3: CO2 Apparent reaction order for MeOH reaction\n",
      "\n",
      "Temperature = 573K    Pressure = 50.0bar\n",
      "\n",
      "y_CO2 = 0.22    CPU Time: 4.79s\n",
      "y_CO2 = 0.20    CPU Time: 4.58s\n",
      "y_CO2 = 0.18    CPU Time: 5.17s\n"
     ]
    },
    {
     "data": {
      "image/png": "[encoded data removed]",
      "text/plain": [
       "<Figure size 3000x2000 with 1 Axes>"
      ]
     },
     "metadata": {
      "needs_background": "light"
     },
     "output_type": "display_data"
    }
   ],
   "source": [
    "napp_H2 = model.apparent_reaction_order(573, 5e6, composition_matrix, 'CO2', 'MeOH')"
   ]
  },
  {
   "cell_type": "code",
   "execution_count": 12,
   "id": "4d639642",
   "metadata": {},
   "outputs": [
    {
     "data": {
      "text/plain": [
       "{'T': 573,\n",
       " 'P': 50.0,\n",
       " 'N': 3,\n",
       " 'y_CO2': array([0.22, 0.2 , 0.18]),\n",
       " 'r_MeOH': array([[0.21478625],\n",
       "        [0.21528289],\n",
       "        [0.21575744]]),\n",
       " 'napp_CO2': -0.022454253809748245,\n",
       " 'R2': 0.9981786707208736}"
      ]
     },
     "execution_count": 12,
     "metadata": {},
     "output_type": "execute_result"
    }
   ],
   "source": [
    "napp_H2"
   ]
  },
  {
   "cell_type": "markdown",
   "id": "b7a1f82b",
   "metadata": {},
   "source": [
    "## Descriptor search: Reversibility analysis"
   ]
  },
  {
   "cell_type": "code",
   "execution_count": 17,
   "id": "37f04c64",
   "metadata": {},
   "outputs": [
    {
     "name": "stdout",
     "output_type": "stream",
     "text": [
      "Pd-In2O3: Reversibility analysis\n",
      "Temperature = 573K    Pressure = 50.0bar\n",
      "Gas composition: H2=80.0%  CO2=20.0%  H2O=0.0%  CH3OH=0.0%  CO=0.0%  \n"
     ]
    }
   ],
   "source": [
    "rev = model.reversibility(573, 5e6, [0.8,0.2,0,0,0])"
   ]
  },
  {
   "cell_type": "code",
   "execution_count": 18,
   "id": "0a16c0ea",
   "metadata": {},
   "outputs": [
    {
     "data": {
      "text/html": [
       "<style type=\"text/css\">\n",
       "#T_ac0ea_row2_col0, #T_ac0ea_row5_col0, #T_ac0ea_row6_col0, #T_ac0ea_row8_col0, #T_ac0ea_row9_col0, #T_ac0ea_row11_col0, #T_ac0ea_row14_col0, #T_ac0ea_row16_col0, #T_ac0ea_row17_col0 {\n",
       "  color: red;\n",
       "}\n",
       "</style>\n",
       "<table id=\"T_ac0ea_\">\n",
       "  <thead>\n",
       "    <tr>\n",
       "      <th class=\"blank level0\" >&nbsp;</th>\n",
       "      <th class=\"col_heading level0 col0\" >Reversibility [-]</th>\n",
       "    </tr>\n",
       "  </thead>\n",
       "  <tbody>\n",
       "    <tr>\n",
       "      <th id=\"T_ac0ea_level0_row0\" class=\"row_heading level0 row0\" >R1</th>\n",
       "      <td id=\"T_ac0ea_row0_col0\" class=\"data row0 col0\" >0.00</td>\n",
       "    </tr>\n",
       "    <tr>\n",
       "      <th id=\"T_ac0ea_level0_row1\" class=\"row_heading level0 row1\" >R2</th>\n",
       "      <td id=\"T_ac0ea_row1_col0\" class=\"data row1 col0\" >0.00</td>\n",
       "    </tr>\n",
       "    <tr>\n",
       "      <th id=\"T_ac0ea_level0_row2\" class=\"row_heading level0 row2\" >R3</th>\n",
       "      <td id=\"T_ac0ea_row2_col0\" class=\"data row2 col0\" >0.02</td>\n",
       "    </tr>\n",
       "    <tr>\n",
       "      <th id=\"T_ac0ea_level0_row3\" class=\"row_heading level0 row3\" >R4</th>\n",
       "      <td id=\"T_ac0ea_row3_col0\" class=\"data row3 col0\" >1.00</td>\n",
       "    </tr>\n",
       "    <tr>\n",
       "      <th id=\"T_ac0ea_level0_row4\" class=\"row_heading level0 row4\" >R5</th>\n",
       "      <td id=\"T_ac0ea_row4_col0\" class=\"data row4 col0\" >0.00</td>\n",
       "    </tr>\n",
       "    <tr>\n",
       "      <th id=\"T_ac0ea_level0_row5\" class=\"row_heading level0 row5\" >R6</th>\n",
       "      <td id=\"T_ac0ea_row5_col0\" class=\"data row5 col0\" >0.88</td>\n",
       "    </tr>\n",
       "    <tr>\n",
       "      <th id=\"T_ac0ea_level0_row6\" class=\"row_heading level0 row6\" >R7</th>\n",
       "      <td id=\"T_ac0ea_row6_col0\" class=\"data row6 col0\" >0.10</td>\n",
       "    </tr>\n",
       "    <tr>\n",
       "      <th id=\"T_ac0ea_level0_row7\" class=\"row_heading level0 row7\" >R8</th>\n",
       "      <td id=\"T_ac0ea_row7_col0\" class=\"data row7 col0\" >1.00</td>\n",
       "    </tr>\n",
       "    <tr>\n",
       "      <th id=\"T_ac0ea_level0_row8\" class=\"row_heading level0 row8\" >R9</th>\n",
       "      <td id=\"T_ac0ea_row8_col0\" class=\"data row8 col0\" >0.55</td>\n",
       "    </tr>\n",
       "    <tr>\n",
       "      <th id=\"T_ac0ea_level0_row9\" class=\"row_heading level0 row9\" >R10</th>\n",
       "      <td id=\"T_ac0ea_row9_col0\" class=\"data row9 col0\" >0.19</td>\n",
       "    </tr>\n",
       "    <tr>\n",
       "      <th id=\"T_ac0ea_level0_row10\" class=\"row_heading level0 row10\" >R11</th>\n",
       "      <td id=\"T_ac0ea_row10_col0\" class=\"data row10 col0\" >1.00</td>\n",
       "    </tr>\n",
       "    <tr>\n",
       "      <th id=\"T_ac0ea_level0_row11\" class=\"row_heading level0 row11\" >R12</th>\n",
       "      <td id=\"T_ac0ea_row11_col0\" class=\"data row11 col0\" >0.50</td>\n",
       "    </tr>\n",
       "    <tr>\n",
       "      <th id=\"T_ac0ea_level0_row12\" class=\"row_heading level0 row12\" >R13</th>\n",
       "      <td id=\"T_ac0ea_row12_col0\" class=\"data row12 col0\" >0.00</td>\n",
       "    </tr>\n",
       "    <tr>\n",
       "      <th id=\"T_ac0ea_level0_row13\" class=\"row_heading level0 row13\" >R14</th>\n",
       "      <td id=\"T_ac0ea_row13_col0\" class=\"data row13 col0\" >1.00</td>\n",
       "    </tr>\n",
       "    <tr>\n",
       "      <th id=\"T_ac0ea_level0_row14\" class=\"row_heading level0 row14\" >R15</th>\n",
       "      <td id=\"T_ac0ea_row14_col0\" class=\"data row14 col0\" >0.50</td>\n",
       "    </tr>\n",
       "    <tr>\n",
       "      <th id=\"T_ac0ea_level0_row15\" class=\"row_heading level0 row15\" >R16</th>\n",
       "      <td id=\"T_ac0ea_row15_col0\" class=\"data row15 col0\" >0.00</td>\n",
       "    </tr>\n",
       "    <tr>\n",
       "      <th id=\"T_ac0ea_level0_row16\" class=\"row_heading level0 row16\" >R17</th>\n",
       "      <td id=\"T_ac0ea_row16_col0\" class=\"data row16 col0\" >0.02</td>\n",
       "    </tr>\n",
       "    <tr>\n",
       "      <th id=\"T_ac0ea_level0_row17\" class=\"row_heading level0 row17\" >R18</th>\n",
       "      <td id=\"T_ac0ea_row17_col0\" class=\"data row17 col0\" >0.01</td>\n",
       "    </tr>\n",
       "    <tr>\n",
       "      <th id=\"T_ac0ea_level0_row18\" class=\"row_heading level0 row18\" >R19</th>\n",
       "      <td id=\"T_ac0ea_row18_col0\" class=\"data row18 col0\" >0.00</td>\n",
       "    </tr>\n",
       "    <tr>\n",
       "      <th id=\"T_ac0ea_level0_row19\" class=\"row_heading level0 row19\" >R20</th>\n",
       "      <td id=\"T_ac0ea_row19_col0\" class=\"data row19 col0\" >0.00</td>\n",
       "    </tr>\n",
       "  </tbody>\n",
       "</table>\n"
      ],
      "text/plain": [
       "<pandas.io.formats.style.Styler at 0x7f46d2380c10>"
      ]
     },
     "execution_count": 18,
     "metadata": {},
     "output_type": "execute_result"
    }
   ],
   "source": [
    "rev"
   ]
  },
  {
   "cell_type": "markdown",
   "id": "02ce8243",
   "metadata": {},
   "source": [
    "## Rate-determining step search: Degree of rate and selectivity control"
   ]
  },
  {
   "cell_type": "code",
   "execution_count": 15,
   "id": "84a26c69",
   "metadata": {},
   "outputs": [
    {
     "name": "stdout",
     "output_type": "stream",
     "text": [
      "Pd-In2O3: Full DRC and DSC analysis wrt MeOH global reaction\n",
      "Temperature = 573K    Pressure = 50.0bar\n",
      "Gas composition: H2=80.0%  CO2=20.0%  H2O=0.0%  CH3OH=0.0%  CO=0.0%  \n",
      "\n",
      "R1\n",
      "DRC = 0.00\n",
      "\n",
      "R2\n",
      "DRC = -0.00\n",
      "\n",
      "R3\n",
      "DRC = 0.00\n",
      "\n",
      "R4\n",
      "DRC = -0.00\n",
      "\n",
      "R5\n",
      "DRC = 0.00\n",
      "\n",
      "R6\n",
      "DRC = -0.00\n",
      "\n",
      "R7\n",
      "DRC = 0.77\n",
      "\n",
      "R8\n",
      "DRC = 0.00\n",
      "\n",
      "R9\n",
      "DRC = 0.00\n",
      "\n",
      "R10\n",
      "DRC = 0.00\n",
      "\n",
      "R11\n",
      "DRC = 0.00\n",
      "\n",
      "R12\n",
      "DRC = 0.11\n",
      "\n",
      "R13\n",
      "DRC = 0.11\n",
      "\n",
      "R14\n",
      "DRC = 0.00\n",
      "\n",
      "R15\n",
      "DRC = 0.00\n",
      "\n",
      "R16\n",
      "DRC = 0.00\n",
      "\n",
      "R17\n",
      "DRC = -0.00\n",
      "\n",
      "R18\n",
      "DRC = 0.00\n",
      "\n",
      "R19\n",
      "DRC = 0.00\n",
      "\n",
      "R20\n",
      "DRC = -0.00\n",
      "\n",
      "i15\n",
      "DRC = 0.00\n",
      "\n",
      "i16\n",
      "DRC = -0.00\n",
      "\n",
      "i17\n",
      "DRC = -0.00\n",
      "\n",
      "i18\n",
      "DRC = -0.00\n",
      "\n",
      "i20\n",
      "DRC = 0.00\n",
      "\n",
      "i21\n",
      "DRC = -0.86\n",
      "\n",
      "i22\n",
      "DRC = -0.00\n",
      "\n",
      "i23\n",
      "DRC = 0.00\n",
      "\n",
      "i24\n",
      "DRC = 0.00\n",
      "\n",
      "i25\n",
      "DRC = -0.14\n",
      "\n",
      "i26\n",
      "DRC = 0.23\n",
      "\n",
      "i27\n",
      "DRC = -0.00\n",
      "\n",
      "i28\n",
      "DRC = -0.00\n",
      "\n",
      "i29\n",
      "DRC = 0.00\n",
      "\n",
      "i35\n",
      "DRC = 0.00\n",
      "\n",
      "i38\n",
      "DRC = -0.00\n",
      "\n",
      "i39\n",
      "DRC = -0.00\n"
     ]
    }
   ],
   "source": [
    "output = model.drc_full(573, 5e6, [0.8,0.2,0,0,0], \"MeOH\")"
   ]
  },
  {
   "cell_type": "code",
   "execution_count": 18,
   "id": "06ff9209",
   "metadata": {},
   "outputs": [
    {
     "data": {
      "text/html": [
       "<style type=\"text/css\">\n",
       "#T_59a12_row0_col0, #T_59a12_row0_col1, #T_59a12_row1_col0, #T_59a12_row1_col1, #T_59a12_row2_col0, #T_59a12_row2_col1, #T_59a12_row3_col0, #T_59a12_row3_col1, #T_59a12_row4_col0, #T_59a12_row5_col0, #T_59a12_row5_col1, #T_59a12_row6_col1, #T_59a12_row7_col0, #T_59a12_row7_col1, #T_59a12_row8_col0, #T_59a12_row8_col1, #T_59a12_row9_col0, #T_59a12_row9_col1, #T_59a12_row10_col0, #T_59a12_row10_col1, #T_59a12_row11_col1, #T_59a12_row12_col1, #T_59a12_row13_col0, #T_59a12_row13_col1, #T_59a12_row14_col0, #T_59a12_row14_col1, #T_59a12_row15_col0, #T_59a12_row15_col1, #T_59a12_row16_col0, #T_59a12_row17_col0, #T_59a12_row17_col1, #T_59a12_row18_col0, #T_59a12_row18_col1, #T_59a12_row19_col0, #T_59a12_row19_col1 {\n",
       "  opacity: 50%;\n",
       "}\n",
       "#T_59a12_row4_col1, #T_59a12_row6_col0, #T_59a12_row11_col0, #T_59a12_row12_col0, #T_59a12_row16_col1 {\n",
       "  color: red;\n",
       "}\n",
       "</style>\n",
       "<table id=\"T_59a12_\">\n",
       "  <thead>\n",
       "    <tr>\n",
       "      <th class=\"blank level0\" >&nbsp;</th>\n",
       "      <th class=\"col_heading level0 col0\" >DRC</th>\n",
       "      <th class=\"col_heading level0 col1\" >DSC</th>\n",
       "    </tr>\n",
       "  </thead>\n",
       "  <tbody>\n",
       "    <tr>\n",
       "      <th id=\"T_59a12_level0_row0\" class=\"row_heading level0 row0\" >R1</th>\n",
       "      <td id=\"T_59a12_row0_col0\" class=\"data row0 col0\" >0.00</td>\n",
       "      <td id=\"T_59a12_row0_col1\" class=\"data row0 col1\" >-0.00</td>\n",
       "    </tr>\n",
       "    <tr>\n",
       "      <th id=\"T_59a12_level0_row1\" class=\"row_heading level0 row1\" >R2</th>\n",
       "      <td id=\"T_59a12_row1_col0\" class=\"data row1 col0\" >-0.00</td>\n",
       "      <td id=\"T_59a12_row1_col1\" class=\"data row1 col1\" >-0.00</td>\n",
       "    </tr>\n",
       "    <tr>\n",
       "      <th id=\"T_59a12_level0_row2\" class=\"row_heading level0 row2\" >R3</th>\n",
       "      <td id=\"T_59a12_row2_col0\" class=\"data row2 col0\" >0.00</td>\n",
       "      <td id=\"T_59a12_row2_col1\" class=\"data row2 col1\" >-0.00</td>\n",
       "    </tr>\n",
       "    <tr>\n",
       "      <th id=\"T_59a12_level0_row3\" class=\"row_heading level0 row3\" >R4</th>\n",
       "      <td id=\"T_59a12_row3_col0\" class=\"data row3 col0\" >-0.00</td>\n",
       "      <td id=\"T_59a12_row3_col1\" class=\"data row3 col1\" >-0.00</td>\n",
       "    </tr>\n",
       "    <tr>\n",
       "      <th id=\"T_59a12_level0_row4\" class=\"row_heading level0 row4\" >R5</th>\n",
       "      <td id=\"T_59a12_row4_col0\" class=\"data row4 col0\" >0.00</td>\n",
       "      <td id=\"T_59a12_row4_col1\" class=\"data row4 col1\" >0.10</td>\n",
       "    </tr>\n",
       "    <tr>\n",
       "      <th id=\"T_59a12_level0_row5\" class=\"row_heading level0 row5\" >R6</th>\n",
       "      <td id=\"T_59a12_row5_col0\" class=\"data row5 col0\" >-0.00</td>\n",
       "      <td id=\"T_59a12_row5_col1\" class=\"data row5 col1\" >0.00</td>\n",
       "    </tr>\n",
       "    <tr>\n",
       "      <th id=\"T_59a12_level0_row6\" class=\"row_heading level0 row6\" >R7</th>\n",
       "      <td id=\"T_59a12_row6_col0\" class=\"data row6 col0\" >0.77</td>\n",
       "      <td id=\"T_59a12_row6_col1\" class=\"data row6 col1\" >0.00</td>\n",
       "    </tr>\n",
       "    <tr>\n",
       "      <th id=\"T_59a12_level0_row7\" class=\"row_heading level0 row7\" >R8</th>\n",
       "      <td id=\"T_59a12_row7_col0\" class=\"data row7 col0\" >0.00</td>\n",
       "      <td id=\"T_59a12_row7_col1\" class=\"data row7 col1\" >-0.00</td>\n",
       "    </tr>\n",
       "    <tr>\n",
       "      <th id=\"T_59a12_level0_row8\" class=\"row_heading level0 row8\" >R9</th>\n",
       "      <td id=\"T_59a12_row8_col0\" class=\"data row8 col0\" >0.00</td>\n",
       "      <td id=\"T_59a12_row8_col1\" class=\"data row8 col1\" >-0.00</td>\n",
       "    </tr>\n",
       "    <tr>\n",
       "      <th id=\"T_59a12_level0_row9\" class=\"row_heading level0 row9\" >R10</th>\n",
       "      <td id=\"T_59a12_row9_col0\" class=\"data row9 col0\" >0.00</td>\n",
       "      <td id=\"T_59a12_row9_col1\" class=\"data row9 col1\" >0.00</td>\n",
       "    </tr>\n",
       "    <tr>\n",
       "      <th id=\"T_59a12_level0_row10\" class=\"row_heading level0 row10\" >R11</th>\n",
       "      <td id=\"T_59a12_row10_col0\" class=\"data row10 col0\" >0.00</td>\n",
       "      <td id=\"T_59a12_row10_col1\" class=\"data row10 col1\" >-0.00</td>\n",
       "    </tr>\n",
       "    <tr>\n",
       "      <th id=\"T_59a12_level0_row11\" class=\"row_heading level0 row11\" >R12</th>\n",
       "      <td id=\"T_59a12_row11_col0\" class=\"data row11 col0\" >0.11</td>\n",
       "      <td id=\"T_59a12_row11_col1\" class=\"data row11 col1\" >0.00</td>\n",
       "    </tr>\n",
       "    <tr>\n",
       "      <th id=\"T_59a12_level0_row12\" class=\"row_heading level0 row12\" >R13</th>\n",
       "      <td id=\"T_59a12_row12_col0\" class=\"data row12 col0\" >0.11</td>\n",
       "      <td id=\"T_59a12_row12_col1\" class=\"data row12 col1\" >0.00</td>\n",
       "    </tr>\n",
       "    <tr>\n",
       "      <th id=\"T_59a12_level0_row13\" class=\"row_heading level0 row13\" >R14</th>\n",
       "      <td id=\"T_59a12_row13_col0\" class=\"data row13 col0\" >0.00</td>\n",
       "      <td id=\"T_59a12_row13_col1\" class=\"data row13 col1\" >-0.00</td>\n",
       "    </tr>\n",
       "    <tr>\n",
       "      <th id=\"T_59a12_level0_row14\" class=\"row_heading level0 row14\" >R15</th>\n",
       "      <td id=\"T_59a12_row14_col0\" class=\"data row14 col0\" >0.00</td>\n",
       "      <td id=\"T_59a12_row14_col1\" class=\"data row14 col1\" >-0.00</td>\n",
       "    </tr>\n",
       "    <tr>\n",
       "      <th id=\"T_59a12_level0_row15\" class=\"row_heading level0 row15\" >R16</th>\n",
       "      <td id=\"T_59a12_row15_col0\" class=\"data row15 col0\" >0.00</td>\n",
       "      <td id=\"T_59a12_row15_col1\" class=\"data row15 col1\" >-0.00</td>\n",
       "    </tr>\n",
       "    <tr>\n",
       "      <th id=\"T_59a12_level0_row16\" class=\"row_heading level0 row16\" >R17</th>\n",
       "      <td id=\"T_59a12_row16_col0\" class=\"data row16 col0\" >-0.00</td>\n",
       "      <td id=\"T_59a12_row16_col1\" class=\"data row16 col1\" >-0.09</td>\n",
       "    </tr>\n",
       "    <tr>\n",
       "      <th id=\"T_59a12_level0_row17\" class=\"row_heading level0 row17\" >R18</th>\n",
       "      <td id=\"T_59a12_row17_col0\" class=\"data row17 col0\" >0.00</td>\n",
       "      <td id=\"T_59a12_row17_col1\" class=\"data row17 col1\" >-0.00</td>\n",
       "    </tr>\n",
       "    <tr>\n",
       "      <th id=\"T_59a12_level0_row18\" class=\"row_heading level0 row18\" >R19</th>\n",
       "      <td id=\"T_59a12_row18_col0\" class=\"data row18 col0\" >0.00</td>\n",
       "      <td id=\"T_59a12_row18_col1\" class=\"data row18 col1\" >-0.00</td>\n",
       "    </tr>\n",
       "    <tr>\n",
       "      <th id=\"T_59a12_level0_row19\" class=\"row_heading level0 row19\" >R20</th>\n",
       "      <td id=\"T_59a12_row19_col0\" class=\"data row19 col0\" >-0.00</td>\n",
       "      <td id=\"T_59a12_row19_col1\" class=\"data row19 col1\" >-0.00</td>\n",
       "    </tr>\n",
       "  </tbody>\n",
       "</table>\n"
      ],
      "text/plain": [
       "<pandas.io.formats.style.Styler at 0x7f0d01e52400>"
      ]
     },
     "execution_count": 18,
     "metadata": {},
     "output_type": "execute_result"
    }
   ],
   "source": [
    "output[0]"
   ]
  },
  {
   "cell_type": "markdown",
   "id": "7abd2da5",
   "metadata": {},
   "source": [
    "# Dynamic CSTR"
   ]
  },
  {
   "cell_type": "markdown",
   "id": "4b1c2134",
   "metadata": {},
   "source": [
    "If someone is interested in extracting also values related to conversion and yield, the differential model is not suitable for the purpose. In order to obtain this information, a macroscopic reactor model (i.e., able to provide information about the conversion) is needed. MKM provides the dynamic CSTR model as macroscopic model. In order to use it, the reactor switch must be turned on and information about the reactor set-up must be defined."
   ]
  },
  {
   "cell_type": "code",
   "execution_count": 19,
   "id": "12b2aa8d",
   "metadata": {},
   "outputs": [
    {
     "name": "stdout",
     "output_type": "stream",
     "text": [
      "Reactor volume: 3.35e-07 [m3]\n",
      "Inlet volumetric flowrate : 6.60e-07 [m3/s]\n",
      "Residence time: 5.07e-01 [s]\n",
      "Catalyst mass: 1.00e-04 [kg]\n",
      "Catalyst surface: 1.74e+05 [m2/kg_cat]\n",
      "Active site surface: 1.00e-19 [m2]\n"
     ]
    }
   ],
   "source": [
    "model.set_reactor('dynamic')\n",
    "model.set_CSTR_params(radius=0.0022,\n",
    "                      length=0.0022*10,\n",
    "                      Q=0.66E-6,\n",
    "                      S_BET=1.74E5,\n",
    "                      m_cat=1.0E-4)"
   ]
  },
  {
   "cell_type": "code",
   "execution_count": 22,
   "id": "446660bd",
   "metadata": {},
   "outputs": [
    {
     "name": "stdout",
     "output_type": "stream",
     "text": [
      "Pd-In2O3: Microkinetic run\n",
      "Reactor model: Dynamic CSTR\n",
      "Temperature = 553K    Pressure = 50.0bar\n",
      "Gas composition: H2=80.0%  CO2=20.0%  H2O=0.0%  CH3OH=0.0%  CO=0.0%  \n"
     ]
    },
    {
     "ename": "AttributeError",
     "evalue": "'MKM' object has no attribute 'kincos_calc'",
     "output_type": "error",
     "traceback": [
      "\u001b[0;31m---------------------------------------------------------------------------\u001b[0m",
      "\u001b[0;31mAttributeError\u001b[0m                            Traceback (most recent call last)",
      "\u001b[0;32m/tmp/ipykernel_28938/94987578.py\u001b[0m in \u001b[0;36m<module>\u001b[0;34m\u001b[0m\n\u001b[0;32m----> 1\u001b[0;31m \u001b[0mx\u001b[0m \u001b[0;34m=\u001b[0m \u001b[0mmodel\u001b[0m\u001b[0;34m.\u001b[0m\u001b[0mkinetic_run\u001b[0m\u001b[0;34m(\u001b[0m\u001b[0;36m553\u001b[0m\u001b[0;34m,\u001b[0m \u001b[0;36m5e6\u001b[0m\u001b[0;34m,\u001b[0m \u001b[0;34m[\u001b[0m\u001b[0;36m0.8\u001b[0m\u001b[0;34m,\u001b[0m\u001b[0;36m0.2\u001b[0m\u001b[0;34m,\u001b[0m\u001b[0;36m0\u001b[0m\u001b[0;34m,\u001b[0m\u001b[0;36m0\u001b[0m\u001b[0;34m,\u001b[0m\u001b[0;36m0\u001b[0m\u001b[0;34m]\u001b[0m\u001b[0;34m)\u001b[0m\u001b[0;34m\u001b[0m\u001b[0;34m\u001b[0m\u001b[0m\n\u001b[0m",
      "\u001b[0;32m~/Desktop/pymkm/pymkm/pymkm/Pd_In2O3_CPa/../mkm.py\u001b[0m in \u001b[0;36mkinetic_run\u001b[0;34m(self, temperature, pressure, gas_composition, initial_conditions, verbose, jac)\u001b[0m\n\u001b[1;32m    905\u001b[0m             \u001b[0ms_target_sr\u001b[0m \u001b[0;34m=\u001b[0m \u001b[0mRR\u001b[0m\u001b[0;34m[\u001b[0m\u001b[0;36m0\u001b[0m\u001b[0;34m]\u001b[0m \u001b[0;34m/\u001b[0m \u001b[0mnp\u001b[0m\u001b[0;34m.\u001b[0m\u001b[0msum\u001b[0m\u001b[0;34m(\u001b[0m\u001b[0mRR\u001b[0m\u001b[0;34m)\u001b[0m\u001b[0;34m\u001b[0m\u001b[0;34m\u001b[0m\u001b[0m\n\u001b[1;32m    906\u001b[0m             r_sr = self.net_rate(\n\u001b[0;32m--> 907\u001b[0;31m                 results_sr.y[:, -1], *self.kinetic_coeff(temperature))\n\u001b[0m\u001b[1;32m    908\u001b[0m             \u001b[0mvalue_masi\u001b[0m \u001b[0;34m=\u001b[0m \u001b[0mmax\u001b[0m\u001b[0;34m(\u001b[0m\u001b[0myfin_sr\u001b[0m\u001b[0;34m[\u001b[0m\u001b[0;34m:\u001b[0m\u001b[0mself\u001b[0m\u001b[0;34m.\u001b[0m\u001b[0mNC_sur\u001b[0m\u001b[0;34m-\u001b[0m\u001b[0;36m1\u001b[0m\u001b[0;34m]\u001b[0m\u001b[0;34m)\u001b[0m\u001b[0;34m\u001b[0m\u001b[0;34m\u001b[0m\u001b[0m\n\u001b[1;32m    909\u001b[0m             \u001b[0mkey_masi\u001b[0m \u001b[0;34m=\u001b[0m \u001b[0mself\u001b[0m\u001b[0;34m.\u001b[0m\u001b[0mspecies_sur\u001b[0m\u001b[0;34m[\u001b[0m\u001b[0mnp\u001b[0m\u001b[0;34m.\u001b[0m\u001b[0margmax\u001b[0m\u001b[0;34m(\u001b[0m\u001b[0myfin_sr\u001b[0m\u001b[0;34m[\u001b[0m\u001b[0;34m:\u001b[0m\u001b[0mself\u001b[0m\u001b[0;34m.\u001b[0m\u001b[0mNC_sur\u001b[0m\u001b[0;34m-\u001b[0m\u001b[0;36m1\u001b[0m\u001b[0;34m]\u001b[0m\u001b[0;34m)\u001b[0m\u001b[0;34m]\u001b[0m\u001b[0;34m\u001b[0m\u001b[0;34m\u001b[0m\u001b[0m\n",
      "\u001b[0;31mAttributeError\u001b[0m: 'MKM' object has no attribute 'kincos_calc'"
     ]
    }
   ],
   "source": [
    "x = model.kinetic_run(553, 5e6, [0.8,0.2,0,0,0])"
   ]
  },
  {
   "cell_type": "code",
   "execution_count": 23,
   "id": "a3586ac1",
   "metadata": {},
   "outputs": [
    {
     "ename": "NameError",
     "evalue": "name 'x' is not defined",
     "output_type": "error",
     "traceback": [
      "\u001b[0;31m---------------------------------------------------------------------------\u001b[0m",
      "\u001b[0;31mNameError\u001b[0m                                 Traceback (most recent call last)",
      "\u001b[0;32m/tmp/ipykernel_28938/464746484.py\u001b[0m in \u001b[0;36m<module>\u001b[0;34m\u001b[0m\n\u001b[0;32m----> 1\u001b[0;31m \u001b[0mx\u001b[0m\u001b[0;34m.\u001b[0m\u001b[0mkeys\u001b[0m\u001b[0;34m(\u001b[0m\u001b[0;34m)\u001b[0m\u001b[0;34m\u001b[0m\u001b[0;34m\u001b[0m\u001b[0m\n\u001b[0m",
      "\u001b[0;31mNameError\u001b[0m: name 'x' is not defined"
     ]
    }
   ],
   "source": [
    "x.keys()"
   ]
  },
  {
   "cell_type": "code",
   "execution_count": null,
   "id": "005838cd",
   "metadata": {},
   "outputs": [],
   "source": [
    "x['MASI']"
   ]
  },
  {
   "cell_type": "code",
   "execution_count": null,
   "id": "ecce4784",
   "metadata": {},
   "outputs": [],
   "source": [
    "x['r_RWGS']"
   ]
  },
  {
   "cell_type": "code",
   "execution_count": null,
   "id": "58b49be1",
   "metadata": {},
   "outputs": [],
   "source": [
    "x['r_MeOH']"
   ]
  },
  {
   "cell_type": "code",
   "execution_count": null,
   "id": "d443a975",
   "metadata": {},
   "outputs": [],
   "source": [
    "x['conversion']"
   ]
  },
  {
   "cell_type": "code",
   "execution_count": null,
   "id": "ad604d11",
   "metadata": {},
   "outputs": [],
   "source": [
    "x['y_out']"
   ]
  }
 ],
 "metadata": {
  "kernelspec": {
   "display_name": "Python 3 (ipykernel)",
   "language": "python",
   "name": "python3"
  },
  "language_info": {
   "codemirror_mode": {
    "name": "ipython",
    "version": 3
   },
   "file_extension": ".py",
   "mimetype": "text/x-python",
   "name": "python",
   "nbconvert_exporter": "python",
   "pygments_lexer": "ipython3",
   "version": "3.8.12"
  },
  "toc": {
   "base_numbering": 1,
   "nav_menu": {},
   "number_sections": true,
   "sideBar": true,
   "skip_h1_title": false,
   "title_cell": "Table of Contents",
   "title_sidebar": "Contents",
   "toc_cell": false,
   "toc_position": {},
   "toc_section_display": true,
   "toc_window_display": false
  },
  "varInspector": {
   "cols": {
    "lenName": 16,
    "lenType": 16,
    "lenVar": 40
   },
   "kernels_config": {
    "python": {
     "delete_cmd_postfix": "",
     "delete_cmd_prefix": "del ",
     "library": "var_list.py",
     "varRefreshCmd": "print(var_dic_list())"
    },
    "r": {
     "delete_cmd_postfix": ") ",
     "delete_cmd_prefix": "rm(",
     "library": "var_list.r",
     "varRefreshCmd": "cat(var_dic_list()) "
    }
   },
   "types_to_exclude": [
    "module",
    "function",
    "builtin_function_or_method",
    "instance",
    "_Feature"
   ],
   "window_display": false
  }
 },
 "nbformat": 4,
 "nbformat_minor": 5
}
