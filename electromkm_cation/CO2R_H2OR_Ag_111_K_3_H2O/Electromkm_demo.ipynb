{
 "cells": [
  {
   "cell_type": "markdown",
   "metadata": {
    "heading_collapsed": true
   },
   "source": [
    "# ElectroMKM class import and object instantiation"
   ]
  },
  {
   "cell_type": "code",
   "execution_count": 1,
   "id": "6b9a27c2",
   "metadata": {
    "ExecuteTime": {
     "end_time": "2021-09-02T13:57:57.639188Z",
     "start_time": "2021-09-02T13:57:57.635708Z"
    },
    "hidden": true
   },
   "outputs": [],
   "source": [
    "import sys\n",
    "sys.path.insert(0, \"../\") \n",
    "from electromkm import electroMKM"
   ]
  },
  {
   "cell_type": "markdown",
   "id": "3f389982",
   "metadata": {
    "hidden": true
   },
   "source": [
    "The demo system deal with the Hydrogen Evolution Reaction (HER) with random values."
   ]
  },
  {
   "cell_type": "code",
   "execution_count": 2,
   "id": "a0380ce6",
   "metadata": {
    "ExecuteTime": {
     "end_time": "2021-09-02T13:58:13.534858Z",
     "start_time": "2021-09-02T13:58:13.529302Z"
    },
    "hidden": true
   },
   "outputs": [],
   "source": [
    "model = electroMKM('CO2R_K',\n",
    "                   'rm.mkm', \n",
    "                   'g.mkm', \n",
    "                    t_ref=298)"
   ]
  },
  {
   "cell_type": "code",
   "execution_count": 3,
   "id": "6954aa68",
   "metadata": {},
   "outputs": [
    {
     "name": "stdout",
     "output_type": "stream",
     "text": [
      "2.0\n",
      "2.0\n"
     ]
    }
   ],
   "source": [
    "for i in list(model.gpcet_dict.values()):\n",
    "    print(i)"
   ]
  },
  {
   "cell_type": "markdown",
   "id": "102db54a",
   "metadata": {
    "heading_collapsed": true
   },
   "source": [
    "# Model exploration\n"
   ]
  },
  {
   "cell_type": "markdown",
   "id": "293c70f8",
   "metadata": {
    "hidden": true
   },
   "source": [
    "To investigate the characteristics of the system under study, several attributes can be easily inspected to check general information like number of elementary reactions, energetics, reaction network, etc."
   ]
  },
  {
   "cell_type": "code",
   "execution_count": 4,
   "id": "2c4b97c9",
   "metadata": {
    "hidden": true
   },
   "outputs": [
    {
     "name": "stdout",
     "output_type": "stream",
     "text": [
      "['C1O2(g)', 'C1O1(g)', 'H2O(g)', 'H2(g)']\n"
     ]
    }
   ],
   "source": [
    "print(model.species_gas)"
   ]
  },
  {
   "cell_type": "markdown",
   "id": "71f0f4e6",
   "metadata": {
    "hidden": true
   },
   "source": [
    "### Defined species in the system\n",
    "\n",
    "N.B. H(e) is used to define H+ + e-."
   ]
  },
  {
   "cell_type": "code",
   "execution_count": 5,
   "id": "0ce725da",
   "metadata": {
    "hidden": true,
    "scrolled": true
   },
   "outputs": [
    {
     "data": {
      "text/plain": [
       "['i000000',\n",
       " 'i010101',\n",
       " 'i101101',\n",
       " 'i102101a',\n",
       " 'i112102',\n",
       " 'H2O(e)',\n",
       " 'C1O2(g)',\n",
       " 'C1O1(g)',\n",
       " 'H2O(g)',\n",
       " 'H2(g)']"
      ]
     },
     "execution_count": 5,
     "metadata": {},
     "output_type": "execute_result"
    }
   ],
   "source": [
    "model.species_tot"
   ]
  },
  {
   "cell_type": "markdown",
   "id": "555fffd8",
   "metadata": {
    "hidden": true
   },
   "source": [
    "### Visualize Gibbs energetics of the system\n",
    "\n",
    "Reaction types: 'ads'=adsorption\n",
    "                'des'=desorption\n",
    "                'sur'=surface reaction. \n",
    "The suffix \"+e\" means that that elementary reaction is a charge-transfer step."
   ]
  },
  {
   "cell_type": "code",
   "execution_count": 6,
   "id": "e9ec6e82",
   "metadata": {
    "hidden": true
   },
   "outputs": [
    {
     "data": {
      "text/html": [
       "<div>\n",
       "<style scoped>\n",
       "    .dataframe tbody tr th:only-of-type {\n",
       "        vertical-align: middle;\n",
       "    }\n",
       "\n",
       "    .dataframe tbody tr th {\n",
       "        vertical-align: top;\n",
       "    }\n",
       "\n",
       "    .dataframe thead th {\n",
       "        text-align: right;\n",
       "    }\n",
       "</style>\n",
       "<table border=\"1\" class=\"dataframe\">\n",
       "  <thead>\n",
       "    <tr style=\"text-align: right;\">\n",
       "      <th></th>\n",
       "      <th></th>\n",
       "      <th>DGR / eV</th>\n",
       "      <th>DG barrier / eV</th>\n",
       "      <th>DG reverse barrier / eV</th>\n",
       "    </tr>\n",
       "  </thead>\n",
       "  <tbody>\n",
       "    <tr>\n",
       "      <th>R1</th>\n",
       "      <th>ads</th>\n",
       "      <td>0.504</td>\n",
       "      <td>0.504</td>\n",
       "      <td>0.000</td>\n",
       "    </tr>\n",
       "    <tr>\n",
       "      <th>R2</th>\n",
       "      <th>ads</th>\n",
       "      <td>0.476</td>\n",
       "      <td>0.476</td>\n",
       "      <td>0.000</td>\n",
       "    </tr>\n",
       "    <tr>\n",
       "      <th>R3</th>\n",
       "      <th>des+b_e</th>\n",
       "      <td>-0.069</td>\n",
       "      <td>0.590</td>\n",
       "      <td>0.659</td>\n",
       "    </tr>\n",
       "    <tr>\n",
       "      <th>R4</th>\n",
       "      <th>sur+b_e</th>\n",
       "      <td>0.332</td>\n",
       "      <td>0.919</td>\n",
       "      <td>0.587</td>\n",
       "    </tr>\n",
       "    <tr>\n",
       "      <th>R5</th>\n",
       "      <th>sur+b_e</th>\n",
       "      <td>0.331</td>\n",
       "      <td>1.610</td>\n",
       "      <td>1.279</td>\n",
       "    </tr>\n",
       "    <tr>\n",
       "      <th>R6</th>\n",
       "      <th>ads</th>\n",
       "      <td>0.662</td>\n",
       "      <td>0.662</td>\n",
       "      <td>0.000</td>\n",
       "    </tr>\n",
       "  </tbody>\n",
       "</table>\n",
       "</div>"
      ],
      "text/plain": [
       "            DGR / eV  DG barrier / eV  DG reverse barrier / eV\n",
       "R1 ads         0.504            0.504                    0.000\n",
       "R2 ads         0.476            0.476                    0.000\n",
       "R3 des+b_e    -0.069            0.590                    0.659\n",
       "R4 sur+b_e     0.332            0.919                    0.587\n",
       "R5 sur+b_e     0.331            1.610                    1.279\n",
       "R6 ads         0.662            0.662                    0.000"
      ]
     },
     "execution_count": 6,
     "metadata": {},
     "output_type": "execute_result"
    }
   ],
   "source": [
    "model.df_gibbs"
   ]
  },
  {
   "cell_type": "code",
   "execution_count": 7,
   "id": "61c866b8",
   "metadata": {},
   "outputs": [
    {
     "data": {
      "text/plain": [
       "array([0.044, 0.02 , 0.551, 0.868, 1.613, 0.326])"
      ]
     },
     "execution_count": 7,
     "metadata": {},
     "output_type": "execute_result"
    }
   ],
   "source": [
    "model.dh_barrier"
   ]
  },
  {
   "cell_type": "markdown",
   "id": "65863eb0",
   "metadata": {
    "hidden": true
   },
   "source": [
    "### Stoichiometric matrix of the reaction network"
   ]
  },
  {
   "cell_type": "code",
   "execution_count": 8,
   "id": "086b80c9",
   "metadata": {
    "hidden": true
   },
   "outputs": [
    {
     "data": {
      "text/html": [
       "<div>\n",
       "<style scoped>\n",
       "    .dataframe tbody tr th:only-of-type {\n",
       "        vertical-align: middle;\n",
       "    }\n",
       "\n",
       "    .dataframe tbody tr th {\n",
       "        vertical-align: top;\n",
       "    }\n",
       "\n",
       "    .dataframe thead tr th {\n",
       "        text-align: left;\n",
       "    }\n",
       "\n",
       "    .dataframe thead tr:last-of-type th {\n",
       "        text-align: right;\n",
       "    }\n",
       "</style>\n",
       "<table border=\"1\" class=\"dataframe\">\n",
       "  <thead>\n",
       "    <tr>\n",
       "      <th></th>\n",
       "      <th>R1</th>\n",
       "      <th>R2</th>\n",
       "      <th>R3</th>\n",
       "      <th>R4</th>\n",
       "      <th>R5</th>\n",
       "      <th>R6</th>\n",
       "    </tr>\n",
       "    <tr>\n",
       "      <th></th>\n",
       "      <th>ads</th>\n",
       "      <th>ads</th>\n",
       "      <th>des+b_e</th>\n",
       "      <th>sur+b_e</th>\n",
       "      <th>sur+b_e</th>\n",
       "      <th>ads</th>\n",
       "    </tr>\n",
       "    <tr>\n",
       "      <th>species</th>\n",
       "      <th></th>\n",
       "      <th></th>\n",
       "      <th></th>\n",
       "      <th></th>\n",
       "      <th></th>\n",
       "      <th></th>\n",
       "    </tr>\n",
       "  </thead>\n",
       "  <tbody>\n",
       "    <tr>\n",
       "      <th>i000000</th>\n",
       "      <td>-1</td>\n",
       "      <td>-1</td>\n",
       "      <td>0</td>\n",
       "      <td>0</td>\n",
       "      <td>-1</td>\n",
       "      <td>-2</td>\n",
       "    </tr>\n",
       "    <tr>\n",
       "      <th>i010101</th>\n",
       "      <td>0</td>\n",
       "      <td>0</td>\n",
       "      <td>0</td>\n",
       "      <td>0</td>\n",
       "      <td>1</td>\n",
       "      <td>2</td>\n",
       "    </tr>\n",
       "    <tr>\n",
       "      <th>i101101</th>\n",
       "      <td>0</td>\n",
       "      <td>1</td>\n",
       "      <td>1</td>\n",
       "      <td>0</td>\n",
       "      <td>0</td>\n",
       "      <td>0</td>\n",
       "    </tr>\n",
       "    <tr>\n",
       "      <th>i102101a</th>\n",
       "      <td>1</td>\n",
       "      <td>0</td>\n",
       "      <td>0</td>\n",
       "      <td>-1</td>\n",
       "      <td>0</td>\n",
       "      <td>0</td>\n",
       "    </tr>\n",
       "    <tr>\n",
       "      <th>i112102</th>\n",
       "      <td>0</td>\n",
       "      <td>0</td>\n",
       "      <td>-1</td>\n",
       "      <td>1</td>\n",
       "      <td>0</td>\n",
       "      <td>0</td>\n",
       "    </tr>\n",
       "    <tr>\n",
       "      <th>H2O(e)</th>\n",
       "      <td>0</td>\n",
       "      <td>0</td>\n",
       "      <td>-1</td>\n",
       "      <td>-1</td>\n",
       "      <td>-1</td>\n",
       "      <td>0</td>\n",
       "    </tr>\n",
       "    <tr>\n",
       "      <th>C1O2(g)</th>\n",
       "      <td>-1</td>\n",
       "      <td>0</td>\n",
       "      <td>0</td>\n",
       "      <td>0</td>\n",
       "      <td>0</td>\n",
       "      <td>0</td>\n",
       "    </tr>\n",
       "    <tr>\n",
       "      <th>C1O1(g)</th>\n",
       "      <td>0</td>\n",
       "      <td>-1</td>\n",
       "      <td>0</td>\n",
       "      <td>0</td>\n",
       "      <td>0</td>\n",
       "      <td>0</td>\n",
       "    </tr>\n",
       "    <tr>\n",
       "      <th>H2O(g)</th>\n",
       "      <td>0</td>\n",
       "      <td>0</td>\n",
       "      <td>1</td>\n",
       "      <td>0</td>\n",
       "      <td>0</td>\n",
       "      <td>0</td>\n",
       "    </tr>\n",
       "    <tr>\n",
       "      <th>H2(g)</th>\n",
       "      <td>0</td>\n",
       "      <td>0</td>\n",
       "      <td>0</td>\n",
       "      <td>0</td>\n",
       "      <td>0</td>\n",
       "      <td>-1</td>\n",
       "    </tr>\n",
       "  </tbody>\n",
       "</table>\n",
       "</div>"
      ],
      "text/plain": [
       "          R1  R2      R3      R4      R5  R6\n",
       "         ads ads des+b_e sur+b_e sur+b_e ads\n",
       "species                                     \n",
       "i000000   -1  -1       0       0      -1  -2\n",
       "i010101    0   0       0       0       1   2\n",
       "i101101    0   1       1       0       0   0\n",
       "i102101a   1   0       0      -1       0   0\n",
       "i112102    0   0      -1       1       0   0\n",
       "H2O(e)     0   0      -1      -1      -1   0\n",
       "C1O2(g)   -1   0       0       0       0   0\n",
       "C1O1(g)    0  -1       0       0       0   0\n",
       "H2O(g)     0   0       1       0       0   0\n",
       "H2(g)      0   0       0       0       0  -1"
      ]
     },
     "execution_count": 8,
     "metadata": {},
     "output_type": "execute_result"
    }
   ],
   "source": [
    "model.df_system"
   ]
  },
  {
   "cell_type": "markdown",
   "id": "3f564b93",
   "metadata": {
    "hidden": true
   },
   "source": [
    "### Stoichiometric vector of the global reactions"
   ]
  },
  {
   "cell_type": "code",
   "execution_count": 9,
   "id": "4d915904",
   "metadata": {
    "hidden": true
   },
   "outputs": [
    {
     "data": {
      "text/plain": [
       "['C1O2(g) + 2H2O(e) + K+(cat) -> C1O1(g) + H2O(g)',\n",
       " '2H2O(e) + K+(cat) -> H2(g)']"
      ]
     },
     "execution_count": 9,
     "metadata": {},
     "output_type": "execute_result"
    }
   ],
   "source": [
    "model.gr_string"
   ]
  },
  {
   "cell_type": "code",
   "execution_count": 10,
   "id": "1255a7c4",
   "metadata": {
    "hidden": true
   },
   "outputs": [
    {
     "data": {
      "text/plain": [
       "'C2C'"
      ]
     },
     "execution_count": 10,
     "metadata": {},
     "output_type": "execute_result"
    }
   ],
   "source": [
    "model.target_label"
   ]
  },
  {
   "cell_type": "markdown",
   "id": "966ad21a",
   "metadata": {
    "hidden": true
   },
   "source": [
    "model.stoich_numbers tells us that the first elementary reaction must be multiplied by two and summed up to the second one in order to get the global reaction. This is useful for checking the thermodynamic consistency of the developed models."
   ]
  },
  {
   "cell_type": "markdown",
   "id": "2264f532",
   "metadata": {},
   "source": [
    "# Microkinetic runs and Tafel plot"
   ]
  },
  {
   "cell_type": "markdown",
   "id": "0924e9b1",
   "metadata": {},
   "source": [
    "Up to now, it is possible to run steady state runs via the electroMKM.kinetic_run() function.\n",
    "The main inputs that must be provided are the applied overpotential and the pH of the electrolyte solution.\n",
    "The output of the function is a Python dictionary containing information related to the performed simulation."
   ]
  },
  {
   "cell_type": "code",
   "execution_count": 11,
   "id": "b332443d",
   "metadata": {},
   "outputs": [
    {
     "name": "stdout",
     "output_type": "stream",
     "text": [
      "Final integration time = 100s\n",
      "Relative tolerance = 1e-12\n",
      "Absolute tolerance = 1e-64\n"
     ]
    },
    {
     "data": {
      "text/plain": [
       "'Changed ODE solver parameters.'"
      ]
     },
     "execution_count": 11,
     "metadata": {},
     "output_type": "execute_result"
    }
   ],
   "source": [
    "model.set_ODE_params(t_final=100)"
   ]
  },
  {
   "cell_type": "markdown",
   "id": "72a8e3e0",
   "metadata": {},
   "source": [
    "### Steady state simulation"
   ]
  },
  {
   "cell_type": "code",
   "execution_count": 12,
   "id": "31e46460",
   "metadata": {},
   "outputs": [
    {
     "name": "stdout",
     "output_type": "stream",
     "text": [
      "Help on function kinetic_run in module electromkm:\n",
      "\n",
      "kinetic_run(self, overpotential:float, pH:float, cation_conc:float, potential_dl:float, cation_ener_error:float, initial_sur_coverage:list=None, temperature:float=298.0, pressure:float=100000.0, gas_composition:numpy.ndarray=None, verbose:int=0, jac:bool=False)\n",
      "    Simulates a steady-state electrocatalytic run at the defined operating conditions.        \n",
      "    Args:\n",
      "        overpotential(float): applied overpotential [V vs SHE].\n",
      "        pH(float): pH of the electrolyte solution [-].\n",
      "        cation_conc(float): cation_conc at OHP [M]\n",
      "        potential_dl (float): potential difference across double layer [V]\n",
      "        temperature(float): Temperature of the system [K].\n",
      "        pressure(float): Absolute pressure of the system [Pa].\n",
      "        initial_conditions(nparray): Initial surface coverage array[-].\n",
      "        verbose(int): 0=print all output; 1=print nothing.        \n",
      "    Returns:\n",
      "        (dict): Report of the electrocatalytic simulation.\n",
      "\n"
     ]
    }
   ],
   "source": [
    "help(electroMKM.kinetic_run)"
   ]
  },
  {
   "cell_type": "code",
   "execution_count": 18,
   "metadata": {},
   "outputs": [
    {
     "name": "stdout",
     "output_type": "stream",
     "text": [
      "[0.46 0.   1.   0.  ]\n",
      "CO2R_K: Microkinetic run\n",
      "Overpotential = -1.244V vs SHE    pH = 3.34\n",
      "Overpotential = -1.04694V vs RHE\n",
      "Temperature = 298.0K    Pressure = 1.0bar\n",
      "\n",
      "C2C Current density: 2.14e-09 mA cm-2\n",
      "C2C Selectivity: 99.93%\n",
      "Most Abundant Surface Intermediate: i000000 Coverage: 100.00% \n",
      "CPU time: 0.28 s\n"
     ]
    }
   ],
   "source": [
    "import numpy as np\n",
    "array=[]\n",
    "for i in model.species_gas:\n",
    "    if i=='C1O2(g)':\n",
    "        array.append(0.46)\n",
    "    elif i=='H2O(g)':\n",
    "        array.append(1)\n",
    "    else:\n",
    "        array.append(0)\n",
    "array=np.array(array)\n",
    "print(array)\n",
    "exp = model.kinetic_run(-1.244, 3.34, 3.11,0.62,0.13, gas_composition = array , jac = True)"
   ]
  },
  {
   "cell_type": "code",
   "execution_count": 20,
   "id": "addd2dfc",
   "metadata": {},
   "outputs": [
    {
     "name": "stdout",
     "output_type": "stream",
     "text": [
      "[0.0609 0.     1.     0.    ]\n",
      "CO2R_K: Microkinetic run\n",
      "Overpotential = -1.804V vs SHE    pH = 6.546\n",
      "Overpotential = -1.417786V vs RHE\n",
      "Temperature = 298.0K    Pressure = 1.0bar\n",
      "\n",
      "C2C Current density: 2.02e+00 mA cm-2\n",
      "C2C Selectivity: 99.15%\n",
      "Most Abundant Surface Intermediate: i000000 Coverage: 100.00% \n",
      "CPU time: 3.55 s\n"
     ]
    }
   ],
   "source": [
    "import numpy as np\n",
    "array=[]\n",
    "for i in model.species_gas:\n",
    "    if i=='C1O2(g)':\n",
    "        array.append(0.0609)\n",
    "    elif i=='H2O(g)':\n",
    "        array.append(1)\n",
    "    else:\n",
    "        array.append(0)\n",
    "array=np.array(array)\n",
    "print(array)\n",
    "exp = model.kinetic_run(-1.804, 6.546, 5.3803,1.016,-0.13, gas_composition = array , jac = True)\n"
   ]
  },
  {
   "cell_type": "code",
   "execution_count": 38,
   "id": "884b33e8",
   "metadata": {},
   "outputs": [
    {
     "data": {
      "text/plain": [
       "{'C2C': [1, 2.0, 0.005474664327364803], 'HER': [5, 2.0, 0.005474664327364803]}"
      ]
     },
     "execution_count": 38,
     "metadata": {},
     "output_type": "execute_result"
    }
   ],
   "source": [
    "model.grl_pcet"
   ]
  },
  {
   "cell_type": "code",
   "execution_count": 39,
   "id": "4c6b89d4",
   "metadata": {},
   "outputs": [
    {
     "data": {
      "text/plain": [
       "6.759042241412582"
      ]
     },
     "execution_count": 39,
     "metadata": {},
     "output_type": "execute_result"
    }
   ],
   "source": [
    "exp['j_C2C']"
   ]
  },
  {
   "cell_type": "code",
   "execution_count": 22,
   "metadata": {},
   "outputs": [
    {
     "name": "stdout",
     "output_type": "stream",
     "text": [
      "[0.014 0.    1.    0.   ]\n",
      "CO2R_K: Microkinetic run\n",
      "Overpotential = -2.1V vs SHE    pH = 8.3\n",
      "Overpotential = -1.6103V vs RHE\n",
      "Temperature = 298.0K    Pressure = 1.0bar\n",
      "\n",
      "C2C Current density: 1.33e+00 mA cm-2\n",
      "C2C Selectivity: 11.03%\n",
      "Most Abundant Surface Intermediate: i000000 Coverage: 100.00% \n",
      "CPU time: 0.26 s\n"
     ]
    }
   ],
   "source": [
    "import numpy as np\n",
    "array=[]\n",
    "for i in model.species_gas:\n",
    "    if i=='C1O2(g)':\n",
    "        array.append(0.014)\n",
    "    elif i=='H2O(g)':\n",
    "        array.append(1)\n",
    "    else:\n",
    "        array.append(0)\n",
    "array=np.array(array)\n",
    "print(array)\n",
    "exp = model.kinetic_run(-2.1, 8.3, 3.8134,1.28,-0.13, gas_composition = array , jac = True)"
   ]
  },
  {
   "cell_type": "code",
   "execution_count": 41,
   "id": "eac13e11",
   "metadata": {},
   "outputs": [
    {
     "data": {
      "text/html": [
       "<div>\n",
       "<style scoped>\n",
       "    .dataframe tbody tr th:only-of-type {\n",
       "        vertical-align: middle;\n",
       "    }\n",
       "\n",
       "    .dataframe tbody tr th {\n",
       "        vertical-align: top;\n",
       "    }\n",
       "\n",
       "    .dataframe thead th {\n",
       "        text-align: right;\n",
       "    }\n",
       "</style>\n",
       "<table border=\"1\" class=\"dataframe\">\n",
       "  <thead>\n",
       "    <tr style=\"text-align: right;\">\n",
       "      <th></th>\n",
       "      <th></th>\n",
       "      <th>DGR_e / eV</th>\n",
       "      <th>DG barrier_e / eV</th>\n",
       "      <th>DG reverse barrier_e / eV</th>\n",
       "    </tr>\n",
       "  </thead>\n",
       "  <tbody>\n",
       "    <tr>\n",
       "      <th>R1</th>\n",
       "      <th>ads</th>\n",
       "      <td>0.504000</td>\n",
       "      <td>0.504</td>\n",
       "      <td>0.000000</td>\n",
       "    </tr>\n",
       "    <tr>\n",
       "      <th>R2</th>\n",
       "      <th>ads</th>\n",
       "      <td>0.476000</td>\n",
       "      <td>0.476</td>\n",
       "      <td>0.000000</td>\n",
       "    </tr>\n",
       "    <tr>\n",
       "      <th>R3</th>\n",
       "      <th>des+b_e</th>\n",
       "      <td>-1.678779</td>\n",
       "      <td>0.000</td>\n",
       "      <td>1.678779</td>\n",
       "    </tr>\n",
       "    <tr>\n",
       "      <th>R4</th>\n",
       "      <th>sur+b_e</th>\n",
       "      <td>-1.277779</td>\n",
       "      <td>0.000</td>\n",
       "      <td>1.277779</td>\n",
       "    </tr>\n",
       "    <tr>\n",
       "      <th>R5</th>\n",
       "      <th>sur+b_e</th>\n",
       "      <td>-1.278779</td>\n",
       "      <td>0.560</td>\n",
       "      <td>1.838779</td>\n",
       "    </tr>\n",
       "    <tr>\n",
       "      <th>R6</th>\n",
       "      <th>ads</th>\n",
       "      <td>0.662000</td>\n",
       "      <td>0.662</td>\n",
       "      <td>0.000000</td>\n",
       "    </tr>\n",
       "  </tbody>\n",
       "</table>\n",
       "</div>"
      ],
      "text/plain": [
       "            DGR_e / eV  DG barrier_e / eV  DG reverse barrier_e / eV\n",
       "R1 ads        0.504000              0.504                   0.000000\n",
       "R2 ads        0.476000              0.476                   0.000000\n",
       "R3 des+b_e   -1.678779              0.000                   1.678779\n",
       "R4 sur+b_e   -1.277779              0.000                   1.277779\n",
       "R5 sur+b_e   -1.278779              0.560                   1.838779\n",
       "R6 ads        0.662000              0.662                   0.000000"
      ]
     },
     "execution_count": 41,
     "metadata": {},
     "output_type": "execute_result"
    }
   ],
   "source": [
    "model.df_gibbs_e"
   ]
  },
  {
   "cell_type": "code",
   "execution_count": 42,
   "id": "d9cbbaa0",
   "metadata": {},
   "outputs": [
    {
     "name": "stdout",
     "output_type": "stream",
     "text": [
      "[0.039 0.    1.    0.   ]\n",
      "CO2R_K: Microkinetic run\n",
      "Overpotential = -1.9V vs SHE    pH = 6.63\n",
      "Overpotential = -1.50883V vs RHE\n",
      "Temperature = 298.0K    Pressure = 1.0bar\n",
      "cation_ads_ener: 0.16, site_adj_factor: 0.011\n",
      "cation_ads_ener: 0.16, site_adj_factor: 0.011\n",
      "final adjust_factor is : [0.010708921711386297, 0.010708921711386297]\n",
      "\n",
      "C2C Current density: 1.24e+00 mA cm-2\n",
      "C2C Selectivity: 94.43%\n",
      "Most Abundant Surface Intermediate: i000000 Coverage: 100.00% \n",
      "CPU time: 0.15 s\n"
     ]
    }
   ],
   "source": [
    "import numpy as np\n",
    "array=[]\n",
    "for i in model.species_gas:\n",
    "    if i=='C1O2(g)':\n",
    "        array.append(0.039)\n",
    "    elif i=='H2O(g)':\n",
    "        array.append(1)\n",
    "    else:\n",
    "        array.append(0)\n",
    "array=np.array(array)\n",
    "print(array)\n",
    "exp = model.kinetic_run(-1.9, 6.63, 5.5, 1.1, gas_composition = array , jac = True)"
   ]
  },
  {
   "cell_type": "code",
   "execution_count": 43,
   "id": "34f6dc8c",
   "metadata": {},
   "outputs": [
    {
     "data": {
      "text/html": [
       "<div>\n",
       "<style scoped>\n",
       "    .dataframe tbody tr th:only-of-type {\n",
       "        vertical-align: middle;\n",
       "    }\n",
       "\n",
       "    .dataframe tbody tr th {\n",
       "        vertical-align: top;\n",
       "    }\n",
       "\n",
       "    .dataframe thead th {\n",
       "        text-align: right;\n",
       "    }\n",
       "</style>\n",
       "<table border=\"1\" class=\"dataframe\">\n",
       "  <thead>\n",
       "    <tr style=\"text-align: right;\">\n",
       "      <th></th>\n",
       "      <th></th>\n",
       "      <th>DGR_e / eV</th>\n",
       "      <th>DG barrier_e / eV</th>\n",
       "      <th>DG reverse barrier_e / eV</th>\n",
       "    </tr>\n",
       "  </thead>\n",
       "  <tbody>\n",
       "    <tr>\n",
       "      <th>R1</th>\n",
       "      <th>ads</th>\n",
       "      <td>0.504000</td>\n",
       "      <td>0.504</td>\n",
       "      <td>0.000000</td>\n",
       "    </tr>\n",
       "    <tr>\n",
       "      <th>R2</th>\n",
       "      <th>ads</th>\n",
       "      <td>0.476000</td>\n",
       "      <td>0.476</td>\n",
       "      <td>0.000000</td>\n",
       "    </tr>\n",
       "    <tr>\n",
       "      <th>R3</th>\n",
       "      <th>des+b_e</th>\n",
       "      <td>-1.577414</td>\n",
       "      <td>0.000</td>\n",
       "      <td>1.577414</td>\n",
       "    </tr>\n",
       "    <tr>\n",
       "      <th>R4</th>\n",
       "      <th>sur+b_e</th>\n",
       "      <td>-1.176414</td>\n",
       "      <td>0.000</td>\n",
       "      <td>1.176414</td>\n",
       "    </tr>\n",
       "    <tr>\n",
       "      <th>R5</th>\n",
       "      <th>sur+b_e</th>\n",
       "      <td>-1.177414</td>\n",
       "      <td>0.660</td>\n",
       "      <td>1.837414</td>\n",
       "    </tr>\n",
       "    <tr>\n",
       "      <th>R6</th>\n",
       "      <th>ads</th>\n",
       "      <td>0.662000</td>\n",
       "      <td>0.662</td>\n",
       "      <td>0.000000</td>\n",
       "    </tr>\n",
       "  </tbody>\n",
       "</table>\n",
       "</div>"
      ],
      "text/plain": [
       "            DGR_e / eV  DG barrier_e / eV  DG reverse barrier_e / eV\n",
       "R1 ads        0.504000              0.504                   0.000000\n",
       "R2 ads        0.476000              0.476                   0.000000\n",
       "R3 des+b_e   -1.577414              0.000                   1.577414\n",
       "R4 sur+b_e   -1.176414              0.000                   1.176414\n",
       "R5 sur+b_e   -1.177414              0.660                   1.837414\n",
       "R6 ads        0.662000              0.662                   0.000000"
      ]
     },
     "execution_count": 43,
     "metadata": {},
     "output_type": "execute_result"
    }
   ],
   "source": [
    "model.df_gibbs_e"
   ]
  },
  {
   "cell_type": "code",
   "execution_count": 21,
   "id": "e3903d3a",
   "metadata": {},
   "outputs": [
    {
     "data": {
      "text/plain": [
       "'C2C'"
      ]
     },
     "execution_count": 21,
     "metadata": {},
     "output_type": "execute_result"
    }
   ],
   "source": [
    "model.target_label"
   ]
  },
  {
   "cell_type": "code",
   "execution_count": 22,
   "id": "a2ce8f95",
   "metadata": {},
   "outputs": [],
   "source": [
    "target_label=model.target_label\n"
   ]
  },
  {
   "cell_type": "code",
   "execution_count": 23,
   "id": "a4200d8b",
   "metadata": {},
   "outputs": [
    {
     "name": "stdout",
     "output_type": "stream",
     "text": [
      "CO2R_K: Microkinetic run\n",
      "Overpotential = -1.8V vs SHE    pH = 8\n",
      "Overpotential = -1.328V vs RHE\n",
      "Temperature = 298.0K    Pressure = 1.0bar\n",
      "cation_ads_ener: 0.18, site_adj_factor: 0.003\n",
      "cation_ads_ener: 0.18, site_adj_factor: 0.003\n",
      "final adjust_factor is : [0.0034518929511542134, 0.0034518929511542134]\n",
      "\n",
      "C2C Current density: 5.94e-01 mA cm-2\n",
      "C2C Selectivity: 99.11%\n",
      "Most Abundant Surface Intermediate: i000000 Coverage: 100.00% \n",
      "CPU time: 0.15 s\n",
      "CO2R_K: Microkinetic run\n",
      "Overpotential = -1.8V vs SHE    pH = 8\n",
      "Overpotential = -1.328V vs RHE\n",
      "Temperature = 298.0K    Pressure = 1.0bar\n",
      "cation_ads_ener: 0.18, site_adj_factor: 0.004\n",
      "cation_ads_ener: 0.18, site_adj_factor: 0.004\n",
      "final adjust_factor is : [0.0038639134176290282, 0.0038639134176290282]\n",
      "\n",
      "C2C Current density: 5.94e-01 mA cm-2\n",
      "C2C Selectivity: 99.11%\n",
      "Most Abundant Surface Intermediate: i000000 Coverage: 100.00% \n",
      "CPU time: 0.13 s\n",
      "CO2R_K: Microkinetic run\n",
      "Overpotential = -1.8V vs SHE    pH = 8\n",
      "Overpotential = -1.328V vs RHE\n",
      "Temperature = 298.0K    Pressure = 1.0bar\n",
      "cation_ads_ener: 0.18, site_adj_factor: 0.004\n",
      "cation_ads_ener: 0.18, site_adj_factor: 0.004\n",
      "final adjust_factor is : [0.004205734754483113, 0.004205734754483113]\n",
      "\n",
      "C2C Current density: 5.94e-01 mA cm-2\n",
      "C2C Selectivity: 99.11%\n",
      "Most Abundant Surface Intermediate: i000000 Coverage: 100.00% \n",
      "CPU time: 0.14 s\n",
      "CO2R_K: Microkinetic run\n",
      "Overpotential = -1.8V vs SHE    pH = 8\n",
      "Overpotential = -1.328V vs RHE\n",
      "Temperature = 298.0K    Pressure = 1.0bar\n",
      "cation_ads_ener: 0.18, site_adj_factor: 0.004\n",
      "cation_ads_ener: 0.18, site_adj_factor: 0.004\n",
      "final adjust_factor is : [0.0044773220939495805, 0.0044773220939495805]\n",
      "\n",
      "C2C Current density: 5.94e-01 mA cm-2\n",
      "C2C Selectivity: 99.11%\n",
      "Most Abundant Surface Intermediate: i000000 Coverage: 100.00% \n",
      "CPU time: 0.14 s\n",
      "CO2R_K: Microkinetic run\n",
      "Overpotential = -1.8V vs SHE    pH = 8\n",
      "Overpotential = -1.328V vs RHE\n",
      "Temperature = 298.0K    Pressure = 1.0bar\n",
      "cation_ads_ener: 0.18, site_adj_factor: 0.005\n",
      "cation_ads_ener: 0.18, site_adj_factor: 0.005\n",
      "final adjust_factor is : [0.0046843381165696365, 0.0046843381165696365]\n",
      "\n",
      "C2C Current density: 5.94e-01 mA cm-2\n",
      "C2C Selectivity: 99.11%\n",
      "Most Abundant Surface Intermediate: i000000 Coverage: 100.00% \n",
      "CPU time: 0.13 s\n",
      "CO2R_K: Microkinetic run\n",
      "Overpotential = -1.8V vs SHE    pH = 8\n",
      "Overpotential = -1.328V vs RHE\n",
      "Temperature = 298.0K    Pressure = 1.0bar\n",
      "cation_ads_ener: 0.18, site_adj_factor: 0.005\n",
      "cation_ads_ener: 0.18, site_adj_factor: 0.005\n",
      "final adjust_factor is : [0.004836345630046999, 0.004836345630046999]\n",
      "\n",
      "C2C Current density: 5.94e-01 mA cm-2\n",
      "C2C Selectivity: 99.11%\n",
      "Most Abundant Surface Intermediate: i000000 Coverage: 100.00% \n",
      "CPU time: 0.14 s\n",
      "CO2R_K: Microkinetic run\n",
      "Overpotential = -1.8V vs SHE    pH = 8\n",
      "Overpotential = -1.328V vs RHE\n",
      "Temperature = 298.0K    Pressure = 1.0bar\n",
      "cation_ads_ener: 0.18, site_adj_factor: 0.005\n",
      "cation_ads_ener: 0.18, site_adj_factor: 0.005\n",
      "final adjust_factor is : [0.0049437696669467615, 0.0049437696669467615]\n",
      "\n",
      "C2C Current density: 5.94e-01 mA cm-2\n",
      "C2C Selectivity: 99.11%\n",
      "Most Abundant Surface Intermediate: i000000 Coverage: 100.00% \n",
      "CPU time: 0.13 s\n",
      "CO2R_K: Microkinetic run\n",
      "Overpotential = -1.8V vs SHE    pH = 8\n",
      "Overpotential = -1.328V vs RHE\n",
      "Temperature = 298.0K    Pressure = 1.0bar\n",
      "cation_ads_ener: 0.18, site_adj_factor: 0.005\n",
      "cation_ads_ener: 0.18, site_adj_factor: 0.005\n",
      "final adjust_factor is : [0.005017280494319225, 0.005017280494319225]\n",
      "\n",
      "C2C Current density: 5.94e-01 mA cm-2\n",
      "C2C Selectivity: 99.11%\n",
      "Most Abundant Surface Intermediate: i000000 Coverage: 100.00% \n",
      "CPU time: 0.20 s\n",
      "CO2R_K: Microkinetic run\n",
      "Overpotential = -1.8V vs SHE    pH = 8\n",
      "Overpotential = -1.328V vs RHE\n",
      "Temperature = 298.0K    Pressure = 1.0bar\n",
      "cation_ads_ener: 0.18, site_adj_factor: 0.005\n",
      "cation_ads_ener: 0.18, site_adj_factor: 0.005\n",
      "final adjust_factor is : [0.005066013437244286, 0.005066013437244286]\n",
      "\n",
      "C2C Current density: 5.94e-01 mA cm-2\n",
      "C2C Selectivity: 99.11%\n",
      "Most Abundant Surface Intermediate: i000000 Coverage: 100.00% \n",
      "CPU time: 0.13 s\n"
     ]
    }
   ],
   "source": [
    "cation_conc_array=[3.8348,4.2943,4.6758,4.9791,5.2104,5.3803,5.5004,5.5826,5.6371]\n",
    "j_array=[]\n",
    "for conc in cation_conc_array:\n",
    "    exp = model.kinetic_run(-1.8, 8, conc, 1.8-0.8, gas_composition = array , jac = True)\n",
    "    j_array.append(exp['j_C2C'])"
   ]
  },
  {
   "cell_type": "code",
   "execution_count": 23,
   "metadata": {
    "scrolled": true
   },
   "outputs": [
    {
     "data": {
      "text/plain": [
       "[2.559432666464913,\n",
       " 2.866113393679811,\n",
       " 3.1207351490925563,\n",
       " 3.3231644492088592,\n",
       " 3.477539315424827,\n",
       " 3.5909344286568823,\n",
       " 3.6710918922814315,\n",
       " 3.7259540363292825,\n",
       " 3.762328572188492]"
      ]
     },
     "execution_count": 23,
     "metadata": {},
     "output_type": "execute_result"
    }
   ],
   "source": [
    "j_array"
   ]
  },
  {
   "cell_type": "markdown",
   "metadata": {},
   "source": [
    "Once steady state conditions have been checked, the solution can be easily analyzed. the main output consists of steady state surface coverage and reaction rate in term of current density."
   ]
  },
  {
   "cell_type": "code",
   "execution_count": null,
   "metadata": {},
   "outputs": [],
   "source": [
    "exp['theta']"
   ]
  },
  {
   "cell_type": "code",
   "execution_count": null,
   "metadata": {},
   "outputs": [],
   "source": [
    "exp['r']"
   ]
  },
  {
   "cell_type": "markdown",
   "id": "918960e0",
   "metadata": {},
   "source": []
  },
  {
   "cell_type": "markdown",
   "metadata": {},
   "source": [
    "Negative current density means reduction is occurring, while positive values means that reaction is evolving in the opposite direction. Values of current density are stored in mA cm-2."
   ]
  },
  {
   "cell_type": "code",
   "execution_count": null,
   "metadata": {},
   "outputs": [],
   "source": [
    "exp['j_C2C']"
   ]
  },
  {
   "cell_type": "markdown",
   "metadata": {},
   "source": [
    "### Tafel plot"
   ]
  },
  {
   "cell_type": "code",
   "execution_count": 17,
   "id": "e7e42baf",
   "metadata": {},
   "outputs": [
    {
     "name": "stdout",
     "output_type": "stream",
     "text": [
      "[-1.11 -1.31 -1.51 -1.71 -1.91 -2.11 -2.31 -2.51 -2.71]\n"
     ]
    }
   ],
   "source": [
    "import numpy as np\n",
    "n = np.arange(-1.11,-2.81,-0.2)\n",
    "#n = np.array([-1.5,-1.75,-2,-2.25])\n",
    "print(n)"
   ]
  },
  {
   "cell_type": "code",
   "execution_count": 18,
   "metadata": {
    "scrolled": false
   },
   "outputs": [
    {
     "name": "stdout",
     "output_type": "stream",
     "text": [
      "Help on function tafel_plot in module electromkm:\n",
      "\n",
      "tafel_plot(self, reaction_label:str, overpotential_vector:numpy.ndarray, pH:float, cation_conc:float, potential_dl:float, initial_sur_coverage:list=None, temperature:float=298.0, pressure:float=100000.0, gas_composition:numpy.ndarray=None, verbose:int=0, jac:bool=True)\n",
      "    Returns the Tafel plot for the defined potential range.\n",
      "    Args:\n",
      "        reaction_label(str): Label of the reaction of interest.\n",
      "        overpotential_vector(ndarray): applied overpotential vector [V].\n",
      "        pH(float): pH of the electrolyte solution [-].\n",
      "        \n",
      "        initial_conditions(ndarray): initial surface coverage and gas composition [-]\n",
      "        temperature(float): Temperature of the system [K].\n",
      "        pressure(float): Absolute pressure of the system [Pa].\n",
      "        verbose(bool): 0=; 1=.\n",
      "        jac(bool): Inclusion of the analytical Jacobian for ODE numerical solution.\n",
      "\n"
     ]
    }
   ],
   "source": [
    "help(electroMKM.tafel_plot)"
   ]
  },
  {
   "cell_type": "code",
   "execution_count": 19,
   "metadata": {
    "scrolled": true
   },
   "outputs": [
    {
     "name": "stdout",
     "output_type": "stream",
     "text": [
      "CO2R_K: Tafel slope experiment for C2C\n",
      "Temperature: 298.0 K    Pressure: 1 bar    pH: 7\n",
      "\n"
     ]
    },
    {
     "ename": "ValueError",
     "evalue": "setting an array element with a sequence.",
     "output_type": "error",
     "traceback": [
      "\u001b[0;31m---------------------------------------------------------------------------\u001b[0m",
      "\u001b[0;31mTypeError\u001b[0m                                 Traceback (most recent call last)",
      "\u001b[0;31mTypeError\u001b[0m: only size-1 arrays can be converted to Python scalars",
      "\nThe above exception was the direct cause of the following exception:\n",
      "\u001b[0;31mValueError\u001b[0m                                Traceback (most recent call last)",
      "\u001b[0;32m<ipython-input-19-70894bd10fc9>\u001b[0m in \u001b[0;36m<module>\u001b[0;34m\u001b[0m\n\u001b[0;32m----> 1\u001b[0;31m \u001b[0mmodel\u001b[0m\u001b[0;34m.\u001b[0m\u001b[0mtafel_plot\u001b[0m\u001b[0;34m(\u001b[0m\u001b[0;34m\"C2C\"\u001b[0m\u001b[0;34m,\u001b[0m \u001b[0mn\u001b[0m \u001b[0;34m,\u001b[0m\u001b[0;36m7\u001b[0m\u001b[0;34m,\u001b[0m \u001b[0;36m1\u001b[0m\u001b[0;34m,\u001b[0m \u001b[0mn\u001b[0m\u001b[0;34m-\u001b[0m\u001b[0;36m0.8\u001b[0m\u001b[0;34m,\u001b[0m \u001b[0mgas_composition\u001b[0m \u001b[0;34m=\u001b[0m \u001b[0marray\u001b[0m\u001b[0;34m,\u001b[0m \u001b[0mjac\u001b[0m\u001b[0;34m=\u001b[0m\u001b[0;32mTrue\u001b[0m\u001b[0;34m)\u001b[0m\u001b[0;34m\u001b[0m\u001b[0;34m\u001b[0m\u001b[0m\n\u001b[0m",
      "\u001b[0;32m~/teklahome/Z-to-Francesca/pyMKM_cation/electromkm.py\u001b[0m in \u001b[0;36mtafel_plot\u001b[0;34m(self, reaction_label, overpotential_vector, pH, cation_conc, potential_dl, initial_sur_coverage, temperature, pressure, gas_composition, verbose, jac)\u001b[0m\n\u001b[1;32m    584\u001b[0m                                            \u001b[0mgas_composition\u001b[0m\u001b[0;34m=\u001b[0m\u001b[0mgas_composition\u001b[0m\u001b[0;34m,\u001b[0m\u001b[0;34m\u001b[0m\u001b[0;34m\u001b[0m\u001b[0m\n\u001b[1;32m    585\u001b[0m                                            \u001b[0mverbose\u001b[0m\u001b[0;34m=\u001b[0m\u001b[0;36m1\u001b[0m\u001b[0;34m,\u001b[0m\u001b[0;34m\u001b[0m\u001b[0;34m\u001b[0m\u001b[0m\n\u001b[0;32m--> 586\u001b[0;31m                                            jac=jac))\n\u001b[0m\u001b[1;32m    587\u001b[0m             \u001b[0mj_vector\u001b[0m\u001b[0;34m[\u001b[0m\u001b[0mi\u001b[0m\u001b[0;34m]\u001b[0m \u001b[0;34m=\u001b[0m \u001b[0mexp\u001b[0m\u001b[0;34m[\u001b[0m\u001b[0mi\u001b[0m\u001b[0;34m]\u001b[0m\u001b[0;34m[\u001b[0m\u001b[0;34m'j_{}'\u001b[0m\u001b[0;34m.\u001b[0m\u001b[0mformat\u001b[0m\u001b[0;34m(\u001b[0m\u001b[0mreaction_label\u001b[0m\u001b[0;34m)\u001b[0m\u001b[0;34m]\u001b[0m\u001b[0;34m\u001b[0m\u001b[0;34m\u001b[0m\u001b[0m\n\u001b[1;32m    588\u001b[0m             \u001b[0;32mif\u001b[0m \u001b[0moverpotential_vector\u001b[0m\u001b[0;34m[\u001b[0m\u001b[0mi\u001b[0m\u001b[0;34m]\u001b[0m \u001b[0;34m<\u001b[0m \u001b[0;36m0\u001b[0m\u001b[0;34m:\u001b[0m\u001b[0;34m\u001b[0m\u001b[0;34m\u001b[0m\u001b[0m\n",
      "\u001b[0;32m~/teklahome/Z-to-Francesca/pyMKM_cation/electromkm.py\u001b[0m in \u001b[0;36mkinetic_run\u001b[0;34m(self, overpotential, pH, cation_conc, potential_dl, initial_sur_coverage, temperature, pressure, gas_composition, verbose, jac)\u001b[0m\n\u001b[1;32m    420\u001b[0m                                                  \u001b[0;34m*\u001b[0m\u001b[0mlist\u001b[0m\u001b[0;34m(\u001b[0m\u001b[0mself\u001b[0m\u001b[0;34m.\u001b[0m\u001b[0mODE_params\u001b[0m\u001b[0;34m.\u001b[0m\u001b[0mvalues\u001b[0m\u001b[0;34m(\u001b[0m\u001b[0;34m)\u001b[0m\u001b[0;34m)\u001b[0m\u001b[0;34m,\u001b[0m\u001b[0;34m\u001b[0m\u001b[0;34m\u001b[0m\u001b[0m\n\u001b[1;32m    421\u001b[0m                                                  \u001b[0mend_events\u001b[0m\u001b[0;34m=\u001b[0m\u001b[0;32mNone\u001b[0m\u001b[0;34m,\u001b[0m\u001b[0;34m\u001b[0m\u001b[0;34m\u001b[0m\u001b[0m\n\u001b[0;32m--> 422\u001b[0;31m                                                  jacobian_matrix=_)\n\u001b[0m\u001b[1;32m    423\u001b[0m         final_sr = self.differential_pfr(results_sr.t[-1],\n\u001b[1;32m    424\u001b[0m                                          \u001b[0mresults_sr\u001b[0m\u001b[0;34m.\u001b[0m\u001b[0my\u001b[0m\u001b[0;34m[\u001b[0m\u001b[0;34m:\u001b[0m\u001b[0;34m,\u001b[0m \u001b[0;34m-\u001b[0m\u001b[0;36m1\u001b[0m\u001b[0;34m]\u001b[0m\u001b[0;34m,\u001b[0m\u001b[0;34m\u001b[0m\u001b[0;34m\u001b[0m\u001b[0m\n",
      "\u001b[0;32m~/teklahome/Z-to-Francesca/pyMKM_cation/electromkm.py\u001b[0m in \u001b[0;36m__ode_solver_solve_ivp\u001b[0;34m(self, y_0, dy, temperature, overpotential, pH, potential_dl, reltol, abstol, t_final, end_events, jacobian_matrix)\u001b[0m\n\u001b[1;32m    299\u001b[0m         \u001b[0mHelper\u001b[0m \u001b[0mfunction\u001b[0m \u001b[0;32mfor\u001b[0m \u001b[0msolve_ivp\u001b[0m \u001b[0mODE\u001b[0m \u001b[0msolver\u001b[0m\u001b[0;34m.\u001b[0m\u001b[0;34m\u001b[0m\u001b[0;34m\u001b[0m\u001b[0m\n\u001b[1;32m    300\u001b[0m         \"\"\"\n\u001b[0;32m--> 301\u001b[0;31m         \u001b[0mkd\u001b[0m\u001b[0;34m,\u001b[0m \u001b[0mki\u001b[0m \u001b[0;34m=\u001b[0m \u001b[0mself\u001b[0m\u001b[0;34m.\u001b[0m\u001b[0mkinetic_coeff\u001b[0m\u001b[0;34m(\u001b[0m\u001b[0moverpotential\u001b[0m\u001b[0;34m,\u001b[0m \u001b[0mpH\u001b[0m\u001b[0;34m,\u001b[0m \u001b[0mpotential_dl\u001b[0m\u001b[0;34m,\u001b[0m \u001b[0mtemperature\u001b[0m\u001b[0;34m)\u001b[0m\u001b[0;34m\u001b[0m\u001b[0;34m\u001b[0m\u001b[0m\n\u001b[0m\u001b[1;32m    302\u001b[0m         \u001b[0margs_list\u001b[0m \u001b[0;34m=\u001b[0m \u001b[0;34m[\u001b[0m\u001b[0mkd\u001b[0m\u001b[0;34m,\u001b[0m \u001b[0mki\u001b[0m\u001b[0;34m]\u001b[0m\u001b[0;34m\u001b[0m\u001b[0;34m\u001b[0m\u001b[0m\n\u001b[1;32m    303\u001b[0m         r = solve_ivp(dy,\n",
      "\u001b[0;32m~/teklahome/Z-to-Francesca/pyMKM_cation/electromkm.py\u001b[0m in \u001b[0;36mkinetic_coeff\u001b[0;34m(self, overpotential, pH, potential_dl, temperature, area_active_site)\u001b[0m\n\u001b[1;32m    206\u001b[0m         \u001b[0mkr\u001b[0m \u001b[0;34m=\u001b[0m \u001b[0mnp\u001b[0m\u001b[0;34m.\u001b[0m\u001b[0mzeros\u001b[0m\u001b[0;34m(\u001b[0m\u001b[0mself\u001b[0m\u001b[0;34m.\u001b[0m\u001b[0mNR\u001b[0m\u001b[0;34m)\u001b[0m   \u001b[0;31m# Reverse constant\u001b[0m\u001b[0;34m\u001b[0m\u001b[0;34m\u001b[0m\u001b[0m\n\u001b[1;32m    207\u001b[0m \u001b[0;34m\u001b[0m\u001b[0m\n\u001b[0;32m--> 208\u001b[0;31m         \u001b[0mdg_F_reaction\u001b[0m\u001b[0;34m,\u001b[0m \u001b[0mdg_F_barrier\u001b[0m\u001b[0;34m,\u001b[0m \u001b[0mdg_F_barrier_rev\u001b[0m \u001b[0;34m=\u001b[0m \u001b[0mself\u001b[0m\u001b[0;34m.\u001b[0m\u001b[0mget_reaction_energetics\u001b[0m\u001b[0;34m(\u001b[0m\u001b[0moverpotential\u001b[0m\u001b[0;34m,\u001b[0m\u001b[0mpH\u001b[0m\u001b[0;34m,\u001b[0m\u001b[0mpotential_dl\u001b[0m\u001b[0;34m,\u001b[0m\u001b[0mtemperature\u001b[0m\u001b[0;34m)\u001b[0m\u001b[0;34m\u001b[0m\u001b[0;34m\u001b[0m\u001b[0m\n\u001b[0m\u001b[1;32m    209\u001b[0m \u001b[0;34m\u001b[0m\u001b[0m\n\u001b[1;32m    210\u001b[0m         \u001b[0;32mfor\u001b[0m \u001b[0mreaction\u001b[0m \u001b[0;32min\u001b[0m \u001b[0mrange\u001b[0m\u001b[0;34m(\u001b[0m\u001b[0mself\u001b[0m\u001b[0;34m.\u001b[0m\u001b[0mNR\u001b[0m\u001b[0;34m)\u001b[0m\u001b[0;34m:\u001b[0m\u001b[0;34m\u001b[0m\u001b[0;34m\u001b[0m\u001b[0m\n",
      "\u001b[0;32m~/teklahome/Z-to-Francesca/pyMKM_cation/electromkm.py\u001b[0m in \u001b[0;36mget_reaction_energetics\u001b[0;34m(self, overpotential, pH, potential_dl, temperature)\u001b[0m\n\u001b[1;32m    162\u001b[0m                 \u001b[0;31m#print(reaction,dg_F_reaction[reaction],dg_F_barrier[reaction])\u001b[0m\u001b[0;34m\u001b[0m\u001b[0;34m\u001b[0m\u001b[0;34m\u001b[0m\u001b[0m\n\u001b[1;32m    163\u001b[0m                 \u001b[0mz_i_cation\u001b[0m \u001b[0;34m=\u001b[0m \u001b[0mself\u001b[0m\u001b[0;34m.\u001b[0m\u001b[0mv_matrix\u001b[0m\u001b[0;34m[\u001b[0m\u001b[0mindex_cation\u001b[0m\u001b[0;34m,\u001b[0m \u001b[0mreaction\u001b[0m\u001b[0;34m]\u001b[0m\u001b[0;34m\u001b[0m\u001b[0;34m\u001b[0m\u001b[0m\n\u001b[0;32m--> 164\u001b[0;31m                 \u001b[0mdg_F_reaction\u001b[0m\u001b[0;34m[\u001b[0m\u001b[0mreaction\u001b[0m\u001b[0;34m]\u001b[0m \u001b[0;34m=\u001b[0m  \u001b[0mdg_F_reaction\u001b[0m\u001b[0;34m[\u001b[0m\u001b[0mreaction\u001b[0m\u001b[0;34m]\u001b[0m \u001b[0;34m+\u001b[0m \u001b[0mz_i_cation\u001b[0m \u001b[0;34m*\u001b[0m \u001b[0;34m(\u001b[0m\u001b[0mpotential_dl\u001b[0m\u001b[0;34m/\u001b[0m\u001b[0;36m5\u001b[0m\u001b[0;34m)\u001b[0m\u001b[0;34m\u001b[0m\u001b[0;34m\u001b[0m\u001b[0m\n\u001b[0m\u001b[1;32m    165\u001b[0m                 \u001b[0mdg_F_barrier\u001b[0m\u001b[0;34m[\u001b[0m\u001b[0mreaction\u001b[0m\u001b[0;34m]\u001b[0m \u001b[0;34m=\u001b[0m   \u001b[0mdg_F_barrier\u001b[0m\u001b[0;34m[\u001b[0m\u001b[0mreaction\u001b[0m\u001b[0;34m]\u001b[0m \u001b[0;34m+\u001b[0m \u001b[0mz_i_cation\u001b[0m \u001b[0;34m*\u001b[0m \u001b[0;34m(\u001b[0m\u001b[0mpotential_dl\u001b[0m\u001b[0;34m/\u001b[0m\u001b[0;36m5\u001b[0m\u001b[0;34m)\u001b[0m\u001b[0;34m\u001b[0m\u001b[0;34m\u001b[0m\u001b[0m\n\u001b[1;32m    166\u001b[0m                 \u001b[0;31m# potential_diff=(overpotential/10)\u001b[0m\u001b[0;34m\u001b[0m\u001b[0;34m\u001b[0m\u001b[0;34m\u001b[0m\u001b[0m\n",
      "\u001b[0;31mValueError\u001b[0m: setting an array element with a sequence."
     ]
    }
   ],
   "source": [
    "model.tafel_plot(\"C2C\", n ,7, 1, n-0.8, gas_composition = array, jac=True)"
   ]
  },
  {
   "cell_type": "code",
   "execution_count": null,
   "id": "9296f3fc",
   "metadata": {},
   "outputs": [],
   "source": [
    "rxn_list = ['C2C','HER']\n",
    "label = ['CO','H2']#,'Methane']\n",
    "\n",
    "color = ['r','g']\n",
    "\n",
    "model.j_potential(rxn_list, label, n ,7, color, gas_composition = array, jac=True,set_y_lim=[-10,25])"
   ]
  },
  {
   "cell_type": "code",
   "execution_count": 16,
   "id": "8ff8a117",
   "metadata": {},
   "outputs": [
    {
     "name": "stdout",
     "output_type": "stream",
     "text": [
      "CO2R_K: Full DRC and DSC analysis wrt C2C global reaction\n",
      "Temperature = 298.0K    Pressure = 1.0bar\n",
      "Gas composition: C1O2=100.0%  C1O1=0.0%  H2O=100.0%  H2=0.0%  \n",
      "\n",
      "R1\n",
      "DRC = 0.50\n",
      "\n",
      "R2\n",
      "DRC = 0.00\n",
      "\n",
      "R3\n",
      "DRC = -0.00\n",
      "\n",
      "R4\n",
      "DRC = -0.00\n",
      "\n",
      "R5\n",
      "DRC = -0.00\n",
      "\n",
      "R6\n",
      "DRC = 0.00\n",
      "\n",
      "i000000\n",
      "DRC = -1.00\n",
      "\n",
      "i010101\n",
      "DRC = -0.00\n",
      "\n",
      "i101101\n",
      "DRC = -0.00\n",
      "\n",
      "i102101a\n"
     ]
    },
    {
     "ename": "KeyboardInterrupt",
     "evalue": "",
     "output_type": "error",
     "traceback": [
      "\u001b[0;31m---------------------------------------------------------------------------\u001b[0m",
      "\u001b[0;31mKeyboardInterrupt\u001b[0m                         Traceback (most recent call last)",
      "\u001b[0;32m<ipython-input-16-22716dc41337>\u001b[0m in \u001b[0;36m<module>\u001b[0;34m\u001b[0m\n\u001b[0;32m----> 1\u001b[0;31m \u001b[0mmodel\u001b[0m\u001b[0;34m.\u001b[0m\u001b[0mdrc_full\u001b[0m\u001b[0;34m(\u001b[0m\u001b[0;34m'C2C'\u001b[0m\u001b[0;34m,\u001b[0m\u001b[0;34m-\u001b[0m\u001b[0;36m2.5\u001b[0m\u001b[0;34m,\u001b[0m \u001b[0;36m7\u001b[0m\u001b[0;34m,\u001b[0m\u001b[0;36m1\u001b[0m\u001b[0;34m,\u001b[0m \u001b[0mgas_composition\u001b[0m \u001b[0;34m=\u001b[0m \u001b[0marray\u001b[0m\u001b[0;34m,\u001b[0m\u001b[0mjac\u001b[0m\u001b[0;34m=\u001b[0m\u001b[0;34m'True'\u001b[0m\u001b[0;34m)\u001b[0m\u001b[0;34m\u001b[0m\u001b[0;34m\u001b[0m\u001b[0m\n\u001b[0m",
      "\u001b[0;32m~/teklahome/Z-to-Francesca/pyMKM_cation/electromkm.py\u001b[0m in \u001b[0;36mdrc_full\u001b[0;34m(self, global_reaction_label, overpotential, pH, cation_conc, initial_sur_coverage, temperature, pressure, gas_composition, dg, jac)\u001b[0m\n\u001b[1;32m    923\u001b[0m                                                                              \u001b[0mdg\u001b[0m\u001b[0;34m=\u001b[0m\u001b[0mdg\u001b[0m\u001b[0;34m,\u001b[0m\u001b[0;34m\u001b[0m\u001b[0;34m\u001b[0m\u001b[0m\n\u001b[1;32m    924\u001b[0m                                                                              \u001b[0mjac\u001b[0m\u001b[0;34m=\u001b[0m\u001b[0mjac\u001b[0m\u001b[0;34m,\u001b[0m\u001b[0;34m\u001b[0m\u001b[0;34m\u001b[0m\u001b[0m\n\u001b[0;32m--> 925\u001b[0;31m                                                                              verbose=1)\n\u001b[0m\u001b[1;32m    926\u001b[0m         \u001b[0mr\u001b[0m \u001b[0;34m=\u001b[0m \u001b[0;34m[\u001b[0m\u001b[0;34m]\u001b[0m\u001b[0;34m\u001b[0m\u001b[0;34m\u001b[0m\u001b[0m\n\u001b[1;32m    927\u001b[0m         \u001b[0;32mfor\u001b[0m \u001b[0mi\u001b[0m \u001b[0;32min\u001b[0m \u001b[0mrange\u001b[0m\u001b[0;34m(\u001b[0m\u001b[0mself\u001b[0m\u001b[0;34m.\u001b[0m\u001b[0mNR\u001b[0m\u001b[0;34m)\u001b[0m\u001b[0;34m:\u001b[0m\u001b[0;34m\u001b[0m\u001b[0;34m\u001b[0m\u001b[0m\n",
      "\u001b[0;32m~/teklahome/Z-to-Francesca/pyMKM_cation/electromkm.py\u001b[0m in \u001b[0;36mdegree_of_rate_control\u001b[0;34m(self, global_reaction_label, ts_int_label, overpotential, pH, cation_conc, initial_sur_coverage, temperature, pressure, gas_composition, dg, jac, verbose)\u001b[0m\n\u001b[1;32m    830\u001b[0m                                             \u001b[0mgas_composition\u001b[0m\u001b[0;34m=\u001b[0m\u001b[0mgas_composition\u001b[0m\u001b[0;34m,\u001b[0m\u001b[0;34m\u001b[0m\u001b[0;34m\u001b[0m\u001b[0m\n\u001b[1;32m    831\u001b[0m                                             \u001b[0mverbose\u001b[0m\u001b[0;34m=\u001b[0m\u001b[0;36m1\u001b[0m\u001b[0;34m,\u001b[0m\u001b[0;34m\u001b[0m\u001b[0;34m\u001b[0m\u001b[0m\n\u001b[0;32m--> 832\u001b[0;31m                                             jac=jac)\n\u001b[0m\u001b[1;32m    833\u001b[0m                 \u001b[0mr\u001b[0m\u001b[0;34m[\u001b[0m\u001b[0mi\u001b[0m\u001b[0;34m]\u001b[0m \u001b[0;34m=\u001b[0m \u001b[0mlist\u001b[0m\u001b[0;34m(\u001b[0m\u001b[0mrun\u001b[0m\u001b[0;34m[\u001b[0m\u001b[0;34m'r'\u001b[0m\u001b[0;34m]\u001b[0m\u001b[0;34m.\u001b[0m\u001b[0mvalues\u001b[0m\u001b[0;34m(\u001b[0m\u001b[0;34m)\u001b[0m\u001b[0;34m)\u001b[0m\u001b[0;34m[\u001b[0m\u001b[0mself\u001b[0m\u001b[0;34m.\u001b[0m\u001b[0mgrl\u001b[0m\u001b[0;34m[\u001b[0m\u001b[0mglobal_reaction_label\u001b[0m\u001b[0;34m]\u001b[0m\u001b[0;34m]\u001b[0m\u001b[0;34m\u001b[0m\u001b[0;34m\u001b[0m\u001b[0m\n\u001b[1;32m    834\u001b[0m                 \u001b[0mr_tot\u001b[0m \u001b[0;34m=\u001b[0m \u001b[0mlist\u001b[0m\u001b[0;34m(\u001b[0m\u001b[0mrun\u001b[0m\u001b[0;34m[\u001b[0m\u001b[0;34m'r'\u001b[0m\u001b[0;34m]\u001b[0m\u001b[0;34m.\u001b[0m\u001b[0mvalues\u001b[0m\u001b[0;34m(\u001b[0m\u001b[0;34m)\u001b[0m\u001b[0;34m)\u001b[0m\u001b[0;34m\u001b[0m\u001b[0;34m\u001b[0m\u001b[0m\n",
      "\u001b[0;32m~/teklahome/Z-to-Francesca/pyMKM_cation/electromkm.py\u001b[0m in \u001b[0;36mkinetic_run\u001b[0;34m(self, overpotential, pH, cation_conc, initial_sur_coverage, temperature, pressure, gas_composition, verbose, jac)\u001b[0m\n\u001b[1;32m    400\u001b[0m                                                  \u001b[0;34m*\u001b[0m\u001b[0mlist\u001b[0m\u001b[0;34m(\u001b[0m\u001b[0mself\u001b[0m\u001b[0;34m.\u001b[0m\u001b[0mODE_params\u001b[0m\u001b[0;34m.\u001b[0m\u001b[0mvalues\u001b[0m\u001b[0;34m(\u001b[0m\u001b[0;34m)\u001b[0m\u001b[0;34m)\u001b[0m\u001b[0;34m,\u001b[0m\u001b[0;34m\u001b[0m\u001b[0;34m\u001b[0m\u001b[0m\n\u001b[1;32m    401\u001b[0m                                                  \u001b[0mend_events\u001b[0m\u001b[0;34m=\u001b[0m\u001b[0;32mNone\u001b[0m\u001b[0;34m,\u001b[0m\u001b[0;34m\u001b[0m\u001b[0;34m\u001b[0m\u001b[0m\n\u001b[0;32m--> 402\u001b[0;31m                                                  jacobian_matrix=_)\n\u001b[0m\u001b[1;32m    403\u001b[0m         final_sr = self.differential_pfr(results_sr.t[-1],\n\u001b[1;32m    404\u001b[0m                                          \u001b[0mresults_sr\u001b[0m\u001b[0;34m.\u001b[0m\u001b[0my\u001b[0m\u001b[0;34m[\u001b[0m\u001b[0;34m:\u001b[0m\u001b[0;34m,\u001b[0m \u001b[0;34m-\u001b[0m\u001b[0;36m1\u001b[0m\u001b[0;34m]\u001b[0m\u001b[0;34m,\u001b[0m\u001b[0;34m\u001b[0m\u001b[0;34m\u001b[0m\u001b[0m\n",
      "\u001b[0;32m~/teklahome/Z-to-Francesca/pyMKM_cation/electromkm.py\u001b[0m in \u001b[0;36m__ode_solver_solve_ivp\u001b[0;34m(self, y_0, dy, temperature, overpotential, pH, reltol, abstol, t_final, end_events, jacobian_matrix)\u001b[0m\n\u001b[1;32m    297\u001b[0m                       \u001b[0matol\u001b[0m\u001b[0;34m=\u001b[0m\u001b[0mabstol\u001b[0m\u001b[0;34m,\u001b[0m\u001b[0;34m\u001b[0m\u001b[0;34m\u001b[0m\u001b[0m\n\u001b[1;32m    298\u001b[0m                       \u001b[0mrtol\u001b[0m\u001b[0;34m=\u001b[0m\u001b[0mreltol\u001b[0m\u001b[0;34m,\u001b[0m\u001b[0;34m\u001b[0m\u001b[0;34m\u001b[0m\u001b[0m\n\u001b[0;32m--> 299\u001b[0;31m                       max_step=t_final)\n\u001b[0m\u001b[1;32m    300\u001b[0m         \u001b[0;32mreturn\u001b[0m \u001b[0mr\u001b[0m\u001b[0;34m\u001b[0m\u001b[0;34m\u001b[0m\u001b[0m\n\u001b[1;32m    301\u001b[0m \u001b[0;34m\u001b[0m\u001b[0m\n",
      "\u001b[0;32m~/miniconda3/envs/jupyter/lib/python3.6/site-packages/scipy/integrate/_ivp/ivp.py\u001b[0m in \u001b[0;36msolve_ivp\u001b[0;34m(fun, t_span, y0, method, t_eval, dense_output, events, vectorized, args, **options)\u001b[0m\n\u001b[1;32m    574\u001b[0m     \u001b[0mstatus\u001b[0m \u001b[0;34m=\u001b[0m \u001b[0;32mNone\u001b[0m\u001b[0;34m\u001b[0m\u001b[0;34m\u001b[0m\u001b[0m\n\u001b[1;32m    575\u001b[0m     \u001b[0;32mwhile\u001b[0m \u001b[0mstatus\u001b[0m \u001b[0;32mis\u001b[0m \u001b[0;32mNone\u001b[0m\u001b[0;34m:\u001b[0m\u001b[0;34m\u001b[0m\u001b[0;34m\u001b[0m\u001b[0m\n\u001b[0;32m--> 576\u001b[0;31m         \u001b[0mmessage\u001b[0m \u001b[0;34m=\u001b[0m \u001b[0msolver\u001b[0m\u001b[0;34m.\u001b[0m\u001b[0mstep\u001b[0m\u001b[0;34m(\u001b[0m\u001b[0;34m)\u001b[0m\u001b[0;34m\u001b[0m\u001b[0;34m\u001b[0m\u001b[0m\n\u001b[0m\u001b[1;32m    577\u001b[0m \u001b[0;34m\u001b[0m\u001b[0m\n\u001b[1;32m    578\u001b[0m         \u001b[0;32mif\u001b[0m \u001b[0msolver\u001b[0m\u001b[0;34m.\u001b[0m\u001b[0mstatus\u001b[0m \u001b[0;34m==\u001b[0m \u001b[0;34m'finished'\u001b[0m\u001b[0;34m:\u001b[0m\u001b[0;34m\u001b[0m\u001b[0;34m\u001b[0m\u001b[0m\n",
      "\u001b[0;32m~/miniconda3/envs/jupyter/lib/python3.6/site-packages/scipy/integrate/_ivp/base.py\u001b[0m in \u001b[0;36mstep\u001b[0;34m(self)\u001b[0m\n\u001b[1;32m    179\u001b[0m         \u001b[0;32melse\u001b[0m\u001b[0;34m:\u001b[0m\u001b[0;34m\u001b[0m\u001b[0;34m\u001b[0m\u001b[0m\n\u001b[1;32m    180\u001b[0m             \u001b[0mt\u001b[0m \u001b[0;34m=\u001b[0m \u001b[0mself\u001b[0m\u001b[0;34m.\u001b[0m\u001b[0mt\u001b[0m\u001b[0;34m\u001b[0m\u001b[0;34m\u001b[0m\u001b[0m\n\u001b[0;32m--> 181\u001b[0;31m             \u001b[0msuccess\u001b[0m\u001b[0;34m,\u001b[0m \u001b[0mmessage\u001b[0m \u001b[0;34m=\u001b[0m \u001b[0mself\u001b[0m\u001b[0;34m.\u001b[0m\u001b[0m_step_impl\u001b[0m\u001b[0;34m(\u001b[0m\u001b[0;34m)\u001b[0m\u001b[0;34m\u001b[0m\u001b[0;34m\u001b[0m\u001b[0m\n\u001b[0m\u001b[1;32m    182\u001b[0m \u001b[0;34m\u001b[0m\u001b[0m\n\u001b[1;32m    183\u001b[0m             \u001b[0;32mif\u001b[0m \u001b[0;32mnot\u001b[0m \u001b[0msuccess\u001b[0m\u001b[0;34m:\u001b[0m\u001b[0;34m\u001b[0m\u001b[0;34m\u001b[0m\u001b[0m\n",
      "\u001b[0;32m~/miniconda3/envs/jupyter/lib/python3.6/site-packages/scipy/integrate/_ivp/bdf.py\u001b[0m in \u001b[0;36m_step_impl\u001b[0;34m(self)\u001b[0m\n\u001b[1;32m    353\u001b[0m                 converged, n_iter, y_new, d = solve_bdf_system(\n\u001b[1;32m    354\u001b[0m                     \u001b[0mself\u001b[0m\u001b[0;34m.\u001b[0m\u001b[0mfun\u001b[0m\u001b[0;34m,\u001b[0m \u001b[0mt_new\u001b[0m\u001b[0;34m,\u001b[0m \u001b[0my_predict\u001b[0m\u001b[0;34m,\u001b[0m \u001b[0mc\u001b[0m\u001b[0;34m,\u001b[0m \u001b[0mpsi\u001b[0m\u001b[0;34m,\u001b[0m \u001b[0mLU\u001b[0m\u001b[0;34m,\u001b[0m \u001b[0mself\u001b[0m\u001b[0;34m.\u001b[0m\u001b[0msolve_lu\u001b[0m\u001b[0;34m,\u001b[0m\u001b[0;34m\u001b[0m\u001b[0;34m\u001b[0m\u001b[0m\n\u001b[0;32m--> 355\u001b[0;31m                     scale, self.newton_tol)\n\u001b[0m\u001b[1;32m    356\u001b[0m \u001b[0;34m\u001b[0m\u001b[0m\n\u001b[1;32m    357\u001b[0m                 \u001b[0;32mif\u001b[0m \u001b[0;32mnot\u001b[0m \u001b[0mconverged\u001b[0m\u001b[0;34m:\u001b[0m\u001b[0;34m\u001b[0m\u001b[0;34m\u001b[0m\u001b[0m\n",
      "\u001b[0;32m~/miniconda3/envs/jupyter/lib/python3.6/site-packages/scipy/integrate/_ivp/bdf.py\u001b[0m in \u001b[0;36msolve_bdf_system\u001b[0;34m(fun, t_new, y_predict, c, psi, LU, solve_lu, scale, tol)\u001b[0m\n\u001b[1;32m     41\u001b[0m     \u001b[0mconverged\u001b[0m \u001b[0;34m=\u001b[0m \u001b[0;32mFalse\u001b[0m\u001b[0;34m\u001b[0m\u001b[0;34m\u001b[0m\u001b[0m\n\u001b[1;32m     42\u001b[0m     \u001b[0;32mfor\u001b[0m \u001b[0mk\u001b[0m \u001b[0;32min\u001b[0m \u001b[0mrange\u001b[0m\u001b[0;34m(\u001b[0m\u001b[0mNEWTON_MAXITER\u001b[0m\u001b[0;34m)\u001b[0m\u001b[0;34m:\u001b[0m\u001b[0;34m\u001b[0m\u001b[0;34m\u001b[0m\u001b[0m\n\u001b[0;32m---> 43\u001b[0;31m         \u001b[0mf\u001b[0m \u001b[0;34m=\u001b[0m \u001b[0mfun\u001b[0m\u001b[0;34m(\u001b[0m\u001b[0mt_new\u001b[0m\u001b[0;34m,\u001b[0m \u001b[0my\u001b[0m\u001b[0;34m)\u001b[0m\u001b[0;34m\u001b[0m\u001b[0;34m\u001b[0m\u001b[0m\n\u001b[0m\u001b[1;32m     44\u001b[0m         \u001b[0;32mif\u001b[0m \u001b[0;32mnot\u001b[0m \u001b[0mnp\u001b[0m\u001b[0;34m.\u001b[0m\u001b[0mall\u001b[0m\u001b[0;34m(\u001b[0m\u001b[0mnp\u001b[0m\u001b[0;34m.\u001b[0m\u001b[0misfinite\u001b[0m\u001b[0;34m(\u001b[0m\u001b[0mf\u001b[0m\u001b[0;34m)\u001b[0m\u001b[0;34m)\u001b[0m\u001b[0;34m:\u001b[0m\u001b[0;34m\u001b[0m\u001b[0;34m\u001b[0m\u001b[0m\n\u001b[1;32m     45\u001b[0m             \u001b[0;32mbreak\u001b[0m\u001b[0;34m\u001b[0m\u001b[0;34m\u001b[0m\u001b[0m\n",
      "\u001b[0;32m~/miniconda3/envs/jupyter/lib/python3.6/site-packages/scipy/integrate/_ivp/base.py\u001b[0m in \u001b[0;36mfun\u001b[0;34m(t, y)\u001b[0m\n\u001b[1;32m    136\u001b[0m         \u001b[0;32mdef\u001b[0m \u001b[0mfun\u001b[0m\u001b[0;34m(\u001b[0m\u001b[0mt\u001b[0m\u001b[0;34m,\u001b[0m \u001b[0my\u001b[0m\u001b[0;34m)\u001b[0m\u001b[0;34m:\u001b[0m\u001b[0;34m\u001b[0m\u001b[0;34m\u001b[0m\u001b[0m\n\u001b[1;32m    137\u001b[0m             \u001b[0mself\u001b[0m\u001b[0;34m.\u001b[0m\u001b[0mnfev\u001b[0m \u001b[0;34m+=\u001b[0m \u001b[0;36m1\u001b[0m\u001b[0;34m\u001b[0m\u001b[0;34m\u001b[0m\u001b[0m\n\u001b[0;32m--> 138\u001b[0;31m             \u001b[0;32mreturn\u001b[0m \u001b[0mself\u001b[0m\u001b[0;34m.\u001b[0m\u001b[0mfun_single\u001b[0m\u001b[0;34m(\u001b[0m\u001b[0mt\u001b[0m\u001b[0;34m,\u001b[0m \u001b[0my\u001b[0m\u001b[0;34m)\u001b[0m\u001b[0;34m\u001b[0m\u001b[0;34m\u001b[0m\u001b[0m\n\u001b[0m\u001b[1;32m    139\u001b[0m \u001b[0;34m\u001b[0m\u001b[0m\n\u001b[1;32m    140\u001b[0m         \u001b[0mself\u001b[0m\u001b[0;34m.\u001b[0m\u001b[0mfun\u001b[0m \u001b[0;34m=\u001b[0m \u001b[0mfun\u001b[0m\u001b[0;34m\u001b[0m\u001b[0;34m\u001b[0m\u001b[0m\n",
      "\u001b[0;32m~/miniconda3/envs/jupyter/lib/python3.6/site-packages/scipy/integrate/_ivp/base.py\u001b[0m in \u001b[0;36mfun_wrapped\u001b[0;34m(t, y)\u001b[0m\n\u001b[1;32m     18\u001b[0m \u001b[0;34m\u001b[0m\u001b[0m\n\u001b[1;32m     19\u001b[0m     \u001b[0;32mdef\u001b[0m \u001b[0mfun_wrapped\u001b[0m\u001b[0;34m(\u001b[0m\u001b[0mt\u001b[0m\u001b[0;34m,\u001b[0m \u001b[0my\u001b[0m\u001b[0;34m)\u001b[0m\u001b[0;34m:\u001b[0m\u001b[0;34m\u001b[0m\u001b[0;34m\u001b[0m\u001b[0m\n\u001b[0;32m---> 20\u001b[0;31m         \u001b[0;32mreturn\u001b[0m \u001b[0mnp\u001b[0m\u001b[0;34m.\u001b[0m\u001b[0masarray\u001b[0m\u001b[0;34m(\u001b[0m\u001b[0mfun\u001b[0m\u001b[0;34m(\u001b[0m\u001b[0mt\u001b[0m\u001b[0;34m,\u001b[0m \u001b[0my\u001b[0m\u001b[0;34m)\u001b[0m\u001b[0;34m,\u001b[0m \u001b[0mdtype\u001b[0m\u001b[0;34m=\u001b[0m\u001b[0mdtype\u001b[0m\u001b[0;34m)\u001b[0m\u001b[0;34m\u001b[0m\u001b[0;34m\u001b[0m\u001b[0m\n\u001b[0m\u001b[1;32m     21\u001b[0m \u001b[0;34m\u001b[0m\u001b[0m\n\u001b[1;32m     22\u001b[0m     \u001b[0;32mreturn\u001b[0m \u001b[0mfun_wrapped\u001b[0m\u001b[0;34m,\u001b[0m \u001b[0my0\u001b[0m\u001b[0;34m\u001b[0m\u001b[0;34m\u001b[0m\u001b[0m\n",
      "\u001b[0;32m~/miniconda3/envs/jupyter/lib/python3.6/site-packages/scipy/integrate/_ivp/ivp.py\u001b[0m in \u001b[0;36m<lambda>\u001b[0;34m(t, x, fun)\u001b[0m\n\u001b[1;32m    512\u001b[0m         \u001b[0;31m# additional parameters.  Pass in the original fun as a keyword\u001b[0m\u001b[0;34m\u001b[0m\u001b[0;34m\u001b[0m\u001b[0;34m\u001b[0m\u001b[0m\n\u001b[1;32m    513\u001b[0m         \u001b[0;31m# argument to keep it in the scope of the lambda.\u001b[0m\u001b[0;34m\u001b[0m\u001b[0;34m\u001b[0m\u001b[0;34m\u001b[0m\u001b[0m\n\u001b[0;32m--> 514\u001b[0;31m         \u001b[0mfun\u001b[0m \u001b[0;34m=\u001b[0m \u001b[0;32mlambda\u001b[0m \u001b[0mt\u001b[0m\u001b[0;34m,\u001b[0m \u001b[0mx\u001b[0m\u001b[0;34m,\u001b[0m \u001b[0mfun\u001b[0m\u001b[0;34m=\u001b[0m\u001b[0mfun\u001b[0m\u001b[0;34m:\u001b[0m \u001b[0mfun\u001b[0m\u001b[0;34m(\u001b[0m\u001b[0mt\u001b[0m\u001b[0;34m,\u001b[0m \u001b[0mx\u001b[0m\u001b[0;34m,\u001b[0m \u001b[0;34m*\u001b[0m\u001b[0margs\u001b[0m\u001b[0;34m)\u001b[0m\u001b[0;34m\u001b[0m\u001b[0;34m\u001b[0m\u001b[0m\n\u001b[0m\u001b[1;32m    515\u001b[0m         \u001b[0mjac\u001b[0m \u001b[0;34m=\u001b[0m \u001b[0moptions\u001b[0m\u001b[0;34m.\u001b[0m\u001b[0mget\u001b[0m\u001b[0;34m(\u001b[0m\u001b[0;34m'jac'\u001b[0m\u001b[0;34m)\u001b[0m\u001b[0;34m\u001b[0m\u001b[0;34m\u001b[0m\u001b[0m\n\u001b[1;32m    516\u001b[0m         \u001b[0;32mif\u001b[0m \u001b[0mcallable\u001b[0m\u001b[0;34m(\u001b[0m\u001b[0mjac\u001b[0m\u001b[0;34m)\u001b[0m\u001b[0;34m:\u001b[0m\u001b[0;34m\u001b[0m\u001b[0;34m\u001b[0m\u001b[0m\n",
      "\u001b[0;32m~/teklahome/Z-to-Francesca/pyMKM_cation/electromkm.py\u001b[0m in \u001b[0;36mdifferential_pfr\u001b[0;34m(self, time, y, kd, ki)\u001b[0m\n\u001b[1;32m    235\u001b[0m         \"\"\"\n\u001b[1;32m    236\u001b[0m         \u001b[0;31m# Surface species\u001b[0m\u001b[0;34m\u001b[0m\u001b[0;34m\u001b[0m\u001b[0;34m\u001b[0m\u001b[0m\n\u001b[0;32m--> 237\u001b[0;31m         \u001b[0mdy\u001b[0m \u001b[0;34m=\u001b[0m \u001b[0mself\u001b[0m\u001b[0;34m.\u001b[0m\u001b[0mv_matrix\u001b[0m \u001b[0;34m@\u001b[0m \u001b[0mnet_rate\u001b[0m\u001b[0;34m(\u001b[0m\u001b[0my\u001b[0m\u001b[0;34m,\u001b[0m \u001b[0mkd\u001b[0m\u001b[0;34m,\u001b[0m \u001b[0mki\u001b[0m\u001b[0;34m,\u001b[0m \u001b[0mself\u001b[0m\u001b[0;34m.\u001b[0m\u001b[0mv_f\u001b[0m\u001b[0;34m,\u001b[0m \u001b[0mself\u001b[0m\u001b[0;34m.\u001b[0m\u001b[0mv_b\u001b[0m\u001b[0;34m)\u001b[0m\u001b[0;34m\u001b[0m\u001b[0;34m\u001b[0m\u001b[0m\n\u001b[0m\u001b[1;32m    238\u001b[0m         \u001b[0;31m# Gas species and H+\u001b[0m\u001b[0;34m\u001b[0m\u001b[0;34m\u001b[0m\u001b[0;34m\u001b[0m\u001b[0m\n\u001b[1;32m    239\u001b[0m         \u001b[0mdy\u001b[0m\u001b[0;34m[\u001b[0m\u001b[0mself\u001b[0m\u001b[0;34m.\u001b[0m\u001b[0mNC_sur\u001b[0m\u001b[0;34m:\u001b[0m\u001b[0;34m]\u001b[0m \u001b[0;34m=\u001b[0m \u001b[0;36m0.0\u001b[0m\u001b[0;34m\u001b[0m\u001b[0;34m\u001b[0m\u001b[0m\n",
      "\u001b[0;32m~/teklahome/Z-to-Francesca/pyMKM_cation/functions.py\u001b[0m in \u001b[0;36mnet_rate\u001b[0;34m(y, kd, ki, v_f, v_b)\u001b[0m\n\u001b[1;32m    115\u001b[0m         \"\"\"\n\u001b[1;32m    116\u001b[0m         \u001b[0mnet_rate\u001b[0m \u001b[0;34m=\u001b[0m \u001b[0mnp\u001b[0m\u001b[0;34m.\u001b[0m\u001b[0mzeros\u001b[0m\u001b[0;34m(\u001b[0m\u001b[0mlen\u001b[0m\u001b[0;34m(\u001b[0m\u001b[0mkd\u001b[0m\u001b[0;34m)\u001b[0m\u001b[0;34m)\u001b[0m\u001b[0;34m\u001b[0m\u001b[0;34m\u001b[0m\u001b[0m\n\u001b[0;32m--> 117\u001b[0;31m         \u001b[0mnet_rate\u001b[0m \u001b[0;34m=\u001b[0m \u001b[0mkd\u001b[0m \u001b[0;34m*\u001b[0m \u001b[0mnp\u001b[0m\u001b[0;34m.\u001b[0m\u001b[0mprod\u001b[0m\u001b[0;34m(\u001b[0m\u001b[0my\u001b[0m \u001b[0;34m**\u001b[0m \u001b[0mv_f\u001b[0m\u001b[0;34m,\u001b[0m \u001b[0maxis\u001b[0m\u001b[0;34m=\u001b[0m\u001b[0;36m1\u001b[0m\u001b[0;34m)\u001b[0m \u001b[0;34m-\u001b[0m \u001b[0mki\u001b[0m \u001b[0;34m*\u001b[0m \u001b[0mnp\u001b[0m\u001b[0;34m.\u001b[0m\u001b[0mprod\u001b[0m\u001b[0;34m(\u001b[0m\u001b[0my\u001b[0m \u001b[0;34m**\u001b[0m \u001b[0mv_b\u001b[0m\u001b[0;34m,\u001b[0m \u001b[0maxis\u001b[0m\u001b[0;34m=\u001b[0m\u001b[0;36m1\u001b[0m\u001b[0;34m)\u001b[0m\u001b[0;34m\u001b[0m\u001b[0;34m\u001b[0m\u001b[0m\n\u001b[0m\u001b[1;32m    118\u001b[0m         \u001b[0;32mreturn\u001b[0m \u001b[0mnet_rate\u001b[0m\u001b[0;34m\u001b[0m\u001b[0;34m\u001b[0m\u001b[0m\n",
      "\u001b[0;31mKeyboardInterrupt\u001b[0m: "
     ]
    }
   ],
   "source": [
    "model.drc_full('C2C',-2.5, 7,1, gas_composition = array,jac='True')"
   ]
  },
  {
   "cell_type": "markdown",
   "metadata": {
    "heading_collapsed": true
   },
   "source": [
    "### Check for the analytical Jacobian matrix"
   ]
  },
  {
   "cell_type": "markdown",
   "metadata": {
    "hidden": true
   },
   "source": [
    "In order to check if the implemented analytical Jacobian is correct or not, we run the same simulation with and without the analytical Jacobian: If the solutions are the same, the Jacobian is correct. If not, it means that the wrong Jacobian drives the system away from the correct solution. "
   ]
  },
  {
   "cell_type": "markdown",
   "metadata": {
    "heading_collapsed": true,
    "hidden": true
   },
   "source": [
    "#### Simulation without analytical Jacobian"
   ]
  },
  {
   "cell_type": "code",
   "execution_count": null,
   "metadata": {
    "hidden": true
   },
   "outputs": [],
   "source": [
    "exp1 = model.kinetic_run(-0.1, 7, jac=False)"
   ]
  },
  {
   "cell_type": "markdown",
   "metadata": {
    "heading_collapsed": true,
    "hidden": true
   },
   "source": [
    "#### Simulation with analytical Jacobian"
   ]
  },
  {
   "cell_type": "code",
   "execution_count": null,
   "metadata": {
    "hidden": true
   },
   "outputs": [],
   "source": [
    "exp2 = model.kinetic_run(-0.1, 7, jac=True)"
   ]
  },
  {
   "cell_type": "markdown",
   "metadata": {
    "hidden": true
   },
   "source": [
    "Observe the difference in the CPU time required to integrate the system without and with the Jacobian!"
   ]
  }
 ],
 "metadata": {
  "kernelspec": {
   "display_name": "Python 3.6.15 ('jupyter')",
   "language": "python",
   "name": "python3"
  },
  "language_info": {
   "codemirror_mode": {
    "name": "ipython",
    "version": 3
   },
   "file_extension": ".py",
   "mimetype": "text/x-python",
   "name": "python",
   "nbconvert_exporter": "python",
   "pygments_lexer": "ipython3",
   "version": "3.6.15"
  },
  "toc": {
   "base_numbering": 1,
   "nav_menu": {},
   "number_sections": true,
   "sideBar": true,
   "skip_h1_title": false,
   "title_cell": "Table of Contents",
   "title_sidebar": "Contents",
   "toc_cell": false,
   "toc_position": {},
   "toc_section_display": true,
   "toc_window_display": false
  },
  "varInspector": {
   "cols": {
    "lenName": 16,
    "lenType": 16,
    "lenVar": 40
   },
   "kernels_config": {
    "python": {
     "delete_cmd_postfix": "",
     "delete_cmd_prefix": "del ",
     "library": "var_list.py",
     "varRefreshCmd": "print(var_dic_list())"
    },
    "r": {
     "delete_cmd_postfix": ") ",
     "delete_cmd_prefix": "rm(",
     "library": "var_list.r",
     "varRefreshCmd": "cat(var_dic_list()) "
    }
   },
   "types_to_exclude": [
    "module",
    "function",
    "builtin_function_or_method",
    "instance",
    "_Feature"
   ],
   "window_display": false
  },
  "vscode": {
   "interpreter": {
    "hash": "731cc157fbe1e9e3759b10a77e1a15ec23deafd112ef16330834e02079d6f94e"
   }
  }
 },
 "nbformat": 4,
 "nbformat_minor": 5
}
