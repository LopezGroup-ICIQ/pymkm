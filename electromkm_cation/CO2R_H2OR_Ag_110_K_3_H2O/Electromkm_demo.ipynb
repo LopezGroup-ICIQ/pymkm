{
 "cells": [
  {
   "cell_type": "markdown",
   "metadata": {
    "heading_collapsed": true
   },
   "source": [
    "# ElectroMKM class import and object instantiation"
   ]
  },
  {
   "cell_type": "code",
   "execution_count": 1,
   "id": "6b9a27c2",
   "metadata": {
    "ExecuteTime": {
     "end_time": "2021-09-02T13:57:57.639188Z",
     "start_time": "2021-09-02T13:57:57.635708Z"
    },
    "hidden": true
   },
   "outputs": [],
   "source": [
    "import sys\n",
    "sys.path.insert(0, \"../\") \n",
    "from electromkm import electroMKM"
   ]
  },
  {
   "cell_type": "markdown",
   "id": "3f389982",
   "metadata": {
    "hidden": true
   },
   "source": [
    "The demo system deal with the Hydrogen Evolution Reaction (HER) with random values."
   ]
  },
  {
   "cell_type": "code",
   "execution_count": 2,
   "id": "a0380ce6",
   "metadata": {
    "ExecuteTime": {
     "end_time": "2021-09-02T13:58:13.534858Z",
     "start_time": "2021-09-02T13:58:13.529302Z"
    },
    "hidden": true
   },
   "outputs": [
    {
     "name": "stdout",
     "output_type": "stream",
     "text": [
      "['C2C 1: C1O2(g) + 2H2O(e) + K+(cat) -> C1O1(g) + H2O(g)', 'HER 5: 2H2O(e) + K+(cat) -> H2(g)', '', '', '', 'C1O2(g) + i000000  -> i102101a', 'C1O1(g) + i000000 -> i101101', 'i112102 + H2O(e) -> i101101 + H2O(g)', 'i102101a + H2O(e)  -> i112102', 'H2O(e) + i000000  -> i010101', 'H2(g) + 2i000000 -> 2i010101']\n",
      "K+\n",
      "K+\n"
     ]
    }
   ],
   "source": [
    "model = electroMKM('CO2R_110',\n",
    "                   'rm.mkm', \n",
    "                   'g.mkm', \n",
    "                    t_ref=298)"
   ]
  },
  {
   "cell_type": "code",
   "execution_count": 3,
   "id": "5a9cce32",
   "metadata": {},
   "outputs": [
    {
     "data": {
      "text/plain": [
       "1"
      ]
     },
     "execution_count": 3,
     "metadata": {},
     "output_type": "execute_result"
    }
   ],
   "source": [
    "model.NC_base"
   ]
  },
  {
   "cell_type": "markdown",
   "id": "102db54a",
   "metadata": {
    "heading_collapsed": true
   },
   "source": [
    "# Model exploration\n"
   ]
  },
  {
   "cell_type": "markdown",
   "id": "293c70f8",
   "metadata": {
    "hidden": true
   },
   "source": [
    "To investigate the characteristics of the system under study, several attributes can be easily inspected to check general information like number of elementary reactions, energetics, reaction network, etc."
   ]
  },
  {
   "cell_type": "code",
   "execution_count": 4,
   "id": "2c4b97c9",
   "metadata": {
    "hidden": true
   },
   "outputs": [
    {
     "name": "stdout",
     "output_type": "stream",
     "text": [
      "['C1O2(g)', 'C1O1(g)', 'H2O(g)', 'H2(g)']\n"
     ]
    }
   ],
   "source": [
    "print(model.species_gas)"
   ]
  },
  {
   "cell_type": "markdown",
   "id": "71f0f4e6",
   "metadata": {
    "hidden": true
   },
   "source": [
    "### Defined species in the system\n",
    "\n",
    "N.B. H(e) is used to define H+ + e-."
   ]
  },
  {
   "cell_type": "code",
   "execution_count": 5,
   "id": "0ce725da",
   "metadata": {
    "hidden": true,
    "scrolled": true
   },
   "outputs": [
    {
     "data": {
      "text/plain": [
       "['i000000',\n",
       " 'i010101',\n",
       " 'i101101',\n",
       " 'i102101a',\n",
       " 'i112102',\n",
       " 'H2O(e)',\n",
       " 'C1O2(g)',\n",
       " 'C1O1(g)',\n",
       " 'H2O(g)',\n",
       " 'H2(g)']"
      ]
     },
     "execution_count": 5,
     "metadata": {},
     "output_type": "execute_result"
    }
   ],
   "source": [
    "model.species_tot"
   ]
  },
  {
   "cell_type": "markdown",
   "id": "555fffd8",
   "metadata": {
    "hidden": true
   },
   "source": [
    "### Visualize Gibbs energetics of the system\n",
    "\n",
    "Reaction types: 'ads'=adsorption\n",
    "                'des'=desorption\n",
    "                'sur'=surface reaction. \n",
    "The suffix \"+e\" means that that elementary reaction is a charge-transfer step."
   ]
  },
  {
   "cell_type": "code",
   "execution_count": 6,
   "id": "e9ec6e82",
   "metadata": {
    "hidden": true
   },
   "outputs": [
    {
     "data": {
      "text/html": [
       "<div>\n",
       "<style scoped>\n",
       "    .dataframe tbody tr th:only-of-type {\n",
       "        vertical-align: middle;\n",
       "    }\n",
       "\n",
       "    .dataframe tbody tr th {\n",
       "        vertical-align: top;\n",
       "    }\n",
       "\n",
       "    .dataframe thead th {\n",
       "        text-align: right;\n",
       "    }\n",
       "</style>\n",
       "<table border=\"1\" class=\"dataframe\">\n",
       "  <thead>\n",
       "    <tr style=\"text-align: right;\">\n",
       "      <th></th>\n",
       "      <th></th>\n",
       "      <th>DGR / eV</th>\n",
       "      <th>DG barrier / eV</th>\n",
       "      <th>DG reverse barrier / eV</th>\n",
       "    </tr>\n",
       "  </thead>\n",
       "  <tbody>\n",
       "    <tr>\n",
       "      <th>R1</th>\n",
       "      <th>ads</th>\n",
       "      <td>-0.039</td>\n",
       "      <td>0.000</td>\n",
       "      <td>0.039</td>\n",
       "    </tr>\n",
       "    <tr>\n",
       "      <th>R2</th>\n",
       "      <th>ads</th>\n",
       "      <td>0.259</td>\n",
       "      <td>0.259</td>\n",
       "      <td>0.000</td>\n",
       "    </tr>\n",
       "    <tr>\n",
       "      <th>R3</th>\n",
       "      <th>des+b_e</th>\n",
       "      <td>0.195</td>\n",
       "      <td>0.753</td>\n",
       "      <td>0.558</td>\n",
       "    </tr>\n",
       "    <tr>\n",
       "      <th>R4</th>\n",
       "      <th>sur+b_e</th>\n",
       "      <td>0.394</td>\n",
       "      <td>1.207</td>\n",
       "      <td>0.813</td>\n",
       "    </tr>\n",
       "    <tr>\n",
       "      <th>R5</th>\n",
       "      <th>sur+b_e</th>\n",
       "      <td>0.292</td>\n",
       "      <td>1.293</td>\n",
       "      <td>1.001</td>\n",
       "    </tr>\n",
       "    <tr>\n",
       "      <th>R6</th>\n",
       "      <th>ads</th>\n",
       "      <td>0.584</td>\n",
       "      <td>0.584</td>\n",
       "      <td>0.000</td>\n",
       "    </tr>\n",
       "  </tbody>\n",
       "</table>\n",
       "</div>"
      ],
      "text/plain": [
       "            DGR / eV  DG barrier / eV  DG reverse barrier / eV\n",
       "R1 ads        -0.039            0.000                    0.039\n",
       "R2 ads         0.259            0.259                    0.000\n",
       "R3 des+b_e     0.195            0.753                    0.558\n",
       "R4 sur+b_e     0.394            1.207                    0.813\n",
       "R5 sur+b_e     0.292            1.293                    1.001\n",
       "R6 ads         0.584            0.584                    0.000"
      ]
     },
     "execution_count": 6,
     "metadata": {},
     "output_type": "execute_result"
    }
   ],
   "source": [
    "model.df_gibbs"
   ]
  },
  {
   "cell_type": "code",
   "execution_count": 7,
   "id": "61c866b8",
   "metadata": {},
   "outputs": [
    {
     "data": {
      "text/plain": [
       "array([0.   , 0.   , 0.767, 1.216, 1.297, 0.254])"
      ]
     },
     "execution_count": 7,
     "metadata": {},
     "output_type": "execute_result"
    }
   ],
   "source": [
    "model.dh_barrier"
   ]
  },
  {
   "cell_type": "markdown",
   "id": "65863eb0",
   "metadata": {
    "hidden": true
   },
   "source": [
    "### Stoichiometric matrix of the reaction network"
   ]
  },
  {
   "cell_type": "code",
   "execution_count": 8,
   "id": "086b80c9",
   "metadata": {
    "hidden": true
   },
   "outputs": [
    {
     "data": {
      "text/html": [
       "<div>\n",
       "<style scoped>\n",
       "    .dataframe tbody tr th:only-of-type {\n",
       "        vertical-align: middle;\n",
       "    }\n",
       "\n",
       "    .dataframe tbody tr th {\n",
       "        vertical-align: top;\n",
       "    }\n",
       "\n",
       "    .dataframe thead tr th {\n",
       "        text-align: left;\n",
       "    }\n",
       "\n",
       "    .dataframe thead tr:last-of-type th {\n",
       "        text-align: right;\n",
       "    }\n",
       "</style>\n",
       "<table border=\"1\" class=\"dataframe\">\n",
       "  <thead>\n",
       "    <tr>\n",
       "      <th></th>\n",
       "      <th>R1</th>\n",
       "      <th>R2</th>\n",
       "      <th>R3</th>\n",
       "      <th>R4</th>\n",
       "      <th>R5</th>\n",
       "      <th>R6</th>\n",
       "    </tr>\n",
       "    <tr>\n",
       "      <th></th>\n",
       "      <th>ads</th>\n",
       "      <th>ads</th>\n",
       "      <th>des+b_e</th>\n",
       "      <th>sur+b_e</th>\n",
       "      <th>sur+b_e</th>\n",
       "      <th>ads</th>\n",
       "    </tr>\n",
       "    <tr>\n",
       "      <th>species</th>\n",
       "      <th></th>\n",
       "      <th></th>\n",
       "      <th></th>\n",
       "      <th></th>\n",
       "      <th></th>\n",
       "      <th></th>\n",
       "    </tr>\n",
       "  </thead>\n",
       "  <tbody>\n",
       "    <tr>\n",
       "      <th>i000000</th>\n",
       "      <td>-1</td>\n",
       "      <td>-1</td>\n",
       "      <td>0</td>\n",
       "      <td>0</td>\n",
       "      <td>-1</td>\n",
       "      <td>-2</td>\n",
       "    </tr>\n",
       "    <tr>\n",
       "      <th>i010101</th>\n",
       "      <td>0</td>\n",
       "      <td>0</td>\n",
       "      <td>0</td>\n",
       "      <td>0</td>\n",
       "      <td>1</td>\n",
       "      <td>2</td>\n",
       "    </tr>\n",
       "    <tr>\n",
       "      <th>i101101</th>\n",
       "      <td>0</td>\n",
       "      <td>1</td>\n",
       "      <td>1</td>\n",
       "      <td>0</td>\n",
       "      <td>0</td>\n",
       "      <td>0</td>\n",
       "    </tr>\n",
       "    <tr>\n",
       "      <th>i102101a</th>\n",
       "      <td>1</td>\n",
       "      <td>0</td>\n",
       "      <td>0</td>\n",
       "      <td>-1</td>\n",
       "      <td>0</td>\n",
       "      <td>0</td>\n",
       "    </tr>\n",
       "    <tr>\n",
       "      <th>i112102</th>\n",
       "      <td>0</td>\n",
       "      <td>0</td>\n",
       "      <td>-1</td>\n",
       "      <td>1</td>\n",
       "      <td>0</td>\n",
       "      <td>0</td>\n",
       "    </tr>\n",
       "    <tr>\n",
       "      <th>H2O(e)</th>\n",
       "      <td>0</td>\n",
       "      <td>0</td>\n",
       "      <td>-1</td>\n",
       "      <td>-1</td>\n",
       "      <td>-1</td>\n",
       "      <td>0</td>\n",
       "    </tr>\n",
       "    <tr>\n",
       "      <th>C1O2(g)</th>\n",
       "      <td>-1</td>\n",
       "      <td>0</td>\n",
       "      <td>0</td>\n",
       "      <td>0</td>\n",
       "      <td>0</td>\n",
       "      <td>0</td>\n",
       "    </tr>\n",
       "    <tr>\n",
       "      <th>C1O1(g)</th>\n",
       "      <td>0</td>\n",
       "      <td>-1</td>\n",
       "      <td>0</td>\n",
       "      <td>0</td>\n",
       "      <td>0</td>\n",
       "      <td>0</td>\n",
       "    </tr>\n",
       "    <tr>\n",
       "      <th>H2O(g)</th>\n",
       "      <td>0</td>\n",
       "      <td>0</td>\n",
       "      <td>1</td>\n",
       "      <td>0</td>\n",
       "      <td>0</td>\n",
       "      <td>0</td>\n",
       "    </tr>\n",
       "    <tr>\n",
       "      <th>H2(g)</th>\n",
       "      <td>0</td>\n",
       "      <td>0</td>\n",
       "      <td>0</td>\n",
       "      <td>0</td>\n",
       "      <td>0</td>\n",
       "      <td>-1</td>\n",
       "    </tr>\n",
       "  </tbody>\n",
       "</table>\n",
       "</div>"
      ],
      "text/plain": [
       "          R1  R2      R3      R4      R5  R6\n",
       "         ads ads des+b_e sur+b_e sur+b_e ads\n",
       "species                                     \n",
       "i000000   -1  -1       0       0      -1  -2\n",
       "i010101    0   0       0       0       1   2\n",
       "i101101    0   1       1       0       0   0\n",
       "i102101a   1   0       0      -1       0   0\n",
       "i112102    0   0      -1       1       0   0\n",
       "H2O(e)     0   0      -1      -1      -1   0\n",
       "C1O2(g)   -1   0       0       0       0   0\n",
       "C1O1(g)    0  -1       0       0       0   0\n",
       "H2O(g)     0   0       1       0       0   0\n",
       "H2(g)      0   0       0       0       0  -1"
      ]
     },
     "execution_count": 8,
     "metadata": {},
     "output_type": "execute_result"
    }
   ],
   "source": [
    "model.df_system"
   ]
  },
  {
   "cell_type": "markdown",
   "id": "3f564b93",
   "metadata": {
    "hidden": true
   },
   "source": [
    "### Stoichiometric vector of the global reactions"
   ]
  },
  {
   "cell_type": "code",
   "execution_count": 9,
   "id": "4d915904",
   "metadata": {
    "hidden": true
   },
   "outputs": [
    {
     "data": {
      "text/plain": [
       "['C1O2(g) + 2H2O(e) + K+(cat) -> C1O1(g) + H2O(g)',\n",
       " '2H2O(e) + K+(cat) -> H2(g)']"
      ]
     },
     "execution_count": 9,
     "metadata": {},
     "output_type": "execute_result"
    }
   ],
   "source": [
    "model.gr_string"
   ]
  },
  {
   "cell_type": "markdown",
   "id": "966ad21a",
   "metadata": {
    "hidden": true
   },
   "source": [
    "model.stoich_numbers tells us that the first elementary reaction must be multiplied by two and summed up to the second one in order to get the global reaction. This is useful for checking the thermodynamic consistency of the developed models."
   ]
  },
  {
   "cell_type": "markdown",
   "id": "2264f532",
   "metadata": {},
   "source": [
    "# Microkinetic runs and Tafel plot"
   ]
  },
  {
   "cell_type": "markdown",
   "id": "0924e9b1",
   "metadata": {},
   "source": [
    "Up to now, it is possible to run steady state runs via the electroMKM.kinetic_run() function.\n",
    "The main inputs that must be provided are the applied overpotential and the pH of the electrolyte solution.\n",
    "The output of the function is a Python dictionary containing information related to the performed simulation."
   ]
  },
  {
   "cell_type": "code",
   "execution_count": 10,
   "id": "b332443d",
   "metadata": {},
   "outputs": [
    {
     "name": "stdout",
     "output_type": "stream",
     "text": [
      "Final integration time = 100s\n",
      "Relative tolerance = 1e-12\n",
      "Absolute tolerance = 1e-64\n"
     ]
    },
    {
     "data": {
      "text/plain": [
       "'Changed ODE solver parameters.'"
      ]
     },
     "execution_count": 10,
     "metadata": {},
     "output_type": "execute_result"
    }
   ],
   "source": [
    "model.set_ODE_params(t_final=100)"
   ]
  },
  {
   "cell_type": "markdown",
   "id": "72a8e3e0",
   "metadata": {},
   "source": [
    "### Steady state simulation"
   ]
  },
  {
   "cell_type": "code",
   "execution_count": 11,
   "id": "31e46460",
   "metadata": {},
   "outputs": [
    {
     "name": "stdout",
     "output_type": "stream",
     "text": [
      "Help on function kinetic_run in module electromkm:\n",
      "\n",
      "kinetic_run(self, overpotential:float, pH:float, cation_conc:float, potential_dl:float, initial_sur_coverage:list=None, temperature:float=298.0, pressure:float=100000.0, gas_composition:numpy.ndarray=None, verbose:int=0, jac:bool=False)\n",
      "    Simulates a steady-state electrocatalytic run at the defined operating conditions.        \n",
      "    Args:\n",
      "        overpotential(float): applied overpotential [V vs SHE].\n",
      "        pH(float): pH of the electrolyte solution [-].\n",
      "        cation_conc(float): cation_conc at OHP [M]\n",
      "        potential_dl (float): potential difference across double layer [V]\n",
      "        temperature(float): Temperature of the system [K].\n",
      "        pressure(float): Absolute pressure of the system [Pa].\n",
      "        initial_conditions(nparray): Initial surface coverage array[-].\n",
      "        verbose(int): 0=print all output; 1=print nothing.        \n",
      "    Returns:\n",
      "        (dict): Report of the electrocatalytic simulation.\n",
      "\n"
     ]
    }
   ],
   "source": [
    "help(electroMKM.kinetic_run)"
   ]
  },
  {
   "cell_type": "code",
   "execution_count": 10,
   "id": "57c8e3ae",
   "metadata": {},
   "outputs": [
    {
     "name": "stdout",
     "output_type": "stream",
     "text": [
      "[0.0609 0.     1.     0.    ]\n",
      "CO2R_110: Microkinetic run\n",
      "Overpotential = -1.8V vs SHE    pH = 6.54\n",
      "Overpotential = -1.4141400000000002V vs RHE\n",
      "Temperature = 298.0K    Pressure = 1.0bar\n",
      "cation_ads_ener: 0.31, site_adj_factor: 0.000\n",
      "cation_ads_ener: 0.31, site_adj_factor: 0.000\n",
      "final adjust_factor is : [3.3253038484259455e-05, 3.3253038484259455e-05]\n",
      "\n",
      "C2C Current density: 9.25e+01 mA cm-2\n",
      "C2C Selectivity: 94.06%\n",
      "Most Abundant Surface Intermediate: i000000 Coverage: 78.22% \n",
      "CPU time: 0.21 s\n"
     ]
    }
   ],
   "source": [
    "import numpy as np\n",
    "array=[]\n",
    "for i in model.species_gas:\n",
    "    if i=='C1O2(g)':\n",
    "        array.append(0.0609)\n",
    "    elif i=='H2O(g)':\n",
    "        array.append(1)\n",
    "    else:\n",
    "        array.append(0)\n",
    "array=np.array(array)\n",
    "print(array)\n",
    "exp = model.kinetic_run(-1.8, 6.54, 5.38, (1.8-0.8-0.28)/2, gas_composition = array , jac = True)"
   ]
  },
  {
   "cell_type": "code",
   "execution_count": 11,
   "id": "adc7cc2a",
   "metadata": {},
   "outputs": [
    {
     "data": {
      "text/plain": [
       "58.40109148697867"
      ]
     },
     "execution_count": 11,
     "metadata": {},
     "output_type": "execute_result"
    }
   ],
   "source": [
    "exp['j_HER']"
   ]
  },
  {
   "cell_type": "code",
   "execution_count": 13,
   "id": "efd1a531",
   "metadata": {},
   "outputs": [
    {
     "name": "stdout",
     "output_type": "stream",
     "text": [
      "[0.014 0.    1.    0.   ]\n",
      "CO2R_110: Microkinetic run\n",
      "Overpotential = -2.1V vs SHE    pH = 8.3\n",
      "Overpotential = -1.6103V vs RHE\n",
      "Temperature = 298.0K    Pressure = 1.0bar\n",
      "cation_ads_ener: 0.28, site_adj_factor: 0.000\n",
      "cation_ads_ener: 0.28, site_adj_factor: 0.000\n",
      "final adjust_factor is : [0.00014367487876996396, 0.00014367487876996396]\n",
      "\n",
      "C2C Current density: 3.74e+04 mA cm-2\n",
      "C2C Selectivity: 78.28%\n",
      "Most Abundant Surface Intermediate: i000000 Coverage: 93.46% \n",
      "CPU time: 0.18 s\n"
     ]
    }
   ],
   "source": [
    "import numpy as np\n",
    "array=[]\n",
    "for i in model.species_gas:\n",
    "    if i=='C1O2(g)':\n",
    "        array.append(0.014)\n",
    "    elif i=='H2O(g)':\n",
    "        array.append(1)\n",
    "    else:\n",
    "        array.append(0)\n",
    "array=np.array(array)\n",
    "print(array)\n",
    "exp = model.kinetic_run(-2.1, 8.3, 7.8134,(1.28-0.28)/2, gas_composition = array , jac = True)"
   ]
  },
  {
   "cell_type": "code",
   "execution_count": 17,
   "id": "263e469f",
   "metadata": {},
   "outputs": [
    {
     "data": {
      "text/plain": [
       "'C2C'"
      ]
     },
     "execution_count": 17,
     "metadata": {},
     "output_type": "execute_result"
    }
   ],
   "source": [
    "model.target_label"
   ]
  },
  {
   "cell_type": "code",
   "execution_count": 18,
   "id": "a2ce8f95",
   "metadata": {},
   "outputs": [
    {
     "data": {
      "text/plain": [
       "2.0"
      ]
     },
     "execution_count": 18,
     "metadata": {},
     "output_type": "execute_result"
    }
   ],
   "source": [
    "model.gpcet_dict[model.target_label]\n"
   ]
  },
  {
   "cell_type": "code",
   "execution_count": 28,
   "id": "1b9bbaac",
   "metadata": {},
   "outputs": [],
   "source": [
    "with open('output', 'w') as outfile:\n",
    "    outfile.write('Current Density (mA/cm2) of {} {:.4e}\\n'.format(model.target_label,model.gpcet_dict[model.target_label]*exp[str('j_'+model.target_label)]/10))\n",
    "    for label in model.by_products_label:\n",
    "        outfile.write('Current Density (mA/cm2) of {} {:.4e}'.format(label,model.gpcet_dict[label]*exp[str('j_'+label)]/10))"
   ]
  },
  {
   "cell_type": "code",
   "execution_count": null,
   "metadata": {
    "scrolled": true
   },
   "outputs": [],
   "source": [
    "exp['ddt']"
   ]
  },
  {
   "cell_type": "markdown",
   "metadata": {},
   "source": [
    "Once steady state conditions have been checked, the solution can be easily analyzed. the main output consists of steady state surface coverage and reaction rate in term of current density."
   ]
  },
  {
   "cell_type": "code",
   "execution_count": 14,
   "metadata": {},
   "outputs": [
    {
     "data": {
      "text/plain": [
       "{'i000000': 0.9345644494374523,\n",
       " 'i010101': 0.00602511935390456,\n",
       " 'i101101': 0.00013084012014704787,\n",
       " 'i102101a': 0.05914875096835147,\n",
       " 'i112102': 0.00013084012014704787}"
      ]
     },
     "execution_count": 14,
     "metadata": {},
     "output_type": "execute_result"
    }
   ],
   "source": [
    "exp['theta']"
   ]
  },
  {
   "cell_type": "code",
   "execution_count": null,
   "metadata": {},
   "outputs": [],
   "source": [
    "exp['r']"
   ]
  },
  {
   "cell_type": "markdown",
   "id": "918960e0",
   "metadata": {},
   "source": []
  },
  {
   "cell_type": "markdown",
   "metadata": {},
   "source": [
    "Negative current density means reduction is occurring, while positive values means that reaction is evolving in the opposite direction. Values of current density are stored in mA cm-2."
   ]
  },
  {
   "cell_type": "code",
   "execution_count": null,
   "metadata": {},
   "outputs": [],
   "source": [
    "exp['j_HER']"
   ]
  },
  {
   "cell_type": "markdown",
   "metadata": {},
   "source": [
    "### Tafel plot"
   ]
  },
  {
   "cell_type": "code",
   "execution_count": null,
   "id": "e7e42baf",
   "metadata": {},
   "outputs": [],
   "source": [
    "import numpy as np\n",
    "n = np.arange(-1,-2.5,-0.25)\n",
    "#n = np.array([-1.5,-1.75,-2,-2.25])\n",
    "print(n)"
   ]
  },
  {
   "cell_type": "code",
   "execution_count": null,
   "metadata": {
    "scrolled": false
   },
   "outputs": [],
   "source": [
    "help(electroMKM.tafel_plot)"
   ]
  },
  {
   "cell_type": "code",
   "execution_count": null,
   "metadata": {
    "scrolled": true
   },
   "outputs": [],
   "source": [
    "model.tafel_plot(\"C2C\", n ,7,3.7, gas_composition = array, jac=True)"
   ]
  },
  {
   "cell_type": "code",
   "execution_count": null,
   "id": "9296f3fc",
   "metadata": {},
   "outputs": [],
   "source": [
    "rxn_list = ['C2C','HER']\n",
    "label = ['CO','H2']#,'Methane']\n",
    "\n",
    "color = ['r','g']\n",
    "\n",
    "model.j_potential(rxn_list, label, n ,7, color, gas_composition = array, jac=True,set_y_lim=[-10,25])"
   ]
  },
  {
   "cell_type": "code",
   "execution_count": null,
   "id": "8ff8a117",
   "metadata": {},
   "outputs": [],
   "source": [
    "model.drc_full('C2C',-1.6, 7,1, gas_composition = array,jac='True')"
   ]
  },
  {
   "cell_type": "markdown",
   "metadata": {
    "heading_collapsed": true
   },
   "source": [
    "### Check for the analytical Jacobian matrix"
   ]
  },
  {
   "cell_type": "markdown",
   "metadata": {
    "hidden": true
   },
   "source": [
    "In order to check if the implemented analytical Jacobian is correct or not, we run the same simulation with and without the analytical Jacobian: If the solutions are the same, the Jacobian is correct. If not, it means that the wrong Jacobian drives the system away from the correct solution. "
   ]
  },
  {
   "cell_type": "markdown",
   "metadata": {
    "heading_collapsed": true,
    "hidden": true
   },
   "source": [
    "#### Simulation without analytical Jacobian"
   ]
  },
  {
   "cell_type": "code",
   "execution_count": null,
   "metadata": {
    "hidden": true
   },
   "outputs": [],
   "source": [
    "exp1 = model.kinetic_run(-0.1, 7, jac=False)"
   ]
  },
  {
   "cell_type": "markdown",
   "metadata": {
    "heading_collapsed": true,
    "hidden": true
   },
   "source": [
    "#### Simulation with analytical Jacobian"
   ]
  },
  {
   "cell_type": "code",
   "execution_count": null,
   "metadata": {
    "hidden": true
   },
   "outputs": [],
   "source": [
    "exp2 = model.kinetic_run(-0.1, 7, jac=True)"
   ]
  },
  {
   "cell_type": "markdown",
   "metadata": {
    "hidden": true
   },
   "source": [
    "Observe the difference in the CPU time required to integrate the system without and with the Jacobian!"
   ]
  }
 ],
 "metadata": {
  "kernelspec": {
   "display_name": "Python 3.6.15 ('jupyter')",
   "language": "python",
   "name": "python3"
  },
  "language_info": {
   "codemirror_mode": {
    "name": "ipython",
    "version": 3
   },
   "file_extension": ".py",
   "mimetype": "text/x-python",
   "name": "python",
   "nbconvert_exporter": "python",
   "pygments_lexer": "ipython3",
   "version": "3.6.15"
  },
  "toc": {
   "base_numbering": 1,
   "nav_menu": {},
   "number_sections": true,
   "sideBar": true,
   "skip_h1_title": false,
   "title_cell": "Table of Contents",
   "title_sidebar": "Contents",
   "toc_cell": false,
   "toc_position": {},
   "toc_section_display": true,
   "toc_window_display": false
  },
  "varInspector": {
   "cols": {
    "lenName": 16,
    "lenType": 16,
    "lenVar": 40
   },
   "kernels_config": {
    "python": {
     "delete_cmd_postfix": "",
     "delete_cmd_prefix": "del ",
     "library": "var_list.py",
     "varRefreshCmd": "print(var_dic_list())"
    },
    "r": {
     "delete_cmd_postfix": ") ",
     "delete_cmd_prefix": "rm(",
     "library": "var_list.r",
     "varRefreshCmd": "cat(var_dic_list()) "
    }
   },
   "types_to_exclude": [
    "module",
    "function",
    "builtin_function_or_method",
    "instance",
    "_Feature"
   ],
   "window_display": false
  },
  "vscode": {
   "interpreter": {
    "hash": "731cc157fbe1e9e3759b10a77e1a15ec23deafd112ef16330834e02079d6f94e"
   }
  }
 },
 "nbformat": 4,
 "nbformat_minor": 5
}
