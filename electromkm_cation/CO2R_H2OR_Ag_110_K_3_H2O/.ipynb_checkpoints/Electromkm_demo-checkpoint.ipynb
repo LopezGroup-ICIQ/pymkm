{
 "cells": [
  {
   "cell_type": "markdown",
   "metadata": {
    "heading_collapsed": true
   },
   "source": [
    "# ElectroMKM class import and object instantiation"
   ]
  },
  {
   "cell_type": "code",
   "execution_count": 1,
   "metadata": {
    "ExecuteTime": {
     "end_time": "2021-09-02T13:57:57.639188Z",
     "start_time": "2021-09-02T13:57:57.635708Z"
    },
    "hidden": true
   },
   "outputs": [],
   "source": [
    "import sys\n",
    "sys.path.insert(0, \"../\") \n",
    "from electromkm import electroMKM"
   ]
  },
  {
   "cell_type": "markdown",
   "metadata": {
    "hidden": true
   },
   "source": [
    "The demo system deal with the Hydrogen Evolution Reaction (HER) with random values."
   ]
  },
  {
   "cell_type": "code",
   "execution_count": 2,
   "metadata": {
    "ExecuteTime": {
     "end_time": "2021-09-02T13:58:13.534858Z",
     "start_time": "2021-09-02T13:58:13.529302Z"
    },
    "hidden": true
   },
   "outputs": [],
   "source": [
    "model = electroMKM('CO2R',\n",
    "                   'rm.mkm', \n",
    "                   'g.mkm', \n",
    "                    t_ref=298)"
   ]
  },
  {
   "cell_type": "markdown",
   "metadata": {
    "heading_collapsed": true
   },
   "source": [
    "# Model exploration\n"
   ]
  },
  {
   "cell_type": "markdown",
   "metadata": {
    "hidden": true
   },
   "source": [
    "To investigate the characteristics of the system under study, several attributes can be easily inspected to check general information like number of elementary reactions, energetics, reaction network, etc."
   ]
  },
  {
   "cell_type": "code",
   "execution_count": 3,
   "metadata": {
    "hidden": true
   },
   "outputs": [
    {
     "name": "stdout",
     "output_type": "stream",
     "text": [
      "System: CO2R\n",
      "\n",
      "CO2(g) + 2H(e) -> CO(g) + H2O(g)\n",
      "2H(e) -> H2(g)\n",
      "\n",
      "Number of global reactions: 2\n",
      "Number of elementary reactions: 6\n",
      "Number of surface species: 6\n",
      "Number of gas species: 4\n",
      "\n"
     ]
    }
   ],
   "source": [
    "print(model)"
   ]
  },
  {
   "cell_type": "markdown",
   "metadata": {
    "hidden": true
   },
   "source": [
    "### Defined species in the system\n",
    "\n",
    "N.B. H(e) is used to define H+ + e-."
   ]
  },
  {
   "cell_type": "code",
   "execution_count": 4,
   "metadata": {
    "hidden": true
   },
   "outputs": [
    {
     "data": {
      "text/plain": [
       "['*',\n",
       " 'CO2*',\n",
       " 'CO*',\n",
       " 'COOH*',\n",
       " 'H(e)',\n",
       " 'H*',\n",
       " 'CO2(g)',\n",
       " 'H2O(g)',\n",
       " 'CO(g)',\n",
       " 'H2(g)']"
      ]
     },
     "execution_count": 4,
     "metadata": {},
     "output_type": "execute_result"
    }
   ],
   "source": [
    "model.species_tot"
   ]
  },
  {
   "cell_type": "markdown",
   "metadata": {
    "hidden": true
   },
   "source": [
    "### Visualize Gibbs energetics of the system\n",
    "\n",
    "Reaction types: 'ads'=adsorption\n",
    "                'des'=desorption\n",
    "                'sur'=surface reaction. \n",
    "The suffix \"+e\" means that that elementary reaction is a charge-transfer step."
   ]
  },
  {
   "cell_type": "code",
   "execution_count": 5,
   "metadata": {
    "hidden": true
   },
   "outputs": [
    {
     "data": {
      "text/html": [
       "<div>\n",
       "<style scoped>\n",
       "    .dataframe tbody tr th:only-of-type {\n",
       "        vertical-align: middle;\n",
       "    }\n",
       "\n",
       "    .dataframe tbody tr th {\n",
       "        vertical-align: top;\n",
       "    }\n",
       "\n",
       "    .dataframe thead th {\n",
       "        text-align: right;\n",
       "    }\n",
       "</style>\n",
       "<table border=\"1\" class=\"dataframe\">\n",
       "  <thead>\n",
       "    <tr style=\"text-align: right;\">\n",
       "      <th></th>\n",
       "      <th></th>\n",
       "      <th>DGR / eV</th>\n",
       "      <th>DG barrier / eV</th>\n",
       "      <th>DG reverse barrier / eV</th>\n",
       "    </tr>\n",
       "  </thead>\n",
       "  <tbody>\n",
       "    <tr>\n",
       "      <th>R1</th>\n",
       "      <th>ads</th>\n",
       "      <td>0.150</td>\n",
       "      <td>0.150</td>\n",
       "      <td>0.000</td>\n",
       "    </tr>\n",
       "    <tr>\n",
       "      <th>R2</th>\n",
       "      <th>sur+e</th>\n",
       "      <td>1.203</td>\n",
       "      <td>1.480</td>\n",
       "      <td>0.277</td>\n",
       "    </tr>\n",
       "    <tr>\n",
       "      <th>R3</th>\n",
       "      <th>des+e</th>\n",
       "      <td>-0.400</td>\n",
       "      <td>0.207</td>\n",
       "      <td>0.607</td>\n",
       "    </tr>\n",
       "    <tr>\n",
       "      <th>R4</th>\n",
       "      <th>des</th>\n",
       "      <td>-0.193</td>\n",
       "      <td>0.000</td>\n",
       "      <td>0.193</td>\n",
       "    </tr>\n",
       "    <tr>\n",
       "      <th>R5</th>\n",
       "      <th>sur+e</th>\n",
       "      <td>0.398</td>\n",
       "      <td>1.500</td>\n",
       "      <td>1.102</td>\n",
       "    </tr>\n",
       "    <tr>\n",
       "      <th>R6</th>\n",
       "      <th>des</th>\n",
       "      <td>-0.796</td>\n",
       "      <td>0.000</td>\n",
       "      <td>0.796</td>\n",
       "    </tr>\n",
       "  </tbody>\n",
       "</table>\n",
       "</div>"
      ],
      "text/plain": [
       "          DGR / eV  DG barrier / eV  DG reverse barrier / eV\n",
       "R1 ads       0.150            0.150                    0.000\n",
       "R2 sur+e     1.203            1.480                    0.277\n",
       "R3 des+e    -0.400            0.207                    0.607\n",
       "R4 des      -0.193            0.000                    0.193\n",
       "R5 sur+e     0.398            1.500                    1.102\n",
       "R6 des      -0.796            0.000                    0.796"
      ]
     },
     "execution_count": 5,
     "metadata": {},
     "output_type": "execute_result"
    }
   ],
   "source": [
    "model.df_gibbs"
   ]
  },
  {
   "cell_type": "markdown",
   "metadata": {
    "hidden": true
   },
   "source": [
    "### Stoichiometric matrix of the reaction network"
   ]
  },
  {
   "cell_type": "code",
   "execution_count": 6,
   "metadata": {
    "hidden": true
   },
   "outputs": [
    {
     "data": {
      "text/html": [
       "<div>\n",
       "<style scoped>\n",
       "    .dataframe tbody tr th:only-of-type {\n",
       "        vertical-align: middle;\n",
       "    }\n",
       "\n",
       "    .dataframe tbody tr th {\n",
       "        vertical-align: top;\n",
       "    }\n",
       "\n",
       "    .dataframe thead tr th {\n",
       "        text-align: left;\n",
       "    }\n",
       "\n",
       "    .dataframe thead tr:last-of-type th {\n",
       "        text-align: right;\n",
       "    }\n",
       "</style>\n",
       "<table border=\"1\" class=\"dataframe\">\n",
       "  <thead>\n",
       "    <tr>\n",
       "      <th></th>\n",
       "      <th>R1</th>\n",
       "      <th>R2</th>\n",
       "      <th>R3</th>\n",
       "      <th>R4</th>\n",
       "      <th>R5</th>\n",
       "      <th>R6</th>\n",
       "    </tr>\n",
       "    <tr>\n",
       "      <th></th>\n",
       "      <th>ads</th>\n",
       "      <th>sur+e</th>\n",
       "      <th>des+e</th>\n",
       "      <th>des</th>\n",
       "      <th>sur+e</th>\n",
       "      <th>des</th>\n",
       "    </tr>\n",
       "    <tr>\n",
       "      <th>species</th>\n",
       "      <th></th>\n",
       "      <th></th>\n",
       "      <th></th>\n",
       "      <th></th>\n",
       "      <th></th>\n",
       "      <th></th>\n",
       "    </tr>\n",
       "  </thead>\n",
       "  <tbody>\n",
       "    <tr>\n",
       "      <th>*</th>\n",
       "      <td>-1</td>\n",
       "      <td>0</td>\n",
       "      <td>0</td>\n",
       "      <td>1</td>\n",
       "      <td>-1</td>\n",
       "      <td>2</td>\n",
       "    </tr>\n",
       "    <tr>\n",
       "      <th>CO2*</th>\n",
       "      <td>1</td>\n",
       "      <td>-1</td>\n",
       "      <td>0</td>\n",
       "      <td>0</td>\n",
       "      <td>0</td>\n",
       "      <td>0</td>\n",
       "    </tr>\n",
       "    <tr>\n",
       "      <th>CO*</th>\n",
       "      <td>0</td>\n",
       "      <td>0</td>\n",
       "      <td>1</td>\n",
       "      <td>-1</td>\n",
       "      <td>0</td>\n",
       "      <td>0</td>\n",
       "    </tr>\n",
       "    <tr>\n",
       "      <th>COOH*</th>\n",
       "      <td>0</td>\n",
       "      <td>1</td>\n",
       "      <td>-1</td>\n",
       "      <td>0</td>\n",
       "      <td>0</td>\n",
       "      <td>0</td>\n",
       "    </tr>\n",
       "    <tr>\n",
       "      <th>H(e)</th>\n",
       "      <td>0</td>\n",
       "      <td>-1</td>\n",
       "      <td>-1</td>\n",
       "      <td>0</td>\n",
       "      <td>-1</td>\n",
       "      <td>0</td>\n",
       "    </tr>\n",
       "    <tr>\n",
       "      <th>H*</th>\n",
       "      <td>0</td>\n",
       "      <td>0</td>\n",
       "      <td>0</td>\n",
       "      <td>0</td>\n",
       "      <td>1</td>\n",
       "      <td>-2</td>\n",
       "    </tr>\n",
       "    <tr>\n",
       "      <th>CO2(g)</th>\n",
       "      <td>-1</td>\n",
       "      <td>0</td>\n",
       "      <td>0</td>\n",
       "      <td>0</td>\n",
       "      <td>0</td>\n",
       "      <td>0</td>\n",
       "    </tr>\n",
       "    <tr>\n",
       "      <th>H2O(g)</th>\n",
       "      <td>0</td>\n",
       "      <td>0</td>\n",
       "      <td>1</td>\n",
       "      <td>0</td>\n",
       "      <td>0</td>\n",
       "      <td>0</td>\n",
       "    </tr>\n",
       "    <tr>\n",
       "      <th>CO(g)</th>\n",
       "      <td>0</td>\n",
       "      <td>0</td>\n",
       "      <td>0</td>\n",
       "      <td>1</td>\n",
       "      <td>0</td>\n",
       "      <td>0</td>\n",
       "    </tr>\n",
       "    <tr>\n",
       "      <th>H2(g)</th>\n",
       "      <td>0</td>\n",
       "      <td>0</td>\n",
       "      <td>0</td>\n",
       "      <td>0</td>\n",
       "      <td>0</td>\n",
       "      <td>1</td>\n",
       "    </tr>\n",
       "  </tbody>\n",
       "</table>\n",
       "</div>"
      ],
      "text/plain": [
       "         R1    R2    R3  R4    R5  R6\n",
       "        ads sur+e des+e des sur+e des\n",
       "species                              \n",
       "*        -1     0     0   1    -1   2\n",
       "CO2*      1    -1     0   0     0   0\n",
       "CO*       0     0     1  -1     0   0\n",
       "COOH*     0     1    -1   0     0   0\n",
       "H(e)      0    -1    -1   0    -1   0\n",
       "H*        0     0     0   0     1  -2\n",
       "CO2(g)   -1     0     0   0     0   0\n",
       "H2O(g)    0     0     1   0     0   0\n",
       "CO(g)     0     0     0   1     0   0\n",
       "H2(g)     0     0     0   0     0   1"
      ]
     },
     "execution_count": 6,
     "metadata": {},
     "output_type": "execute_result"
    }
   ],
   "source": [
    "model.df_system"
   ]
  },
  {
   "cell_type": "markdown",
   "metadata": {
    "hidden": true
   },
   "source": [
    "### Stoichiometric vector of the global reactions"
   ]
  },
  {
   "cell_type": "code",
   "execution_count": 7,
   "metadata": {
    "hidden": true
   },
   "outputs": [
    {
     "data": {
      "text/plain": [
       "['CO2(g) + 2H(e) -> CO(g) + H2O(g)', '2H(e) -> H2(g)']"
      ]
     },
     "execution_count": 7,
     "metadata": {},
     "output_type": "execute_result"
    }
   ],
   "source": [
    "model.gr_string"
   ]
  },
  {
   "cell_type": "code",
   "execution_count": 8,
   "metadata": {
    "hidden": true
   },
   "outputs": [
    {
     "data": {
      "text/plain": [
       "[4]"
      ]
     },
     "execution_count": 8,
     "metadata": {},
     "output_type": "execute_result"
    }
   ],
   "source": [
    "model.by_products"
   ]
  },
  {
   "cell_type": "markdown",
   "metadata": {
    "hidden": true
   },
   "source": [
    "model.stoich_numbers tells us that the first elementary reaction must be multiplied by two and summed up to the second one in order to get the global reaction. This is useful for checking the thermodynamic consistency of the developed models."
   ]
  },
  {
   "cell_type": "markdown",
   "metadata": {},
   "source": [
    "# Microkinetic runs and Tafel plot"
   ]
  },
  {
   "cell_type": "markdown",
   "metadata": {},
   "source": [
    "Up to now, it is possible to run steady state runs via the electroMKM.kinetic_run() function.\n",
    "The main inputs that must be provided are the applied overpotential and the pH of the electrolyte solution.\n",
    "The output of the function is a Python dictionary containing information related to the performed simulation."
   ]
  },
  {
   "cell_type": "code",
   "execution_count": 9,
   "metadata": {},
   "outputs": [
    {
     "name": "stdout",
     "output_type": "stream",
     "text": [
      "Final integration time = 100s\n",
      "Relative tolerance = 1e-12\n",
      "Absolute tolerance = 1e-64\n"
     ]
    },
    {
     "data": {
      "text/plain": [
       "'Changed ODE solver parameters.'"
      ]
     },
     "execution_count": 9,
     "metadata": {},
     "output_type": "execute_result"
    }
   ],
   "source": [
    "model.set_ODE_params(t_final=100)"
   ]
  },
  {
   "cell_type": "markdown",
   "metadata": {},
   "source": [
    "### Steady state simulation"
   ]
  },
  {
   "cell_type": "code",
   "execution_count": 10,
   "metadata": {},
   "outputs": [
    {
     "name": "stdout",
     "output_type": "stream",
     "text": [
      "Help on function kinetic_run in module electromkm:\n",
      "\n",
      "kinetic_run(self, overpotential, pH, initial_conditions=None, temperature=298.0, pressure=100000.0, gas_composition=None, verbose=0, jac=False)\n",
      "    Simulates a steady-state electrocatalytic run at the defined operating conditions.        \n",
      "    Args:\n",
      "        overpotential(float): applied overpotential [V vs SHE].\n",
      "        pH(float): pH of the electrolyte solution [-].\n",
      "        temperature(float): Temperature of the system [K].\n",
      "        pressure(float): Absolute pressure of the system [Pa].\n",
      "        initial_conditions(nparray): Initial surface coverage [-].\n",
      "        verbose(int): 0=print all output; 1=print nothing.        \n",
      "    Returns:\n",
      "        (dict): Report of the electrocatalytic simulation.\n",
      "\n"
     ]
    }
   ],
   "source": [
    "help(electroMKM.kinetic_run)"
   ]
  },
  {
   "cell_type": "code",
   "execution_count": 11,
   "metadata": {},
   "outputs": [
    {
     "name": "stdout",
     "output_type": "stream",
     "text": [
      "CO2R: Microkinetic run\n",
      "Overpotential = -3V vs SHE    pH = 7\n",
      "Temperature = 298.0K    Pressure = 1.0bar\n",
      "\n",
      "CO2R Current density: -6.28e+02 mA cm-2\n",
      "CO2R Selectivity: 0.63%\n",
      "Most Abundant Surface Intermediate: * Coverage: 99.69% \n",
      "CPU time: 0.80 s\n"
     ]
    }
   ],
   "source": [
    "import numpy as np\n",
    "array = np.array([1,0,0,0])\n",
    "exp = model.kinetic_run(-3, 7, gas_composition = array, jac=False)\n"
   ]
  },
  {
   "cell_type": "code",
   "execution_count": 12,
   "metadata": {
    "scrolled": true
   },
   "outputs": [
    {
     "name": "stdout",
     "output_type": "stream",
     "text": [
      "CO2R: DRC analysis for elementary reaction R2 wrt CO2R reaction\n",
      "Temperature = 298.0K    Pressure = 1.0bar\n",
      "Gas composition: CO2=100.0%  H2O=0.0%  CO=0.0%  H2=0.0%  \n",
      "\n",
      "DRC = 1.00\n"
     ]
    },
    {
     "data": {
      "text/plain": [
       "(0.9999999999640136, 0.9937095404838928)"
      ]
     },
     "execution_count": 12,
     "metadata": {},
     "output_type": "execute_result"
    }
   ],
   "source": [
    "model.degree_of_rate_control('CO2R','R2',-1.5, 7, gas_composition = array)\n"
   ]
  },
  {
   "cell_type": "code",
   "execution_count": 14,
   "metadata": {
    "scrolled": false
   },
   "outputs": [
    {
     "name": "stdout",
     "output_type": "stream",
     "text": [
      "CO2R: Full DRC and DSC analysis wrt CO2R global reaction\n",
      "Temperature = 298.0K    Pressure = 1.0bar\n",
      "Gas composition: CO2=100.0%  H2O=0.0%  CO=0.0%  H2=0.0%  \n",
      "\n",
      "R1\n",
      "DRC = 0.00\n",
      "\n",
      "R2\n",
      "DRC = 1.00\n",
      "\n",
      "R3\n",
      "DRC = -0.00\n",
      "\n",
      "R4\n",
      "DRC = 0.00\n",
      "\n",
      "R5\n",
      "DRC = -0.00\n",
      "\n",
      "R6\n",
      "DRC = 0.00\n",
      "\n",
      "*\n",
      "DRC = -1.00\n",
      "\n",
      "CO2*\n",
      "DRC = -0.00\n",
      "\n",
      "CO*\n",
      "DRC = -0.00\n",
      "\n",
      "COOH*\n",
      "DRC = 0.00\n",
      "\n",
      "H(e)\n",
      "DRC = -1.00\n",
      "\n",
      "H*\n",
      "DRC = -0.00\n"
     ]
    }
   ],
   "source": [
    "model.drc_full('CO2R',-3, 7, gas_composition = array)"
   ]
  },
  {
   "cell_type": "markdown",
   "metadata": {},
   "source": [
    "The first check should be about the reaching of the steady state. This means that all the derivatives in the ODE must equal to zero. These values can be easily visualized with the key 'ddt':"
   ]
  },
  {
   "cell_type": "code",
   "execution_count": 16,
   "metadata": {
    "scrolled": true
   },
   "outputs": [
    {
     "data": {
      "text/plain": [
       "{'*': -2.0529842004179955e-06,\n",
       " 'CO2*': 2.0529851099126972e-06,\n",
       " 'CO*': -4.547473508864641e-13,\n",
       " 'COOH*': -4.547473508864641e-13,\n",
       " 'H(e)': 0.0,\n",
       " 'H*': 0.0,\n",
       " 'CO2(g)': 0.0,\n",
       " 'H2O(g)': 0.0,\n",
       " 'CO(g)': 0.0,\n",
       " 'H2(g)': 0.0}"
      ]
     },
     "execution_count": 16,
     "metadata": {},
     "output_type": "execute_result"
    }
   ],
   "source": [
    "exp['ddt']"
   ]
  },
  {
   "cell_type": "markdown",
   "metadata": {},
   "source": [
    "Once steady state conditions have been checked, the solution can be easily analyzed. the main output consists of steady state surface coverage and reaction rate in term of current density."
   ]
  },
  {
   "cell_type": "code",
   "execution_count": 28,
   "metadata": {},
   "outputs": [
    {
     "data": {
      "text/plain": [
       "{'*': 0.9968806242267677,\n",
       " 'CO2*': 0.0028961652406611,\n",
       " 'CO*': 6.307826222428746e-10,\n",
       " 'COOH*': 8.56406491118143e-25,\n",
       " 'H(e)': 1e-07,\n",
       " 'H*': 0.0002232099018037003}"
      ]
     },
     "execution_count": 28,
     "metadata": {},
     "output_type": "execute_result"
    }
   ],
   "source": [
    "exp['theta']"
   ]
  },
  {
   "cell_type": "code",
   "execution_count": 29,
   "metadata": {},
   "outputs": [
    {
     "data": {
      "text/plain": [
       "{'R1': 3916.66707611084,\n",
       " 'R2': 3916.6670740578547,\n",
       " 'R3': 3916.667074057855,\n",
       " 'R4': 3916.6670740578556,\n",
       " 'R5': 618719.559207448,\n",
       " 'R6': 309359.779603724}"
      ]
     },
     "execution_count": 29,
     "metadata": {},
     "output_type": "execute_result"
    }
   ],
   "source": [
    "exp['r']"
   ]
  },
  {
   "cell_type": "markdown",
   "metadata": {},
   "source": [
    "Negative current density means reduction is occurring, while positive values means that reaction is evolving in the opposite direction. Values of current density are stored in mA cm-2."
   ]
  },
  {
   "cell_type": "code",
   "execution_count": 19,
   "metadata": {},
   "outputs": [
    {
     "data": {
      "text/plain": [
       "-6275.192467696612"
      ]
     },
     "execution_count": 19,
     "metadata": {},
     "output_type": "execute_result"
    }
   ],
   "source": [
    "exp['j_CO2R']"
   ]
  },
  {
   "cell_type": "markdown",
   "metadata": {},
   "source": [
    "### Tafel plot"
   ]
  },
  {
   "cell_type": "code",
   "execution_count": 30,
   "metadata": {},
   "outputs": [
    {
     "name": "stdout",
     "output_type": "stream",
     "text": [
      "[-2.5 -2.6 -2.7 -2.8 -2.9 -3. ]\n"
     ]
    }
   ],
   "source": [
    "import numpy as np\n",
    "n = np.array([-2.5,-2.6,-2.7,-2.8,-2.9,-3])\n",
    "print(n)"
   ]
  },
  {
   "cell_type": "code",
   "execution_count": 31,
   "metadata": {
    "scrolled": false
   },
   "outputs": [
    {
     "name": "stdout",
     "output_type": "stream",
     "text": [
      "Help on function tafel_plot in module electromkm:\n",
      "\n",
      "tafel_plot(self, reaction_label, overpotential_vector, pH, initial_conditions=None, temperature=298.0, pressure=100000.0, gas_composition=None, verbose=0, jac=False)\n",
      "    Returns the Tafel plot for the defined potential range.\n",
      "    Args:\n",
      "        reaction_label(str): Label of the reaction of interest.\n",
      "        overpotential_vector(ndarray): applied overpotential vector [V].\n",
      "        pH(float): pH of the electrolyte solution [-].\n",
      "        initial_conditions(ndarray): initial surface coverage and gas composition [-]\n",
      "        temperature(float): Temperature of the system [K].\n",
      "        pressure(float): Absolute pressure of the system [Pa].\n",
      "        verbose(bool): 0=; 1=.\n",
      "        jac(bool): Inclusion of the analytical Jacobian for ODE numerical solution.\n",
      "\n"
     ]
    }
   ],
   "source": [
    "help(electroMKM.tafel_plot)"
   ]
  },
  {
   "cell_type": "code",
   "execution_count": 32,
   "metadata": {
    "scrolled": true
   },
   "outputs": [
    {
     "name": "stdout",
     "output_type": "stream",
     "text": [
      "CO2R: Tafel slope experiment for CO2R\n",
      "Temperature: 298.0 K    Pressure: 1 bar    pH: 7\n",
      "\n",
      "[1.e+00 0.e+00 0.e+00 0.e+00 1.e-07 0.e+00 1.e+00 0.e+00 0.e+00 0.e+00]\n",
      "Overpotential = -2.5 V    CO2R Current Density = -3.71e-02 mA cm-2\n",
      "[1.e+00 0.e+00 0.e+00 0.e+00 1.e-07 0.e+00 1.e+00 0.e+00 0.e+00 0.e+00]\n",
      "Overpotential = -2.6 V    CO2R Current Density = -2.60e-01 mA cm-2\n",
      "[1.e+00 0.e+00 0.e+00 0.e+00 1.e-07 0.e+00 1.e+00 0.e+00 0.e+00 0.e+00]\n",
      "Overpotential = -2.7 V    CO2R Current Density = -1.82e+00 mA cm-2\n",
      "[1.e+00 0.e+00 0.e+00 0.e+00 1.e-07 0.e+00 1.e+00 0.e+00 0.e+00 0.e+00]\n",
      "Overpotential = -2.8 V    CO2R Current Density = -1.28e+01 mA cm-2\n",
      "[1.e+00 0.e+00 0.e+00 0.e+00 1.e-07 0.e+00 1.e+00 0.e+00 0.e+00 0.e+00]\n",
      "Overpotential = -2.9 V    CO2R Current Density = -8.96e+01 mA cm-2\n",
      "[1.e+00 0.e+00 0.e+00 0.e+00 1.e-07 0.e+00 1.e+00 0.e+00 0.e+00 0.e+00]\n",
      "Overpotential = -3.0 V    CO2R Current Density = -6.28e+02 mA cm-2\n",
      "------------------------------------------------------------------\n",
      "Tafel slope = -118.26 mV    alfa = 1.00\n",
      "CPU time: 7.30 s\n"
     ]
    },
    {
     "data": {
      "image/png": "[encoded data removed]",
      "text/plain": [
       "<Figure size 2800x2000 with 2 Axes>"
      ]
     },
     "metadata": {
      "needs_background": "light"
     },
     "output_type": "display_data"
    },
    {
     "data": {
      "text/plain": [
       "-0.11826154687036408"
      ]
     },
     "execution_count": 32,
     "metadata": {},
     "output_type": "execute_result"
    },
    {
     "data": {
      "text/plain": [
       "<Figure size 432x288 with 0 Axes>"
      ]
     },
     "metadata": {},
     "output_type": "display_data"
    }
   ],
   "source": [
    "model.tafel_plot(\"CO2R\", n ,7, gas_composition = array, jac=False)"
   ]
  },
  {
   "cell_type": "markdown",
   "metadata": {
    "heading_collapsed": true
   },
   "source": [
    "### Check for the analytical Jacobian matrix"
   ]
  },
  {
   "cell_type": "markdown",
   "metadata": {
    "hidden": true
   },
   "source": [
    "In order to check if the implemented analytical Jacobian is correct or not, we run the same simulation with and without the analytical Jacobian: If the solutions are the same, the Jacobian is correct. If not, it means that the wrong Jacobian drives the system away from the correct solution. "
   ]
  },
  {
   "cell_type": "markdown",
   "metadata": {
    "heading_collapsed": true,
    "hidden": true
   },
   "source": [
    "#### Simulation without analytical Jacobian"
   ]
  },
  {
   "cell_type": "code",
   "execution_count": 27,
   "metadata": {
    "hidden": true
   },
   "outputs": [
    {
     "name": "stdout",
     "output_type": "stream",
     "text": [
      "CO2R: Microkinetic run\n",
      "Overpotential = -0.1V vs SHE    pH = 7\n",
      "Temperature = 298.0K    Pressure = 1.0bar\n",
      "[1.e+00 0.e+00 0.e+00 0.e+00 1.e-07 0.e+00 0.e+00 0.e+00 0.e+00 0.e+00]\n",
      "\n",
      "CO2R Current density: -0.00e+00 mA cm-2\n",
      "CO2R Selectivity: 0.00%\n",
      "Most Abundant Surface Intermediate: * Coverage: 100.00% \n",
      "CPU time: 0.05 s\n"
     ]
    }
   ],
   "source": [
    "exp1 = model.kinetic_run(-0.1, 7, jac=False)"
   ]
  },
  {
   "cell_type": "markdown",
   "metadata": {
    "heading_collapsed": true,
    "hidden": true
   },
   "source": [
    "#### Simulation with analytical Jacobian"
   ]
  },
  {
   "cell_type": "code",
   "execution_count": 28,
   "metadata": {
    "hidden": true
   },
   "outputs": [
    {
     "name": "stdout",
     "output_type": "stream",
     "text": [
      "HER: Microkinetic run\n",
      "Overpotential = -0.1V vs SHE    pH = 7\n",
      "Temperature = 298.0K    Pressure = 1.0bar\n",
      "\n",
      "HER Current density: -7.32e-05 mA cm-2\n",
      "HER Selectivity: 100.00%\n",
      "Most Abundant Surface Intermediate: * Coverage: 1.00% \n",
      "CPU time: 0.10 s\n"
     ]
    }
   ],
   "source": [
    "exp2 = model.kinetic_run(-0.1, 7, jac=True)"
   ]
  },
  {
   "cell_type": "markdown",
   "metadata": {
    "hidden": true
   },
   "source": [
    "Observe the difference in the CPU time required to integrate the system without and with the Jacobian!"
   ]
  }
 ],
 "metadata": {
  "kernelspec": {
   "display_name": "Python 3",
   "language": "python",
   "name": "python3"
  },
  "language_info": {
   "codemirror_mode": {
    "name": "ipython",
    "version": 3
   },
   "file_extension": ".py",
   "mimetype": "text/x-python",
   "name": "python",
   "nbconvert_exporter": "python",
   "pygments_lexer": "ipython3",
   "version": "3.6.15"
  },
  "toc": {
   "base_numbering": 1,
   "nav_menu": {},
   "number_sections": true,
   "sideBar": true,
   "skip_h1_title": false,
   "title_cell": "Table of Contents",
   "title_sidebar": "Contents",
   "toc_cell": false,
   "toc_position": {},
   "toc_section_display": true,
   "toc_window_display": false
  },
  "varInspector": {
   "cols": {
    "lenName": 16,
    "lenType": 16,
    "lenVar": 40
   },
   "kernels_config": {
    "python": {
     "delete_cmd_postfix": "",
     "delete_cmd_prefix": "del ",
     "library": "var_list.py",
     "varRefreshCmd": "print(var_dic_list())"
    },
    "r": {
     "delete_cmd_postfix": ") ",
     "delete_cmd_prefix": "rm(",
     "library": "var_list.r",
     "varRefreshCmd": "cat(var_dic_list()) "
    }
   },
   "types_to_exclude": [
    "module",
    "function",
    "builtin_function_or_method",
    "instance",
    "_Feature"
   ],
   "window_display": false
  }
 },
 "nbformat": 4,
 "nbformat_minor": 5
}
