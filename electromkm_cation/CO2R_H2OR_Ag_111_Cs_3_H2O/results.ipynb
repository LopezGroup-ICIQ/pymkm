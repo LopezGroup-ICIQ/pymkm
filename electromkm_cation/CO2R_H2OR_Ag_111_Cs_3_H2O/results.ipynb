{
 "cells": [
  {
   "cell_type": "code",
   "execution_count": 15,
   "metadata": {},
   "outputs": [],
   "source": [
    "from pandas import read_csv\n",
    "import plotly_express as px\n",
    "\n",
    "df = read_csv('Multi-scale.csv',index_col=0)\n",
    "\n",
    "color_dict = {'K<sup>+</sup> (2 M)': '#1c0989','K<sup>+</sup> (1 M)': '#a02495','K<sup>+</sup> (0.5 M)': '#e16c60','K<sup>+</sup> (0.1 M)': '#fbc148',}"
   ]
  },
  {
   "cell_type": "code",
   "execution_count": 16,
   "metadata": {},
   "outputs": [
    {
     "data": {
      "text/html": [
       "<div>\n",
       "<style scoped>\n",
       "    .dataframe tbody tr th:only-of-type {\n",
       "        vertical-align: middle;\n",
       "    }\n",
       "\n",
       "    .dataframe tbody tr th {\n",
       "        vertical-align: top;\n",
       "    }\n",
       "\n",
       "    .dataframe thead th {\n",
       "        text-align: right;\n",
       "    }\n",
       "</style>\n",
       "<table border=\"1\" class=\"dataframe\">\n",
       "  <thead>\n",
       "    <tr style=\"text-align: right;\">\n",
       "      <th></th>\n",
       "      <th>bulk pH</th>\n",
       "      <th>[K] bulk</th>\n",
       "      <th>V vs RHE</th>\n",
       "      <th>J CO</th>\n",
       "      <th>J H</th>\n",
       "      <th>CO2pp</th>\n",
       "      <th>pH</th>\n",
       "      <th>[K]</th>\n",
       "      <th>phi vs RHE</th>\n",
       "      <th>delta phi</th>\n",
       "      <th>FE</th>\n",
       "    </tr>\n",
       "  </thead>\n",
       "  <tbody>\n",
       "    <tr>\n",
       "      <th>K&lt;sup&gt;+&lt;/sup&gt; (0.1 M)</th>\n",
       "      <td>6.8481</td>\n",
       "      <td>0.1</td>\n",
       "      <td>-0.90</td>\n",
       "      <td>0.000053</td>\n",
       "      <td>7.700000e-08</td>\n",
       "      <td>0.338380</td>\n",
       "      <td>5.2665</td>\n",
       "      <td>3.8348</td>\n",
       "      <td>-0.33151</td>\n",
       "      <td>0.56849</td>\n",
       "      <td>99.86</td>\n",
       "    </tr>\n",
       "    <tr>\n",
       "      <th>K&lt;sup&gt;+&lt;/sup&gt; (0.1 M)</th>\n",
       "      <td>6.8481</td>\n",
       "      <td>0.1</td>\n",
       "      <td>-1.00</td>\n",
       "      <td>0.000467</td>\n",
       "      <td>8.920000e-07</td>\n",
       "      <td>0.256090</td>\n",
       "      <td>5.2337</td>\n",
       "      <td>4.2943</td>\n",
       "      <td>-0.34157</td>\n",
       "      <td>0.65843</td>\n",
       "      <td>99.81</td>\n",
       "    </tr>\n",
       "    <tr>\n",
       "      <th>K&lt;sup&gt;+&lt;/sup&gt; (0.1 M)</th>\n",
       "      <td>6.8481</td>\n",
       "      <td>0.1</td>\n",
       "      <td>-1.10</td>\n",
       "      <td>0.003822</td>\n",
       "      <td>1.000000e-05</td>\n",
       "      <td>0.187720</td>\n",
       "      <td>5.3137</td>\n",
       "      <td>4.6758</td>\n",
       "      <td>-0.35174</td>\n",
       "      <td>0.74826</td>\n",
       "      <td>99.74</td>\n",
       "    </tr>\n",
       "    <tr>\n",
       "      <th>K&lt;sup&gt;+&lt;/sup&gt; (0.1 M)</th>\n",
       "      <td>6.8481</td>\n",
       "      <td>0.1</td>\n",
       "      <td>-1.20</td>\n",
       "      <td>0.028151</td>\n",
       "      <td>1.110000e-04</td>\n",
       "      <td>0.133260</td>\n",
       "      <td>5.7437</td>\n",
       "      <td>4.9791</td>\n",
       "      <td>-0.36213</td>\n",
       "      <td>0.83787</td>\n",
       "      <td>99.61</td>\n",
       "    </tr>\n",
       "    <tr>\n",
       "      <th>K&lt;sup&gt;+&lt;/sup&gt; (0.1 M)</th>\n",
       "      <td>6.8481</td>\n",
       "      <td>0.1</td>\n",
       "      <td>-1.30</td>\n",
       "      <td>0.148440</td>\n",
       "      <td>1.197700e-03</td>\n",
       "      <td>0.091358</td>\n",
       "      <td>6.3740</td>\n",
       "      <td>5.2104</td>\n",
       "      <td>-0.37285</td>\n",
       "      <td>0.92715</td>\n",
       "      <td>99.20</td>\n",
       "    </tr>\n",
       "    <tr>\n",
       "      <th>K&lt;sup&gt;+&lt;/sup&gt; (0.1 M)</th>\n",
       "      <td>6.8481</td>\n",
       "      <td>0.1</td>\n",
       "      <td>-1.40</td>\n",
       "      <td>0.223400</td>\n",
       "      <td>1.279400e-02</td>\n",
       "      <td>0.060918</td>\n",
       "      <td>6.5465</td>\n",
       "      <td>5.3803</td>\n",
       "      <td>-0.38400</td>\n",
       "      <td>1.01600</td>\n",
       "      <td>94.58</td>\n",
       "    </tr>\n",
       "    <tr>\n",
       "      <th>K&lt;sup&gt;+&lt;/sup&gt; (0.1 M)</th>\n",
       "      <td>6.8481</td>\n",
       "      <td>0.1</td>\n",
       "      <td>-1.50</td>\n",
       "      <td>0.219090</td>\n",
       "      <td>1.353100e-01</td>\n",
       "      <td>0.039589</td>\n",
       "      <td>6.6329</td>\n",
       "      <td>5.5004</td>\n",
       "      <td>-0.39564</td>\n",
       "      <td>1.10436</td>\n",
       "      <td>61.82</td>\n",
       "    </tr>\n",
       "    <tr>\n",
       "      <th>K&lt;sup&gt;+&lt;/sup&gt; (0.1 M)</th>\n",
       "      <td>6.8481</td>\n",
       "      <td>0.1</td>\n",
       "      <td>-1.60</td>\n",
       "      <td>0.206470</td>\n",
       "      <td>1.420700e+00</td>\n",
       "      <td>0.024903</td>\n",
       "      <td>7.1465</td>\n",
       "      <td>5.5826</td>\n",
       "      <td>-0.40781</td>\n",
       "      <td>1.19219</td>\n",
       "      <td>12.69</td>\n",
       "    </tr>\n",
       "    <tr>\n",
       "      <th>K&lt;sup&gt;+&lt;/sup&gt; (0.1 M)</th>\n",
       "      <td>6.8481</td>\n",
       "      <td>0.1</td>\n",
       "      <td>-1.70</td>\n",
       "      <td>0.176570</td>\n",
       "      <td>1.484000e+01</td>\n",
       "      <td>0.014288</td>\n",
       "      <td>8.2899</td>\n",
       "      <td>5.6371</td>\n",
       "      <td>-0.42059</td>\n",
       "      <td>1.27941</td>\n",
       "      <td>1.18</td>\n",
       "    </tr>\n",
       "    <tr>\n",
       "      <th>K&lt;sup&gt;+&lt;/sup&gt; (0.5 M)</th>\n",
       "      <td>7.6071</td>\n",
       "      <td>0.5</td>\n",
       "      <td>-0.90</td>\n",
       "      <td>0.000127</td>\n",
       "      <td>2.560000e-07</td>\n",
       "      <td>0.242400</td>\n",
       "      <td>6.6557</td>\n",
       "      <td>4.4726</td>\n",
       "      <td>-0.25410</td>\n",
       "      <td>0.64590</td>\n",
       "      <td>99.80</td>\n",
       "    </tr>\n",
       "    <tr>\n",
       "      <th>K&lt;sup&gt;+&lt;/sup&gt; (0.5 M)</th>\n",
       "      <td>7.6071</td>\n",
       "      <td>0.5</td>\n",
       "      <td>-1.00</td>\n",
       "      <td>0.001037</td>\n",
       "      <td>2.850000e-06</td>\n",
       "      <td>0.178280</td>\n",
       "      <td>6.6261</td>\n",
       "      <td>4.8054</td>\n",
       "      <td>-0.26384</td>\n",
       "      <td>0.73616</td>\n",
       "      <td>99.73</td>\n",
       "    </tr>\n",
       "    <tr>\n",
       "      <th>K&lt;sup&gt;+&lt;/sup&gt; (0.5 M)</th>\n",
       "      <td>7.6071</td>\n",
       "      <td>0.5</td>\n",
       "      <td>-1.10</td>\n",
       "      <td>0.007895</td>\n",
       "      <td>3.110000e-05</td>\n",
       "      <td>0.127050</td>\n",
       "      <td>6.6149</td>\n",
       "      <td>5.0700</td>\n",
       "      <td>-0.27391</td>\n",
       "      <td>0.82609</td>\n",
       "      <td>99.61</td>\n",
       "    </tr>\n",
       "    <tr>\n",
       "      <th>K&lt;sup&gt;+&lt;/sup&gt; (0.5 M)</th>\n",
       "      <td>7.6071</td>\n",
       "      <td>0.5</td>\n",
       "      <td>-1.20</td>\n",
       "      <td>0.051150</td>\n",
       "      <td>3.344600e-04</td>\n",
       "      <td>0.087684</td>\n",
       "      <td>6.6679</td>\n",
       "      <td>5.2721</td>\n",
       "      <td>-0.28439</td>\n",
       "      <td>0.91561</td>\n",
       "      <td>99.35</td>\n",
       "    </tr>\n",
       "    <tr>\n",
       "      <th>K&lt;sup&gt;+&lt;/sup&gt; (0.5 M)</th>\n",
       "      <td>7.6071</td>\n",
       "      <td>0.5</td>\n",
       "      <td>-1.30</td>\n",
       "      <td>0.174480</td>\n",
       "      <td>3.557500e-03</td>\n",
       "      <td>0.058524</td>\n",
       "      <td>6.8136</td>\n",
       "      <td>5.4208</td>\n",
       "      <td>-0.29535</td>\n",
       "      <td>1.00465</td>\n",
       "      <td>98.00</td>\n",
       "    </tr>\n",
       "    <tr>\n",
       "      <th>K&lt;sup&gt;+&lt;/sup&gt; (0.5 M)</th>\n",
       "      <td>7.6071</td>\n",
       "      <td>0.5</td>\n",
       "      <td>-1.40</td>\n",
       "      <td>0.171290</td>\n",
       "      <td>3.751800e-02</td>\n",
       "      <td>0.038180</td>\n",
       "      <td>6.8196</td>\n",
       "      <td>5.5262</td>\n",
       "      <td>-0.30683</td>\n",
       "      <td>1.09317</td>\n",
       "      <td>82.03</td>\n",
       "    </tr>\n",
       "    <tr>\n",
       "      <th>K&lt;sup&gt;+&lt;/sup&gt; (0.5 M)</th>\n",
       "      <td>7.6071</td>\n",
       "      <td>0.5</td>\n",
       "      <td>-1.50</td>\n",
       "      <td>0.162430</td>\n",
       "      <td>3.932000e-01</td>\n",
       "      <td>0.024210</td>\n",
       "      <td>6.9614</td>\n",
       "      <td>5.5985</td>\n",
       "      <td>-0.31887</td>\n",
       "      <td>1.18113</td>\n",
       "      <td>29.23</td>\n",
       "    </tr>\n",
       "    <tr>\n",
       "      <th>K&lt;sup&gt;+&lt;/sup&gt; (0.5 M)</th>\n",
       "      <td>7.6071</td>\n",
       "      <td>0.5</td>\n",
       "      <td>-1.60</td>\n",
       "      <td>0.148750</td>\n",
       "      <td>4.102500e+00</td>\n",
       "      <td>0.014892</td>\n",
       "      <td>7.5903</td>\n",
       "      <td>5.6465</td>\n",
       "      <td>-0.33150</td>\n",
       "      <td>1.26850</td>\n",
       "      <td>3.50</td>\n",
       "    </tr>\n",
       "    <tr>\n",
       "      <th>K&lt;sup&gt;+&lt;/sup&gt; (0.5 M)</th>\n",
       "      <td>7.6071</td>\n",
       "      <td>0.5</td>\n",
       "      <td>-1.70</td>\n",
       "      <td>0.127040</td>\n",
       "      <td>4.267300e+01</td>\n",
       "      <td>0.008570</td>\n",
       "      <td>8.6917</td>\n",
       "      <td>5.6775</td>\n",
       "      <td>-0.34481</td>\n",
       "      <td>1.35519</td>\n",
       "      <td>0.30</td>\n",
       "    </tr>\n",
       "    <tr>\n",
       "      <th>K&lt;sup&gt;+&lt;/sup&gt; (1 M)</th>\n",
       "      <td>7.9825</td>\n",
       "      <td>1.0</td>\n",
       "      <td>-0.90</td>\n",
       "      <td>0.000184</td>\n",
       "      <td>4.730000e-07</td>\n",
       "      <td>0.190010</td>\n",
       "      <td>7.2921</td>\n",
       "      <td>4.9028</td>\n",
       "      <td>-0.21813</td>\n",
       "      <td>0.68187</td>\n",
       "      <td>99.74</td>\n",
       "    </tr>\n",
       "    <tr>\n",
       "      <th>K&lt;sup&gt;+&lt;/sup&gt; (1 M)</th>\n",
       "      <td>7.9825</td>\n",
       "      <td>1.0</td>\n",
       "      <td>-1.00</td>\n",
       "      <td>0.001439</td>\n",
       "      <td>5.120000e-06</td>\n",
       "      <td>0.137810</td>\n",
       "      <td>7.2725</td>\n",
       "      <td>5.1340</td>\n",
       "      <td>-0.22756</td>\n",
       "      <td>0.77244</td>\n",
       "      <td>99.65</td>\n",
       "    </tr>\n",
       "    <tr>\n",
       "      <th>K&lt;sup&gt;+&lt;/sup&gt; (1 M)</th>\n",
       "      <td>7.9825</td>\n",
       "      <td>1.0</td>\n",
       "      <td>-1.10</td>\n",
       "      <td>0.010481</td>\n",
       "      <td>5.480000e-05</td>\n",
       "      <td>0.096880</td>\n",
       "      <td>7.2612</td>\n",
       "      <td>5.3118</td>\n",
       "      <td>-0.23748</td>\n",
       "      <td>0.86252</td>\n",
       "      <td>99.48</td>\n",
       "    </tr>\n",
       "    <tr>\n",
       "      <th>K&lt;sup&gt;+&lt;/sup&gt; (1 M)</th>\n",
       "      <td>7.9825</td>\n",
       "      <td>1.0</td>\n",
       "      <td>-1.20</td>\n",
       "      <td>0.061892</td>\n",
       "      <td>5.815100e-04</td>\n",
       "      <td>0.065950</td>\n",
       "      <td>7.2700</td>\n",
       "      <td>5.4440</td>\n",
       "      <td>-0.24792</td>\n",
       "      <td>0.95208</td>\n",
       "      <td>99.07</td>\n",
       "    </tr>\n",
       "    <tr>\n",
       "      <th>K&lt;sup&gt;+&lt;/sup&gt; (1 M)</th>\n",
       "      <td>7.9825</td>\n",
       "      <td>1.0</td>\n",
       "      <td>-1.30</td>\n",
       "      <td>0.144640</td>\n",
       "      <td>6.120600e-03</td>\n",
       "      <td>0.043530</td>\n",
       "      <td>7.2932</td>\n",
       "      <td>5.5389</td>\n",
       "      <td>-0.25893</td>\n",
       "      <td>1.04107</td>\n",
       "      <td>95.94</td>\n",
       "    </tr>\n",
       "    <tr>\n",
       "      <th>K&lt;sup&gt;+&lt;/sup&gt; (1 M)</th>\n",
       "      <td>7.9825</td>\n",
       "      <td>1.0</td>\n",
       "      <td>-1.40</td>\n",
       "      <td>0.139220</td>\n",
       "      <td>6.407200e-02</td>\n",
       "      <td>0.028051</td>\n",
       "      <td>7.2961</td>\n",
       "      <td>5.6049</td>\n",
       "      <td>-0.27053</td>\n",
       "      <td>1.12947</td>\n",
       "      <td>68.48</td>\n",
       "    </tr>\n",
       "    <tr>\n",
       "      <th>K&lt;sup&gt;+&lt;/sup&gt; (1 M)</th>\n",
       "      <td>7.9825</td>\n",
       "      <td>1.0</td>\n",
       "      <td>-1.50</td>\n",
       "      <td>0.129820</td>\n",
       "      <td>6.680800e-01</td>\n",
       "      <td>0.017581</td>\n",
       "      <td>7.3827</td>\n",
       "      <td>5.6494</td>\n",
       "      <td>-0.28274</td>\n",
       "      <td>1.21726</td>\n",
       "      <td>16.27</td>\n",
       "    </tr>\n",
       "    <tr>\n",
       "      <th>K&lt;sup&gt;+&lt;/sup&gt; (1 M)</th>\n",
       "      <td>7.9825</td>\n",
       "      <td>1.0</td>\n",
       "      <td>-1.59</td>\n",
       "      <td>0.118600</td>\n",
       "      <td>5.497100e+00</td>\n",
       "      <td>0.011260</td>\n",
       "      <td>7.7942</td>\n",
       "      <td>5.6761</td>\n",
       "      <td>-0.29427</td>\n",
       "      <td>1.29573</td>\n",
       "      <td>2.11</td>\n",
       "    </tr>\n",
       "    <tr>\n",
       "      <th>K&lt;sup&gt;+&lt;/sup&gt; (1 M)</th>\n",
       "      <td>7.9825</td>\n",
       "      <td>1.0</td>\n",
       "      <td>-1.70</td>\n",
       "      <td>0.099386</td>\n",
       "      <td>7.209700e+01</td>\n",
       "      <td>0.006125</td>\n",
       "      <td>8.8980</td>\n",
       "      <td>5.6969</td>\n",
       "      <td>-0.30915</td>\n",
       "      <td>1.39085</td>\n",
       "      <td>0.14</td>\n",
       "    </tr>\n",
       "    <tr>\n",
       "      <th>K&lt;sup&gt;+&lt;/sup&gt; (2 M)</th>\n",
       "      <td>8.4294</td>\n",
       "      <td>2.0</td>\n",
       "      <td>-0.90</td>\n",
       "      <td>0.000261</td>\n",
       "      <td>9.970000e-07</td>\n",
       "      <td>0.127770</td>\n",
       "      <td>7.9838</td>\n",
       "      <td>5.5788</td>\n",
       "      <td>-0.17826</td>\n",
       "      <td>0.72174</td>\n",
       "      <td>99.62</td>\n",
       "    </tr>\n",
       "    <tr>\n",
       "      <th>K&lt;sup&gt;+&lt;/sup&gt; (2 M)</th>\n",
       "      <td>8.4294</td>\n",
       "      <td>2.0</td>\n",
       "      <td>-1.02</td>\n",
       "      <td>0.002863</td>\n",
       "      <td>1.670000e-05</td>\n",
       "      <td>0.085007</td>\n",
       "      <td>7.9788</td>\n",
       "      <td>5.6458</td>\n",
       "      <td>-0.18903</td>\n",
       "      <td>0.83097</td>\n",
       "      <td>99.42</td>\n",
       "    </tr>\n",
       "    <tr>\n",
       "      <th>K&lt;sup&gt;+&lt;/sup&gt; (2 M)</th>\n",
       "      <td>8.4294</td>\n",
       "      <td>2.0</td>\n",
       "      <td>-1.09</td>\n",
       "      <td>0.010966</td>\n",
       "      <td>8.590000e-05</td>\n",
       "      <td>0.065635</td>\n",
       "      <td>7.9775</td>\n",
       "      <td>5.6698</td>\n",
       "      <td>-0.19577</td>\n",
       "      <td>0.89423</td>\n",
       "      <td>99.22</td>\n",
       "    </tr>\n",
       "    <tr>\n",
       "      <th>K&lt;sup&gt;+&lt;/sup&gt; (2 M)</th>\n",
       "      <td>8.4294</td>\n",
       "      <td>2.0</td>\n",
       "      <td>-1.20</td>\n",
       "      <td>0.067376</td>\n",
       "      <td>1.127000e-03</td>\n",
       "      <td>0.042324</td>\n",
       "      <td>7.9796</td>\n",
       "      <td>5.6937</td>\n",
       "      <td>-0.20705</td>\n",
       "      <td>0.99295</td>\n",
       "      <td>98.35</td>\n",
       "    </tr>\n",
       "    <tr>\n",
       "      <th>K&lt;sup&gt;+&lt;/sup&gt; (2 M)</th>\n",
       "      <td>8.4294</td>\n",
       "      <td>2.0</td>\n",
       "      <td>-1.30</td>\n",
       "      <td>0.104640</td>\n",
       "      <td>1.168400e-02</td>\n",
       "      <td>0.027583</td>\n",
       "      <td>7.9816</td>\n",
       "      <td>5.7061</td>\n",
       "      <td>-0.21804</td>\n",
       "      <td>1.08196</td>\n",
       "      <td>89.96</td>\n",
       "    </tr>\n",
       "    <tr>\n",
       "      <th>K&lt;sup&gt;+&lt;/sup&gt; (2 M)</th>\n",
       "      <td>8.4294</td>\n",
       "      <td>2.0</td>\n",
       "      <td>-1.40</td>\n",
       "      <td>0.098306</td>\n",
       "      <td>1.210300e-01</td>\n",
       "      <td>0.017533</td>\n",
       "      <td>7.9843</td>\n",
       "      <td>5.7134</td>\n",
       "      <td>-0.22973</td>\n",
       "      <td>1.17027</td>\n",
       "      <td>44.82</td>\n",
       "    </tr>\n",
       "    <tr>\n",
       "      <th>K&lt;sup&gt;+&lt;/sup&gt; (2 M)</th>\n",
       "      <td>8.4294</td>\n",
       "      <td>2.0</td>\n",
       "      <td>-1.49</td>\n",
       "      <td>0.090755</td>\n",
       "      <td>9.918200e-01</td>\n",
       "      <td>0.011393</td>\n",
       "      <td>8.0121</td>\n",
       "      <td>5.7173</td>\n",
       "      <td>-0.24083</td>\n",
       "      <td>1.24917</td>\n",
       "      <td>8.38</td>\n",
       "    </tr>\n",
       "    <tr>\n",
       "      <th>K&lt;sup&gt;+&lt;/sup&gt; (2 M)</th>\n",
       "      <td>8.4294</td>\n",
       "      <td>2.0</td>\n",
       "      <td>-1.60</td>\n",
       "      <td>0.079691</td>\n",
       "      <td>1.296700e+01</td>\n",
       "      <td>0.006515</td>\n",
       "      <td>8.2912</td>\n",
       "      <td>5.7202</td>\n",
       "      <td>-0.25515</td>\n",
       "      <td>1.34485</td>\n",
       "      <td>0.61</td>\n",
       "    </tr>\n",
       "    <tr>\n",
       "      <th>K&lt;sup&gt;+&lt;/sup&gt; (2 M)</th>\n",
       "      <td>8.4294</td>\n",
       "      <td>2.0</td>\n",
       "      <td>-1.70</td>\n",
       "      <td>0.066664</td>\n",
       "      <td>1.341800e+02</td>\n",
       "      <td>0.003691</td>\n",
       "      <td>9.1632</td>\n",
       "      <td>5.7217</td>\n",
       "      <td>-0.26899</td>\n",
       "      <td>1.43101</td>\n",
       "      <td>0.05</td>\n",
       "    </tr>\n",
       "  </tbody>\n",
       "</table>\n",
       "</div>"
      ],
      "text/plain": [
       "                       bulk pH  [K] bulk  V vs RHE      J CO           J H  \\\n",
       "K<sup>+</sup> (0.1 M)   6.8481       0.1     -0.90  0.000053  7.700000e-08   \n",
       "K<sup>+</sup> (0.1 M)   6.8481       0.1     -1.00  0.000467  8.920000e-07   \n",
       "K<sup>+</sup> (0.1 M)   6.8481       0.1     -1.10  0.003822  1.000000e-05   \n",
       "K<sup>+</sup> (0.1 M)   6.8481       0.1     -1.20  0.028151  1.110000e-04   \n",
       "K<sup>+</sup> (0.1 M)   6.8481       0.1     -1.30  0.148440  1.197700e-03   \n",
       "K<sup>+</sup> (0.1 M)   6.8481       0.1     -1.40  0.223400  1.279400e-02   \n",
       "K<sup>+</sup> (0.1 M)   6.8481       0.1     -1.50  0.219090  1.353100e-01   \n",
       "K<sup>+</sup> (0.1 M)   6.8481       0.1     -1.60  0.206470  1.420700e+00   \n",
       "K<sup>+</sup> (0.1 M)   6.8481       0.1     -1.70  0.176570  1.484000e+01   \n",
       "K<sup>+</sup> (0.5 M)   7.6071       0.5     -0.90  0.000127  2.560000e-07   \n",
       "K<sup>+</sup> (0.5 M)   7.6071       0.5     -1.00  0.001037  2.850000e-06   \n",
       "K<sup>+</sup> (0.5 M)   7.6071       0.5     -1.10  0.007895  3.110000e-05   \n",
       "K<sup>+</sup> (0.5 M)   7.6071       0.5     -1.20  0.051150  3.344600e-04   \n",
       "K<sup>+</sup> (0.5 M)   7.6071       0.5     -1.30  0.174480  3.557500e-03   \n",
       "K<sup>+</sup> (0.5 M)   7.6071       0.5     -1.40  0.171290  3.751800e-02   \n",
       "K<sup>+</sup> (0.5 M)   7.6071       0.5     -1.50  0.162430  3.932000e-01   \n",
       "K<sup>+</sup> (0.5 M)   7.6071       0.5     -1.60  0.148750  4.102500e+00   \n",
       "K<sup>+</sup> (0.5 M)   7.6071       0.5     -1.70  0.127040  4.267300e+01   \n",
       "K<sup>+</sup> (1 M)     7.9825       1.0     -0.90  0.000184  4.730000e-07   \n",
       "K<sup>+</sup> (1 M)     7.9825       1.0     -1.00  0.001439  5.120000e-06   \n",
       "K<sup>+</sup> (1 M)     7.9825       1.0     -1.10  0.010481  5.480000e-05   \n",
       "K<sup>+</sup> (1 M)     7.9825       1.0     -1.20  0.061892  5.815100e-04   \n",
       "K<sup>+</sup> (1 M)     7.9825       1.0     -1.30  0.144640  6.120600e-03   \n",
       "K<sup>+</sup> (1 M)     7.9825       1.0     -1.40  0.139220  6.407200e-02   \n",
       "K<sup>+</sup> (1 M)     7.9825       1.0     -1.50  0.129820  6.680800e-01   \n",
       "K<sup>+</sup> (1 M)     7.9825       1.0     -1.59  0.118600  5.497100e+00   \n",
       "K<sup>+</sup> (1 M)     7.9825       1.0     -1.70  0.099386  7.209700e+01   \n",
       "K<sup>+</sup> (2 M)     8.4294       2.0     -0.90  0.000261  9.970000e-07   \n",
       "K<sup>+</sup> (2 M)     8.4294       2.0     -1.02  0.002863  1.670000e-05   \n",
       "K<sup>+</sup> (2 M)     8.4294       2.0     -1.09  0.010966  8.590000e-05   \n",
       "K<sup>+</sup> (2 M)     8.4294       2.0     -1.20  0.067376  1.127000e-03   \n",
       "K<sup>+</sup> (2 M)     8.4294       2.0     -1.30  0.104640  1.168400e-02   \n",
       "K<sup>+</sup> (2 M)     8.4294       2.0     -1.40  0.098306  1.210300e-01   \n",
       "K<sup>+</sup> (2 M)     8.4294       2.0     -1.49  0.090755  9.918200e-01   \n",
       "K<sup>+</sup> (2 M)     8.4294       2.0     -1.60  0.079691  1.296700e+01   \n",
       "K<sup>+</sup> (2 M)     8.4294       2.0     -1.70  0.066664  1.341800e+02   \n",
       "\n",
       "                          CO2pp      pH     [K]  phi vs RHE  delta phi     FE  \n",
       "K<sup>+</sup> (0.1 M)  0.338380  5.2665  3.8348    -0.33151    0.56849  99.86  \n",
       "K<sup>+</sup> (0.1 M)  0.256090  5.2337  4.2943    -0.34157    0.65843  99.81  \n",
       "K<sup>+</sup> (0.1 M)  0.187720  5.3137  4.6758    -0.35174    0.74826  99.74  \n",
       "K<sup>+</sup> (0.1 M)  0.133260  5.7437  4.9791    -0.36213    0.83787  99.61  \n",
       "K<sup>+</sup> (0.1 M)  0.091358  6.3740  5.2104    -0.37285    0.92715  99.20  \n",
       "K<sup>+</sup> (0.1 M)  0.060918  6.5465  5.3803    -0.38400    1.01600  94.58  \n",
       "K<sup>+</sup> (0.1 M)  0.039589  6.6329  5.5004    -0.39564    1.10436  61.82  \n",
       "K<sup>+</sup> (0.1 M)  0.024903  7.1465  5.5826    -0.40781    1.19219  12.69  \n",
       "K<sup>+</sup> (0.1 M)  0.014288  8.2899  5.6371    -0.42059    1.27941   1.18  \n",
       "K<sup>+</sup> (0.5 M)  0.242400  6.6557  4.4726    -0.25410    0.64590  99.80  \n",
       "K<sup>+</sup> (0.5 M)  0.178280  6.6261  4.8054    -0.26384    0.73616  99.73  \n",
       "K<sup>+</sup> (0.5 M)  0.127050  6.6149  5.0700    -0.27391    0.82609  99.61  \n",
       "K<sup>+</sup> (0.5 M)  0.087684  6.6679  5.2721    -0.28439    0.91561  99.35  \n",
       "K<sup>+</sup> (0.5 M)  0.058524  6.8136  5.4208    -0.29535    1.00465  98.00  \n",
       "K<sup>+</sup> (0.5 M)  0.038180  6.8196  5.5262    -0.30683    1.09317  82.03  \n",
       "K<sup>+</sup> (0.5 M)  0.024210  6.9614  5.5985    -0.31887    1.18113  29.23  \n",
       "K<sup>+</sup> (0.5 M)  0.014892  7.5903  5.6465    -0.33150    1.26850   3.50  \n",
       "K<sup>+</sup> (0.5 M)  0.008570  8.6917  5.6775    -0.34481    1.35519   0.30  \n",
       "K<sup>+</sup> (1 M)    0.190010  7.2921  4.9028    -0.21813    0.68187  99.74  \n",
       "K<sup>+</sup> (1 M)    0.137810  7.2725  5.1340    -0.22756    0.77244  99.65  \n",
       "K<sup>+</sup> (1 M)    0.096880  7.2612  5.3118    -0.23748    0.86252  99.48  \n",
       "K<sup>+</sup> (1 M)    0.065950  7.2700  5.4440    -0.24792    0.95208  99.07  \n",
       "K<sup>+</sup> (1 M)    0.043530  7.2932  5.5389    -0.25893    1.04107  95.94  \n",
       "K<sup>+</sup> (1 M)    0.028051  7.2961  5.6049    -0.27053    1.12947  68.48  \n",
       "K<sup>+</sup> (1 M)    0.017581  7.3827  5.6494    -0.28274    1.21726  16.27  \n",
       "K<sup>+</sup> (1 M)    0.011260  7.7942  5.6761    -0.29427    1.29573   2.11  \n",
       "K<sup>+</sup> (1 M)    0.006125  8.8980  5.6969    -0.30915    1.39085   0.14  \n",
       "K<sup>+</sup> (2 M)    0.127770  7.9838  5.5788    -0.17826    0.72174  99.62  \n",
       "K<sup>+</sup> (2 M)    0.085007  7.9788  5.6458    -0.18903    0.83097  99.42  \n",
       "K<sup>+</sup> (2 M)    0.065635  7.9775  5.6698    -0.19577    0.89423  99.22  \n",
       "K<sup>+</sup> (2 M)    0.042324  7.9796  5.6937    -0.20705    0.99295  98.35  \n",
       "K<sup>+</sup> (2 M)    0.027583  7.9816  5.7061    -0.21804    1.08196  89.96  \n",
       "K<sup>+</sup> (2 M)    0.017533  7.9843  5.7134    -0.22973    1.17027  44.82  \n",
       "K<sup>+</sup> (2 M)    0.011393  8.0121  5.7173    -0.24083    1.24917   8.38  \n",
       "K<sup>+</sup> (2 M)    0.006515  8.2912  5.7202    -0.25515    1.34485   0.61  \n",
       "K<sup>+</sup> (2 M)    0.003691  9.1632  5.7217    -0.26899    1.43101   0.05  "
      ]
     },
     "execution_count": 16,
     "metadata": {},
     "output_type": "execute_result"
    }
   ],
   "source": [
    "df"
   ]
  },
  {
   "cell_type": "code",
   "execution_count": 17,
   "metadata": {},
   "outputs": [
    {
     "data": {
      "application/vnd.plotly.v1+json": {
       "config": {
        "plotlyServerURL": "https://plot.ly"
       },
       "data": [
        {
         "customdata": [
          [
           "K<sup>+</sup> (0.1 M)"
          ],
          [
           "K<sup>+</sup> (0.1 M)"
          ],
          [
           "K<sup>+</sup> (0.1 M)"
          ],
          [
           "K<sup>+</sup> (0.1 M)"
          ],
          [
           "K<sup>+</sup> (0.1 M)"
          ],
          [
           "K<sup>+</sup> (0.1 M)"
          ],
          [
           "K<sup>+</sup> (0.1 M)"
          ],
          [
           "K<sup>+</sup> (0.1 M)"
          ],
          [
           "K<sup>+</sup> (0.1 M)"
          ]
         ],
         "hovertemplate": "index=%{customdata[0]}<br>V vs RHE=%{x}<br>pH=%{y}<extra></extra>",
         "legendgroup": "K<sup>+</sup> (0.1 M)",
         "line": {
          "dash": "longdash",
          "width": 3
         },
         "marker": {
          "color": "#fbc148",
          "size": 15,
          "symbol": "circle"
         },
         "mode": "lines+markers",
         "name": "K<sup>+</sup> (0.1 M)",
         "orientation": "v",
         "showlegend": true,
         "type": "scatter",
         "x": [
          -0.9,
          -1,
          -1.1,
          -1.2,
          -1.3,
          -1.4,
          -1.5,
          -1.6,
          -1.7
         ],
         "xaxis": "x",
         "y": [
          5.2665,
          5.2337,
          5.3137,
          5.7437,
          6.374,
          6.5465,
          6.6329,
          7.1465,
          8.2899
         ],
         "yaxis": "y"
        },
        {
         "customdata": [
          [
           "K<sup>+</sup> (0.5 M)"
          ],
          [
           "K<sup>+</sup> (0.5 M)"
          ],
          [
           "K<sup>+</sup> (0.5 M)"
          ],
          [
           "K<sup>+</sup> (0.5 M)"
          ],
          [
           "K<sup>+</sup> (0.5 M)"
          ],
          [
           "K<sup>+</sup> (0.5 M)"
          ],
          [
           "K<sup>+</sup> (0.5 M)"
          ],
          [
           "K<sup>+</sup> (0.5 M)"
          ],
          [
           "K<sup>+</sup> (0.5 M)"
          ]
         ],
         "hovertemplate": "index=%{customdata[0]}<br>V vs RHE=%{x}<br>pH=%{y}<extra></extra>",
         "legendgroup": "K<sup>+</sup> (0.5 M)",
         "line": {
          "dash": "longdash",
          "width": 3
         },
         "marker": {
          "color": "#e16c60",
          "size": 15,
          "symbol": "circle"
         },
         "mode": "lines+markers",
         "name": "K<sup>+</sup> (0.5 M)",
         "orientation": "v",
         "showlegend": true,
         "type": "scatter",
         "x": [
          -0.9,
          -1,
          -1.1,
          -1.2,
          -1.3,
          -1.4,
          -1.5,
          -1.6,
          -1.7
         ],
         "xaxis": "x",
         "y": [
          6.6557,
          6.6261,
          6.6149,
          6.6679,
          6.8136,
          6.8196,
          6.9614,
          7.5903,
          8.6917
         ],
         "yaxis": "y"
        },
        {
         "customdata": [
          [
           "K<sup>+</sup> (1 M)"
          ],
          [
           "K<sup>+</sup> (1 M)"
          ],
          [
           "K<sup>+</sup> (1 M)"
          ],
          [
           "K<sup>+</sup> (1 M)"
          ],
          [
           "K<sup>+</sup> (1 M)"
          ],
          [
           "K<sup>+</sup> (1 M)"
          ],
          [
           "K<sup>+</sup> (1 M)"
          ],
          [
           "K<sup>+</sup> (1 M)"
          ],
          [
           "K<sup>+</sup> (1 M)"
          ]
         ],
         "hovertemplate": "index=%{customdata[0]}<br>V vs RHE=%{x}<br>pH=%{y}<extra></extra>",
         "legendgroup": "K<sup>+</sup> (1 M)",
         "line": {
          "dash": "longdash",
          "width": 3
         },
         "marker": {
          "color": "#a02495",
          "size": 15,
          "symbol": "circle"
         },
         "mode": "lines+markers",
         "name": "K<sup>+</sup> (1 M)",
         "orientation": "v",
         "showlegend": true,
         "type": "scatter",
         "x": [
          -0.9,
          -1,
          -1.1,
          -1.2,
          -1.3,
          -1.4,
          -1.5,
          -1.59,
          -1.7
         ],
         "xaxis": "x",
         "y": [
          7.2921,
          7.2725,
          7.2612,
          7.27,
          7.2932,
          7.2961,
          7.3827,
          7.7942,
          8.898
         ],
         "yaxis": "y"
        },
        {
         "customdata": [
          [
           "K<sup>+</sup> (2 M)"
          ],
          [
           "K<sup>+</sup> (2 M)"
          ],
          [
           "K<sup>+</sup> (2 M)"
          ],
          [
           "K<sup>+</sup> (2 M)"
          ],
          [
           "K<sup>+</sup> (2 M)"
          ],
          [
           "K<sup>+</sup> (2 M)"
          ],
          [
           "K<sup>+</sup> (2 M)"
          ],
          [
           "K<sup>+</sup> (2 M)"
          ],
          [
           "K<sup>+</sup> (2 M)"
          ]
         ],
         "hovertemplate": "index=%{customdata[0]}<br>V vs RHE=%{x}<br>pH=%{y}<extra></extra>",
         "legendgroup": "K<sup>+</sup> (2 M)",
         "line": {
          "dash": "longdash",
          "width": 3
         },
         "marker": {
          "color": "#1c0989",
          "size": 15,
          "symbol": "circle"
         },
         "mode": "lines+markers",
         "name": "K<sup>+</sup> (2 M)",
         "orientation": "v",
         "showlegend": true,
         "type": "scatter",
         "x": [
          -0.9,
          -1.02,
          -1.09,
          -1.2,
          -1.3,
          -1.4,
          -1.49,
          -1.6,
          -1.7
         ],
         "xaxis": "x",
         "y": [
          7.9838,
          7.9788,
          7.9775,
          7.9796,
          7.9816,
          7.9843,
          8.0121,
          8.2912,
          9.1632
         ],
         "yaxis": "y"
        }
       ],
       "layout": {
        "font": {
         "color": "black",
         "family": "Arial"
        },
        "height": 597,
        "hoverlabel": {
         "namelength": -1
        },
        "legend": {
         "bordercolor": "black",
         "borderwidth": 1,
         "font": {
          "size": 25
         },
         "title": {
          "text": ""
         },
         "tracegroupgap": 0,
         "x": 0.99,
         "xanchor": "right",
         "y": 0.99,
         "yanchor": "top"
        },
        "margin": {
         "b": 0,
         "l": 0,
         "r": 50,
         "t": 50
        },
        "paper_bgcolor": "white",
        "plot_bgcolor": "white",
        "showlegend": true,
        "template": {
         "data": {
          "bar": [
           {
            "error_x": {
             "color": "#2a3f5f"
            },
            "error_y": {
             "color": "#2a3f5f"
            },
            "marker": {
             "line": {
              "color": "#E5ECF6",
              "width": 0.5
             },
             "pattern": {
              "fillmode": "overlay",
              "size": 10,
              "solidity": 0.2
             }
            },
            "type": "bar"
           }
          ],
          "barpolar": [
           {
            "marker": {
             "line": {
              "color": "#E5ECF6",
              "width": 0.5
             },
             "pattern": {
              "fillmode": "overlay",
              "size": 10,
              "solidity": 0.2
             }
            },
            "type": "barpolar"
           }
          ],
          "carpet": [
           {
            "aaxis": {
             "endlinecolor": "#2a3f5f",
             "gridcolor": "white",
             "linecolor": "white",
             "minorgridcolor": "white",
             "startlinecolor": "#2a3f5f"
            },
            "baxis": {
             "endlinecolor": "#2a3f5f",
             "gridcolor": "white",
             "linecolor": "white",
             "minorgridcolor": "white",
             "startlinecolor": "#2a3f5f"
            },
            "type": "carpet"
           }
          ],
          "choropleth": [
           {
            "colorbar": {
             "outlinewidth": 0,
             "ticks": ""
            },
            "type": "choropleth"
           }
          ],
          "contour": [
           {
            "colorbar": {
             "outlinewidth": 0,
             "ticks": ""
            },
            "colorscale": [
             [
              0,
              "#0d0887"
             ],
             [
              0.1111111111111111,
              "#46039f"
             ],
             [
              0.2222222222222222,
              "#7201a8"
             ],
             [
              0.3333333333333333,
              "#9c179e"
             ],
             [
              0.4444444444444444,
              "#bd3786"
             ],
             [
              0.5555555555555556,
              "#d8576b"
             ],
             [
              0.6666666666666666,
              "#ed7953"
             ],
             [
              0.7777777777777778,
              "#fb9f3a"
             ],
             [
              0.8888888888888888,
              "#fdca26"
             ],
             [
              1,
              "#f0f921"
             ]
            ],
            "type": "contour"
           }
          ],
          "contourcarpet": [
           {
            "colorbar": {
             "outlinewidth": 0,
             "ticks": ""
            },
            "type": "contourcarpet"
           }
          ],
          "heatmap": [
           {
            "colorbar": {
             "outlinewidth": 0,
             "ticks": ""
            },
            "colorscale": [
             [
              0,
              "#0d0887"
             ],
             [
              0.1111111111111111,
              "#46039f"
             ],
             [
              0.2222222222222222,
              "#7201a8"
             ],
             [
              0.3333333333333333,
              "#9c179e"
             ],
             [
              0.4444444444444444,
              "#bd3786"
             ],
             [
              0.5555555555555556,
              "#d8576b"
             ],
             [
              0.6666666666666666,
              "#ed7953"
             ],
             [
              0.7777777777777778,
              "#fb9f3a"
             ],
             [
              0.8888888888888888,
              "#fdca26"
             ],
             [
              1,
              "#f0f921"
             ]
            ],
            "type": "heatmap"
           }
          ],
          "heatmapgl": [
           {
            "colorbar": {
             "outlinewidth": 0,
             "ticks": ""
            },
            "colorscale": [
             [
              0,
              "#0d0887"
             ],
             [
              0.1111111111111111,
              "#46039f"
             ],
             [
              0.2222222222222222,
              "#7201a8"
             ],
             [
              0.3333333333333333,
              "#9c179e"
             ],
             [
              0.4444444444444444,
              "#bd3786"
             ],
             [
              0.5555555555555556,
              "#d8576b"
             ],
             [
              0.6666666666666666,
              "#ed7953"
             ],
             [
              0.7777777777777778,
              "#fb9f3a"
             ],
             [
              0.8888888888888888,
              "#fdca26"
             ],
             [
              1,
              "#f0f921"
             ]
            ],
            "type": "heatmapgl"
           }
          ],
          "histogram": [
           {
            "marker": {
             "pattern": {
              "fillmode": "overlay",
              "size": 10,
              "solidity": 0.2
             }
            },
            "type": "histogram"
           }
          ],
          "histogram2d": [
           {
            "colorbar": {
             "outlinewidth": 0,
             "ticks": ""
            },
            "colorscale": [
             [
              0,
              "#0d0887"
             ],
             [
              0.1111111111111111,
              "#46039f"
             ],
             [
              0.2222222222222222,
              "#7201a8"
             ],
             [
              0.3333333333333333,
              "#9c179e"
             ],
             [
              0.4444444444444444,
              "#bd3786"
             ],
             [
              0.5555555555555556,
              "#d8576b"
             ],
             [
              0.6666666666666666,
              "#ed7953"
             ],
             [
              0.7777777777777778,
              "#fb9f3a"
             ],
             [
              0.8888888888888888,
              "#fdca26"
             ],
             [
              1,
              "#f0f921"
             ]
            ],
            "type": "histogram2d"
           }
          ],
          "histogram2dcontour": [
           {
            "colorbar": {
             "outlinewidth": 0,
             "ticks": ""
            },
            "colorscale": [
             [
              0,
              "#0d0887"
             ],
             [
              0.1111111111111111,
              "#46039f"
             ],
             [
              0.2222222222222222,
              "#7201a8"
             ],
             [
              0.3333333333333333,
              "#9c179e"
             ],
             [
              0.4444444444444444,
              "#bd3786"
             ],
             [
              0.5555555555555556,
              "#d8576b"
             ],
             [
              0.6666666666666666,
              "#ed7953"
             ],
             [
              0.7777777777777778,
              "#fb9f3a"
             ],
             [
              0.8888888888888888,
              "#fdca26"
             ],
             [
              1,
              "#f0f921"
             ]
            ],
            "type": "histogram2dcontour"
           }
          ],
          "mesh3d": [
           {
            "colorbar": {
             "outlinewidth": 0,
             "ticks": ""
            },
            "type": "mesh3d"
           }
          ],
          "parcoords": [
           {
            "line": {
             "colorbar": {
              "outlinewidth": 0,
              "ticks": ""
             }
            },
            "type": "parcoords"
           }
          ],
          "pie": [
           {
            "automargin": true,
            "type": "pie"
           }
          ],
          "scatter": [
           {
            "fillpattern": {
             "fillmode": "overlay",
             "size": 10,
             "solidity": 0.2
            },
            "type": "scatter"
           }
          ],
          "scatter3d": [
           {
            "line": {
             "colorbar": {
              "outlinewidth": 0,
              "ticks": ""
             }
            },
            "marker": {
             "colorbar": {
              "outlinewidth": 0,
              "ticks": ""
             }
            },
            "type": "scatter3d"
           }
          ],
          "scattercarpet": [
           {
            "marker": {
             "colorbar": {
              "outlinewidth": 0,
              "ticks": ""
             }
            },
            "type": "scattercarpet"
           }
          ],
          "scattergeo": [
           {
            "marker": {
             "colorbar": {
              "outlinewidth": 0,
              "ticks": ""
             }
            },
            "type": "scattergeo"
           }
          ],
          "scattergl": [
           {
            "marker": {
             "colorbar": {
              "outlinewidth": 0,
              "ticks": ""
             }
            },
            "type": "scattergl"
           }
          ],
          "scattermapbox": [
           {
            "marker": {
             "colorbar": {
              "outlinewidth": 0,
              "ticks": ""
             }
            },
            "type": "scattermapbox"
           }
          ],
          "scatterpolar": [
           {
            "marker": {
             "colorbar": {
              "outlinewidth": 0,
              "ticks": ""
             }
            },
            "type": "scatterpolar"
           }
          ],
          "scatterpolargl": [
           {
            "marker": {
             "colorbar": {
              "outlinewidth": 0,
              "ticks": ""
             }
            },
            "type": "scatterpolargl"
           }
          ],
          "scatterternary": [
           {
            "marker": {
             "colorbar": {
              "outlinewidth": 0,
              "ticks": ""
             }
            },
            "type": "scatterternary"
           }
          ],
          "surface": [
           {
            "colorbar": {
             "outlinewidth": 0,
             "ticks": ""
            },
            "colorscale": [
             [
              0,
              "#0d0887"
             ],
             [
              0.1111111111111111,
              "#46039f"
             ],
             [
              0.2222222222222222,
              "#7201a8"
             ],
             [
              0.3333333333333333,
              "#9c179e"
             ],
             [
              0.4444444444444444,
              "#bd3786"
             ],
             [
              0.5555555555555556,
              "#d8576b"
             ],
             [
              0.6666666666666666,
              "#ed7953"
             ],
             [
              0.7777777777777778,
              "#fb9f3a"
             ],
             [
              0.8888888888888888,
              "#fdca26"
             ],
             [
              1,
              "#f0f921"
             ]
            ],
            "type": "surface"
           }
          ],
          "table": [
           {
            "cells": {
             "fill": {
              "color": "#EBF0F8"
             },
             "line": {
              "color": "white"
             }
            },
            "header": {
             "fill": {
              "color": "#C8D4E3"
             },
             "line": {
              "color": "white"
             }
            },
            "type": "table"
           }
          ]
         },
         "layout": {
          "annotationdefaults": {
           "arrowcolor": "#2a3f5f",
           "arrowhead": 0,
           "arrowwidth": 1
          },
          "autotypenumbers": "strict",
          "coloraxis": {
           "colorbar": {
            "outlinewidth": 0,
            "ticks": ""
           }
          },
          "colorscale": {
           "diverging": [
            [
             0,
             "#8e0152"
            ],
            [
             0.1,
             "#c51b7d"
            ],
            [
             0.2,
             "#de77ae"
            ],
            [
             0.3,
             "#f1b6da"
            ],
            [
             0.4,
             "#fde0ef"
            ],
            [
             0.5,
             "#f7f7f7"
            ],
            [
             0.6,
             "#e6f5d0"
            ],
            [
             0.7,
             "#b8e186"
            ],
            [
             0.8,
             "#7fbc41"
            ],
            [
             0.9,
             "#4d9221"
            ],
            [
             1,
             "#276419"
            ]
           ],
           "sequential": [
            [
             0,
             "#0d0887"
            ],
            [
             0.1111111111111111,
             "#46039f"
            ],
            [
             0.2222222222222222,
             "#7201a8"
            ],
            [
             0.3333333333333333,
             "#9c179e"
            ],
            [
             0.4444444444444444,
             "#bd3786"
            ],
            [
             0.5555555555555556,
             "#d8576b"
            ],
            [
             0.6666666666666666,
             "#ed7953"
            ],
            [
             0.7777777777777778,
             "#fb9f3a"
            ],
            [
             0.8888888888888888,
             "#fdca26"
            ],
            [
             1,
             "#f0f921"
            ]
           ],
           "sequentialminus": [
            [
             0,
             "#0d0887"
            ],
            [
             0.1111111111111111,
             "#46039f"
            ],
            [
             0.2222222222222222,
             "#7201a8"
            ],
            [
             0.3333333333333333,
             "#9c179e"
            ],
            [
             0.4444444444444444,
             "#bd3786"
            ],
            [
             0.5555555555555556,
             "#d8576b"
            ],
            [
             0.6666666666666666,
             "#ed7953"
            ],
            [
             0.7777777777777778,
             "#fb9f3a"
            ],
            [
             0.8888888888888888,
             "#fdca26"
            ],
            [
             1,
             "#f0f921"
            ]
           ]
          },
          "colorway": [
           "#636efa",
           "#EF553B",
           "#00cc96",
           "#ab63fa",
           "#FFA15A",
           "#19d3f3",
           "#FF6692",
           "#B6E880",
           "#FF97FF",
           "#FECB52"
          ],
          "font": {
           "color": "#2a3f5f"
          },
          "geo": {
           "bgcolor": "white",
           "lakecolor": "white",
           "landcolor": "#E5ECF6",
           "showlakes": true,
           "showland": true,
           "subunitcolor": "white"
          },
          "hoverlabel": {
           "align": "left"
          },
          "hovermode": "closest",
          "mapbox": {
           "style": "light"
          },
          "paper_bgcolor": "white",
          "plot_bgcolor": "#E5ECF6",
          "polar": {
           "angularaxis": {
            "gridcolor": "white",
            "linecolor": "white",
            "ticks": ""
           },
           "bgcolor": "#E5ECF6",
           "radialaxis": {
            "gridcolor": "white",
            "linecolor": "white",
            "ticks": ""
           }
          },
          "scene": {
           "xaxis": {
            "backgroundcolor": "#E5ECF6",
            "gridcolor": "white",
            "gridwidth": 2,
            "linecolor": "white",
            "showbackground": true,
            "ticks": "",
            "zerolinecolor": "white"
           },
           "yaxis": {
            "backgroundcolor": "#E5ECF6",
            "gridcolor": "white",
            "gridwidth": 2,
            "linecolor": "white",
            "showbackground": true,
            "ticks": "",
            "zerolinecolor": "white"
           },
           "zaxis": {
            "backgroundcolor": "#E5ECF6",
            "gridcolor": "white",
            "gridwidth": 2,
            "linecolor": "white",
            "showbackground": true,
            "ticks": "",
            "zerolinecolor": "white"
           }
          },
          "shapedefaults": {
           "line": {
            "color": "#2a3f5f"
           }
          },
          "ternary": {
           "aaxis": {
            "gridcolor": "white",
            "linecolor": "white",
            "ticks": ""
           },
           "baxis": {
            "gridcolor": "white",
            "linecolor": "white",
            "ticks": ""
           },
           "bgcolor": "#E5ECF6",
           "caxis": {
            "gridcolor": "white",
            "linecolor": "white",
            "ticks": ""
           }
          },
          "title": {
           "x": 0.05
          },
          "xaxis": {
           "automargin": true,
           "gridcolor": "white",
           "linecolor": "white",
           "ticks": "",
           "title": {
            "standoff": 15
           },
           "zerolinecolor": "white",
           "zerolinewidth": 2
          },
          "yaxis": {
           "automargin": true,
           "gridcolor": "white",
           "linecolor": "white",
           "ticks": "",
           "title": {
            "standoff": 15
           },
           "zerolinecolor": "white",
           "zerolinewidth": 2
          }
         }
        },
        "width": 797,
        "xaxis": {
         "anchor": "y",
         "domain": [
          0,
          1
         ],
         "linecolor": "black",
         "minor": {
          "dtick": 0.05,
          "ticklen": 3
         },
         "mirror": true,
         "showgrid": false,
         "showline": true,
         "tickfont": {
          "size": 25
         },
         "ticklen": 6,
         "ticks": "outside",
         "title": {
          "font": {
           "size": 25
          },
          "text": "Applied Potential (V vs RHE)"
         },
         "zeroline": false
        },
        "yaxis": {
         "anchor": "x",
         "domain": [
          0,
          1
         ],
         "linecolor": "black",
         "minor": {
          "dtick": 0.25,
          "ticklen": 3
         },
         "mirror": true,
         "range": [
          5,
          10
         ],
         "showgrid": false,
         "showline": true,
         "tickfont": {
          "size": 25
         },
         "ticklen": 6,
         "ticks": "outside",
         "title": {
          "font": {
           "size": 25
          },
          "standoff": 25,
          "text": "pH at OHP"
         },
         "zeroline": false
        }
       }
      }
     },
     "metadata": {},
     "output_type": "display_data"
    }
   ],
   "source": [
    "fig = px.scatter(df, x='V vs RHE', y='pH',hover_data={'index': (df.index)},color= df.index,color_discrete_map=color_dict)\n",
    "\n",
    "fig.update_traces(line=dict(dash='longdash',width=3),\n",
    "                  marker=dict(size=15),mode='lines+markers')\n",
    "\n",
    "fig.update_layout(\n",
    "    width=797,\n",
    "    height=597,\n",
    "    showlegend=True,\n",
    "    # title=dict(\n",
    "    #      text='Ethylene',\n",
    "    #      x=0.5,\n",
    "    #      font_size=25),\n",
    "    legend=dict(\n",
    "     bordercolor='black', \n",
    "     borderwidth=1,\n",
    "     title='',\n",
    "     yanchor=\"top\",\n",
    "     y=0.99,\n",
    "     xanchor=\"right\",\n",
    "     font_size=25,\n",
    "     x=0.99),\n",
    "    font=dict(family=\"Arial\", color=\"black\"),\n",
    "    hoverlabel={\"namelength\": -1},\n",
    "     margin=dict(\n",
    "         l=0,\n",
    "         r=50,\n",
    "         b=0,\n",
    "         t=50,\n",
    "     ),\n",
    "    paper_bgcolor=\"white\",\n",
    "    plot_bgcolor=\"white\",\n",
    "    xaxis=dict(\n",
    "        title=rf'Applied Potential (V vs RHE)',\n",
    "        title_font_size=25,\n",
    "        showline=True,\n",
    "        #linewidth=3,\n",
    "        linecolor=\"black\",\n",
    "        mirror=True,\n",
    "        showgrid=False,\n",
    "        zeroline=False,\n",
    "        #gridcolor=\"rgba(0,0,0,0.3)\",\n",
    "        ticks=\"outside\",\n",
    "        tickfont_size=25,\n",
    "        #tickformat=\"d\",\n",
    "        #range=[-1.2,-0.2],\n",
    "        #tick0=0.5,\n",
    "        minor=dict(ticklen=3,dtick=0.05),\n",
    "        # dtick=0.2,\n",
    "        #tickwidth=3,\n",
    "        ticklen=6,\n",
    "    ),\n",
    "    yaxis=dict(\n",
    "        title=rf'pH at OHP',\n",
    "        title_font=dict(size=25),\n",
    "        showline=True,\n",
    "        title_standoff=25,\n",
    "        #linewidth=3,\n",
    "        linecolor=\"black\",\n",
    "        mirror=True,\n",
    "        showgrid=False,\n",
    "        zeroline=False,\n",
    "        #gridcolor=\"rgba(0,0,0,0.3)\",\n",
    "        ticks=\"outside\",\n",
    "        tickfont_size=25,\n",
    "        #tickformat=\"d\",\n",
    "        #tick0=0.5,\n",
    "        minor=dict(ticklen=3,dtick=0.25),\n",
    "        # dtick=0.4,\n",
    "        range=[5,10],\n",
    "        #tickwidth=3,\n",
    "        ticklen=6,\n",
    "    ),\n",
    ")\n",
    "\n",
    "fig.write_image('pH_conc.png',scale=5)\n",
    "fig.show()"
   ]
  },
  {
   "cell_type": "code",
   "execution_count": 18,
   "metadata": {},
   "outputs": [
    {
     "data": {
      "application/vnd.plotly.v1+json": {
       "config": {
        "plotlyServerURL": "https://plot.ly"
       },
       "data": [
        {
         "customdata": [
          [
           "K<sup>+</sup> (0.1 M)"
          ],
          [
           "K<sup>+</sup> (0.1 M)"
          ],
          [
           "K<sup>+</sup> (0.1 M)"
          ],
          [
           "K<sup>+</sup> (0.1 M)"
          ],
          [
           "K<sup>+</sup> (0.1 M)"
          ],
          [
           "K<sup>+</sup> (0.1 M)"
          ],
          [
           "K<sup>+</sup> (0.1 M)"
          ],
          [
           "K<sup>+</sup> (0.1 M)"
          ],
          [
           "K<sup>+</sup> (0.1 M)"
          ]
         ],
         "hovertemplate": "index=%{customdata[0]}<br>V vs RHE=%{x}<br>[K]=%{y}<extra></extra>",
         "legendgroup": "K<sup>+</sup> (0.1 M)",
         "line": {
          "dash": "longdash",
          "width": 3
         },
         "marker": {
          "color": "#fbc148",
          "size": 15,
          "symbol": "circle"
         },
         "mode": "lines+markers",
         "name": "K<sup>+</sup> (0.1 M)",
         "orientation": "v",
         "showlegend": true,
         "type": "scatter",
         "x": [
          -0.9,
          -1,
          -1.1,
          -1.2,
          -1.3,
          -1.4,
          -1.5,
          -1.6,
          -1.7
         ],
         "xaxis": "x",
         "y": [
          3.8348,
          4.2943,
          4.6758,
          4.9791,
          5.2104,
          5.3803,
          5.5004,
          5.5826,
          5.6371
         ],
         "yaxis": "y"
        },
        {
         "customdata": [
          [
           "K<sup>+</sup> (0.5 M)"
          ],
          [
           "K<sup>+</sup> (0.5 M)"
          ],
          [
           "K<sup>+</sup> (0.5 M)"
          ],
          [
           "K<sup>+</sup> (0.5 M)"
          ],
          [
           "K<sup>+</sup> (0.5 M)"
          ],
          [
           "K<sup>+</sup> (0.5 M)"
          ],
          [
           "K<sup>+</sup> (0.5 M)"
          ],
          [
           "K<sup>+</sup> (0.5 M)"
          ],
          [
           "K<sup>+</sup> (0.5 M)"
          ]
         ],
         "hovertemplate": "index=%{customdata[0]}<br>V vs RHE=%{x}<br>[K]=%{y}<extra></extra>",
         "legendgroup": "K<sup>+</sup> (0.5 M)",
         "line": {
          "dash": "longdash",
          "width": 3
         },
         "marker": {
          "color": "#e16c60",
          "size": 15,
          "symbol": "circle"
         },
         "mode": "lines+markers",
         "name": "K<sup>+</sup> (0.5 M)",
         "orientation": "v",
         "showlegend": true,
         "type": "scatter",
         "x": [
          -0.9,
          -1,
          -1.1,
          -1.2,
          -1.3,
          -1.4,
          -1.5,
          -1.6,
          -1.7
         ],
         "xaxis": "x",
         "y": [
          4.4726,
          4.8054,
          5.07,
          5.2721,
          5.4208,
          5.5262,
          5.5985,
          5.6465,
          5.6775
         ],
         "yaxis": "y"
        },
        {
         "customdata": [
          [
           "K<sup>+</sup> (1 M)"
          ],
          [
           "K<sup>+</sup> (1 M)"
          ],
          [
           "K<sup>+</sup> (1 M)"
          ],
          [
           "K<sup>+</sup> (1 M)"
          ],
          [
           "K<sup>+</sup> (1 M)"
          ],
          [
           "K<sup>+</sup> (1 M)"
          ],
          [
           "K<sup>+</sup> (1 M)"
          ],
          [
           "K<sup>+</sup> (1 M)"
          ],
          [
           "K<sup>+</sup> (1 M)"
          ]
         ],
         "hovertemplate": "index=%{customdata[0]}<br>V vs RHE=%{x}<br>[K]=%{y}<extra></extra>",
         "legendgroup": "K<sup>+</sup> (1 M)",
         "line": {
          "dash": "longdash",
          "width": 3
         },
         "marker": {
          "color": "#a02495",
          "size": 15,
          "symbol": "circle"
         },
         "mode": "lines+markers",
         "name": "K<sup>+</sup> (1 M)",
         "orientation": "v",
         "showlegend": true,
         "type": "scatter",
         "x": [
          -0.9,
          -1,
          -1.1,
          -1.2,
          -1.3,
          -1.4,
          -1.5,
          -1.59,
          -1.7
         ],
         "xaxis": "x",
         "y": [
          4.9028,
          5.134,
          5.3118,
          5.444,
          5.5389,
          5.6049,
          5.6494,
          5.6761,
          5.6969
         ],
         "yaxis": "y"
        },
        {
         "customdata": [
          [
           "K<sup>+</sup> (2 M)"
          ],
          [
           "K<sup>+</sup> (2 M)"
          ],
          [
           "K<sup>+</sup> (2 M)"
          ],
          [
           "K<sup>+</sup> (2 M)"
          ],
          [
           "K<sup>+</sup> (2 M)"
          ],
          [
           "K<sup>+</sup> (2 M)"
          ],
          [
           "K<sup>+</sup> (2 M)"
          ],
          [
           "K<sup>+</sup> (2 M)"
          ],
          [
           "K<sup>+</sup> (2 M)"
          ]
         ],
         "hovertemplate": "index=%{customdata[0]}<br>V vs RHE=%{x}<br>[K]=%{y}<extra></extra>",
         "legendgroup": "K<sup>+</sup> (2 M)",
         "line": {
          "dash": "longdash",
          "width": 3
         },
         "marker": {
          "color": "#1c0989",
          "size": 15,
          "symbol": "circle"
         },
         "mode": "lines+markers",
         "name": "K<sup>+</sup> (2 M)",
         "orientation": "v",
         "showlegend": true,
         "type": "scatter",
         "x": [
          -0.9,
          -1.02,
          -1.09,
          -1.2,
          -1.3,
          -1.4,
          -1.49,
          -1.6,
          -1.7
         ],
         "xaxis": "x",
         "y": [
          5.5788,
          5.6458,
          5.6698,
          5.6937,
          5.7061,
          5.7134,
          5.7173,
          5.7202,
          5.7217
         ],
         "yaxis": "y"
        }
       ],
       "layout": {
        "font": {
         "color": "black",
         "family": "Arial"
        },
        "height": 597,
        "hoverlabel": {
         "namelength": -1
        },
        "legend": {
         "bordercolor": "black",
         "borderwidth": 1,
         "font": {
          "size": 25
         },
         "title": {
          "text": ""
         },
         "tracegroupgap": 0,
         "x": 0.3,
         "xanchor": "right",
         "y": 0.4,
         "yanchor": "top"
        },
        "margin": {
         "b": 0,
         "l": 0,
         "r": 50,
         "t": 50
        },
        "paper_bgcolor": "white",
        "plot_bgcolor": "white",
        "showlegend": true,
        "template": {
         "data": {
          "bar": [
           {
            "error_x": {
             "color": "#2a3f5f"
            },
            "error_y": {
             "color": "#2a3f5f"
            },
            "marker": {
             "line": {
              "color": "#E5ECF6",
              "width": 0.5
             },
             "pattern": {
              "fillmode": "overlay",
              "size": 10,
              "solidity": 0.2
             }
            },
            "type": "bar"
           }
          ],
          "barpolar": [
           {
            "marker": {
             "line": {
              "color": "#E5ECF6",
              "width": 0.5
             },
             "pattern": {
              "fillmode": "overlay",
              "size": 10,
              "solidity": 0.2
             }
            },
            "type": "barpolar"
           }
          ],
          "carpet": [
           {
            "aaxis": {
             "endlinecolor": "#2a3f5f",
             "gridcolor": "white",
             "linecolor": "white",
             "minorgridcolor": "white",
             "startlinecolor": "#2a3f5f"
            },
            "baxis": {
             "endlinecolor": "#2a3f5f",
             "gridcolor": "white",
             "linecolor": "white",
             "minorgridcolor": "white",
             "startlinecolor": "#2a3f5f"
            },
            "type": "carpet"
           }
          ],
          "choropleth": [
           {
            "colorbar": {
             "outlinewidth": 0,
             "ticks": ""
            },
            "type": "choropleth"
           }
          ],
          "contour": [
           {
            "colorbar": {
             "outlinewidth": 0,
             "ticks": ""
            },
            "colorscale": [
             [
              0,
              "#0d0887"
             ],
             [
              0.1111111111111111,
              "#46039f"
             ],
             [
              0.2222222222222222,
              "#7201a8"
             ],
             [
              0.3333333333333333,
              "#9c179e"
             ],
             [
              0.4444444444444444,
              "#bd3786"
             ],
             [
              0.5555555555555556,
              "#d8576b"
             ],
             [
              0.6666666666666666,
              "#ed7953"
             ],
             [
              0.7777777777777778,
              "#fb9f3a"
             ],
             [
              0.8888888888888888,
              "#fdca26"
             ],
             [
              1,
              "#f0f921"
             ]
            ],
            "type": "contour"
           }
          ],
          "contourcarpet": [
           {
            "colorbar": {
             "outlinewidth": 0,
             "ticks": ""
            },
            "type": "contourcarpet"
           }
          ],
          "heatmap": [
           {
            "colorbar": {
             "outlinewidth": 0,
             "ticks": ""
            },
            "colorscale": [
             [
              0,
              "#0d0887"
             ],
             [
              0.1111111111111111,
              "#46039f"
             ],
             [
              0.2222222222222222,
              "#7201a8"
             ],
             [
              0.3333333333333333,
              "#9c179e"
             ],
             [
              0.4444444444444444,
              "#bd3786"
             ],
             [
              0.5555555555555556,
              "#d8576b"
             ],
             [
              0.6666666666666666,
              "#ed7953"
             ],
             [
              0.7777777777777778,
              "#fb9f3a"
             ],
             [
              0.8888888888888888,
              "#fdca26"
             ],
             [
              1,
              "#f0f921"
             ]
            ],
            "type": "heatmap"
           }
          ],
          "heatmapgl": [
           {
            "colorbar": {
             "outlinewidth": 0,
             "ticks": ""
            },
            "colorscale": [
             [
              0,
              "#0d0887"
             ],
             [
              0.1111111111111111,
              "#46039f"
             ],
             [
              0.2222222222222222,
              "#7201a8"
             ],
             [
              0.3333333333333333,
              "#9c179e"
             ],
             [
              0.4444444444444444,
              "#bd3786"
             ],
             [
              0.5555555555555556,
              "#d8576b"
             ],
             [
              0.6666666666666666,
              "#ed7953"
             ],
             [
              0.7777777777777778,
              "#fb9f3a"
             ],
             [
              0.8888888888888888,
              "#fdca26"
             ],
             [
              1,
              "#f0f921"
             ]
            ],
            "type": "heatmapgl"
           }
          ],
          "histogram": [
           {
            "marker": {
             "pattern": {
              "fillmode": "overlay",
              "size": 10,
              "solidity": 0.2
             }
            },
            "type": "histogram"
           }
          ],
          "histogram2d": [
           {
            "colorbar": {
             "outlinewidth": 0,
             "ticks": ""
            },
            "colorscale": [
             [
              0,
              "#0d0887"
             ],
             [
              0.1111111111111111,
              "#46039f"
             ],
             [
              0.2222222222222222,
              "#7201a8"
             ],
             [
              0.3333333333333333,
              "#9c179e"
             ],
             [
              0.4444444444444444,
              "#bd3786"
             ],
             [
              0.5555555555555556,
              "#d8576b"
             ],
             [
              0.6666666666666666,
              "#ed7953"
             ],
             [
              0.7777777777777778,
              "#fb9f3a"
             ],
             [
              0.8888888888888888,
              "#fdca26"
             ],
             [
              1,
              "#f0f921"
             ]
            ],
            "type": "histogram2d"
           }
          ],
          "histogram2dcontour": [
           {
            "colorbar": {
             "outlinewidth": 0,
             "ticks": ""
            },
            "colorscale": [
             [
              0,
              "#0d0887"
             ],
             [
              0.1111111111111111,
              "#46039f"
             ],
             [
              0.2222222222222222,
              "#7201a8"
             ],
             [
              0.3333333333333333,
              "#9c179e"
             ],
             [
              0.4444444444444444,
              "#bd3786"
             ],
             [
              0.5555555555555556,
              "#d8576b"
             ],
             [
              0.6666666666666666,
              "#ed7953"
             ],
             [
              0.7777777777777778,
              "#fb9f3a"
             ],
             [
              0.8888888888888888,
              "#fdca26"
             ],
             [
              1,
              "#f0f921"
             ]
            ],
            "type": "histogram2dcontour"
           }
          ],
          "mesh3d": [
           {
            "colorbar": {
             "outlinewidth": 0,
             "ticks": ""
            },
            "type": "mesh3d"
           }
          ],
          "parcoords": [
           {
            "line": {
             "colorbar": {
              "outlinewidth": 0,
              "ticks": ""
             }
            },
            "type": "parcoords"
           }
          ],
          "pie": [
           {
            "automargin": true,
            "type": "pie"
           }
          ],
          "scatter": [
           {
            "fillpattern": {
             "fillmode": "overlay",
             "size": 10,
             "solidity": 0.2
            },
            "type": "scatter"
           }
          ],
          "scatter3d": [
           {
            "line": {
             "colorbar": {
              "outlinewidth": 0,
              "ticks": ""
             }
            },
            "marker": {
             "colorbar": {
              "outlinewidth": 0,
              "ticks": ""
             }
            },
            "type": "scatter3d"
           }
          ],
          "scattercarpet": [
           {
            "marker": {
             "colorbar": {
              "outlinewidth": 0,
              "ticks": ""
             }
            },
            "type": "scattercarpet"
           }
          ],
          "scattergeo": [
           {
            "marker": {
             "colorbar": {
              "outlinewidth": 0,
              "ticks": ""
             }
            },
            "type": "scattergeo"
           }
          ],
          "scattergl": [
           {
            "marker": {
             "colorbar": {
              "outlinewidth": 0,
              "ticks": ""
             }
            },
            "type": "scattergl"
           }
          ],
          "scattermapbox": [
           {
            "marker": {
             "colorbar": {
              "outlinewidth": 0,
              "ticks": ""
             }
            },
            "type": "scattermapbox"
           }
          ],
          "scatterpolar": [
           {
            "marker": {
             "colorbar": {
              "outlinewidth": 0,
              "ticks": ""
             }
            },
            "type": "scatterpolar"
           }
          ],
          "scatterpolargl": [
           {
            "marker": {
             "colorbar": {
              "outlinewidth": 0,
              "ticks": ""
             }
            },
            "type": "scatterpolargl"
           }
          ],
          "scatterternary": [
           {
            "marker": {
             "colorbar": {
              "outlinewidth": 0,
              "ticks": ""
             }
            },
            "type": "scatterternary"
           }
          ],
          "surface": [
           {
            "colorbar": {
             "outlinewidth": 0,
             "ticks": ""
            },
            "colorscale": [
             [
              0,
              "#0d0887"
             ],
             [
              0.1111111111111111,
              "#46039f"
             ],
             [
              0.2222222222222222,
              "#7201a8"
             ],
             [
              0.3333333333333333,
              "#9c179e"
             ],
             [
              0.4444444444444444,
              "#bd3786"
             ],
             [
              0.5555555555555556,
              "#d8576b"
             ],
             [
              0.6666666666666666,
              "#ed7953"
             ],
             [
              0.7777777777777778,
              "#fb9f3a"
             ],
             [
              0.8888888888888888,
              "#fdca26"
             ],
             [
              1,
              "#f0f921"
             ]
            ],
            "type": "surface"
           }
          ],
          "table": [
           {
            "cells": {
             "fill": {
              "color": "#EBF0F8"
             },
             "line": {
              "color": "white"
             }
            },
            "header": {
             "fill": {
              "color": "#C8D4E3"
             },
             "line": {
              "color": "white"
             }
            },
            "type": "table"
           }
          ]
         },
         "layout": {
          "annotationdefaults": {
           "arrowcolor": "#2a3f5f",
           "arrowhead": 0,
           "arrowwidth": 1
          },
          "autotypenumbers": "strict",
          "coloraxis": {
           "colorbar": {
            "outlinewidth": 0,
            "ticks": ""
           }
          },
          "colorscale": {
           "diverging": [
            [
             0,
             "#8e0152"
            ],
            [
             0.1,
             "#c51b7d"
            ],
            [
             0.2,
             "#de77ae"
            ],
            [
             0.3,
             "#f1b6da"
            ],
            [
             0.4,
             "#fde0ef"
            ],
            [
             0.5,
             "#f7f7f7"
            ],
            [
             0.6,
             "#e6f5d0"
            ],
            [
             0.7,
             "#b8e186"
            ],
            [
             0.8,
             "#7fbc41"
            ],
            [
             0.9,
             "#4d9221"
            ],
            [
             1,
             "#276419"
            ]
           ],
           "sequential": [
            [
             0,
             "#0d0887"
            ],
            [
             0.1111111111111111,
             "#46039f"
            ],
            [
             0.2222222222222222,
             "#7201a8"
            ],
            [
             0.3333333333333333,
             "#9c179e"
            ],
            [
             0.4444444444444444,
             "#bd3786"
            ],
            [
             0.5555555555555556,
             "#d8576b"
            ],
            [
             0.6666666666666666,
             "#ed7953"
            ],
            [
             0.7777777777777778,
             "#fb9f3a"
            ],
            [
             0.8888888888888888,
             "#fdca26"
            ],
            [
             1,
             "#f0f921"
            ]
           ],
           "sequentialminus": [
            [
             0,
             "#0d0887"
            ],
            [
             0.1111111111111111,
             "#46039f"
            ],
            [
             0.2222222222222222,
             "#7201a8"
            ],
            [
             0.3333333333333333,
             "#9c179e"
            ],
            [
             0.4444444444444444,
             "#bd3786"
            ],
            [
             0.5555555555555556,
             "#d8576b"
            ],
            [
             0.6666666666666666,
             "#ed7953"
            ],
            [
             0.7777777777777778,
             "#fb9f3a"
            ],
            [
             0.8888888888888888,
             "#fdca26"
            ],
            [
             1,
             "#f0f921"
            ]
           ]
          },
          "colorway": [
           "#636efa",
           "#EF553B",
           "#00cc96",
           "#ab63fa",
           "#FFA15A",
           "#19d3f3",
           "#FF6692",
           "#B6E880",
           "#FF97FF",
           "#FECB52"
          ],
          "font": {
           "color": "#2a3f5f"
          },
          "geo": {
           "bgcolor": "white",
           "lakecolor": "white",
           "landcolor": "#E5ECF6",
           "showlakes": true,
           "showland": true,
           "subunitcolor": "white"
          },
          "hoverlabel": {
           "align": "left"
          },
          "hovermode": "closest",
          "mapbox": {
           "style": "light"
          },
          "paper_bgcolor": "white",
          "plot_bgcolor": "#E5ECF6",
          "polar": {
           "angularaxis": {
            "gridcolor": "white",
            "linecolor": "white",
            "ticks": ""
           },
           "bgcolor": "#E5ECF6",
           "radialaxis": {
            "gridcolor": "white",
            "linecolor": "white",
            "ticks": ""
           }
          },
          "scene": {
           "xaxis": {
            "backgroundcolor": "#E5ECF6",
            "gridcolor": "white",
            "gridwidth": 2,
            "linecolor": "white",
            "showbackground": true,
            "ticks": "",
            "zerolinecolor": "white"
           },
           "yaxis": {
            "backgroundcolor": "#E5ECF6",
            "gridcolor": "white",
            "gridwidth": 2,
            "linecolor": "white",
            "showbackground": true,
            "ticks": "",
            "zerolinecolor": "white"
           },
           "zaxis": {
            "backgroundcolor": "#E5ECF6",
            "gridcolor": "white",
            "gridwidth": 2,
            "linecolor": "white",
            "showbackground": true,
            "ticks": "",
            "zerolinecolor": "white"
           }
          },
          "shapedefaults": {
           "line": {
            "color": "#2a3f5f"
           }
          },
          "ternary": {
           "aaxis": {
            "gridcolor": "white",
            "linecolor": "white",
            "ticks": ""
           },
           "baxis": {
            "gridcolor": "white",
            "linecolor": "white",
            "ticks": ""
           },
           "bgcolor": "#E5ECF6",
           "caxis": {
            "gridcolor": "white",
            "linecolor": "white",
            "ticks": ""
           }
          },
          "title": {
           "x": 0.05
          },
          "xaxis": {
           "automargin": true,
           "gridcolor": "white",
           "linecolor": "white",
           "ticks": "",
           "title": {
            "standoff": 15
           },
           "zerolinecolor": "white",
           "zerolinewidth": 2
          },
          "yaxis": {
           "automargin": true,
           "gridcolor": "white",
           "linecolor": "white",
           "ticks": "",
           "title": {
            "standoff": 15
           },
           "zerolinecolor": "white",
           "zerolinewidth": 2
          }
         }
        },
        "width": 797,
        "xaxis": {
         "anchor": "y",
         "domain": [
          0,
          1
         ],
         "linecolor": "black",
         "minor": {
          "dtick": 0.05,
          "ticklen": 3
         },
         "mirror": true,
         "showgrid": false,
         "showline": true,
         "tickfont": {
          "size": 25
         },
         "ticklen": 6,
         "ticks": "outside",
         "title": {
          "font": {
           "size": 25
          },
          "text": "Applied Potential (V vs RHE)"
         },
         "zeroline": false
        },
        "yaxis": {
         "anchor": "x",
         "domain": [
          0,
          1
         ],
         "linecolor": "black",
         "minor": {
          "dtick": 0.25,
          "ticklen": 3
         },
         "mirror": true,
         "showgrid": false,
         "showline": true,
         "tickfont": {
          "size": 25
         },
         "ticklen": 6,
         "ticks": "outside",
         "title": {
          "font": {
           "size": 25
          },
          "standoff": 25,
          "text": "[K<sup>+</sup>] at OHP"
         },
         "zeroline": false
        }
       }
      }
     },
     "metadata": {},
     "output_type": "display_data"
    }
   ],
   "source": [
    "fig = px.scatter(df, x='V vs RHE', y='[K]',hover_data={'index': (df.index)},color= df.index,color_discrete_map=color_dict)\n",
    "\n",
    "fig.update_traces(line=dict(dash='longdash',width=3),\n",
    "                  marker=dict(size=15),mode='lines+markers')\n",
    "\n",
    "fig.update_layout(\n",
    "    width=797,\n",
    "    height=597,\n",
    "    showlegend=True,\n",
    "    # title=dict(\n",
    "    #      text='Ethylene',\n",
    "    #      x=0.5,\n",
    "    #      font_size=25),\n",
    "    legend=dict(\n",
    "     bordercolor='black', \n",
    "     borderwidth=1,\n",
    "     title='',\n",
    "     yanchor=\"top\",\n",
    "     y=0.4,\n",
    "     xanchor=\"right\",\n",
    "     font_size=25,\n",
    "     x=0.3),\n",
    "    font=dict(family=\"Arial\", color=\"black\"),\n",
    "    hoverlabel={\"namelength\": -1},\n",
    "     margin=dict(\n",
    "         l=0,\n",
    "         r=50,\n",
    "         b=0,\n",
    "         t=50,\n",
    "     ),\n",
    "    paper_bgcolor=\"white\",\n",
    "    plot_bgcolor=\"white\",\n",
    "    xaxis=dict(\n",
    "        title=rf'Applied Potential (V vs RHE)',\n",
    "        title_font_size=25,\n",
    "        showline=True,\n",
    "        #linewidth=3,\n",
    "        linecolor=\"black\",\n",
    "        mirror=True,\n",
    "        showgrid=False,\n",
    "        zeroline=False,\n",
    "        #gridcolor=\"rgba(0,0,0,0.3)\",\n",
    "        ticks=\"outside\",\n",
    "        tickfont_size=25,\n",
    "        #tickformat=\"d\",\n",
    "        #range=[-1.2,-0.2],\n",
    "        #tick0=0.5,\n",
    "        minor=dict(ticklen=3,dtick=0.05),\n",
    "        # dtick=0.2,\n",
    "        #tickwidth=3,\n",
    "        ticklen=6,\n",
    "    ),\n",
    "    yaxis=dict(\n",
    "        title=rf'[K<sup>+</sup>] at OHP',\n",
    "        title_font=dict(size=25),\n",
    "        showline=True,\n",
    "        title_standoff=25,\n",
    "        #linewidth=3,\n",
    "        linecolor=\"black\",\n",
    "        mirror=True,\n",
    "        showgrid=False,\n",
    "        zeroline=False,\n",
    "        #gridcolor=\"rgba(0,0,0,0.3)\",\n",
    "        ticks=\"outside\",\n",
    "        tickfont_size=25,\n",
    "        #tickformat=\"d\",\n",
    "        #tick0=0.5,\n",
    "        minor=dict(ticklen=3,dtick=0.25),\n",
    "        # dtick=0.4,\n",
    "        #range=[-6,-2.5],\n",
    "        #tickwidth=3,\n",
    "        ticklen=6,\n",
    "    ),\n",
    ")\n",
    "\n",
    "fig.write_image('K_U_conc.png',scale=5)\n",
    "fig.show()"
   ]
  },
  {
   "cell_type": "code",
   "execution_count": 19,
   "metadata": {},
   "outputs": [
    {
     "data": {
      "application/vnd.plotly.v1+json": {
       "config": {
        "plotlyServerURL": "https://plot.ly"
       },
       "data": [
        {
         "customdata": [
          [
           "K<sup>+</sup> (0.1 M)"
          ],
          [
           "K<sup>+</sup> (0.1 M)"
          ],
          [
           "K<sup>+</sup> (0.1 M)"
          ],
          [
           "K<sup>+</sup> (0.1 M)"
          ],
          [
           "K<sup>+</sup> (0.1 M)"
          ],
          [
           "K<sup>+</sup> (0.1 M)"
          ],
          [
           "K<sup>+</sup> (0.1 M)"
          ],
          [
           "K<sup>+</sup> (0.1 M)"
          ],
          [
           "K<sup>+</sup> (0.1 M)"
          ]
         ],
         "hovertemplate": "index=%{customdata[0]}<br>V vs RHE=%{x}<br>CO2pp=%{y}<extra></extra>",
         "legendgroup": "K<sup>+</sup> (0.1 M)",
         "line": {
          "dash": "longdash",
          "width": 3
         },
         "marker": {
          "color": "#fbc148",
          "size": 15,
          "symbol": "circle"
         },
         "mode": "lines+markers",
         "name": "K<sup>+</sup> (0.1 M)",
         "orientation": "v",
         "showlegend": true,
         "type": "scatter",
         "x": [
          -0.9,
          -1,
          -1.1,
          -1.2,
          -1.3,
          -1.4,
          -1.5,
          -1.6,
          -1.7
         ],
         "xaxis": "x",
         "y": [
          0.33838,
          0.25609,
          0.18772,
          0.13326,
          0.091358,
          0.060918,
          0.039589,
          0.024903,
          0.014288
         ],
         "yaxis": "y"
        },
        {
         "customdata": [
          [
           "K<sup>+</sup> (0.5 M)"
          ],
          [
           "K<sup>+</sup> (0.5 M)"
          ],
          [
           "K<sup>+</sup> (0.5 M)"
          ],
          [
           "K<sup>+</sup> (0.5 M)"
          ],
          [
           "K<sup>+</sup> (0.5 M)"
          ],
          [
           "K<sup>+</sup> (0.5 M)"
          ],
          [
           "K<sup>+</sup> (0.5 M)"
          ],
          [
           "K<sup>+</sup> (0.5 M)"
          ],
          [
           "K<sup>+</sup> (0.5 M)"
          ]
         ],
         "hovertemplate": "index=%{customdata[0]}<br>V vs RHE=%{x}<br>CO2pp=%{y}<extra></extra>",
         "legendgroup": "K<sup>+</sup> (0.5 M)",
         "line": {
          "dash": "longdash",
          "width": 3
         },
         "marker": {
          "color": "#e16c60",
          "size": 15,
          "symbol": "circle"
         },
         "mode": "lines+markers",
         "name": "K<sup>+</sup> (0.5 M)",
         "orientation": "v",
         "showlegend": true,
         "type": "scatter",
         "x": [
          -0.9,
          -1,
          -1.1,
          -1.2,
          -1.3,
          -1.4,
          -1.5,
          -1.6,
          -1.7
         ],
         "xaxis": "x",
         "y": [
          0.2424,
          0.17828,
          0.12705,
          0.087684,
          0.058524,
          0.03818,
          0.02421,
          0.014892,
          0.0085697
         ],
         "yaxis": "y"
        },
        {
         "customdata": [
          [
           "K<sup>+</sup> (1 M)"
          ],
          [
           "K<sup>+</sup> (1 M)"
          ],
          [
           "K<sup>+</sup> (1 M)"
          ],
          [
           "K<sup>+</sup> (1 M)"
          ],
          [
           "K<sup>+</sup> (1 M)"
          ],
          [
           "K<sup>+</sup> (1 M)"
          ],
          [
           "K<sup>+</sup> (1 M)"
          ],
          [
           "K<sup>+</sup> (1 M)"
          ],
          [
           "K<sup>+</sup> (1 M)"
          ]
         ],
         "hovertemplate": "index=%{customdata[0]}<br>V vs RHE=%{x}<br>CO2pp=%{y}<extra></extra>",
         "legendgroup": "K<sup>+</sup> (1 M)",
         "line": {
          "dash": "longdash",
          "width": 3
         },
         "marker": {
          "color": "#a02495",
          "size": 15,
          "symbol": "circle"
         },
         "mode": "lines+markers",
         "name": "K<sup>+</sup> (1 M)",
         "orientation": "v",
         "showlegend": true,
         "type": "scatter",
         "x": [
          -0.9,
          -1,
          -1.1,
          -1.2,
          -1.3,
          -1.4,
          -1.5,
          -1.59,
          -1.7
         ],
         "xaxis": "x",
         "y": [
          0.19001,
          0.13781,
          0.09688,
          0.06595,
          0.04353,
          0.028051,
          0.017581,
          0.01126,
          0.0061255
         ],
         "yaxis": "y"
        },
        {
         "customdata": [
          [
           "K<sup>+</sup> (2 M)"
          ],
          [
           "K<sup>+</sup> (2 M)"
          ],
          [
           "K<sup>+</sup> (2 M)"
          ],
          [
           "K<sup>+</sup> (2 M)"
          ],
          [
           "K<sup>+</sup> (2 M)"
          ],
          [
           "K<sup>+</sup> (2 M)"
          ],
          [
           "K<sup>+</sup> (2 M)"
          ],
          [
           "K<sup>+</sup> (2 M)"
          ],
          [
           "K<sup>+</sup> (2 M)"
          ]
         ],
         "hovertemplate": "index=%{customdata[0]}<br>V vs RHE=%{x}<br>CO2pp=%{y}<extra></extra>",
         "legendgroup": "K<sup>+</sup> (2 M)",
         "line": {
          "dash": "longdash",
          "width": 3
         },
         "marker": {
          "color": "#1c0989",
          "size": 15,
          "symbol": "circle"
         },
         "mode": "lines+markers",
         "name": "K<sup>+</sup> (2 M)",
         "orientation": "v",
         "showlegend": true,
         "type": "scatter",
         "x": [
          -0.9,
          -1.02,
          -1.09,
          -1.2,
          -1.3,
          -1.4,
          -1.49,
          -1.6,
          -1.7
         ],
         "xaxis": "x",
         "y": [
          0.12777,
          0.085007,
          0.065635,
          0.042324,
          0.027583,
          0.017533,
          0.011393,
          0.0065152,
          0.0036913
         ],
         "yaxis": "y"
        }
       ],
       "layout": {
        "font": {
         "color": "black",
         "family": "Arial"
        },
        "height": 597,
        "hoverlabel": {
         "namelength": -1
        },
        "legend": {
         "bordercolor": "black",
         "borderwidth": 1,
         "font": {
          "size": 25
         },
         "title": {
          "text": ""
         },
         "tracegroupgap": 0,
         "x": 0.3,
         "xanchor": "right",
         "y": 0.99,
         "yanchor": "top"
        },
        "margin": {
         "b": 0,
         "l": 0,
         "r": 50,
         "t": 50
        },
        "paper_bgcolor": "white",
        "plot_bgcolor": "white",
        "showlegend": true,
        "template": {
         "data": {
          "bar": [
           {
            "error_x": {
             "color": "#2a3f5f"
            },
            "error_y": {
             "color": "#2a3f5f"
            },
            "marker": {
             "line": {
              "color": "#E5ECF6",
              "width": 0.5
             },
             "pattern": {
              "fillmode": "overlay",
              "size": 10,
              "solidity": 0.2
             }
            },
            "type": "bar"
           }
          ],
          "barpolar": [
           {
            "marker": {
             "line": {
              "color": "#E5ECF6",
              "width": 0.5
             },
             "pattern": {
              "fillmode": "overlay",
              "size": 10,
              "solidity": 0.2
             }
            },
            "type": "barpolar"
           }
          ],
          "carpet": [
           {
            "aaxis": {
             "endlinecolor": "#2a3f5f",
             "gridcolor": "white",
             "linecolor": "white",
             "minorgridcolor": "white",
             "startlinecolor": "#2a3f5f"
            },
            "baxis": {
             "endlinecolor": "#2a3f5f",
             "gridcolor": "white",
             "linecolor": "white",
             "minorgridcolor": "white",
             "startlinecolor": "#2a3f5f"
            },
            "type": "carpet"
           }
          ],
          "choropleth": [
           {
            "colorbar": {
             "outlinewidth": 0,
             "ticks": ""
            },
            "type": "choropleth"
           }
          ],
          "contour": [
           {
            "colorbar": {
             "outlinewidth": 0,
             "ticks": ""
            },
            "colorscale": [
             [
              0,
              "#0d0887"
             ],
             [
              0.1111111111111111,
              "#46039f"
             ],
             [
              0.2222222222222222,
              "#7201a8"
             ],
             [
              0.3333333333333333,
              "#9c179e"
             ],
             [
              0.4444444444444444,
              "#bd3786"
             ],
             [
              0.5555555555555556,
              "#d8576b"
             ],
             [
              0.6666666666666666,
              "#ed7953"
             ],
             [
              0.7777777777777778,
              "#fb9f3a"
             ],
             [
              0.8888888888888888,
              "#fdca26"
             ],
             [
              1,
              "#f0f921"
             ]
            ],
            "type": "contour"
           }
          ],
          "contourcarpet": [
           {
            "colorbar": {
             "outlinewidth": 0,
             "ticks": ""
            },
            "type": "contourcarpet"
           }
          ],
          "heatmap": [
           {
            "colorbar": {
             "outlinewidth": 0,
             "ticks": ""
            },
            "colorscale": [
             [
              0,
              "#0d0887"
             ],
             [
              0.1111111111111111,
              "#46039f"
             ],
             [
              0.2222222222222222,
              "#7201a8"
             ],
             [
              0.3333333333333333,
              "#9c179e"
             ],
             [
              0.4444444444444444,
              "#bd3786"
             ],
             [
              0.5555555555555556,
              "#d8576b"
             ],
             [
              0.6666666666666666,
              "#ed7953"
             ],
             [
              0.7777777777777778,
              "#fb9f3a"
             ],
             [
              0.8888888888888888,
              "#fdca26"
             ],
             [
              1,
              "#f0f921"
             ]
            ],
            "type": "heatmap"
           }
          ],
          "heatmapgl": [
           {
            "colorbar": {
             "outlinewidth": 0,
             "ticks": ""
            },
            "colorscale": [
             [
              0,
              "#0d0887"
             ],
             [
              0.1111111111111111,
              "#46039f"
             ],
             [
              0.2222222222222222,
              "#7201a8"
             ],
             [
              0.3333333333333333,
              "#9c179e"
             ],
             [
              0.4444444444444444,
              "#bd3786"
             ],
             [
              0.5555555555555556,
              "#d8576b"
             ],
             [
              0.6666666666666666,
              "#ed7953"
             ],
             [
              0.7777777777777778,
              "#fb9f3a"
             ],
             [
              0.8888888888888888,
              "#fdca26"
             ],
             [
              1,
              "#f0f921"
             ]
            ],
            "type": "heatmapgl"
           }
          ],
          "histogram": [
           {
            "marker": {
             "pattern": {
              "fillmode": "overlay",
              "size": 10,
              "solidity": 0.2
             }
            },
            "type": "histogram"
           }
          ],
          "histogram2d": [
           {
            "colorbar": {
             "outlinewidth": 0,
             "ticks": ""
            },
            "colorscale": [
             [
              0,
              "#0d0887"
             ],
             [
              0.1111111111111111,
              "#46039f"
             ],
             [
              0.2222222222222222,
              "#7201a8"
             ],
             [
              0.3333333333333333,
              "#9c179e"
             ],
             [
              0.4444444444444444,
              "#bd3786"
             ],
             [
              0.5555555555555556,
              "#d8576b"
             ],
             [
              0.6666666666666666,
              "#ed7953"
             ],
             [
              0.7777777777777778,
              "#fb9f3a"
             ],
             [
              0.8888888888888888,
              "#fdca26"
             ],
             [
              1,
              "#f0f921"
             ]
            ],
            "type": "histogram2d"
           }
          ],
          "histogram2dcontour": [
           {
            "colorbar": {
             "outlinewidth": 0,
             "ticks": ""
            },
            "colorscale": [
             [
              0,
              "#0d0887"
             ],
             [
              0.1111111111111111,
              "#46039f"
             ],
             [
              0.2222222222222222,
              "#7201a8"
             ],
             [
              0.3333333333333333,
              "#9c179e"
             ],
             [
              0.4444444444444444,
              "#bd3786"
             ],
             [
              0.5555555555555556,
              "#d8576b"
             ],
             [
              0.6666666666666666,
              "#ed7953"
             ],
             [
              0.7777777777777778,
              "#fb9f3a"
             ],
             [
              0.8888888888888888,
              "#fdca26"
             ],
             [
              1,
              "#f0f921"
             ]
            ],
            "type": "histogram2dcontour"
           }
          ],
          "mesh3d": [
           {
            "colorbar": {
             "outlinewidth": 0,
             "ticks": ""
            },
            "type": "mesh3d"
           }
          ],
          "parcoords": [
           {
            "line": {
             "colorbar": {
              "outlinewidth": 0,
              "ticks": ""
             }
            },
            "type": "parcoords"
           }
          ],
          "pie": [
           {
            "automargin": true,
            "type": "pie"
           }
          ],
          "scatter": [
           {
            "fillpattern": {
             "fillmode": "overlay",
             "size": 10,
             "solidity": 0.2
            },
            "type": "scatter"
           }
          ],
          "scatter3d": [
           {
            "line": {
             "colorbar": {
              "outlinewidth": 0,
              "ticks": ""
             }
            },
            "marker": {
             "colorbar": {
              "outlinewidth": 0,
              "ticks": ""
             }
            },
            "type": "scatter3d"
           }
          ],
          "scattercarpet": [
           {
            "marker": {
             "colorbar": {
              "outlinewidth": 0,
              "ticks": ""
             }
            },
            "type": "scattercarpet"
           }
          ],
          "scattergeo": [
           {
            "marker": {
             "colorbar": {
              "outlinewidth": 0,
              "ticks": ""
             }
            },
            "type": "scattergeo"
           }
          ],
          "scattergl": [
           {
            "marker": {
             "colorbar": {
              "outlinewidth": 0,
              "ticks": ""
             }
            },
            "type": "scattergl"
           }
          ],
          "scattermapbox": [
           {
            "marker": {
             "colorbar": {
              "outlinewidth": 0,
              "ticks": ""
             }
            },
            "type": "scattermapbox"
           }
          ],
          "scatterpolar": [
           {
            "marker": {
             "colorbar": {
              "outlinewidth": 0,
              "ticks": ""
             }
            },
            "type": "scatterpolar"
           }
          ],
          "scatterpolargl": [
           {
            "marker": {
             "colorbar": {
              "outlinewidth": 0,
              "ticks": ""
             }
            },
            "type": "scatterpolargl"
           }
          ],
          "scatterternary": [
           {
            "marker": {
             "colorbar": {
              "outlinewidth": 0,
              "ticks": ""
             }
            },
            "type": "scatterternary"
           }
          ],
          "surface": [
           {
            "colorbar": {
             "outlinewidth": 0,
             "ticks": ""
            },
            "colorscale": [
             [
              0,
              "#0d0887"
             ],
             [
              0.1111111111111111,
              "#46039f"
             ],
             [
              0.2222222222222222,
              "#7201a8"
             ],
             [
              0.3333333333333333,
              "#9c179e"
             ],
             [
              0.4444444444444444,
              "#bd3786"
             ],
             [
              0.5555555555555556,
              "#d8576b"
             ],
             [
              0.6666666666666666,
              "#ed7953"
             ],
             [
              0.7777777777777778,
              "#fb9f3a"
             ],
             [
              0.8888888888888888,
              "#fdca26"
             ],
             [
              1,
              "#f0f921"
             ]
            ],
            "type": "surface"
           }
          ],
          "table": [
           {
            "cells": {
             "fill": {
              "color": "#EBF0F8"
             },
             "line": {
              "color": "white"
             }
            },
            "header": {
             "fill": {
              "color": "#C8D4E3"
             },
             "line": {
              "color": "white"
             }
            },
            "type": "table"
           }
          ]
         },
         "layout": {
          "annotationdefaults": {
           "arrowcolor": "#2a3f5f",
           "arrowhead": 0,
           "arrowwidth": 1
          },
          "autotypenumbers": "strict",
          "coloraxis": {
           "colorbar": {
            "outlinewidth": 0,
            "ticks": ""
           }
          },
          "colorscale": {
           "diverging": [
            [
             0,
             "#8e0152"
            ],
            [
             0.1,
             "#c51b7d"
            ],
            [
             0.2,
             "#de77ae"
            ],
            [
             0.3,
             "#f1b6da"
            ],
            [
             0.4,
             "#fde0ef"
            ],
            [
             0.5,
             "#f7f7f7"
            ],
            [
             0.6,
             "#e6f5d0"
            ],
            [
             0.7,
             "#b8e186"
            ],
            [
             0.8,
             "#7fbc41"
            ],
            [
             0.9,
             "#4d9221"
            ],
            [
             1,
             "#276419"
            ]
           ],
           "sequential": [
            [
             0,
             "#0d0887"
            ],
            [
             0.1111111111111111,
             "#46039f"
            ],
            [
             0.2222222222222222,
             "#7201a8"
            ],
            [
             0.3333333333333333,
             "#9c179e"
            ],
            [
             0.4444444444444444,
             "#bd3786"
            ],
            [
             0.5555555555555556,
             "#d8576b"
            ],
            [
             0.6666666666666666,
             "#ed7953"
            ],
            [
             0.7777777777777778,
             "#fb9f3a"
            ],
            [
             0.8888888888888888,
             "#fdca26"
            ],
            [
             1,
             "#f0f921"
            ]
           ],
           "sequentialminus": [
            [
             0,
             "#0d0887"
            ],
            [
             0.1111111111111111,
             "#46039f"
            ],
            [
             0.2222222222222222,
             "#7201a8"
            ],
            [
             0.3333333333333333,
             "#9c179e"
            ],
            [
             0.4444444444444444,
             "#bd3786"
            ],
            [
             0.5555555555555556,
             "#d8576b"
            ],
            [
             0.6666666666666666,
             "#ed7953"
            ],
            [
             0.7777777777777778,
             "#fb9f3a"
            ],
            [
             0.8888888888888888,
             "#fdca26"
            ],
            [
             1,
             "#f0f921"
            ]
           ]
          },
          "colorway": [
           "#636efa",
           "#EF553B",
           "#00cc96",
           "#ab63fa",
           "#FFA15A",
           "#19d3f3",
           "#FF6692",
           "#B6E880",
           "#FF97FF",
           "#FECB52"
          ],
          "font": {
           "color": "#2a3f5f"
          },
          "geo": {
           "bgcolor": "white",
           "lakecolor": "white",
           "landcolor": "#E5ECF6",
           "showlakes": true,
           "showland": true,
           "subunitcolor": "white"
          },
          "hoverlabel": {
           "align": "left"
          },
          "hovermode": "closest",
          "mapbox": {
           "style": "light"
          },
          "paper_bgcolor": "white",
          "plot_bgcolor": "#E5ECF6",
          "polar": {
           "angularaxis": {
            "gridcolor": "white",
            "linecolor": "white",
            "ticks": ""
           },
           "bgcolor": "#E5ECF6",
           "radialaxis": {
            "gridcolor": "white",
            "linecolor": "white",
            "ticks": ""
           }
          },
          "scene": {
           "xaxis": {
            "backgroundcolor": "#E5ECF6",
            "gridcolor": "white",
            "gridwidth": 2,
            "linecolor": "white",
            "showbackground": true,
            "ticks": "",
            "zerolinecolor": "white"
           },
           "yaxis": {
            "backgroundcolor": "#E5ECF6",
            "gridcolor": "white",
            "gridwidth": 2,
            "linecolor": "white",
            "showbackground": true,
            "ticks": "",
            "zerolinecolor": "white"
           },
           "zaxis": {
            "backgroundcolor": "#E5ECF6",
            "gridcolor": "white",
            "gridwidth": 2,
            "linecolor": "white",
            "showbackground": true,
            "ticks": "",
            "zerolinecolor": "white"
           }
          },
          "shapedefaults": {
           "line": {
            "color": "#2a3f5f"
           }
          },
          "ternary": {
           "aaxis": {
            "gridcolor": "white",
            "linecolor": "white",
            "ticks": ""
           },
           "baxis": {
            "gridcolor": "white",
            "linecolor": "white",
            "ticks": ""
           },
           "bgcolor": "#E5ECF6",
           "caxis": {
            "gridcolor": "white",
            "linecolor": "white",
            "ticks": ""
           }
          },
          "title": {
           "x": 0.05
          },
          "xaxis": {
           "automargin": true,
           "gridcolor": "white",
           "linecolor": "white",
           "ticks": "",
           "title": {
            "standoff": 15
           },
           "zerolinecolor": "white",
           "zerolinewidth": 2
          },
          "yaxis": {
           "automargin": true,
           "gridcolor": "white",
           "linecolor": "white",
           "ticks": "",
           "title": {
            "standoff": 15
           },
           "zerolinecolor": "white",
           "zerolinewidth": 2
          }
         }
        },
        "width": 797,
        "xaxis": {
         "anchor": "y",
         "domain": [
          0,
          1
         ],
         "linecolor": "black",
         "minor": {
          "dtick": 0.05,
          "ticklen": 3
         },
         "mirror": true,
         "showgrid": false,
         "showline": true,
         "tickfont": {
          "size": 25
         },
         "ticklen": 6,
         "ticks": "outside",
         "title": {
          "font": {
           "size": 25
          },
          "text": "Applied Potential (V vs RHE)"
         },
         "zeroline": false
        },
        "yaxis": {
         "anchor": "x",
         "domain": [
          0,
          1
         ],
         "linecolor": "black",
         "minor": {
          "dtick": 0.025,
          "ticklen": 3
         },
         "mirror": true,
         "showgrid": false,
         "showline": true,
         "tickfont": {
          "size": 25
         },
         "ticklen": 6,
         "ticks": "outside",
         "title": {
          "font": {
           "size": 25
          },
          "text": "PP(CO<sub>2</sub>) at OHP"
         },
         "zeroline": false
        }
       }
      }
     },
     "metadata": {},
     "output_type": "display_data"
    }
   ],
   "source": [
    "fig = px.scatter(df, x='V vs RHE', y='CO2pp',hover_data={'index': (df.index)},color= df.index,color_discrete_map=color_dict)\n",
    "\n",
    "fig.update_traces(line=dict(dash='longdash',width=3),\n",
    "                  marker=dict(size=15),mode='lines+markers')\n",
    "\n",
    "fig.update_layout(\n",
    "    width=797,\n",
    "    height=597,\n",
    "    showlegend=True,\n",
    "    # title=dict(\n",
    "    #      text='Ethylene',\n",
    "    #      x=0.5,\n",
    "    #      font_size=25),\n",
    "    legend=dict(\n",
    "     bordercolor='black', \n",
    "     borderwidth=1,\n",
    "     title='',\n",
    "     yanchor=\"top\",\n",
    "     y=0.99,\n",
    "     xanchor=\"right\",\n",
    "     font_size=25,\n",
    "     x=0.3),\n",
    "    font=dict(family=\"Arial\", color=\"black\"),\n",
    "    hoverlabel={\"namelength\": -1},\n",
    "     margin=dict(\n",
    "         l=0,\n",
    "         r=50,\n",
    "         b=0,\n",
    "         t=50,\n",
    "     ),\n",
    "    paper_bgcolor=\"white\",\n",
    "    plot_bgcolor=\"white\",\n",
    "    xaxis=dict(\n",
    "        title=rf'Applied Potential (V vs RHE)',\n",
    "        title_font_size=25,\n",
    "        showline=True,\n",
    "        #linewidth=3,\n",
    "        linecolor=\"black\",\n",
    "        mirror=True,\n",
    "        showgrid=False,\n",
    "        zeroline=False,\n",
    "        #gridcolor=\"rgba(0,0,0,0.3)\",\n",
    "        ticks=\"outside\",\n",
    "        tickfont_size=25,\n",
    "        #tickformat=\"d\",\n",
    "        #range=[-1.2,-0.2],\n",
    "        #tick0=0.5,\n",
    "        minor=dict(ticklen=3,dtick=0.05),\n",
    "        # dtick=0.2,\n",
    "        #tickwidth=3,\n",
    "        ticklen=6,\n",
    "    ),\n",
    "    yaxis=dict(\n",
    "        title=rf'PP(CO<sub>2</sub>) at OHP',\n",
    "        title_font=dict(size=25),\n",
    "        showline=True,\n",
    "        #linewidth=3,\n",
    "        linecolor=\"black\",\n",
    "        mirror=True,\n",
    "        showgrid=False,\n",
    "        zeroline=False,\n",
    "        #gridcolor=\"rgba(0,0,0,0.3)\",\n",
    "        ticks=\"outside\",\n",
    "        tickfont_size=25,\n",
    "        #tickformat=\"d\",\n",
    "        #tick0=0.5,\n",
    "        minor=dict(ticklen=3,dtick=0.025),\n",
    "        # dtick=0.4,\n",
    "        #range=[-6,-2.5],\n",
    "        #tickwidth=3,\n",
    "        ticklen=6,\n",
    "    ),\n",
    ")\n",
    "\n",
    "fig.write_image('CO2_U_conc.png',scale=5)\n",
    "fig.show()"
   ]
  },
  {
   "cell_type": "code",
   "execution_count": 20,
   "metadata": {},
   "outputs": [
    {
     "data": {
      "application/vnd.plotly.v1+json": {
       "config": {
        "plotlyServerURL": "https://plot.ly"
       },
       "data": [
        {
         "customdata": [
          [
           "K<sup>+</sup> (0.1 M)"
          ],
          [
           "K<sup>+</sup> (0.1 M)"
          ],
          [
           "K<sup>+</sup> (0.1 M)"
          ],
          [
           "K<sup>+</sup> (0.1 M)"
          ],
          [
           "K<sup>+</sup> (0.1 M)"
          ],
          [
           "K<sup>+</sup> (0.1 M)"
          ],
          [
           "K<sup>+</sup> (0.1 M)"
          ],
          [
           "K<sup>+</sup> (0.1 M)"
          ],
          [
           "K<sup>+</sup> (0.1 M)"
          ]
         ],
         "hovertemplate": "index=%{customdata[0]}<br>V vs RHE=%{x}<br>J CO=%{y}<extra></extra>",
         "legendgroup": "K<sup>+</sup> (0.1 M)",
         "line": {
          "dash": "longdash",
          "width": 3
         },
         "marker": {
          "color": "#fbc148",
          "size": 15,
          "symbol": "circle"
         },
         "mode": "lines+markers",
         "name": "K<sup>+</sup> (0.1 M)",
         "orientation": "v",
         "showlegend": true,
         "type": "scatter",
         "x": [
          -0.9,
          -1,
          -1.1,
          -1.2,
          -1.3,
          -1.4,
          -1.5,
          -1.6,
          -1.7
         ],
         "xaxis": "x",
         "y": [
          0.0000533,
          0.000467,
          0.003822,
          0.028151,
          0.14844,
          0.2234,
          0.21909,
          0.20647,
          0.17657
         ],
         "yaxis": "y"
        },
        {
         "customdata": [
          [
           "K<sup>+</sup> (0.5 M)"
          ],
          [
           "K<sup>+</sup> (0.5 M)"
          ],
          [
           "K<sup>+</sup> (0.5 M)"
          ],
          [
           "K<sup>+</sup> (0.5 M)"
          ],
          [
           "K<sup>+</sup> (0.5 M)"
          ],
          [
           "K<sup>+</sup> (0.5 M)"
          ],
          [
           "K<sup>+</sup> (0.5 M)"
          ],
          [
           "K<sup>+</sup> (0.5 M)"
          ],
          [
           "K<sup>+</sup> (0.5 M)"
          ]
         ],
         "hovertemplate": "index=%{customdata[0]}<br>V vs RHE=%{x}<br>J CO=%{y}<extra></extra>",
         "legendgroup": "K<sup>+</sup> (0.5 M)",
         "line": {
          "dash": "longdash",
          "width": 3
         },
         "marker": {
          "color": "#e16c60",
          "size": 15,
          "symbol": "circle"
         },
         "mode": "lines+markers",
         "name": "K<sup>+</sup> (0.5 M)",
         "orientation": "v",
         "showlegend": true,
         "type": "scatter",
         "x": [
          -0.9,
          -1,
          -1.1,
          -1.2,
          -1.3,
          -1.4,
          -1.5,
          -1.6,
          -1.7
         ],
         "xaxis": "x",
         "y": [
          0.00012719,
          0.0010365,
          0.0078946,
          0.05115,
          0.17448,
          0.17129,
          0.16243,
          0.14875,
          0.12704
         ],
         "yaxis": "y"
        },
        {
         "customdata": [
          [
           "K<sup>+</sup> (1 M)"
          ],
          [
           "K<sup>+</sup> (1 M)"
          ],
          [
           "K<sup>+</sup> (1 M)"
          ],
          [
           "K<sup>+</sup> (1 M)"
          ],
          [
           "K<sup>+</sup> (1 M)"
          ],
          [
           "K<sup>+</sup> (1 M)"
          ],
          [
           "K<sup>+</sup> (1 M)"
          ],
          [
           "K<sup>+</sup> (1 M)"
          ],
          [
           "K<sup>+</sup> (1 M)"
          ]
         ],
         "hovertemplate": "index=%{customdata[0]}<br>V vs RHE=%{x}<br>J CO=%{y}<extra></extra>",
         "legendgroup": "K<sup>+</sup> (1 M)",
         "line": {
          "dash": "longdash",
          "width": 3
         },
         "marker": {
          "color": "#a02495",
          "size": 15,
          "symbol": "circle"
         },
         "mode": "lines+markers",
         "name": "K<sup>+</sup> (1 M)",
         "orientation": "v",
         "showlegend": true,
         "type": "scatter",
         "x": [
          -0.9,
          -1,
          -1.1,
          -1.2,
          -1.3,
          -1.4,
          -1.5,
          -1.59,
          -1.7
         ],
         "xaxis": "x",
         "y": [
          0.00018396,
          0.0014386,
          0.010481,
          0.061892,
          0.14464,
          0.13922,
          0.12982,
          0.1186,
          0.099386
         ],
         "yaxis": "y"
        },
        {
         "customdata": [
          [
           "K<sup>+</sup> (2 M)"
          ],
          [
           "K<sup>+</sup> (2 M)"
          ],
          [
           "K<sup>+</sup> (2 M)"
          ],
          [
           "K<sup>+</sup> (2 M)"
          ],
          [
           "K<sup>+</sup> (2 M)"
          ],
          [
           "K<sup>+</sup> (2 M)"
          ],
          [
           "K<sup>+</sup> (2 M)"
          ],
          [
           "K<sup>+</sup> (2 M)"
          ],
          [
           "K<sup>+</sup> (2 M)"
          ]
         ],
         "hovertemplate": "index=%{customdata[0]}<br>V vs RHE=%{x}<br>J CO=%{y}<extra></extra>",
         "legendgroup": "K<sup>+</sup> (2 M)",
         "line": {
          "dash": "longdash",
          "width": 3
         },
         "marker": {
          "color": "#1c0989",
          "size": 15,
          "symbol": "circle"
         },
         "mode": "lines+markers",
         "name": "K<sup>+</sup> (2 M)",
         "orientation": "v",
         "showlegend": true,
         "type": "scatter",
         "x": [
          -0.9,
          -1.02,
          -1.09,
          -1.2,
          -1.3,
          -1.4,
          -1.49,
          -1.6,
          -1.7
         ],
         "xaxis": "x",
         "y": [
          0.0002607,
          0.0028626,
          0.010966,
          0.067376,
          0.10464,
          0.098306,
          0.090755,
          0.079691,
          0.066664
         ],
         "yaxis": "y"
        }
       ],
       "layout": {
        "font": {
         "color": "black",
         "family": "Arial"
        },
        "height": 597,
        "hoverlabel": {
         "namelength": -1
        },
        "legend": {
         "bordercolor": "black",
         "borderwidth": 1,
         "font": {
          "size": 25
         },
         "title": {
          "text": ""
         },
         "tracegroupgap": 0,
         "x": 0.99,
         "xanchor": "right",
         "y": 0.99,
         "yanchor": "top"
        },
        "margin": {
         "b": 0,
         "l": 0,
         "r": 50,
         "t": 50
        },
        "paper_bgcolor": "white",
        "plot_bgcolor": "white",
        "showlegend": true,
        "template": {
         "data": {
          "bar": [
           {
            "error_x": {
             "color": "#2a3f5f"
            },
            "error_y": {
             "color": "#2a3f5f"
            },
            "marker": {
             "line": {
              "color": "#E5ECF6",
              "width": 0.5
             },
             "pattern": {
              "fillmode": "overlay",
              "size": 10,
              "solidity": 0.2
             }
            },
            "type": "bar"
           }
          ],
          "barpolar": [
           {
            "marker": {
             "line": {
              "color": "#E5ECF6",
              "width": 0.5
             },
             "pattern": {
              "fillmode": "overlay",
              "size": 10,
              "solidity": 0.2
             }
            },
            "type": "barpolar"
           }
          ],
          "carpet": [
           {
            "aaxis": {
             "endlinecolor": "#2a3f5f",
             "gridcolor": "white",
             "linecolor": "white",
             "minorgridcolor": "white",
             "startlinecolor": "#2a3f5f"
            },
            "baxis": {
             "endlinecolor": "#2a3f5f",
             "gridcolor": "white",
             "linecolor": "white",
             "minorgridcolor": "white",
             "startlinecolor": "#2a3f5f"
            },
            "type": "carpet"
           }
          ],
          "choropleth": [
           {
            "colorbar": {
             "outlinewidth": 0,
             "ticks": ""
            },
            "type": "choropleth"
           }
          ],
          "contour": [
           {
            "colorbar": {
             "outlinewidth": 0,
             "ticks": ""
            },
            "colorscale": [
             [
              0,
              "#0d0887"
             ],
             [
              0.1111111111111111,
              "#46039f"
             ],
             [
              0.2222222222222222,
              "#7201a8"
             ],
             [
              0.3333333333333333,
              "#9c179e"
             ],
             [
              0.4444444444444444,
              "#bd3786"
             ],
             [
              0.5555555555555556,
              "#d8576b"
             ],
             [
              0.6666666666666666,
              "#ed7953"
             ],
             [
              0.7777777777777778,
              "#fb9f3a"
             ],
             [
              0.8888888888888888,
              "#fdca26"
             ],
             [
              1,
              "#f0f921"
             ]
            ],
            "type": "contour"
           }
          ],
          "contourcarpet": [
           {
            "colorbar": {
             "outlinewidth": 0,
             "ticks": ""
            },
            "type": "contourcarpet"
           }
          ],
          "heatmap": [
           {
            "colorbar": {
             "outlinewidth": 0,
             "ticks": ""
            },
            "colorscale": [
             [
              0,
              "#0d0887"
             ],
             [
              0.1111111111111111,
              "#46039f"
             ],
             [
              0.2222222222222222,
              "#7201a8"
             ],
             [
              0.3333333333333333,
              "#9c179e"
             ],
             [
              0.4444444444444444,
              "#bd3786"
             ],
             [
              0.5555555555555556,
              "#d8576b"
             ],
             [
              0.6666666666666666,
              "#ed7953"
             ],
             [
              0.7777777777777778,
              "#fb9f3a"
             ],
             [
              0.8888888888888888,
              "#fdca26"
             ],
             [
              1,
              "#f0f921"
             ]
            ],
            "type": "heatmap"
           }
          ],
          "heatmapgl": [
           {
            "colorbar": {
             "outlinewidth": 0,
             "ticks": ""
            },
            "colorscale": [
             [
              0,
              "#0d0887"
             ],
             [
              0.1111111111111111,
              "#46039f"
             ],
             [
              0.2222222222222222,
              "#7201a8"
             ],
             [
              0.3333333333333333,
              "#9c179e"
             ],
             [
              0.4444444444444444,
              "#bd3786"
             ],
             [
              0.5555555555555556,
              "#d8576b"
             ],
             [
              0.6666666666666666,
              "#ed7953"
             ],
             [
              0.7777777777777778,
              "#fb9f3a"
             ],
             [
              0.8888888888888888,
              "#fdca26"
             ],
             [
              1,
              "#f0f921"
             ]
            ],
            "type": "heatmapgl"
           }
          ],
          "histogram": [
           {
            "marker": {
             "pattern": {
              "fillmode": "overlay",
              "size": 10,
              "solidity": 0.2
             }
            },
            "type": "histogram"
           }
          ],
          "histogram2d": [
           {
            "colorbar": {
             "outlinewidth": 0,
             "ticks": ""
            },
            "colorscale": [
             [
              0,
              "#0d0887"
             ],
             [
              0.1111111111111111,
              "#46039f"
             ],
             [
              0.2222222222222222,
              "#7201a8"
             ],
             [
              0.3333333333333333,
              "#9c179e"
             ],
             [
              0.4444444444444444,
              "#bd3786"
             ],
             [
              0.5555555555555556,
              "#d8576b"
             ],
             [
              0.6666666666666666,
              "#ed7953"
             ],
             [
              0.7777777777777778,
              "#fb9f3a"
             ],
             [
              0.8888888888888888,
              "#fdca26"
             ],
             [
              1,
              "#f0f921"
             ]
            ],
            "type": "histogram2d"
           }
          ],
          "histogram2dcontour": [
           {
            "colorbar": {
             "outlinewidth": 0,
             "ticks": ""
            },
            "colorscale": [
             [
              0,
              "#0d0887"
             ],
             [
              0.1111111111111111,
              "#46039f"
             ],
             [
              0.2222222222222222,
              "#7201a8"
             ],
             [
              0.3333333333333333,
              "#9c179e"
             ],
             [
              0.4444444444444444,
              "#bd3786"
             ],
             [
              0.5555555555555556,
              "#d8576b"
             ],
             [
              0.6666666666666666,
              "#ed7953"
             ],
             [
              0.7777777777777778,
              "#fb9f3a"
             ],
             [
              0.8888888888888888,
              "#fdca26"
             ],
             [
              1,
              "#f0f921"
             ]
            ],
            "type": "histogram2dcontour"
           }
          ],
          "mesh3d": [
           {
            "colorbar": {
             "outlinewidth": 0,
             "ticks": ""
            },
            "type": "mesh3d"
           }
          ],
          "parcoords": [
           {
            "line": {
             "colorbar": {
              "outlinewidth": 0,
              "ticks": ""
             }
            },
            "type": "parcoords"
           }
          ],
          "pie": [
           {
            "automargin": true,
            "type": "pie"
           }
          ],
          "scatter": [
           {
            "fillpattern": {
             "fillmode": "overlay",
             "size": 10,
             "solidity": 0.2
            },
            "type": "scatter"
           }
          ],
          "scatter3d": [
           {
            "line": {
             "colorbar": {
              "outlinewidth": 0,
              "ticks": ""
             }
            },
            "marker": {
             "colorbar": {
              "outlinewidth": 0,
              "ticks": ""
             }
            },
            "type": "scatter3d"
           }
          ],
          "scattercarpet": [
           {
            "marker": {
             "colorbar": {
              "outlinewidth": 0,
              "ticks": ""
             }
            },
            "type": "scattercarpet"
           }
          ],
          "scattergeo": [
           {
            "marker": {
             "colorbar": {
              "outlinewidth": 0,
              "ticks": ""
             }
            },
            "type": "scattergeo"
           }
          ],
          "scattergl": [
           {
            "marker": {
             "colorbar": {
              "outlinewidth": 0,
              "ticks": ""
             }
            },
            "type": "scattergl"
           }
          ],
          "scattermapbox": [
           {
            "marker": {
             "colorbar": {
              "outlinewidth": 0,
              "ticks": ""
             }
            },
            "type": "scattermapbox"
           }
          ],
          "scatterpolar": [
           {
            "marker": {
             "colorbar": {
              "outlinewidth": 0,
              "ticks": ""
             }
            },
            "type": "scatterpolar"
           }
          ],
          "scatterpolargl": [
           {
            "marker": {
             "colorbar": {
              "outlinewidth": 0,
              "ticks": ""
             }
            },
            "type": "scatterpolargl"
           }
          ],
          "scatterternary": [
           {
            "marker": {
             "colorbar": {
              "outlinewidth": 0,
              "ticks": ""
             }
            },
            "type": "scatterternary"
           }
          ],
          "surface": [
           {
            "colorbar": {
             "outlinewidth": 0,
             "ticks": ""
            },
            "colorscale": [
             [
              0,
              "#0d0887"
             ],
             [
              0.1111111111111111,
              "#46039f"
             ],
             [
              0.2222222222222222,
              "#7201a8"
             ],
             [
              0.3333333333333333,
              "#9c179e"
             ],
             [
              0.4444444444444444,
              "#bd3786"
             ],
             [
              0.5555555555555556,
              "#d8576b"
             ],
             [
              0.6666666666666666,
              "#ed7953"
             ],
             [
              0.7777777777777778,
              "#fb9f3a"
             ],
             [
              0.8888888888888888,
              "#fdca26"
             ],
             [
              1,
              "#f0f921"
             ]
            ],
            "type": "surface"
           }
          ],
          "table": [
           {
            "cells": {
             "fill": {
              "color": "#EBF0F8"
             },
             "line": {
              "color": "white"
             }
            },
            "header": {
             "fill": {
              "color": "#C8D4E3"
             },
             "line": {
              "color": "white"
             }
            },
            "type": "table"
           }
          ]
         },
         "layout": {
          "annotationdefaults": {
           "arrowcolor": "#2a3f5f",
           "arrowhead": 0,
           "arrowwidth": 1
          },
          "autotypenumbers": "strict",
          "coloraxis": {
           "colorbar": {
            "outlinewidth": 0,
            "ticks": ""
           }
          },
          "colorscale": {
           "diverging": [
            [
             0,
             "#8e0152"
            ],
            [
             0.1,
             "#c51b7d"
            ],
            [
             0.2,
             "#de77ae"
            ],
            [
             0.3,
             "#f1b6da"
            ],
            [
             0.4,
             "#fde0ef"
            ],
            [
             0.5,
             "#f7f7f7"
            ],
            [
             0.6,
             "#e6f5d0"
            ],
            [
             0.7,
             "#b8e186"
            ],
            [
             0.8,
             "#7fbc41"
            ],
            [
             0.9,
             "#4d9221"
            ],
            [
             1,
             "#276419"
            ]
           ],
           "sequential": [
            [
             0,
             "#0d0887"
            ],
            [
             0.1111111111111111,
             "#46039f"
            ],
            [
             0.2222222222222222,
             "#7201a8"
            ],
            [
             0.3333333333333333,
             "#9c179e"
            ],
            [
             0.4444444444444444,
             "#bd3786"
            ],
            [
             0.5555555555555556,
             "#d8576b"
            ],
            [
             0.6666666666666666,
             "#ed7953"
            ],
            [
             0.7777777777777778,
             "#fb9f3a"
            ],
            [
             0.8888888888888888,
             "#fdca26"
            ],
            [
             1,
             "#f0f921"
            ]
           ],
           "sequentialminus": [
            [
             0,
             "#0d0887"
            ],
            [
             0.1111111111111111,
             "#46039f"
            ],
            [
             0.2222222222222222,
             "#7201a8"
            ],
            [
             0.3333333333333333,
             "#9c179e"
            ],
            [
             0.4444444444444444,
             "#bd3786"
            ],
            [
             0.5555555555555556,
             "#d8576b"
            ],
            [
             0.6666666666666666,
             "#ed7953"
            ],
            [
             0.7777777777777778,
             "#fb9f3a"
            ],
            [
             0.8888888888888888,
             "#fdca26"
            ],
            [
             1,
             "#f0f921"
            ]
           ]
          },
          "colorway": [
           "#636efa",
           "#EF553B",
           "#00cc96",
           "#ab63fa",
           "#FFA15A",
           "#19d3f3",
           "#FF6692",
           "#B6E880",
           "#FF97FF",
           "#FECB52"
          ],
          "font": {
           "color": "#2a3f5f"
          },
          "geo": {
           "bgcolor": "white",
           "lakecolor": "white",
           "landcolor": "#E5ECF6",
           "showlakes": true,
           "showland": true,
           "subunitcolor": "white"
          },
          "hoverlabel": {
           "align": "left"
          },
          "hovermode": "closest",
          "mapbox": {
           "style": "light"
          },
          "paper_bgcolor": "white",
          "plot_bgcolor": "#E5ECF6",
          "polar": {
           "angularaxis": {
            "gridcolor": "white",
            "linecolor": "white",
            "ticks": ""
           },
           "bgcolor": "#E5ECF6",
           "radialaxis": {
            "gridcolor": "white",
            "linecolor": "white",
            "ticks": ""
           }
          },
          "scene": {
           "xaxis": {
            "backgroundcolor": "#E5ECF6",
            "gridcolor": "white",
            "gridwidth": 2,
            "linecolor": "white",
            "showbackground": true,
            "ticks": "",
            "zerolinecolor": "white"
           },
           "yaxis": {
            "backgroundcolor": "#E5ECF6",
            "gridcolor": "white",
            "gridwidth": 2,
            "linecolor": "white",
            "showbackground": true,
            "ticks": "",
            "zerolinecolor": "white"
           },
           "zaxis": {
            "backgroundcolor": "#E5ECF6",
            "gridcolor": "white",
            "gridwidth": 2,
            "linecolor": "white",
            "showbackground": true,
            "ticks": "",
            "zerolinecolor": "white"
           }
          },
          "shapedefaults": {
           "line": {
            "color": "#2a3f5f"
           }
          },
          "ternary": {
           "aaxis": {
            "gridcolor": "white",
            "linecolor": "white",
            "ticks": ""
           },
           "baxis": {
            "gridcolor": "white",
            "linecolor": "white",
            "ticks": ""
           },
           "bgcolor": "#E5ECF6",
           "caxis": {
            "gridcolor": "white",
            "linecolor": "white",
            "ticks": ""
           }
          },
          "title": {
           "x": 0.05
          },
          "xaxis": {
           "automargin": true,
           "gridcolor": "white",
           "linecolor": "white",
           "ticks": "",
           "title": {
            "standoff": 15
           },
           "zerolinecolor": "white",
           "zerolinewidth": 2
          },
          "yaxis": {
           "automargin": true,
           "gridcolor": "white",
           "linecolor": "white",
           "ticks": "",
           "title": {
            "standoff": 15
           },
           "zerolinecolor": "white",
           "zerolinewidth": 2
          }
         }
        },
        "width": 797,
        "xaxis": {
         "anchor": "y",
         "domain": [
          0,
          1
         ],
         "linecolor": "black",
         "minor": {
          "dtick": 0.05,
          "ticklen": 3
         },
         "mirror": true,
         "showgrid": false,
         "showline": true,
         "tickfont": {
          "size": 25
         },
         "ticklen": 6,
         "ticks": "outside",
         "title": {
          "font": {
           "size": 25
          },
          "text": "Applied Potential (V vs RHE)"
         },
         "zeroline": false
        },
        "yaxis": {
         "anchor": "x",
         "domain": [
          0,
          1
         ],
         "linecolor": "black",
         "minor": {
          "dtick": 0.025,
          "ticklen": 3
         },
         "mirror": true,
         "showgrid": false,
         "showline": true,
         "tickfont": {
          "size": 25
         },
         "ticklen": 6,
         "ticks": "outside",
         "title": {
          "font": {
           "size": 25
          },
          "text": "j<sub>CO</sub> / mA cm<sup>-2</sup>"
         },
         "zeroline": false
        }
       }
      }
     },
     "metadata": {},
     "output_type": "display_data"
    }
   ],
   "source": [
    "fig = px.scatter(df, x='V vs RHE', y='J CO',hover_data={'index': (df.index)},color= df.index,color_discrete_map=color_dict)\n",
    "\n",
    "fig.update_traces(line=dict(dash='longdash',width=3),\n",
    "                  marker=dict(size=15),mode='lines+markers')\n",
    "\n",
    "fig.update_layout(\n",
    "    width=797,\n",
    "    height=597,\n",
    "    showlegend=True,\n",
    "    # title=dict(\n",
    "    #      text='Ethylene',\n",
    "    #      x=0.5,\n",
    "    #      font_size=25),\n",
    "    legend=dict(\n",
    "     bordercolor='black', \n",
    "     borderwidth=1,\n",
    "     title='',\n",
    "     yanchor=\"top\",\n",
    "     y=0.99,\n",
    "     xanchor=\"right\",\n",
    "     font_size=25,\n",
    "     x=0.99),\n",
    "    font=dict(family=\"Arial\", color=\"black\"),\n",
    "    hoverlabel={\"namelength\": -1},\n",
    "     margin=dict(\n",
    "         l=0,\n",
    "         r=50,\n",
    "         b=0,\n",
    "         t=50,\n",
    "     ),\n",
    "    paper_bgcolor=\"white\",\n",
    "    plot_bgcolor=\"white\",\n",
    "    xaxis=dict(\n",
    "        title=rf'Applied Potential (V vs RHE)',\n",
    "        title_font_size=25,\n",
    "        showline=True,\n",
    "        #linewidth=3,\n",
    "        linecolor=\"black\",\n",
    "        mirror=True,\n",
    "        showgrid=False,\n",
    "        zeroline=False,\n",
    "        #gridcolor=\"rgba(0,0,0,0.3)\",\n",
    "        ticks=\"outside\",\n",
    "        tickfont_size=25,\n",
    "        #tickformat=\"d\",\n",
    "        #range=[-1.2,-0.2],\n",
    "        #tick0=0.5,\n",
    "        minor=dict(ticklen=3,dtick=0.05),\n",
    "        # dtick=0.2,\n",
    "        #tickwidth=3,\n",
    "        ticklen=6,\n",
    "    ),\n",
    "    yaxis=dict(\n",
    "        title=rf'j<sub>CO</sub> / mA cm<sup>-2</sup>',\n",
    "        title_font=dict(size=25),\n",
    "        showline=True,\n",
    "        #linewidth=3,\n",
    "        linecolor=\"black\",\n",
    "        mirror=True,\n",
    "        showgrid=False,\n",
    "        zeroline=False,\n",
    "        #gridcolor=\"rgba(0,0,0,0.3)\",\n",
    "        ticks=\"outside\",\n",
    "        tickfont_size=25,\n",
    "        #tickformat=\"d\",\n",
    "        #tick0=0.5,\n",
    "        minor=dict(ticklen=3,dtick=0.025),\n",
    "        # dtick=0.4,\n",
    "        #range=[-6,-2.5],\n",
    "        #tickwidth=3,\n",
    "        ticklen=6,\n",
    "    ),\n",
    ")\n",
    "\n",
    "fig.write_image('j_U_conc.png',scale=5)\n",
    "fig.show()"
   ]
  },
  {
   "cell_type": "code",
   "execution_count": null,
   "metadata": {},
   "outputs": [],
   "source": []
  }
 ],
 "metadata": {
  "kernelspec": {
   "display_name": "ase_3.22.1",
   "language": "python",
   "name": "python3"
  },
  "language_info": {
   "codemirror_mode": {
    "name": "ipython",
    "version": 3
   },
   "file_extension": ".py",
   "mimetype": "text/x-python",
   "name": "python",
   "nbconvert_exporter": "python",
   "pygments_lexer": "ipython3",
   "version": "3.10.1"
  },
  "orig_nbformat": 4
 },
 "nbformat": 4,
 "nbformat_minor": 2
}
